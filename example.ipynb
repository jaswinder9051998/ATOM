{
 "cells": [
  {
   "cell_type": "markdown",
   "metadata": {},
   "source": [
    "# Example notebook for the ATOM pipeline\n",
    "---------------------------------\n",
    "\n",
    "Load the data with one of the three imported datasets before running the\n",
    "ATOM function. These datasets are provided by sklearn and are very small\n",
    "and easy to learn. You can learn more about these datasets\n",
    "at https://scikit-learn.org/stable/datasets/index.html.\n",
    "\n",
    "    load_breast_cancer: binary classification\n",
    "    load_wine: multi-class classification\n",
    "    load_boston: regression"
   ]
  },
  {
   "cell_type": "code",
   "execution_count": 1,
   "metadata": {},
   "outputs": [],
   "source": [
    "# Import packages\n",
    "from sklearn.datasets import load_boston, load_wine, load_breast_cancer\n",
    "from sklearn.metrics import f1_score, jaccard_score\n",
    "from atom import ATOMClassifier\n",
    "\n",
    "# Load the dataset's fetatures and targets as arrays\n",
    "X, Y = load_wine(return_X_y=True)"
   ]
  },
  {
   "cell_type": "markdown",
   "metadata": {},
   "source": [
    "## Run ATOM pipeline"
   ]
  },
  {
   "cell_type": "code",
   "execution_count": 3,
   "metadata": {
    "scrolled": false
   },
   "outputs": [
    {
     "name": "stdout",
     "output_type": "stream",
     "text": [
      "<<=============== ATOM ===============>>\n",
      "Initial data cleaning...\n",
      "Algorithm task: multiclass classification. Number of classes: 3.\n",
      "\n",
      "Data stats =====================>\n",
      "Number of features: 13\n",
      "Number of instances: 178\n",
      "Size of training set: 124\n",
      "Size of test set: 54\n",
      "Instances per target class:\n",
      "target --> Count\n",
      "0      --> 59\n",
      "1      --> 71\n",
      "2      --> 48\n",
      "\n",
      "\n",
      "Running pipeline =================>\n",
      "Models in pipeline: LDA, RF, lSVM\n",
      "Metric: f1_weighted\n",
      "\n",
      "\n",
      "Running BO for Linear Discriminant Analysis...\n",
      "Parameters --> {'solver': 'svd', 'n_components': 200, 'tol': 0.001}\n",
      "Evaluation --> f1_weighted: 0.9918\n",
      "Parameters --> {'solver': 'svd', 'n_components': 200, 'tol': 0.0117}\n",
      "Evaluation --> f1_weighted: 0.9918\n",
      "num acquisition: 1, time elapsed: 0.31s\n",
      "Parameters --> {'solver': 'eigen', 'n_components': 1, 'tol': 0.0346, 'shrinkage': 0.9}\n",
      "Evaluation --> f1_weighted: 0.7547\n",
      "num acquisition: 2, time elapsed: 0.71s\n",
      "Parameters --> {'solver': 'svd', 'n_components': 250, 'tol': 0.0445}\n",
      "Evaluation --> f1_weighted: 0.9918\n",
      "num acquisition: 3, time elapsed: 1.04s\n",
      "Parameters --> {'solver': 'eigen', 'n_components': 227, 'tol': 0.0408, 'shrinkage': 1.0}\n",
      "Evaluation --> f1_weighted: 0.7547\n",
      "num acquisition: 4, time elapsed: 1.33s\n",
      "Parameters --> {'solver': 'svd', 'n_components': 155, 'tol': 0.1}\n",
      "Evaluation --> f1_weighted: 0.9918\n",
      "num acquisition: 5, time elapsed: 1.75s\n",
      "Parameters --> {'solver': 'svd', 'n_components': 178, 'tol': 0.1}\n",
      "Evaluation --> f1_weighted: 0.9918\n",
      "num acquisition: 6, time elapsed: 2.04s\n",
      "Parameters --> {'solver': 'svd', 'n_components': 85, 'tol': 0.1}\n",
      "Evaluation --> f1_weighted: 0.9918\n",
      "num acquisition: 7, time elapsed: 2.32s\n",
      "\n",
      "Final results for Linear Discriminant Analysis:         \n",
      "Best hyperparameters: {'solver': 'svd', 'n_components': 200, 'tol': 0.001}\n",
      "Best score on the BO: 0.9918\n",
      "Score on the training set: 1.0000\n",
      "Score on the test set: 0.9816\n",
      "Time elapsed: 2.59s\n",
      "--------------------------------------------------\n",
      "Bagging score --> Mean: 0.9723   Std: 0.0093\n",
      "Time elapsed: 0.05s\n",
      "\n",
      "\n",
      "Running BO for Random Forest...\n",
      "Parameters --> {'n_estimators': 100, 'max_features': 1.0, 'criterion': 'gini', 'bootstrap': True, 'min_samples_split': 2, 'min_samples_leaf': 1}\n",
      "Evaluation --> f1_weighted: 0.8931\n",
      "Parameters --> {'n_estimators': 99, 'max_features': 0.9, 'criterion': 'gini', 'bootstrap': True, 'min_samples_split': 2, 'min_samples_leaf': 2}\n",
      "Evaluation --> f1_weighted: 0.9011\n",
      "num acquisition: 1, time elapsed: 0.90s\n",
      "Parameters --> {'n_estimators': 2, 'max_features': 0.3, 'criterion': 'gini', 'bootstrap': True, 'min_samples_split': 2, 'min_samples_leaf': 20}\n",
      "Evaluation --> f1_weighted: 0.5442\n",
      "num acquisition: 2, time elapsed: 1.23s\n",
      "Parameters --> {'n_estimators': 86, 'max_features': 0.3, 'criterion': 'entropy', 'bootstrap': False, 'min_samples_split': 20, 'min_samples_leaf': 20}\n",
      "Evaluation --> f1_weighted: 0.9107\n",
      "num acquisition: 3, time elapsed: 1.84s\n",
      "Parameters --> {'n_estimators': 84, 'max_features': 0.3, 'criterion': 'gini', 'bootstrap': True, 'min_samples_split': 2, 'min_samples_leaf': 20}\n",
      "Evaluation --> f1_weighted: 0.9197\n",
      "num acquisition: 4, time elapsed: 2.61s\n",
      "Parameters --> {'n_estimators': 178, 'max_features': 0.3, 'criterion': 'gini', 'bootstrap': True, 'min_samples_split': 2, 'min_samples_leaf': 20}\n",
      "Evaluation --> f1_weighted: 0.9355\n",
      "num acquisition: 5, time elapsed: 4.03s\n",
      "Parameters --> {'n_estimators': 132, 'max_features': 0.3, 'criterion': 'gini', 'bootstrap': False, 'min_samples_split': 2, 'min_samples_leaf': 20}\n",
      "Evaluation --> f1_weighted: 0.9275\n",
      "num acquisition: 6, time elapsed: 5.03s\n",
      "Parameters --> {'n_estimators': 328, 'max_features': 0.5, 'criterion': 'gini', 'bootstrap': False, 'min_samples_split': 5, 'min_samples_leaf': 20}\n",
      "Evaluation --> f1_weighted: 0.8603\n",
      "num acquisition: 7, time elapsed: 6.53s\n",
      "\n",
      "Final results for Random Forest:         \n",
      "Best hyperparameters: {'n_estimators': 178, 'max_features': 0.3, 'criterion': 'gini', 'bootstrap': True, 'min_samples_split': 2, 'min_samples_leaf': 20}\n",
      "Best score on the BO: 0.9355\n",
      "Score on the training set: 0.9919\n",
      "Score on the test set: 0.9445\n",
      "Time elapsed: 7.72s\n",
      "--------------------------------------------------\n",
      "Bagging score --> Mean: 0.9223   Std: 0.0294\n",
      "Time elapsed: 3.12s\n",
      "\n",
      "\n",
      "Running BO for Linear SVM...\n",
      "Parameters --> {'C': 1.0, 'loss': 'squared_hinge', 'tol': 0.001, 'dual': True, 'penalty': 'l2'}\n",
      "Evaluation --> f1_weighted: 0.9433\n",
      "Parameters --> {'C': 1.0, 'loss': 'squared_hinge', 'tol': 0.0109, 'dual': True, 'penalty': 'l2'}\n",
      "Evaluation --> f1_weighted: 0.9433\n",
      "num acquisition: 1, time elapsed: 0.50s\n",
      "Parameters --> {'C': 100.0, 'loss': 'hinge', 'tol': 0.0986, 'dual': True, 'penalty': 'l2'}\n",
      "Evaluation --> f1_weighted: 0.9433\n",
      "num acquisition: 2, time elapsed: 0.98s\n",
      "Parameters --> {'C': 1.0, 'loss': 'squared_hinge', 'tol': 0.0814, 'dual': True, 'penalty': 'l2'}\n",
      "Evaluation --> f1_weighted: 0.9433\n",
      "num acquisition: 3, time elapsed: 1.46s\n",
      "Parameters --> {'C': 1.0, 'loss': 'squared_hinge', 'tol': 0.0232, 'dual': False, 'penalty': 'l1'}\n",
      "Evaluation --> f1_weighted: 0.9595\n",
      "num acquisition: 4, time elapsed: 2.00s\n",
      "Parameters --> {'C': 10.0, 'loss': 'hinge', 'tol': 0.0001, 'dual': True, 'penalty': 'l2'}\n",
      "Evaluation --> f1_weighted: 0.9433\n",
      "num acquisition: 5, time elapsed: 2.29s\n",
      "Parameters --> {'C': 0.01, 'loss': 'hinge', 'tol': 0.0978, 'dual': True, 'penalty': 'l2'}\n",
      "Evaluation --> f1_weighted: 0.9680\n",
      "num acquisition: 6, time elapsed: 2.56s\n",
      "Parameters --> {'C': 100.0, 'loss': 'squared_hinge', 'tol': 0.0005, 'dual': True, 'penalty': 'l2'}\n",
      "Evaluation --> f1_weighted: 0.9433\n",
      "num acquisition: 7, time elapsed: 2.82s\n",
      "\n",
      "Final results for Linear SVM:         \n",
      "Best hyperparameters: {'C': 0.01, 'loss': 'hinge', 'tol': 0.0978, 'dual': True, 'penalty': 'l2'}\n",
      "Best score on the BO: 0.9680\n",
      "Score on the training set: 0.9920\n",
      "Score on the test set: 0.9816\n",
      "Time elapsed: 3.04s\n",
      "--------------------------------------------------\n",
      "Bagging score --> Mean: 0.9722   Std: 0.0207\n",
      "Time elapsed: 0.05s\n",
      "\n",
      "\n",
      "Final results ================>>\n",
      "Duration: 00h:00m:16s\n",
      "Metric: f1_weighted\n",
      "--------------------------------\n",
      "Linear Discriminant Analysis --> 0.972 ± 0.009 !!\n",
      "Random Forest                --> 0.922 ± 0.029\n",
      "Linear SVM                   --> 0.972 ± 0.021\n"
     ]
    }
   ],
   "source": [
    "# Call ATOMclass for ML task exploration\n",
    "atom = ATOMClassifier(X, Y, verbose=3)\n",
    "\n",
    "# Since it's a multiclass problem, we change\n",
    "# the metric average parameter from 'binary' to 'weigthed'\n",
    "def f1_weighted(true, pred):\n",
    "    return f1_score(true, pred, average='weighted')\n",
    "\n",
    "\n",
    "# Fit the pipeline with the selected models\n",
    "atom.fit(models=['LDA','RF', 'lSVM'],\n",
    "         metric=f1_weighted,\n",
    "         max_iter=7,\n",
    "         init_points=1,\n",
    "         cv=3,\n",
    "         bagging=10)"
   ]
  },
  {
   "cell_type": "markdown",
   "metadata": {},
   "source": [
    "## Analyze results"
   ]
  },
  {
   "cell_type": "code",
   "execution_count": 4,
   "metadata": {},
   "outputs": [
    {
     "data": {
      "text/html": [
       "<div>\n",
       "<style scoped>\n",
       "    .dataframe tbody tr th:only-of-type {\n",
       "        vertical-align: middle;\n",
       "    }\n",
       "\n",
       "    .dataframe tbody tr th {\n",
       "        vertical-align: top;\n",
       "    }\n",
       "\n",
       "    .dataframe thead th {\n",
       "        text-align: right;\n",
       "    }\n",
       "</style>\n",
       "<table border=\"1\" class=\"dataframe\">\n",
       "  <thead>\n",
       "    <tr style=\"text-align: right;\">\n",
       "      <th></th>\n",
       "      <th>model</th>\n",
       "      <th>score_train</th>\n",
       "      <th>score_test</th>\n",
       "      <th>time</th>\n",
       "      <th>bagging_mean</th>\n",
       "      <th>bagging_std</th>\n",
       "      <th>bagging_time</th>\n",
       "    </tr>\n",
       "  </thead>\n",
       "  <tbody>\n",
       "    <tr>\n",
       "      <th>0</th>\n",
       "      <td>LDA</td>\n",
       "      <td>1.000000</td>\n",
       "      <td>0.981599</td>\n",
       "      <td>2.59s</td>\n",
       "      <td>0.972325</td>\n",
       "      <td>0.009274</td>\n",
       "      <td>0.05s</td>\n",
       "    </tr>\n",
       "    <tr>\n",
       "      <th>1</th>\n",
       "      <td>RF</td>\n",
       "      <td>0.991946</td>\n",
       "      <td>0.944459</td>\n",
       "      <td>7.72s</td>\n",
       "      <td>0.922309</td>\n",
       "      <td>0.029351</td>\n",
       "      <td>3.12s</td>\n",
       "    </tr>\n",
       "    <tr>\n",
       "      <th>2</th>\n",
       "      <td>lSVM</td>\n",
       "      <td>0.991952</td>\n",
       "      <td>0.981599</td>\n",
       "      <td>3.04s</td>\n",
       "      <td>0.972245</td>\n",
       "      <td>0.020694</td>\n",
       "      <td>0.05s</td>\n",
       "    </tr>\n",
       "  </tbody>\n",
       "</table>\n",
       "</div>"
      ],
      "text/plain": [
       "  model  score_train  score_test   time  bagging_mean  bagging_std  \\\n",
       "0   LDA     1.000000    0.981599  2.59s      0.972325     0.009274   \n",
       "1    RF     0.991946    0.944459  7.72s      0.922309     0.029351   \n",
       "2  lSVM     0.991952    0.981599  3.04s      0.972245     0.020694   \n",
       "\n",
       "  bagging_time  \n",
       "0        0.05s  \n",
       "1        3.12s  \n",
       "2        0.05s  "
      ]
     },
     "execution_count": 4,
     "metadata": {},
     "output_type": "execute_result"
    }
   ],
   "source": [
    "atom.results"
   ]
  },
  {
   "cell_type": "code",
   "execution_count": 5,
   "metadata": {},
   "outputs": [
    {
     "data": {
      "image/png": "[encoded data removed]",
      "text/plain": [
       "<Figure size 648x432 with 1 Axes>"
      ]
     },
     "metadata": {},
     "output_type": "display_data"
    }
   ],
   "source": [
    "atom.boxplot()"
   ]
  },
  {
   "cell_type": "markdown",
   "metadata": {},
   "source": [
    "### Let's have a deeper look into the support vector machine"
   ]
  },
  {
   "cell_type": "code",
   "execution_count": 10,
   "metadata": {},
   "outputs": [
    {
     "name": "stdout",
     "output_type": "stream",
     "text": [
      "Jaccard score:  0.9642857142857143\n",
      "Recall score:  0.9814814814814815\n"
     ]
    }
   ],
   "source": [
    "# Get the results on some other metrics\n",
    "print('Jaccard score: ', atom.lsvm.jaccard)\n",
    "print('Recall score: ', atom.lsvm.recall)"
   ]
  },
  {
   "cell_type": "code",
   "execution_count": 7,
   "metadata": {},
   "outputs": [
    {
     "data": {
      "image/png": "[encoded data removed]",
      "text/plain": [
       "<Figure size 720x432 with 1 Axes>"
      ]
     },
     "metadata": {},
     "output_type": "display_data"
    }
   ],
   "source": [
    "# Plot the probability distribution of having breast cancer\n",
    "atom.lsvm.plot_probabilities()"
   ]
  },
  {
   "cell_type": "code",
   "execution_count": 33,
   "metadata": {},
   "outputs": [
    {
     "name": "stdout",
     "output_type": "stream",
     "text": [
      "File saved successfully!\n"
     ]
    }
   ],
   "source": [
    "# Save the model for production\n",
    "atom.lsvm.save('SVM_final')"
   ]
  }
 ],
 "metadata": {
  "kernelspec": {
   "display_name": "Python 3",
   "language": "python",
   "name": "python3"
  },
  "language_info": {
   "codemirror_mode": {
    "name": "ipython",
    "version": 3
   },
   "file_extension": ".py",
   "mimetype": "text/x-python",
   "name": "python",
   "nbconvert_exporter": "python",
   "pygments_lexer": "ipython3",
   "version": "3.7.4"
  }
 },
 "nbformat": 4,
 "nbformat_minor": 2
}
