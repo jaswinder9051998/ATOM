{
 "cells": [
  {
   "cell_type": "markdown",
   "metadata": {},
   "source": [
    "# Example notebook for the ATOM pipeline\n",
    "---------------------------------\n",
    "\n",
    "Load the data with one of the three imported datasets before running the\n",
    "ATOM function. These datasets are provided by sklearn and are very small\n",
    "and easy to learn. You can learn more about these datasets\n",
    "at https://scikit-learn.org/stable/datasets/index.html.\n",
    "\n",
    "    load_breast_cancer: binary classification\n",
    "    load_wine: multi-class classification\n",
    "    load_boston: regression"
   ]
  },
  {
   "cell_type": "code",
   "execution_count": 27,
   "metadata": {},
   "outputs": [],
   "source": [
    "# Import packages\n",
    "from sklearn.datasets import load_boston, load_wine, load_breast_cancer\n",
    "from sklearn.metrics import f1_score, jaccard_score\n",
    "from atom import ATOMClassifier\n",
    "\n",
    "# Load the dataset's fetatures and targets as arrays\n",
    "X, Y = load_wine(return_X_y=True)"
   ]
  },
  {
   "cell_type": "markdown",
   "metadata": {},
   "source": [
    "## Run ATOM pipeline"
   ]
  },
  {
   "cell_type": "code",
   "execution_count": 28,
   "metadata": {
    "scrolled": false
   },
   "outputs": [
    {
     "name": "stdout",
     "output_type": "stream",
     "text": [
      "<<=============== ATOM ===============>>\n",
      "Initial data cleaning...\n",
      "Algorithm task: multiclass classification. Number of classes: 3.\n",
      "\n",
      "Data stats =====================>\n",
      "Number of features: 13\n",
      "Number of instances: 178\n",
      "Size of training set: 124\n",
      "Size of test set: 54\n",
      "Instances per target class:\n",
      "target --> Count\n",
      "0      --> 59\n",
      "1      --> 71\n",
      "2      --> 48\n",
      "\n",
      "\n",
      "Running pipeline =================>\n",
      "Models in pipeline: LDA, RF, lSVM\n",
      "Metric: f1\n",
      "\n",
      "\n",
      "Running BO for Linear Discriminant Analysis...\n",
      "Parameters --> {'solver': 'svd', 'n_components': 200, 'tol': 0.001}\n",
      "Evaluation --> f1: 0.9833\n",
      "Parameters --> {'solver': 'svd', 'n_components': 200, 'tol': 0.0109}\n",
      "Evaluation --> f1: 0.9833\n",
      "num acquisition: 1, time elapsed: 0.37s\n",
      "Parameters --> {'solver': 'eigen', 'n_components': 1, 'tol': 0.0281, 'shrinkage': 0.8}\n",
      "Evaluation --> f1: 0.7033\n",
      "num acquisition: 2, time elapsed: 0.80s\n",
      "Parameters --> {'solver': 'svd', 'n_components': 250, 'tol': 0.1}\n",
      "Evaluation --> f1: 0.9833\n",
      "num acquisition: 3, time elapsed: 1.09s\n",
      "Parameters --> {'solver': 'eigen', 'n_components': 225, 'tol': 0.0354, 'shrinkage': 0.7000000000000001}\n",
      "Evaluation --> f1: 0.7022\n",
      "num acquisition: 4, time elapsed: 1.36s\n",
      "Parameters --> {'solver': 'svd', 'n_components': 165, 'tol': 0.1}\n",
      "Evaluation --> f1: 0.9833\n",
      "num acquisition: 5, time elapsed: 1.67s\n",
      "Parameters --> {'solver': 'svd', 'n_components': 183, 'tol': 0.1}\n",
      "Evaluation --> f1: 0.9833\n",
      "num acquisition: 6, time elapsed: 1.94s\n",
      "Parameters --> {'solver': 'svd', 'n_components': 106, 'tol': 0.0001}\n",
      "Evaluation --> f1: 0.9833\n",
      "num acquisition: 7, time elapsed: 2.18s\n",
      "\n",
      "Final results for Linear Discriminant Analysis:         \n",
      "Best hyperparameters: {'solver': 'svd', 'n_components': 200, 'tol': 0.001}\n",
      "Best score on the BO: 0.9833\n",
      "Score on the test set: 0.9815\n",
      "Time elapsed: 2.36s\n",
      "--------------------------------------------------\n",
      "Bagging score --> Mean: 0.9852   Std: 0.0074\n",
      "Time elapsed: 0.05s\n",
      "\n",
      "\n",
      "Running BO for Random Forest...\n",
      "Parameters --> {'n_estimators': 100, 'max_features': 1, 'criterion': 'gini', 'bootstrap': True, 'min_samples_split': 2, 'min_samples_leaf': 1}\n",
      "Evaluation --> f1: 0.9766\n",
      "Parameters --> {'n_estimators': 96, 'max_features': 0.4, 'criterion': 'entropy', 'bootstrap': True, 'min_samples_split': 5, 'min_samples_leaf': 2}\n",
      "Evaluation --> f1: 0.9119\n",
      "num acquisition: 1, time elapsed: 0.59s\n",
      "Parameters --> {'n_estimators': 162, 'max_features': 1.0, 'criterion': 'gini', 'bootstrap': True, 'min_samples_split': 2, 'min_samples_leaf': 1}\n",
      "Evaluation --> f1: 0.9188\n",
      "num acquisition: 2, time elapsed: 1.81s\n",
      "Parameters --> {'n_estimators': 500, 'max_features': 0.4, 'criterion': 'entropy', 'bootstrap': True, 'min_samples_split': 13, 'min_samples_leaf': 6}\n",
      "Evaluation --> f1: 0.9205\n",
      "num acquisition: 3, time elapsed: 4.53s\n",
      "Parameters --> {'n_estimators': 3, 'max_features': 0.3, 'criterion': 'gini', 'bootstrap': True, 'min_samples_split': 14, 'min_samples_leaf': 17}\n",
      "Evaluation --> f1: 0.9272\n",
      "num acquisition: 4, time elapsed: 4.98s\n",
      "Parameters --> {'n_estimators': 2, 'max_features': 0.4, 'criterion': 'entropy', 'bootstrap': True, 'min_samples_split': 3, 'min_samples_leaf': 7}\n",
      "Evaluation --> f1: 0.8032\n",
      "num acquisition: 5, time elapsed: 5.16s\n",
      "Parameters --> {'n_estimators': 499, 'max_features': 0.7, 'criterion': 'gini', 'bootstrap': False, 'min_samples_split': 19, 'min_samples_leaf': 19}\n",
      "Evaluation --> f1: 0.8306\n",
      "num acquisition: 6, time elapsed: 7.39s\n",
      "Parameters --> {'n_estimators': 2, 'max_features': 0.4, 'criterion': 'gini', 'bootstrap': False, 'min_samples_split': 16, 'min_samples_leaf': 4}\n",
      "Evaluation --> f1: 0.8937\n",
      "num acquisition: 7, time elapsed: 7.56s\n",
      "\n",
      "Final results for Random Forest:         \n",
      "Best hyperparameters: {'n_estimators': 100, 'max_features': 1.0, 'criterion': 'gini', 'bootstrap': True, 'min_samples_split': 2, 'min_samples_leaf': 1}\n",
      "Best score on the BO: 0.9766\n",
      "Score on the test set: 0.9815\n",
      "Time elapsed: 8.52s\n",
      "--------------------------------------------------\n",
      "Bagging score --> Mean: 0.9685   Std: 0.0186\n",
      "Time elapsed: 1.54s\n",
      "\n",
      "\n",
      "Running BO for Linear SVM...\n",
      "Parameters --> {'C': 1.0, 'loss': 'squared_hinge', 'tol': 0.001, 'dual': True, 'penalty': 'l2'}\n",
      "Evaluation --> f1: 0.9758\n",
      "Parameters --> {'C': 0.1, 'loss': 'squared_hinge', 'tol': 0.0013, 'dual': True, 'penalty': 'l2'}\n",
      "Evaluation --> f1: 0.9682\n",
      "num acquisition: 1, time elapsed: 0.17s\n",
      "Parameters --> {'C': 100.0, 'loss': 'squared_hinge', 'tol': 0.0001, 'dual': True, 'penalty': 'l2'}\n",
      "Evaluation --> f1: 0.9680\n",
      "num acquisition: 2, time elapsed: 0.45s\n",
      "Parameters --> {'C': 10.0, 'loss': 'squared_hinge', 'tol': 0.0001, 'dual': True, 'penalty': 'l2'}\n",
      "Evaluation --> f1: 0.9680\n",
      "num acquisition: 3, time elapsed: 0.72s\n",
      "Parameters --> {'C': 1.0, 'loss': 'hinge', 'tol': 0.1, 'dual': True, 'penalty': 'l2'}\n",
      "Evaluation --> f1: 0.9675\n",
      "num acquisition: 4, time elapsed: 1.08s\n",
      "Parameters --> {'C': 100.0, 'loss': 'hinge', 'tol': 0.0991, 'dual': True, 'penalty': 'l2'}\n",
      "Evaluation --> f1: 0.9680\n",
      "num acquisition: 5, time elapsed: 1.38s\n",
      "Parameters --> {'C': 0.01, 'loss': 'squared_hinge', 'tol': 0.003, 'dual': True, 'penalty': 'l2'}\n",
      "Evaluation --> f1: 0.9682\n",
      "num acquisition: 6, time elapsed: 1.65s\n",
      "Parameters --> {'C': 0.01, 'loss': 'squared_hinge', 'tol': 0.0031, 'dual': True, 'penalty': 'l2'}\n",
      "Evaluation --> f1: 0.9682\n",
      "num acquisition: 7, time elapsed: 1.90s\n",
      "\n",
      "Final results for Linear SVM:         \n",
      "Best hyperparameters: {'C': 1.0, 'loss': 'squared_hinge', 'tol': 0.001, 'dual': True, 'penalty': 'l2'}\n",
      "Best score on the BO: 0.9758\n",
      "Score on the test set: 0.9815\n",
      "Time elapsed: 2.07s\n",
      "--------------------------------------------------\n",
      "Bagging score --> Mean: 0.9852   Std: 0.0074\n",
      "Time elapsed: 0.05s\n",
      "\n",
      "\n",
      "Final results ================>>\n",
      "Duration: 00h:00m:14s\n",
      "Metric: f1\n",
      "--------------------------------\n",
      "Linear Discriminant Analysis --> 0.985 ± 0.007 !!\n",
      "Random Forest                --> 0.969 ± 0.019\n",
      "Linear SVM                   --> 0.985 ± 0.007 !!\n"
     ]
    }
   ],
   "source": [
    "# Call ATOMclass for ML task exploration\n",
    "atom = ATOMClassifier(X, Y, verbose=3)\n",
    "\n",
    "# Since it's a multiclass problem, we change\n",
    "# the metric average parameter from 'binary' to 'weigthed'\n",
    "def f1_weighted(true, pred):\n",
    "    return f1_score(true, pred, average='weighted')\n",
    "\n",
    "\n",
    "# Fit the pipeline with the selected models\n",
    "atom.fit(models=['LDA','RF', 'lSVM'],\n",
    "         metric=f1,\n",
    "         max_iter=7,\n",
    "         init_points=1,\n",
    "         cv=3,\n",
    "         bagging=10)"
   ]
  },
  {
   "cell_type": "markdown",
   "metadata": {},
   "source": [
    "## Analyze results"
   ]
  },
  {
   "cell_type": "code",
   "execution_count": 29,
   "metadata": {},
   "outputs": [
    {
     "data": {
      "text/html": [
       "<div>\n",
       "<style scoped>\n",
       "    .dataframe tbody tr th:only-of-type {\n",
       "        vertical-align: middle;\n",
       "    }\n",
       "\n",
       "    .dataframe tbody tr th {\n",
       "        vertical-align: top;\n",
       "    }\n",
       "\n",
       "    .dataframe thead th {\n",
       "        text-align: right;\n",
       "    }\n",
       "</style>\n",
       "<table border=\"1\" class=\"dataframe\">\n",
       "  <thead>\n",
       "    <tr style=\"text-align: right;\">\n",
       "      <th></th>\n",
       "      <th>model</th>\n",
       "      <th>f1</th>\n",
       "      <th>time</th>\n",
       "      <th>bagging_mean</th>\n",
       "      <th>bagging_std</th>\n",
       "      <th>bagging_time</th>\n",
       "    </tr>\n",
       "  </thead>\n",
       "  <tbody>\n",
       "    <tr>\n",
       "      <th>0</th>\n",
       "      <td>LDA</td>\n",
       "      <td>0.981481</td>\n",
       "      <td>2.36s</td>\n",
       "      <td>0.985185</td>\n",
       "      <td>0.007407</td>\n",
       "      <td>0.05s</td>\n",
       "    </tr>\n",
       "    <tr>\n",
       "      <th>1</th>\n",
       "      <td>RF</td>\n",
       "      <td>0.981481</td>\n",
       "      <td>8.52s</td>\n",
       "      <td>0.968517</td>\n",
       "      <td>0.018553</td>\n",
       "      <td>1.54s</td>\n",
       "    </tr>\n",
       "    <tr>\n",
       "      <th>2</th>\n",
       "      <td>lSVM</td>\n",
       "      <td>0.981481</td>\n",
       "      <td>2.07s</td>\n",
       "      <td>0.985185</td>\n",
       "      <td>0.007407</td>\n",
       "      <td>0.05s</td>\n",
       "    </tr>\n",
       "  </tbody>\n",
       "</table>\n",
       "</div>"
      ],
      "text/plain": [
       "  model        f1   time  bagging_mean  bagging_std bagging_time\n",
       "0   LDA  0.981481  2.36s      0.985185     0.007407        0.05s\n",
       "1    RF  0.981481  8.52s      0.968517     0.018553        1.54s\n",
       "2  lSVM  0.981481  2.07s      0.985185     0.007407        0.05s"
      ]
     },
     "execution_count": 29,
     "metadata": {},
     "output_type": "execute_result"
    }
   ],
   "source": [
    "atom.results"
   ]
  },
  {
   "cell_type": "code",
   "execution_count": 30,
   "metadata": {},
   "outputs": [
    {
     "data": {
      "image/png": "[encoded data removed]",
      "text/plain": [
       "<Figure size 648x432 with 1 Axes>"
      ]
     },
     "metadata": {},
     "output_type": "display_data"
    }
   ],
   "source": [
    "atom.boxplot()"
   ]
  },
  {
   "cell_type": "markdown",
   "metadata": {},
   "source": [
    "### Let's have a deeper look into the support vector machine"
   ]
  },
  {
   "cell_type": "code",
   "execution_count": 31,
   "metadata": {},
   "outputs": [
    {
     "name": "stdout",
     "output_type": "stream",
     "text": [
      "SVM precision on test set:  0.9639376218323586\n"
     ]
    }
   ],
   "source": [
    "# Get the results on some other metric\n",
    "print('SVM precision on test set: ',\n",
    "      jaccard_score(atom.Y_test, atom.rf.predict, average='weighted'))"
   ]
  },
  {
   "cell_type": "code",
   "execution_count": 32,
   "metadata": {},
   "outputs": [
    {
     "data": {
      "image/png": "[encoded data removed]",
      "text/plain": [
       "<Figure size 720x432 with 1 Axes>"
      ]
     },
     "metadata": {},
     "output_type": "display_data"
    }
   ],
   "source": [
    "# Plot the probability distribution of having breast cancer\n",
    "atom.lsvm.plot_probabilities()"
   ]
  },
  {
   "cell_type": "code",
   "execution_count": 33,
   "metadata": {},
   "outputs": [
    {
     "name": "stdout",
     "output_type": "stream",
     "text": [
      "File saved successfully!\n"
     ]
    }
   ],
   "source": [
    "# Save the model for production\n",
    "atom.lsvm.save('SVM_final')"
   ]
  }
 ],
 "metadata": {
  "kernelspec": {
   "display_name": "Python 3",
   "language": "python",
   "name": "python3"
  },
  "language_info": {
   "codemirror_mode": {
    "name": "ipython",
    "version": 3
   },
   "file_extension": ".py",
   "mimetype": "text/x-python",
   "name": "python",
   "nbconvert_exporter": "python",
   "pygments_lexer": "ipython3",
   "version": "3.7.4"
  }
 },
 "nbformat": 4,
 "nbformat_minor": 2
}
