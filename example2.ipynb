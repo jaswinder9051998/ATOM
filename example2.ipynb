{
 "cells": [
  {
   "cell_type": "markdown",
   "metadata": {},
   "source": [
    "# Example notebook for the ATOM pipeline\n",
    "---------------------------------\n",
    "\n",
    "Download the Australian weather dataset from kaggle at https://www.kaggle.com/jsphyg/weather-dataset-rattle-package.  \n",
    "  \n",
    "**Description:** Predict whether or not it will rain tomorrow by training a binary classification model on target RainTomorrow."
   ]
  },
  {
   "cell_type": "code",
   "execution_count": 2,
   "metadata": {},
   "outputs": [],
   "source": [
    "# Import packages\n",
    "import pandas as pd\n",
    "from atom import ATOMClassifier\n",
    "\n",
    "# Load the Australian weather dataset\n",
    "X = pd.read_csv('weatherAUS.csv')\n",
    "X = X.drop(['RISK_MM', 'Date'], axis=1)  # Drop unrelated features"
   ]
  },
  {
   "cell_type": "code",
   "execution_count": 3,
   "metadata": {},
   "outputs": [
    {
     "name": "stdout",
     "output_type": "stream",
     "text": [
      "<<=============== ATOM ===============>>\n",
      "Initial data cleaning...\n",
      " --> Dropping 45 duplicate rows.\n",
      "Algorithm task: binary classification.\n",
      "\n",
      "Data stats =====================>\n",
      "Number of features: 21\n",
      "Number of instances: 14214\n",
      "Size of training set: 9949\n",
      "Size of test set: 4265\n",
      "Instances per target class:\n",
      "RainTomorrow --> Count\n",
      "0: No        --> 11100\n",
      "1: Yes       --> 3114\n",
      "\n"
     ]
    }
   ],
   "source": [
    "# Call ATOM using only a percentage of the complete dataset (for explanatory purposes)\n",
    "atom = ATOMClassifier(X, target=\"RainTomorrow\", percentage=10, verbose=3)"
   ]
  },
  {
   "cell_type": "code",
   "execution_count": 4,
   "metadata": {},
   "outputs": [
    {
     "name": "stdout",
     "output_type": "stream",
     "text": [
      "Handling missing values...\n",
      " --> Imputing 54 values with mean in feature MinTemp.\n",
      " --> Imputing 18 values with mean in feature MaxTemp.\n",
      " --> Imputing 119 values with mean in feature Rainfall.\n",
      " --> Imputing 4268 values with mean in feature Evaporation.\n",
      " --> Imputing 4751 values with mean in feature Sunshine.\n",
      " --> Removing 643 rows due to missing values in feature WindGustDir.\n",
      " --> Removing 535 rows due to missing values in feature WindDir9am.\n",
      " --> Removing 49 rows due to missing values in feature WindDir3pm.\n",
      " --> Imputing 81 values with mean in feature Humidity9am.\n",
      " --> Imputing 101 values with mean in feature Humidity3pm.\n",
      " --> Imputing 615 values with mean in feature Pressure9am.\n",
      " --> Imputing 610 values with mean in feature Pressure3pm.\n",
      " --> Imputing 3262 values with mean in feature Cloud9am.\n",
      " --> Imputing 3390 values with mean in feature Cloud3pm.\n",
      " --> Imputing 28 values with mean in feature Temp9am.\n",
      " --> Imputing 51 values with mean in feature Temp3pm.\n",
      " --> Removing 87 rows due to missing values in feature RainToday.\n"
     ]
    }
   ],
   "source": [
    "# Impute missing values\n",
    "atom.impute(strat_num='mean', strat_cat='remove', max_frac=0.8)"
   ]
  },
  {
   "cell_type": "code",
   "execution_count": 5,
   "metadata": {},
   "outputs": [
    {
     "name": "stdout",
     "output_type": "stream",
     "text": [
      "Encoding categorical features...\n",
      " --> Target-encoding feature Location. Contains 47 unique categories.\n",
      " --> Target-encoding feature WindGustDir. Contains 16 unique categories.\n",
      " --> Target-encoding feature WindDir9am. Contains 16 unique categories.\n",
      " --> Target-encoding feature WindDir3pm. Contains 16 unique categories.\n",
      " --> Label-encoding feature RainToday. Contains 2 unique categories.\n"
     ]
    }
   ],
   "source": [
    "# Encode the categroical features\n",
    "atom.encode(max_onehot=10)"
   ]
  },
  {
   "cell_type": "code",
   "execution_count": 6,
   "metadata": {},
   "outputs": [
    {
     "name": "stdout",
     "output_type": "stream",
     "text": [
      "Performing feature selection...\n",
      " --> Feature Pressure3pm was removed due to collinearity with another feature.\n",
      " --> Feature Temp9am was removed due to collinearity with another feature.\n",
      " --> Feature Temp3pm was removed due to collinearity with another feature.\n",
      " --> Feature Location was removed after the univariate test (score: 351.59  p-value: 0.00).\n",
      " --> Feature MinTemp was removed after the univariate test (score: 67.19  p-value: 0.00).\n",
      " --> Feature MaxTemp was removed after the univariate test (score: 370.92  p-value: 0.00).\n",
      " --> Feature Evaporation was removed after the univariate test (score: 113.15  p-value: 0.00).\n",
      " --> Feature WindGustDir was removed after the univariate test (score: 186.94  p-value: 0.00).\n",
      " --> Feature WindDir9am was removed after the univariate test (score: 208.29  p-value: 0.00).\n",
      " --> Feature WindDir3pm was removed after the univariate test (score: 141.64  p-value: 0.00).\n",
      " --> Feature WindSpeed9am was removed after the univariate test (score: 128.31  p-value: 0.00).\n",
      " --> Feature WindSpeed3pm was removed after the univariate test (score: 118.72  p-value: 0.00).\n",
      " --> Feature Pressure3pm was removed after the univariate test (score: 506.57  p-value: 0.00).\n",
      " --> Feature Temp9am was removed after the univariate test (score: 17.20  p-value: 0.00).\n"
     ]
    },
    {
     "data": {
      "text/html": [
       "<div>\n",
       "<style scoped>\n",
       "    .dataframe tbody tr th:only-of-type {\n",
       "        vertical-align: middle;\n",
       "    }\n",
       "\n",
       "    .dataframe tbody tr th {\n",
       "        vertical-align: top;\n",
       "    }\n",
       "\n",
       "    .dataframe thead th {\n",
       "        text-align: right;\n",
       "    }\n",
       "</style>\n",
       "<table border=\"1\" class=\"dataframe\">\n",
       "  <thead>\n",
       "    <tr style=\"text-align: right;\">\n",
       "      <th></th>\n",
       "      <th>drop_feature</th>\n",
       "      <th>correlated_feature</th>\n",
       "      <th>correlation_value</th>\n",
       "    </tr>\n",
       "  </thead>\n",
       "  <tbody>\n",
       "    <tr>\n",
       "      <td>0</td>\n",
       "      <td>Pressure3pm</td>\n",
       "      <td>Pressure9am</td>\n",
       "      <td>0.95986</td>\n",
       "    </tr>\n",
       "    <tr>\n",
       "      <td>1</td>\n",
       "      <td>Temp9am</td>\n",
       "      <td>MinTemp, MaxTemp</td>\n",
       "      <td>0.89719, 0.88909</td>\n",
       "    </tr>\n",
       "    <tr>\n",
       "      <td>2</td>\n",
       "      <td>Temp3pm</td>\n",
       "      <td>MaxTemp, Temp9am</td>\n",
       "      <td>0.97747, 0.86395</td>\n",
       "    </tr>\n",
       "  </tbody>\n",
       "</table>\n",
       "</div>"
      ],
      "text/plain": [
       "  drop_feature correlated_feature correlation_value\n",
       "0  Pressure3pm        Pressure9am           0.95986\n",
       "1      Temp9am   MinTemp, MaxTemp  0.89719, 0.88909\n",
       "2      Temp3pm   MaxTemp, Temp9am  0.97747, 0.86395"
      ]
     },
     "execution_count": 6,
     "metadata": {},
     "output_type": "execute_result"
    }
   ],
   "source": [
    "# Select only the best 10 features\n",
    "atom.feature_selection(strategy=\"univariate\", max_features=10, max_correlation=0.8)\n",
    "\n",
    "# See which features were removed due to collinearity\n",
    "atom.collinear"
   ]
  },
  {
   "cell_type": "code",
   "execution_count": 7,
   "metadata": {},
   "outputs": [
    {
     "name": "stderr",
     "output_type": "stream",
     "text": [
      "Using TensorFlow backend.\n"
     ]
    },
    {
     "name": "stdout",
     "output_type": "stream",
     "text": [
      "Performing undersampling...\n",
      " --> Removing 4570 rows from majority class.\n"
     ]
    }
   ],
   "source": [
    "# Perform undersampling of the majority class to balance the dataset\n",
    "atom.balance(undersample=0.8)"
   ]
  },
  {
   "cell_type": "code",
   "execution_count": 8,
   "metadata": {},
   "outputs": [
    {
     "name": "stdout",
     "output_type": "stream",
     "text": [
      "Handling outliers...\n",
      " --> Dropping 22 rows due to outliers.\n"
     ]
    }
   ],
   "source": [
    "# Remove outliers from the training set\n",
    "atom.outliers(max_sigma=5)"
   ]
  },
  {
   "cell_type": "code",
   "execution_count": 9,
   "metadata": {},
   "outputs": [
    {
     "name": "stdout",
     "output_type": "stream",
     "text": [
      "\n",
      "Running pipeline =================>\n",
      "\n",
      "\n",
      "<<================ Iteration 0 ================>>\n",
      "Models in pipeline: Tree, Bag, ET, RF, AdaB, GBM, LGB, CatB\n"
     ]
    },
    {
     "name": "stderr",
     "output_type": "stream",
     "text": [
      "Processing: 100%|████████████████████████████████| 8/8 [00:26<00:00,  3.36s/it]\n"
     ]
    },
    {
     "name": "stdout",
     "output_type": "stream",
     "text": [
      "\n",
      "\n",
      "Final results ================>>\n",
      "Duration: 00h:00m:26s\n",
      "Target metric: F1\n",
      "--------------------------------\n",
      "Decision Tree             --> 0.572 ± 0.043\n",
      "Bagging                   --> 0.608 ± 0.017\n",
      "Extra-Trees               --> 0.605 ± 0.034\n",
      "Random Forest             --> 0.648 ± 0.024 !!\n",
      "AdaBoost                  --> 0.591 ± 0.031\n",
      "Gradient Boosting Machine --> 0.594 ± 0.025\n",
      "LightGBM                  --> 0.640 ± 0.012\n",
      "CatBoost                  --> 0.636 ± 0.032\n",
      "\n",
      "\n",
      "<<================ Iteration 1 ================>>\n",
      "Models in pipeline: Bag, RF, LGB, CatB\n"
     ]
    },
    {
     "name": "stderr",
     "output_type": "stream",
     "text": [
      "Processing: 100%|████████████████████████████████| 4/4 [00:20<00:00,  5.23s/it]\n"
     ]
    },
    {
     "name": "stdout",
     "output_type": "stream",
     "text": [
      "\n",
      "\n",
      "Final results ================>>\n",
      "Duration: 00h:00m:47s\n",
      "Target metric: F1\n",
      "--------------------------------\n",
      "Bagging       --> 0.631 ± 0.006\n",
      "Random Forest --> 0.638 ± 0.008 !!\n",
      "LightGBM      --> 0.633 ± 0.012\n",
      "CatBoost      --> 0.625 ± 0.016\n",
      "\n",
      "\n",
      "<<================ Iteration 2 ================>>\n",
      "Models in pipeline: RF, LGB\n"
     ]
    },
    {
     "name": "stderr",
     "output_type": "stream",
     "text": [
      "Processing: 100%|████████████████████████████████| 2/2 [00:05<00:00,  2.69s/it]\n"
     ]
    },
    {
     "name": "stdout",
     "output_type": "stream",
     "text": [
      "\n",
      "\n",
      "Final results ================>>\n",
      "Duration: 00h:00m:53s\n",
      "Target metric: F1\n",
      "--------------------------------\n",
      "Random Forest --> 0.663 ± 0.016\n",
      "LightGBM      --> 0.665 ± 0.013 !!\n",
      "\n",
      "\n",
      "<<================ Iteration 3 ================>>\n",
      "Model in pipeline: LGB\n"
     ]
    },
    {
     "name": "stderr",
     "output_type": "stream",
     "text": [
      "Processing: 100%|████████████████████████████████| 1/1 [00:01<00:00,  1.77s/it]\n"
     ]
    },
    {
     "name": "stdout",
     "output_type": "stream",
     "text": [
      "\n",
      "\n",
      "Final results ================>>\n",
      "Duration: 00h:00m:55s\n",
      "Target metric: F1\n",
      "--------------------------------\n",
      "LightGBM --> 0.681 ± 0.009\n"
     ]
    }
   ],
   "source": [
    "# Change the verbosity of ATOM to not print too much details while fitting\n",
    "atom.verbose = 1\n",
    "\n",
    "# Fit using successive halving on tree-based models\n",
    "atom.fit(['tree', 'bag', 'et', 'rf', 'adab', 'gbm', 'lgb', 'catb'],\n",
    "        successive_halving=True,\n",
    "        metric='f1',\n",
    "        max_iter=5,\n",
    "        init_points=1,\n",
    "        cv=1,\n",
    "        bagging=5)"
   ]
  },
  {
   "cell_type": "code",
   "execution_count": 11,
   "metadata": {},
   "outputs": [
    {
     "data": {
      "image/png": "[encoded data removed]",
      "text/plain": [
       "<Figure size 720x432 with 1 Axes>"
      ]
     },
     "metadata": {},
     "output_type": "display_data"
    }
   ],
   "source": [
    "atom.plot_successive_halving()"
   ]
  },
  {
   "cell_type": "code",
   "execution_count": 12,
   "metadata": {},
   "outputs": [
    {
     "data": {
      "text/html": [
       "<div>\n",
       "<style scoped>\n",
       "    .dataframe tbody tr th:only-of-type {\n",
       "        vertical-align: middle;\n",
       "    }\n",
       "\n",
       "    .dataframe tbody tr th {\n",
       "        vertical-align: top;\n",
       "    }\n",
       "\n",
       "    .dataframe thead th {\n",
       "        text-align: right;\n",
       "    }\n",
       "</style>\n",
       "<table border=\"1\" class=\"dataframe\">\n",
       "  <thead>\n",
       "    <tr style=\"text-align: right;\">\n",
       "      <th></th>\n",
       "      <th>model</th>\n",
       "      <th>F1</th>\n",
       "      <th>time</th>\n",
       "      <th>bagging_mean</th>\n",
       "      <th>bagging_std</th>\n",
       "      <th>bagging_time</th>\n",
       "    </tr>\n",
       "  </thead>\n",
       "  <tbody>\n",
       "    <tr>\n",
       "      <td>0</td>\n",
       "      <td>Tree</td>\n",
       "      <td>0.625698</td>\n",
       "      <td>0.38s</td>\n",
       "      <td>0.571739</td>\n",
       "      <td>0.043334</td>\n",
       "      <td>0.02s</td>\n",
       "    </tr>\n",
       "    <tr>\n",
       "      <td>1</td>\n",
       "      <td>Bag</td>\n",
       "      <td>0.638298</td>\n",
       "      <td>3.88s</td>\n",
       "      <td>0.608048</td>\n",
       "      <td>0.017305</td>\n",
       "      <td>2.02s</td>\n",
       "    </tr>\n",
       "    <tr>\n",
       "      <td>2</td>\n",
       "      <td>ET</td>\n",
       "      <td>0.588235</td>\n",
       "      <td>3.35s</td>\n",
       "      <td>0.604817</td>\n",
       "      <td>0.033942</td>\n",
       "      <td>0.38s</td>\n",
       "    </tr>\n",
       "    <tr>\n",
       "      <td>3</td>\n",
       "      <td>RF</td>\n",
       "      <td>0.607143</td>\n",
       "      <td>2.44s</td>\n",
       "      <td>0.648362</td>\n",
       "      <td>0.024357</td>\n",
       "      <td>0.93s</td>\n",
       "    </tr>\n",
       "    <tr>\n",
       "      <td>4</td>\n",
       "      <td>AdaB</td>\n",
       "      <td>0.596273</td>\n",
       "      <td>2.91s</td>\n",
       "      <td>0.590568</td>\n",
       "      <td>0.031324</td>\n",
       "      <td>0.43s</td>\n",
       "    </tr>\n",
       "    <tr>\n",
       "      <td>5</td>\n",
       "      <td>GBM</td>\n",
       "      <td>0.571429</td>\n",
       "      <td>3.06s</td>\n",
       "      <td>0.594324</td>\n",
       "      <td>0.025304</td>\n",
       "      <td>0.85s</td>\n",
       "    </tr>\n",
       "    <tr>\n",
       "      <td>6</td>\n",
       "      <td>LGB</td>\n",
       "      <td>0.636872</td>\n",
       "      <td>1.08s</td>\n",
       "      <td>0.639921</td>\n",
       "      <td>0.012365</td>\n",
       "      <td>0.15s</td>\n",
       "    </tr>\n",
       "    <tr>\n",
       "      <td>7</td>\n",
       "      <td>CatB</td>\n",
       "      <td>0.644444</td>\n",
       "      <td>4.62s</td>\n",
       "      <td>0.636102</td>\n",
       "      <td>0.031630</td>\n",
       "      <td>0.35s</td>\n",
       "    </tr>\n",
       "  </tbody>\n",
       "</table>\n",
       "</div>"
      ],
      "text/plain": [
       "  model        F1   time  bagging_mean  bagging_std bagging_time\n",
       "0  Tree  0.625698  0.38s      0.571739     0.043334        0.02s\n",
       "1   Bag  0.638298  3.88s      0.608048     0.017305        2.02s\n",
       "2    ET  0.588235  3.35s      0.604817     0.033942        0.38s\n",
       "3    RF  0.607143  2.44s      0.648362     0.024357        0.93s\n",
       "4  AdaB  0.596273  2.91s      0.590568     0.031324        0.43s\n",
       "5   GBM  0.571429  3.06s      0.594324     0.025304        0.85s\n",
       "6   LGB  0.636872  1.08s      0.639921     0.012365        0.15s\n",
       "7  CatB  0.644444  4.62s      0.636102     0.031630        0.35s"
      ]
     },
     "execution_count": 12,
     "metadata": {},
     "output_type": "execute_result"
    }
   ],
   "source": [
    "# Check scores of the first iteration\n",
    "atom.results[0]"
   ]
  },
  {
   "cell_type": "markdown",
   "metadata": {},
   "source": [
    "### LightGBM proved to be the best. Let's have a look at the model!"
   ]
  },
  {
   "cell_type": "code",
   "execution_count": 16,
   "metadata": {},
   "outputs": [
    {
     "name": "stdout",
     "output_type": "stream",
     "text": [
      "Best score:  0.6901217861975644\n"
     ]
    },
    {
     "data": {
      "text/plain": [
       "LGBMClassifier(boosting_type='gbdt', class_weight=None, colsample_bytree=1.0,\n",
       "               importance_type='split', learning_rate=0.1, max_depth=3,\n",
       "               min_child_samples=20, min_child_weight=0.001, min_split_gain=0.0,\n",
       "               n_estimators=100, n_jobs=-1, num_leaves=31, objective=None,\n",
       "               random_state=None, reg_alpha=0.0, reg_lambda=1.0, silent=True,\n",
       "               subsample=1.0, subsample_for_bin=200000, subsample_freq=0)"
      ]
     },
     "execution_count": 16,
     "metadata": {},
     "output_type": "execute_result"
    }
   ],
   "source": [
    "# Check the winner out\n",
    "print('Best score: ', atom.lgb.score)\n",
    "atom.lgb.best_model"
   ]
  },
  {
   "cell_type": "code",
   "execution_count": 17,
   "metadata": {},
   "outputs": [
    {
     "data": {
      "image/png": "[encoded data removed]",
      "text/plain": [
       "<Figure size 720x504 with 1 Axes>"
      ]
     },
     "metadata": {},
     "output_type": "display_data"
    }
   ],
   "source": [
    "# See feature importance\n",
    "atom.lgb.plot_feature_importance(show=7, figsize=(10,7))"
   ]
  }
 ],
 "metadata": {
  "kernelspec": {
   "display_name": "Python 3",
   "language": "python",
   "name": "python3"
  },
  "language_info": {
   "codemirror_mode": {
    "name": "ipython",
    "version": 3
   },
   "file_extension": ".py",
   "mimetype": "text/x-python",
   "name": "python",
   "nbconvert_exporter": "python",
   "pygments_lexer": "ipython3",
   "version": "3.6.5"
  }
 },
 "nbformat": 4,
 "nbformat_minor": 2
}
