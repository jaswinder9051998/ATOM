{
 "cells": [
  {
   "cell_type": "markdown",
   "metadata": {},
   "source": [
    "# Example notebook for the ATOM pipeline\n",
    "---------------------------------\n",
    "\n",
    "Download the Australian weather dataset from kaggle at https://www.kaggle.com/jsphyg/weather-dataset-rattle-package.  \n",
    "  \n",
    "**Description:** Predict whether or not it will rain tomorrow by training a binary classification model on target RainTomorrow."
   ]
  },
  {
   "cell_type": "code",
   "execution_count": 1,
   "metadata": {},
   "outputs": [
    {
     "name": "stderr",
     "output_type": "stream",
     "text": [
      "Using TensorFlow backend.\n"
     ]
    }
   ],
   "source": [
    "# Import packages\n",
    "import pandas as pd\n",
    "from atom import ATOM\n",
    "\n",
    "# Load the Australian weather dataset\n",
    "X = pd.read_csv('weatherAUS.csv')\n",
    "X = X.drop('RISK_MM', axis=1)  # Drop feature directly related to RainTomorrow"
   ]
  },
  {
   "cell_type": "code",
   "execution_count": 2,
   "metadata": {},
   "outputs": [
    {
     "name": "stdout",
     "output_type": "stream",
     "text": [
      "<<=============== ATOM ===============>>\n",
      "Algorithm task: binary classification.\n",
      "\n",
      "Data stats =====================>\n",
      "Number of features: 22\n",
      "Number of instances: 14219\n",
      "Size of training set: 9953\n",
      "Size of test set: 4266\n",
      "Instances per target class:\n",
      "RainTomorrow --> Count\n",
      "0: No        --> 10973\n",
      "1: Yes       --> 3246\n",
      "\n"
     ]
    }
   ],
   "source": [
    "# Call ATOM using only a percentage of the complete dataset (for explanatory purposes)\n",
    "atom = ATOM(X, target=\"RainTomorrow\", percentage=10, verbose=3)"
   ]
  },
  {
   "cell_type": "code",
   "execution_count": 3,
   "metadata": {},
   "outputs": [
    {
     "name": "stdout",
     "output_type": "stream",
     "text": [
      "Handling missing values...\n",
      " --> Imputing 56 values with mean in feature MinTemp.\n",
      " --> Imputing 17 values with mean in feature MaxTemp.\n",
      " --> Imputing 105 values with mean in feature Rainfall.\n",
      " --> Imputing 4310 values with mean in feature Evaporation.\n",
      " --> Imputing 4774 values with mean in feature Sunshine.\n",
      " --> Removing 643 rows due to missing values in feature WindGustDir.\n",
      " --> Removing 535 rows due to missing values in feature WindDir9am.\n",
      " --> Removing 57 rows due to missing values in feature WindDir3pm.\n",
      " --> Imputing 85 values with mean in feature Humidity9am.\n",
      " --> Imputing 108 values with mean in feature Humidity3pm.\n",
      " --> Imputing 635 values with mean in feature Pressure9am.\n",
      " --> Imputing 631 values with mean in feature Pressure3pm.\n",
      " --> Imputing 3307 values with mean in feature Cloud9am.\n",
      " --> Imputing 3463 values with mean in feature Cloud3pm.\n",
      " --> Imputing 30 values with mean in feature Temp9am.\n",
      " --> Imputing 49 values with mean in feature Temp3pm.\n",
      " --> Removing 68 rows due to missing values in feature RainToday.\n"
     ]
    }
   ],
   "source": [
    "# Impute missing values\n",
    "atom.impute(strat_num='mean', strat_cat='remove', max_frac=0.8)"
   ]
  },
  {
   "cell_type": "code",
   "execution_count": 4,
   "metadata": {},
   "outputs": [
    {
     "name": "stdout",
     "output_type": "stream",
     "text": [
      "Encoding categorical features...\n",
      " --> Label-encoding feature Date. Contains 3101 unique categories.\n",
      " --> Label-encoding feature Location. Contains 47 unique categories.\n",
      " --> Label-encoding feature WindGustDir. Contains 16 unique categories.\n",
      " --> Label-encoding feature WindDir9am. Contains 16 unique categories.\n",
      " --> Label-encoding feature WindDir3pm. Contains 16 unique categories.\n",
      " --> Label-encoding feature RainToday. Contains 2 unique categories.\n"
     ]
    }
   ],
   "source": [
    "# Encode the categroical features\n",
    "atom.encode(max_onehot=10)"
   ]
  },
  {
   "cell_type": "code",
   "execution_count": 5,
   "metadata": {},
   "outputs": [
    {
     "name": "stdout",
     "output_type": "stream",
     "text": [
      "Performing feature selection...\n",
      " --> Feature Pressure3pm was removed due to collinearity with another feature.\n",
      " --> Feature Temp9am was removed due to collinearity with another feature.\n",
      " --> Feature Temp3pm was removed due to collinearity with another feature.\n",
      " --> Feature Date was removed after the univariate test (score: 0.16  p-value: 0.69).\n",
      " --> Feature Location was removed after the univariate test (score: 0.04  p-value: 0.85).\n",
      " --> Feature MinTemp was removed after the univariate test (score: 67.75  p-value: 0.00).\n",
      " --> Feature MaxTemp was removed after the univariate test (score: 356.37  p-value: 0.00).\n",
      " --> Feature Evaporation was removed after the univariate test (score: 148.84  p-value: 0.00).\n",
      " --> Feature WindGustDir was removed after the univariate test (score: 43.68  p-value: 0.00).\n",
      " --> Feature WindDir9am was removed after the univariate test (score: 10.15  p-value: 0.00).\n",
      " --> Feature WindDir3pm was removed after the univariate test (score: 8.79  p-value: 0.00).\n",
      " --> Feature WindSpeed9am was removed after the univariate test (score: 78.98  p-value: 0.00).\n",
      " --> Feature WindSpeed3pm was removed after the univariate test (score: 117.96  p-value: 0.00).\n",
      " --> Feature Temp9am was removed after the univariate test (score: 15.32  p-value: 0.00).\n",
      " --> Feature Temp3pm was removed after the univariate test (score: 527.09  p-value: 0.00).\n"
     ]
    },
    {
     "data": {
      "text/html": [
       "<div>\n",
       "<style scoped>\n",
       "    .dataframe tbody tr th:only-of-type {\n",
       "        vertical-align: middle;\n",
       "    }\n",
       "\n",
       "    .dataframe tbody tr th {\n",
       "        vertical-align: top;\n",
       "    }\n",
       "\n",
       "    .dataframe thead th {\n",
       "        text-align: right;\n",
       "    }\n",
       "</style>\n",
       "<table border=\"1\" class=\"dataframe\">\n",
       "  <thead>\n",
       "    <tr style=\"text-align: right;\">\n",
       "      <th></th>\n",
       "      <th>drop_feature</th>\n",
       "      <th>corr_feature</th>\n",
       "      <th>corr_value</th>\n",
       "    </tr>\n",
       "  </thead>\n",
       "  <tbody>\n",
       "    <tr>\n",
       "      <td>0</td>\n",
       "      <td>[Pressure3pm]</td>\n",
       "      <td>[Pressure9am]</td>\n",
       "      <td>[0.9581391046825052]</td>\n",
       "    </tr>\n",
       "    <tr>\n",
       "      <td>1</td>\n",
       "      <td>[Temp9am, Temp9am]</td>\n",
       "      <td>[MinTemp, MaxTemp]</td>\n",
       "      <td>[0.8965023857540605, 0.8851121768364909]</td>\n",
       "    </tr>\n",
       "    <tr>\n",
       "      <td>2</td>\n",
       "      <td>[Temp3pm, Temp3pm]</td>\n",
       "      <td>[MaxTemp, Temp9am]</td>\n",
       "      <td>[0.975379064115311, 0.8553507603048623]</td>\n",
       "    </tr>\n",
       "  </tbody>\n",
       "</table>\n",
       "</div>"
      ],
      "text/plain": [
       "         drop_feature        corr_feature  \\\n",
       "0       [Pressure3pm]       [Pressure9am]   \n",
       "1  [Temp9am, Temp9am]  [MinTemp, MaxTemp]   \n",
       "2  [Temp3pm, Temp3pm]  [MaxTemp, Temp9am]   \n",
       "\n",
       "                                 corr_value  \n",
       "0                      [0.9581391046825052]  \n",
       "1  [0.8965023857540605, 0.8851121768364909]  \n",
       "2   [0.975379064115311, 0.8553507603048623]  "
      ]
     },
     "execution_count": 5,
     "metadata": {},
     "output_type": "execute_result"
    }
   ],
   "source": [
    "# Select only the best 10 features\n",
    "atom.feature_selection(strategy=\"univariate\", max_features=10, max_correlation=0.8)\n",
    "\n",
    "# See which features were removed due to collinearity\n",
    "atom.collinear"
   ]
  },
  {
   "cell_type": "code",
   "execution_count": 6,
   "metadata": {},
   "outputs": [
    {
     "name": "stdout",
     "output_type": "stream",
     "text": [
      "Performing undersampling...\n",
      " --> Removing 4261 rows from majority class.\n"
     ]
    }
   ],
   "source": [
    "# Perform undersampling of the majority class to balance the dataset a bit\n",
    "atom.balance(undersample=0.8)"
   ]
  },
  {
   "cell_type": "code",
   "execution_count": 7,
   "metadata": {},
   "outputs": [
    {
     "name": "stdout",
     "output_type": "stream",
     "text": [
      "Handling outliers...\n",
      " --> Dropping 34 rows due to outliers.\n"
     ]
    }
   ],
   "source": [
    "# Remove outliers from the training set\n",
    "atom.outliers(max_sigma=5)"
   ]
  },
  {
   "cell_type": "code",
   "execution_count": 8,
   "metadata": {},
   "outputs": [
    {
     "name": "stdout",
     "output_type": "stream",
     "text": [
      "\n",
      "Running pipeline =================>\n",
      "\n",
      "\n",
      "<<================ Iteration 0 ================>>\n",
      "Models in pipeline: ['Tree', 'Bag', 'ET', 'RF', 'AdaBoost', 'LGBM']\n"
     ]
    },
    {
     "name": "stderr",
     "output_type": "stream",
     "text": [
      "100%|████████████████████████████████████████████| 6/6 [00:30<00:00,  5.14s/it]\n"
     ]
    },
    {
     "name": "stdout",
     "output_type": "stream",
     "text": [
      "\n",
      "\n",
      "Final stats ================>>\n",
      "Duration: 00h:00m:30s\n",
      "Target metric: F1\n",
      "--------------------------------\n",
      "Decision Tree     --> 0.603 ± 0.036\n",
      "Bagging           --> 0.638 ± 0.019 !!\n",
      "Extra-Trees       --> 0.629 ± 0.017\n",
      "Random Forest     --> 0.611 ± 0.029\n",
      "Adaptive Boosting --> 0.617 ± 0.007\n",
      "Light GBM         --> 0.622 ± 0.018\n",
      "\n",
      "\n",
      "<<================ Iteration 1 ================>>\n",
      "Models in pipeline: ['Bag', 'ET', 'LGBM']\n"
     ]
    },
    {
     "name": "stderr",
     "output_type": "stream",
     "text": [
      "100%|████████████████████████████████████████████| 3/3 [00:23<00:00,  7.78s/it]\n"
     ]
    },
    {
     "name": "stdout",
     "output_type": "stream",
     "text": [
      "\n",
      "\n",
      "Final stats ================>>\n",
      "Duration: 00h:00m:54s\n",
      "Target metric: F1\n",
      "--------------------------------\n",
      "Bagging     --> 0.661 ± 0.014\n",
      "Extra-Trees --> 0.655 ± 0.009\n",
      "Light GBM   --> 0.677 ± 0.010 !!\n",
      "\n",
      "\n",
      "<<================ Iteration 2 ================>>\n",
      "Models in pipeline: ['LGBM']\n"
     ]
    },
    {
     "name": "stderr",
     "output_type": "stream",
     "text": [
      "100%|████████████████████████████████████████████| 1/1 [00:05<00:00,  5.17s/it]\n"
     ]
    },
    {
     "name": "stdout",
     "output_type": "stream",
     "text": [
      "\n",
      "\n",
      "Final stats ================>>\n",
      "Duration: 00h:00m:59s\n",
      "Target metric: F1\n",
      "--------------------------------\n",
      "Light GBM --> 0.684 ± 0.002\n"
     ]
    }
   ],
   "source": [
    "# Change the verbosity of ATOM to not print too much details while fitting\n",
    "atom.verbose = 1\n",
    "\n",
    "# Fit using successive halving on tree-based models\n",
    "atom.fit(['tree', 'bag', 'et', 'rf', 'adaboost', 'lgbm'],\n",
    "        successive_halving=True,\n",
    "        metric='f1',\n",
    "        max_iter=5,\n",
    "        init_points=1,\n",
    "        cv=1,\n",
    "        bagging=5)"
   ]
  },
  {
   "cell_type": "code",
   "execution_count": 9,
   "metadata": {},
   "outputs": [
    {
     "data": {
      "image/png": "[encoded data removed]",
      "text/plain": [
       "<Figure size 720x432 with 1 Axes>"
      ]
     },
     "metadata": {},
     "output_type": "display_data"
    }
   ],
   "source": [
    "atom.plot_successive_halving()"
   ]
  },
  {
   "cell_type": "code",
   "execution_count": 10,
   "metadata": {},
   "outputs": [
    {
     "data": {
      "text/html": [
       "<div>\n",
       "<style scoped>\n",
       "    .dataframe tbody tr th:only-of-type {\n",
       "        vertical-align: middle;\n",
       "    }\n",
       "\n",
       "    .dataframe tbody tr th {\n",
       "        vertical-align: top;\n",
       "    }\n",
       "\n",
       "    .dataframe thead th {\n",
       "        text-align: right;\n",
       "    }\n",
       "</style>\n",
       "<table border=\"1\" class=\"dataframe\">\n",
       "  <thead>\n",
       "    <tr style=\"text-align: right;\">\n",
       "      <th></th>\n",
       "      <th>model</th>\n",
       "      <th>score</th>\n",
       "      <th>bagging_mean</th>\n",
       "      <th>bagging_std</th>\n",
       "    </tr>\n",
       "  </thead>\n",
       "  <tbody>\n",
       "    <tr>\n",
       "      <td>0</td>\n",
       "      <td>Tree</td>\n",
       "      <td>0.647541</td>\n",
       "      <td>0.602704</td>\n",
       "      <td>0.035857</td>\n",
       "    </tr>\n",
       "    <tr>\n",
       "      <td>1</td>\n",
       "      <td>Bag</td>\n",
       "      <td>0.655319</td>\n",
       "      <td>0.638389</td>\n",
       "      <td>0.019400</td>\n",
       "    </tr>\n",
       "    <tr>\n",
       "      <td>2</td>\n",
       "      <td>ET</td>\n",
       "      <td>0.646809</td>\n",
       "      <td>0.629300</td>\n",
       "      <td>0.016547</td>\n",
       "    </tr>\n",
       "    <tr>\n",
       "      <td>3</td>\n",
       "      <td>RF</td>\n",
       "      <td>0.595918</td>\n",
       "      <td>0.611185</td>\n",
       "      <td>0.028883</td>\n",
       "    </tr>\n",
       "    <tr>\n",
       "      <td>4</td>\n",
       "      <td>AdaBoost</td>\n",
       "      <td>0.644898</td>\n",
       "      <td>0.616738</td>\n",
       "      <td>0.006960</td>\n",
       "    </tr>\n",
       "    <tr>\n",
       "      <td>5</td>\n",
       "      <td>LGBM</td>\n",
       "      <td>0.661224</td>\n",
       "      <td>0.622494</td>\n",
       "      <td>0.018362</td>\n",
       "    </tr>\n",
       "  </tbody>\n",
       "</table>\n",
       "</div>"
      ],
      "text/plain": [
       "      model     score  bagging_mean  bagging_std\n",
       "0      Tree  0.647541      0.602704     0.035857\n",
       "1       Bag  0.655319      0.638389     0.019400\n",
       "2        ET  0.646809      0.629300     0.016547\n",
       "3        RF  0.595918      0.611185     0.028883\n",
       "4  AdaBoost  0.644898      0.616738     0.006960\n",
       "5      LGBM  0.661224      0.622494     0.018362"
      ]
     },
     "execution_count": 10,
     "metadata": {},
     "output_type": "execute_result"
    }
   ],
   "source": [
    "# Check scores of the first iteration\n",
    "atom.results[0]"
   ]
  },
  {
   "cell_type": "markdown",
   "metadata": {},
   "source": [
    "### Light GBM proved to be the best. Let's have a look at the model!"
   ]
  },
  {
   "cell_type": "code",
   "execution_count": 13,
   "metadata": {},
   "outputs": [
    {
     "name": "stdout",
     "output_type": "stream",
     "text": [
      "Best score:  0.6936936936936938\n"
     ]
    },
    {
     "data": {
      "text/plain": [
       "LGBMClassifier(boosting_type='gbdt', class_weight=None, colsample_bytree=1.0,\n",
       "               learning_rate=0.01, max_depth=10, min_child_samples=10,\n",
       "               min_child_weight=0.001, min_split_gain=0.0, n_estimators=500,\n",
       "               n_jobs=-1, num_leaves=20, objective=None, random_state=None,\n",
       "               reg_alpha=0.0, reg_lambda=0.0, silent=True, subsample=1.0,\n",
       "               subsample_for_bin=200000, subsample_freq=1)"
      ]
     },
     "execution_count": 13,
     "metadata": {},
     "output_type": "execute_result"
    }
   ],
   "source": [
    "# Check the winner out\n",
    "print('Best score: ', atom.lgbm.score)\n",
    "atom.lgbm.best_model"
   ]
  },
  {
   "cell_type": "code",
   "execution_count": 14,
   "metadata": {},
   "outputs": [
    {
     "data": {
      "image/png": "[encoded data removed]",
      "text/plain": [
       "<Figure size 720x504 with 1 Axes>"
      ]
     },
     "metadata": {},
     "output_type": "display_data"
    }
   ],
   "source": [
    "# See feature importance\n",
    "atom.lgbm.plot_feature_importance(show=7, figsize=(10,7))"
   ]
  }
 ],
 "metadata": {
  "kernelspec": {
   "display_name": "Python 3",
   "language": "python",
   "name": "python3"
  },
  "language_info": {
   "codemirror_mode": {
    "name": "ipython",
    "version": 3
   },
   "file_extension": ".py",
   "mimetype": "text/x-python",
   "name": "python",
   "nbconvert_exporter": "python",
   "pygments_lexer": "ipython3",
   "version": "3.6.5"
  }
 },
 "nbformat": 4,
 "nbformat_minor": 2
}
