{
 "cells": [
  {
   "cell_type": "markdown",
   "metadata": {},
   "source": [
    "# Deep learning\n",
    "---------------------------\n",
    "\n",
    "This example shows how to use ATOM to train and validate a Convolutional Neural Network implemented with [Keras](https://keras.io/) in two different ways: using [scikeras](https://www.adriangb.com/scikeras/refs/heads/master/index.html) (recommended) and using [keras.wrappers.scikit_learn](https://faroit.com/keras-docs/1.0.6/scikit-learn-api/) (old way, will be deprecated in a future release).\n",
    "\n",
    "Import the MNIST dataset from [keras.datasets](https://keras.io/api/datasets/mnist/). This is a well known image dataset whose goal is to classify handwritten digits."
   ]
  },
  {
   "cell_type": "markdown",
   "source": [
    "## Using scikeras"
   ],
   "metadata": {
    "collapsed": false,
    "pycharm": {
     "name": "#%% md\n"
    }
   }
  },
  {
   "cell_type": "code",
   "execution_count": 2,
   "outputs": [],
   "source": [
    "# Disable annoying tf warnings\n",
    "import logging\n",
    "import tensorflow as tf\n",
    "tf.get_logger().setLevel(logging.ERROR)\n",
    "\n",
    "from atom import ATOMClassifier, ATOMModel\n",
    "from sklearn.preprocessing import FunctionTransformer\n",
    "from skopt.space.space import Categorical\n",
    "\n",
    "from scikeras.wrappers import KerasClassifier\n",
    "from keras.datasets import mnist\n",
    "from keras.models import Sequential\n",
    "from keras.layers import Dense, Flatten, Conv2D, Dropout"
   ],
   "metadata": {
    "collapsed": false,
    "pycharm": {
     "name": "#%%\n"
    }
   }
  },
  {
   "cell_type": "code",
   "execution_count": 3,
   "outputs": [],
   "source": [
    "# Create the convolutional neural network\n",
    "class ConvNN(KerasClassifier):\n",
    "    \"\"\"Convolutional neural network model.\"\"\"\n",
    "\n",
    "    @property\n",
    "    def feature_encoder(self):\n",
    "        \"\"\"Convert the 2d input to the image's format (len(X), 28, 28, 1).\"\"\"\n",
    "        return FunctionTransformer(\n",
    "            func=lambda X: X.reshape(X.shape[0], 28, 28, 1),\n",
    "        )\n",
    "\n",
    "    @staticmethod\n",
    "    def _keras_build_fn():\n",
    "        \"\"\"Create the model's architecture.\"\"\"\n",
    "        model = Sequential()\n",
    "        model.add(\n",
    "            Conv2D(\n",
    "                filters=64,\n",
    "                kernel_size=3,\n",
    "                activation=\"relu\",\n",
    "                input_shape=(28, 28, 1),\n",
    "            )\n",
    "        )\n",
    "        model.add(Conv2D(filters=64, kernel_size=3, activation=\"relu\"))\n",
    "        model.add(Flatten())\n",
    "        model.add(Dense(units=10, activation=\"softmax\"))\n",
    "        model.compile(\n",
    "            optimizer=\"adam\",\n",
    "            loss=\"sparse_categorical_crossentropy\",\n",
    "            metrics=[\"accuracy\"],\n",
    "        )\n",
    "\n",
    "        return model"
   ],
   "metadata": {
    "collapsed": false,
    "pycharm": {
     "name": "#%%\n"
    }
   }
  },
  {
   "cell_type": "code",
   "execution_count": 4,
   "outputs": [],
   "source": [
    "# Convert the model to an ATOM model\n",
    "model = ATOMModel(\n",
    "    estimator=ConvNN(epochs=5, verbose=0),\n",
    "    acronym=\"NN\",\n",
    "    fullname=\"Neural network\",\n",
    ")"
   ],
   "metadata": {
    "collapsed": false,
    "pycharm": {
     "name": "#%%\n"
    }
   }
  },
  {
   "cell_type": "code",
   "execution_count": 5,
   "outputs": [],
   "source": [
    "# Download the MNIST dataset\n",
    "(X_train, y_train), (X_test, y_test) = mnist.load_data()\n",
    "\n",
    "# Flatten data to follow sklearn's API (2d input)\n",
    "X_train = X_train.reshape(len(X_train), -1)\n",
    "X_test = X_test.reshape(len(X_test), -1)\n",
    "\n",
    "data = (X_train, y_train), (X_test, y_test)"
   ],
   "metadata": {
    "collapsed": false,
    "pycharm": {
     "name": "#%%\n"
    }
   }
  },
  {
   "cell_type": "code",
   "execution_count": 6,
   "outputs": [
    {
     "name": "stdout",
     "output_type": "stream",
     "text": [
      "<< ================== ATOM ================== >>\n",
      "Algorithm task: multiclass classification.\n",
      "Parallel processing with 6 cores.\n",
      "\n",
      "Dataset stats ==================== >>\n",
      "Shape: (7000, 785)\n",
      "Memory: 5.50 MB\n",
      "Scaled: False\n",
      "Outlier values: 41997 (0.9%)\n",
      "-------------------------------------\n",
      "Train set size: 6000\n",
      "Test set size: 1000\n",
      "-------------------------------------\n",
      "|   |     dataset |       train |        test |\n",
      "| - | ----------- | ----------- | ----------- |\n",
      "| 0 |   668 (1.0) |   564 (1.0) |   104 (1.1) |\n",
      "| 1 |   795 (1.2) |   689 (1.2) |   106 (1.2) |\n",
      "| 2 |   671 (1.0) |   562 (1.0) |   109 (1.2) |\n",
      "| 3 |   681 (1.0) |   587 (1.0) |    94 (1.0) |\n",
      "| 4 |   684 (1.0) |   590 (1.0) |    94 (1.0) |\n",
      "| 5 |   690 (1.0) |   577 (1.0) |   113 (1.2) |\n",
      "| 6 |   735 (1.1) |   639 (1.1) |    96 (1.1) |\n",
      "| 7 |   737 (1.1) |   635 (1.1) |   102 (1.1) |\n",
      "| 8 |   661 (1.0) |   570 (1.0) |    91 (1.0) |\n",
      "| 9 |   678 (1.0) |   587 (1.0) |    91 (1.0) |\n",
      "\n"
     ]
    }
   ],
   "source": [
    "atom = ATOMClassifier(*data, n_rows=0.1, n_jobs=6, warnings=False, verbose=2)"
   ],
   "metadata": {
    "collapsed": false,
    "pycharm": {
     "name": "#%%\n"
    }
   }
  },
  {
   "cell_type": "code",
   "execution_count": 7,
   "outputs": [
    {
     "name": "stdout",
     "output_type": "stream",
     "text": [
      "\n",
      "Training ========================= >>\n",
      "Models: NN\n",
      "Metric: f1_weighted\n",
      "\n",
      "\n",
      "Running BO for Neural network...\n",
      "| call             | batch_size | f1_weighted | best_f1_weighted |    time | total_time |\n",
      "| ---------------- | ---------- | ----------- | ---------------- | ------- | ---------- |\n",
      "| Initial point 1  |         64 |       0.957 |            0.957 | 27.868s |    27.871s |\n",
      "| Initial point 2  |         32 |      0.9441 |            0.957 | 31.598s |    59.710s |\n",
      "| Initial point 3  |         32 |      0.9441 |            0.957 |  0.001s |    59.789s |\n",
      "| Initial point 4  |        128 |      0.9721 |           0.9721 | 24.759s |     1m:25s |\n",
      "| Initial point 5  |        128 |      0.9721 |           0.9721 |  0.000s |     1m:25s |\n",
      "Bayesian Optimization ---------------------------\n",
      "Best call --> Initial point 4\n",
      "Best parameters --> {'batch_size': 128}\n",
      "Best evaluation --> f1_weighted: 0.9721\n",
      "Time elapsed: 1m:25s\n",
      "Fit ---------------------------------------------\n",
      "Train evaluation --> f1_weighted: 1.0\n",
      "Test evaluation --> f1_weighted: 0.976\n",
      "Time elapsed: 29.989s\n",
      "-------------------------------------------------\n",
      "Total time: 1m:55s\n",
      "\n",
      "\n",
      "Final results ==================== >>\n",
      "Duration: 1m:55s\n",
      "-------------------------------------\n",
      "Neural network --> f1_weighted: 0.976\n"
     ]
    }
   ],
   "source": [
    "# Like any other model, we can define custom dimensions for the bayesian optimization\n",
    "atom.run(\n",
    "    models=model,\n",
    "    metric=\"f1_weighted\",\n",
    "    n_calls=5,\n",
    "    bo_params={\n",
    "        \"dimensions\": [Categorical([32, 64, 128, 256], name=\"batch_size\")],\n",
    "        \"max_time\": 120,\n",
    "    }\n",
    ")"
   ],
   "metadata": {
    "collapsed": false,
    "pycharm": {
     "name": "#%%\n"
    }
   }
  },
  {
   "cell_type": "markdown",
   "metadata": {},
   "source": [
    "## Using keras.wrappers.scikit_learn"
   ]
  },
  {
   "cell_type": "code",
   "execution_count": 8,
   "metadata": {},
   "outputs": [],
   "source": [
    "# Disable annoying tf warnings\n",
    "import logging\n",
    "import tensorflow as tf\n",
    "tf.get_logger().setLevel(logging.ERROR)\n",
    "\n",
    "# Import standard packages\n",
    "from atom import ATOMClassifier, ATOMModel\n",
    "from skopt.space.space import Categorical\n",
    "\n",
    "# Keras\n",
    "from keras.datasets import mnist\n",
    "from keras.models import Sequential\n",
    "from keras.layers import Dense, Flatten, Conv2D\n",
    "from keras.wrappers.scikit_learn import KerasClassifier"
   ]
  },
  {
   "cell_type": "code",
   "execution_count": 9,
   "outputs": [],
   "source": [
    "# Create the convolutional neural network\n",
    "def neural_network():\n",
    "    \"\"\"Create the model's architecture.\"\"\"\n",
    "    model = Sequential()\n",
    "    model.add(\n",
    "        Conv2D(\n",
    "            filters=64,\n",
    "            kernel_size=3,\n",
    "            activation=\"relu\",\n",
    "            input_shape=(28, 28, 1),\n",
    "        )\n",
    "    )\n",
    "    model.add(Conv2D(filters=64, kernel_size=3, activation=\"relu\"))\n",
    "    model.add(Flatten())\n",
    "    model.add(Dense(units=10, activation=\"softmax\"))\n",
    "    model.compile(\n",
    "        optimizer=\"adam\",\n",
    "        loss=\"sparse_categorical_crossentropy\",\n",
    "        metrics=[\"accuracy\"],\n",
    "    )\n",
    "\n",
    "    return model"
   ],
   "metadata": {
    "collapsed": false,
    "pycharm": {
     "name": "#%%\n"
    }
   }
  },
  {
   "cell_type": "code",
   "execution_count": 10,
   "outputs": [],
   "source": [
    "# Since ATOM uses sklearn's API, use Keras' wrapper\n",
    "model = KerasClassifier(neural_network, epochs=5, verbose=0)\n",
    "\n",
    "# Convert the model to an ATOM model\n",
    "model = ATOMModel(model, acronym=\"NN\", fullname=\"Neural network\")"
   ],
   "metadata": {
    "collapsed": false,
    "pycharm": {
     "name": "#%%\n"
    }
   }
  },
  {
   "cell_type": "code",
   "execution_count": 11,
   "metadata": {},
   "outputs": [],
   "source": [
    "# Download the MNIST dataset\n",
    "(X_train, y_train), (X_test, y_test) = mnist.load_data()\n",
    "\n",
    "# Reshape data to fit model\n",
    "X_train = X_train.reshape(len(X_train), 28, 28, 1)\n",
    "X_test = X_test.reshape(len(X_test), 28, 28, 1)\n",
    "\n",
    "data = (X_train, y_train), (X_test, y_test)"
   ]
  },
  {
   "cell_type": "code",
   "execution_count": 12,
   "metadata": {
    "run_control": {
     "marked": false
    }
   },
   "outputs": [
    {
     "name": "stdout",
     "output_type": "stream",
     "text": [
      "<< ================== ATOM ================== >>\n",
      "Algorithm task: multiclass classification.\n",
      "Parallel processing with 6 cores.\n",
      "\n",
      "Dataset stats ==================== >>\n",
      "Shape: (7000, (28, 28, 1), 2)\n",
      "Memory: 1.02 MB\n",
      "-------------------------------------\n",
      "Train set size: 6000\n",
      "Test set size: 1000\n",
      "-------------------------------------\n",
      "|   |     dataset |       train |        test |\n",
      "| - | ----------- | ----------- | ----------- |\n",
      "| 0 |   689 (1.2) |   586 (1.1) |   103 (1.3) |\n",
      "| 1 |   773 (1.3) |   665 (1.3) |   108 (1.4) |\n",
      "| 2 |   713 (1.2) |   613 (1.2) |   100 (1.2) |\n",
      "| 3 |   724 (1.2) |   618 (1.2) |   106 (1.3) |\n",
      "| 4 |   680 (1.2) |   569 (1.1) |   111 (1.4) |\n",
      "| 5 |   591 (1.0) |   511 (1.0) |    80 (1.0) |\n",
      "| 6 |   708 (1.2) |   610 (1.2) |    98 (1.2) |\n",
      "| 7 |   738 (1.2) |   635 (1.2) |   103 (1.3) |\n",
      "| 8 |   696 (1.2) |   602 (1.2) |    94 (1.2) |\n",
      "| 9 |   688 (1.2) |   591 (1.2) |    97 (1.2) |\n",
      "\n"
     ]
    }
   ],
   "source": [
    "atom = ATOMClassifier(*data, n_rows=0.1, n_jobs=6, warnings=False, verbose=2)"
   ]
  },
  {
   "cell_type": "code",
   "execution_count": 13,
   "metadata": {},
   "outputs": [
    {
     "data": {
      "text/plain": "                                    multidim feature  target\n0  [[[0], [0], [0], [0], [0], [0], [0], [0], [0],...       5\n1  [[[0], [0], [0], [0], [0], [0], [0], [0], [0],...       9\n2  [[[0], [0], [0], [0], [0], [0], [0], [0], [0],...       0\n3  [[[0], [0], [0], [0], [0], [0], [0], [0], [0],...       4\n4  [[[0], [0], [0], [0], [0], [0], [0], [0], [0],...       1",
      "text/html": "<div>\n<style scoped>\n    .dataframe tbody tr th:only-of-type {\n        vertical-align: middle;\n    }\n\n    .dataframe tbody tr th {\n        vertical-align: top;\n    }\n\n    .dataframe thead th {\n        text-align: right;\n    }\n</style>\n<table border=\"1\" class=\"dataframe\">\n  <thead>\n    <tr style=\"text-align: right;\">\n      <th></th>\n      <th>multidim feature</th>\n      <th>target</th>\n    </tr>\n  </thead>\n  <tbody>\n    <tr>\n      <th>0</th>\n      <td>[[[0], [0], [0], [0], [0], [0], [0], [0], [0],...</td>\n      <td>5</td>\n    </tr>\n    <tr>\n      <th>1</th>\n      <td>[[[0], [0], [0], [0], [0], [0], [0], [0], [0],...</td>\n      <td>9</td>\n    </tr>\n    <tr>\n      <th>2</th>\n      <td>[[[0], [0], [0], [0], [0], [0], [0], [0], [0],...</td>\n      <td>0</td>\n    </tr>\n    <tr>\n      <th>3</th>\n      <td>[[[0], [0], [0], [0], [0], [0], [0], [0], [0],...</td>\n      <td>4</td>\n    </tr>\n    <tr>\n      <th>4</th>\n      <td>[[[0], [0], [0], [0], [0], [0], [0], [0], [0],...</td>\n      <td>1</td>\n    </tr>\n  </tbody>\n</table>\n</div>"
     },
     "execution_count": 13,
     "metadata": {},
     "output_type": "execute_result"
    }
   ],
   "source": [
    "# When the input data has more than 2 dimensions, ATOM creates a \n",
    "# dataset with just one column of shape (n_samples, shape_sample)\n",
    "atom.head()"
   ]
  },
  {
   "cell_type": "code",
   "execution_count": 14,
   "metadata": {},
   "outputs": [
    {
     "name": "stdout",
     "output_type": "stream",
     "text": [
      "Shape of one image: (28, 28, 1)\n",
      "atom's shape (n_rows, (shape_image), n_cols): (7000, (28, 28, 1), 2)\n"
     ]
    }
   ],
   "source": [
    "# Every row in the column contains the data of one image\n",
    "print(f\"Shape of one image: {atom.iloc[0, 0].shape}\")\n",
    "print(f\"atom's shape (n_rows, (shape_image), n_cols): {atom.shape}\")"
   ]
  },
  {
   "cell_type": "code",
   "execution_count": 15,
   "metadata": {},
   "outputs": [
    {
     "name": "stdout",
     "output_type": "stream",
     "text": [
      "\n",
      "Training ========================= >>\n",
      "Models: NN\n",
      "Metric: f1_weighted\n",
      "\n",
      "\n",
      "Running BO for Neural network...\n",
      "| call             | batch_size | f1_weighted | best_f1_weighted |    time | total_time |\n",
      "| ---------------- | ---------- | ----------- | ---------------- | ------- | ---------- |\n",
      "| Initial point 1  |        128 |      0.9568 |           0.9568 | 24.755s |    24.758s |\n",
      "| Initial point 2  |         64 |        0.95 |           0.9568 | 26.815s |    51.651s |\n",
      "| Initial point 3  |         64 |        0.95 |           0.9568 |  0.001s |    51.730s |\n",
      "| Initial point 4  |        128 |      0.9568 |           0.9568 |  0.000s |    51.808s |\n",
      "| Initial point 5  |         32 |      0.9418 |           0.9568 | 30.575s |     1m:22s |\n",
      "Bayesian Optimization ---------------------------\n",
      "Best call --> Initial point 1\n",
      "Best parameters --> {'batch_size': 128}\n",
      "Best evaluation --> f1_weighted: 0.9568\n",
      "Time elapsed: 1m:23s\n",
      "Fit ---------------------------------------------\n",
      "Train evaluation --> f1_weighted: 0.9997\n",
      "Test evaluation --> f1_weighted: 0.9669\n",
      "Time elapsed: 30.012s\n",
      "-------------------------------------------------\n",
      "Total time: 1m:53s\n",
      "\n",
      "\n",
      "Final results ==================== >>\n",
      "Duration: 1m:53s\n",
      "-------------------------------------\n",
      "Neural network --> f1_weighted: 0.9669\n"
     ]
    }
   ],
   "source": [
    "# Like any other model, we can define custom dimensions for the bayesian optimization\n",
    "atom.run(\n",
    "    models=model,\n",
    "    metric=\"f1_weighted\",\n",
    "    n_calls=5,\n",
    "    bo_params={\n",
    "        \"dimensions\": [Categorical([32, 64, 128, 256], name=\"batch_size\")],\n",
    "        \"max_time\": 120,\n",
    "    }\n",
    ")"
   ]
  },
  {
   "cell_type": "markdown",
   "metadata": {},
   "source": [
    "## Analyze the results"
   ]
  },
  {
   "cell_type": "code",
   "execution_count": 16,
   "metadata": {},
   "outputs": [
    {
     "data": {
      "text/plain": "array([[1.8743194e-11, 7.8375290e-10, 6.7310202e-10, ..., 1.4560941e-09,\n        4.7066140e-07, 8.2573797e-09],\n       [1.0000000e+00, 1.5368584e-16, 1.6089073e-08, ..., 1.0437362e-11,\n        1.4197005e-09, 3.4394224e-12],\n       [1.1678473e-16, 1.9016820e-14, 9.1558583e-14, ..., 1.0481510e-07,\n        1.9107660e-12, 8.1493381e-11],\n       ...,\n       [6.6198874e-17, 1.2551813e-14, 5.3194062e-19, ..., 1.7721650e-20,\n        2.1886038e-08, 4.2706923e-12],\n       [3.2227219e-09, 2.3095392e-14, 1.1440898e-11, ..., 3.4432707e-11,\n        9.8710077e-12, 5.6833681e-17],\n       [4.1992512e-09, 3.9587842e-16, 1.1918524e-09, ..., 9.5512064e-07,\n        9.9999905e-01, 2.6884756e-08]], dtype=float32)"
     },
     "execution_count": 16,
     "metadata": {},
     "output_type": "execute_result"
    }
   ],
   "source": [
    "# Use the prediction methods like any other model\n",
    "atom.nn.predict_proba(X_train)"
   ]
  },
  {
   "cell_type": "code",
   "execution_count": 17,
   "metadata": {
    "pycharm": {
     "name": "#%%\n"
    }
   },
   "outputs": [
    {
     "data": {
      "text/plain": "<Figure size 576x432 with 2 Axes>",
      "image/png": "[encoded data removed]"
     },
     "metadata": {},
     "output_type": "display_data"
    }
   ],
   "source": [
    "# Or make plots...\n",
    "atom.nn.plot_confusion_matrix()"
   ]
  }
 ],
 "metadata": {
  "kernelspec": {
   "display_name": "Python 3 (ipykernel)",
   "language": "python",
   "name": "python3"
  },
  "language_info": {
   "codemirror_mode": {
    "name": "ipython",
    "version": 3
   },
   "file_extension": ".py",
   "mimetype": "text/x-python",
   "name": "python",
   "nbconvert_exporter": "python",
   "pygments_lexer": "ipython3",
   "version": "3.8.3"
  },
  "toc": {
   "base_numbering": 1,
   "nav_menu": {},
   "number_sections": true,
   "sideBar": true,
   "skip_h1_title": false,
   "title_cell": "Table of Contents",
   "title_sidebar": "Contents",
   "toc_cell": false,
   "toc_position": {},
   "toc_section_display": true,
   "toc_window_display": false
  }
 },
 "nbformat": 4,
 "nbformat_minor": 4
}