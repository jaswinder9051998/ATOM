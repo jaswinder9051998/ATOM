{
 "cells": [
  {
   "cell_type": "markdown",
   "metadata": {},
   "source": [
    "# Deep learning\n",
    "---------------------------\n",
    "\n",
    "This example shows how to use ATOM to train and validate a Convolutional Neural Network implemented with [Keras](https://keras.io/).\n",
    "\n",
    "Import the MNIST dataset from [keras.datasets](https://keras.io/api/datasets/mnist/). This is a well known image dataset with handwritten digits."
   ]
  },
  {
   "cell_type": "markdown",
   "metadata": {},
   "source": [
    "## Load the data"
   ]
  },
  {
   "cell_type": "code",
   "execution_count": 1,
   "metadata": {},
   "outputs": [],
   "source": [
    "# Disable annoying tf warnings\n",
    "import logging\n",
    "import tensorflow as tf\n",
    "tf.get_logger().setLevel(logging.ERROR)\n",
    "\n",
    "# Import standard packages\n",
    "from atom import ATOMClassifier, ATOMModel\n",
    "from skopt.space.space import Integer, Categorical\n",
    "\n",
    "# Keras\n",
    "from keras.datasets import mnist\n",
    "from keras.models import Sequential\n",
    "from keras.layers import Dense, Flatten, Conv2D\n",
    "from keras.wrappers.scikit_learn import KerasClassifier"
   ]
  },
  {
   "cell_type": "code",
   "execution_count": 2,
   "metadata": {},
   "outputs": [],
   "source": [
    "# Create the convolutional neural network\n",
    "def neural_network():\n",
    "    model = Sequential()\n",
    "    model.add(Conv2D(64, kernel_size=3, activation=\"relu\", input_shape=(28, 28, 1)))\n",
    "    model.add(Conv2D(64, kernel_size=3, activation=\"relu\"))\n",
    "    model.add(Flatten())\n",
    "    model.add(Dense(10, activation=\"softmax\"))\n",
    "    model.compile(optimizer=\"adam\", loss=\"categorical_crossentropy\", metrics=[\"accuracy\"])\n",
    "\n",
    "    return model\n",
    "\n",
    "\n",
    "# Since ATOM uses sklearn's API, use Keras' wrapper\n",
    "model = KerasClassifier(neural_network, epochs=1, batch_size=512, verbose=0)\n",
    "\n",
    "# Convert the model to an ATOM model\n",
    "model = ATOMModel(model, acronym=\"NN\", fullname=\"Neural network\")"
   ]
  },
  {
   "cell_type": "code",
   "execution_count": 3,
   "metadata": {},
   "outputs": [],
   "source": [
    "# Download the MNIST dataset\n",
    "(X_train, y_train), (X_test, y_test) = mnist.load_data()"
   ]
  },
  {
   "cell_type": "code",
   "execution_count": 4,
   "metadata": {},
   "outputs": [],
   "source": [
    "# Reshape data to fit model\n",
    "X_train = X_train.reshape(60000,28,28,1)\n",
    "X_test = X_test.reshape(10000,28,28,1)"
   ]
  },
  {
   "cell_type": "markdown",
   "metadata": {},
   "source": [
    "## Run the pipeline"
   ]
  },
  {
   "cell_type": "code",
   "execution_count": 5,
   "metadata": {
    "scrolled": false
   },
   "outputs": [
    {
     "name": "stdout",
     "output_type": "stream",
     "text": [
      "<< ================== ATOM ================== >>\n",
      "Algorithm task: multiclass classification.\n",
      "Parallel processing with 4 cores.\n",
      "\n",
      "Dataset stats ==================== >>\n",
      "Shape: (7000, (28, 28, 1), 2)\n",
      "-------------------------------------\n",
      "Train set size: 6000\n",
      "Test set size: 1000\n",
      "-------------------------------------\n",
      "Train set balance: 0:1:2:3:4:5:6:7:8:9 <==> 1.1:1.3:1.2:1.1:1.1:1.0:1.0:1.2:1.1:1.1\n",
      "Test set balance: 0:1:2:3:4:5:6:7:8:9 <==> 1.2:1.5:1.0:1.5:1.3:1.1:1.1:1.3:1.1:1.3\n",
      "-------------------------------------\n",
      "|    |   dataset |   train |   test |\n",
      "|---:|----------:|--------:|-------:|\n",
      "|  0 |       706 |     610 |     96 |\n",
      "|  1 |       796 |     676 |    120 |\n",
      "|  2 |       746 |     665 |     81 |\n",
      "|  3 |       703 |     585 |    118 |\n",
      "|  4 |       692 |     586 |    106 |\n",
      "|  5 |       622 |     536 |     86 |\n",
      "|  6 |       644 |     557 |     87 |\n",
      "|  7 |       735 |     627 |    108 |\n",
      "|  8 |       666 |     577 |     89 |\n",
      "|  9 |       690 |     581 |    109 |\n",
      "\n"
     ]
    }
   ],
   "source": [
    "atom = ATOMClassifier((X_train, y_train), (X_test, y_test), n_rows=0.1, n_jobs=4, warnings=False, verbose=2)"
   ]
  },
  {
   "cell_type": "code",
   "execution_count": 6,
   "metadata": {},
   "outputs": [
    {
     "name": "stdout",
     "output_type": "stream",
     "text": [
      "                                            Features  target\n",
      "0  [[[0], [0], [0], [0], [0], [0], [0], [0], [0],...       7\n",
      "1  [[[0], [0], [0], [0], [0], [0], [0], [0], [0],...       0\n",
      "2  [[[0], [0], [0], [0], [0], [0], [0], [0], [0],...       4\n",
      "3  [[[0], [0], [0], [0], [0], [0], [0], [0], [0],...       2\n",
      "4  [[[0], [0], [0], [0], [0], [0], [0], [0], [0],...       3\n",
      "\n",
      "Every row in the column contains the data of one image, with shape: (28, 28, 1)\n",
      "This can be seen in atom's shape (n_rows, (shape_image), n_cols): (7000, (28, 28, 1), 2)\n"
     ]
    }
   ],
   "source": [
    "# When the input data has more than 2 dimensions, ATOM creates a \n",
    "# dataset with just one column of shape (n_samples, shape_sample)\n",
    "print(atom.dataset.head())\n",
    "print(f\"\\nEvery row in the column contains the data of one image, with shape: {atom.dataset.iloc[0, 0].shape}\")\n",
    "print(f\"This can be seen in atom's shape (n_rows, (shape_image), n_cols): {atom.shape}\")"
   ]
  },
  {
   "cell_type": "code",
   "execution_count": 7,
   "metadata": {
    "scrolled": false
   },
   "outputs": [
    {
     "name": "stdout",
     "output_type": "stream",
     "text": [
      "\n",
      "Training ===================================== >>\n",
      "Models: NN\n",
      "Metric: f1_weighted\n",
      "\n",
      "\n",
      "Running BO for Neural network...\n",
      "Initial point 1 ---------------------------------\n",
      "Parameters --> {'epochs': 3, 'batch_size': 256}\n",
      "Evaluation --> f1_weighted: 0.9500  Best f1_weighted: 0.9500\n",
      "Time iteration: 13.096s   Total time: 13.100s\n",
      "Initial point 2 ---------------------------------\n",
      "Parameters --> {'epochs': 2, 'batch_size': 128}\n",
      "Evaluation --> f1_weighted: 0.9444  Best f1_weighted: 0.9500\n",
      "Time iteration: 8.520s   Total time: 21.623s\n",
      "Initial point 3 ---------------------------------\n",
      "Parameters --> {'epochs': 2, 'batch_size': 128}\n",
      "Evaluation --> f1_weighted: 0.9434  Best f1_weighted: 0.9500\n",
      "Time iteration: 8.589s   Total time: 30.216s\n",
      "Initial point 4 ---------------------------------\n",
      "Parameters --> {'epochs': 2, 'batch_size': 128}\n",
      "Evaluation --> f1_weighted: 0.9476  Best f1_weighted: 0.9500\n",
      "Time iteration: 8.733s   Total time: 39.143s\n",
      "Initial point 5 ---------------------------------\n",
      "Parameters --> {'epochs': 2, 'batch_size': 64}\n",
      "Evaluation --> f1_weighted: 0.9575  Best f1_weighted: 0.9575\n",
      "Time iteration: 10.321s   Total time: 49.468s\n",
      "\n",
      "Results for Neural network:         \n",
      "Bayesian Optimization ---------------------------\n",
      "Best parameters --> {'epochs': 2, 'batch_size': 64}\n",
      "Best evaluation --> f1_weighted: 0.9575\n",
      "Time elapsed: 50.922s\n",
      "Fit ---------------------------------------------\n",
      "Train evaluation --> f1_weighted: 0.99\n",
      "Test evaluation --> f1_weighted: 0.9499\n",
      "Time elapsed: 12.416s\n",
      "-------------------------------------------------\n",
      "Total time: 1m:03s\n",
      "\n",
      "\n",
      "Final results ========================= >>\n",
      "Duration: 1m:03s\n",
      "------------------------------------------\n",
      "Neural network --> f1_weighted: 0.9499\n"
     ]
    }
   ],
   "source": [
    "# Like any other model, we can define custom dimensions for the bayesian optimization\n",
    "dim = [Integer(1, 3, name=\"epochs\"), Categorical([32, 64, 128, 256], name=\"batch_size\")]\n",
    "\n",
    "atom.run(model, metric=\"f1_weighted\", n_calls=5, bo_params={\"dimensions\": dim, \"cv\": 1, \"max_time\": 120})"
   ]
  },
  {
   "cell_type": "markdown",
   "metadata": {},
   "source": [
    "## Analyze the results"
   ]
  },
  {
   "cell_type": "code",
   "execution_count": 8,
   "metadata": {
    "scrolled": false
   },
   "outputs": [
    {
     "data": {
      "text/plain": [
       "array([[8.1364737e-09, 1.2038348e-07, 8.1679536e-07, ..., 1.8898286e-06,\n",
       "        1.2574749e-05, 1.9167864e-08],\n",
       "       [9.9999237e-01, 8.8796721e-09, 5.5650673e-07, ..., 3.1534778e-08,\n",
       "        3.5454404e-09, 2.1204627e-08],\n",
       "       [5.2014917e-09, 3.4863130e-09, 1.4086155e-05, ..., 1.2405106e-04,\n",
       "        2.8541785e-05, 9.6071737e-05],\n",
       "       ...,\n",
       "       [6.3510655e-11, 2.9130268e-10, 1.5597187e-10, ..., 1.1295973e-12,\n",
       "        3.9354007e-05, 5.7942435e-07],\n",
       "       [1.3509514e-08, 5.1740532e-09, 1.9764679e-09, ..., 1.7607146e-10,\n",
       "        5.0104972e-12, 2.9206788e-13],\n",
       "       [2.0834084e-05, 1.0599989e-05, 8.6403816e-05, ..., 9.1196409e-05,\n",
       "        9.9849904e-01, 1.2492186e-03]], dtype=float32)"
      ]
     },
     "execution_count": 8,
     "metadata": {},
     "output_type": "execute_result"
    }
   ],
   "source": [
    "# Use the prediction methods like any other model\n",
    "atom.nn.predict_proba(X_train)"
   ]
  },
  {
   "cell_type": "code",
   "execution_count": 9,
   "metadata": {
    "pycharm": {
     "name": "#%%\n"
    }
   },
   "outputs": [
    {
     "data": {
      "image/png": "[encoded data removed]",
      "text/plain": [
       "<Figure size 576x432 with 2 Axes>"
      ]
     },
     "metadata": {},
     "output_type": "display_data"
    }
   ],
   "source": [
    "# Or make plots...\n",
    "atom.nn.plot_confusion_matrix()"
   ]
  }
 ],
 "metadata": {
  "kernelspec": {
   "display_name": "Python 3",
   "language": "python",
   "name": "python3"
  },
  "language_info": {
   "codemirror_mode": {
    "name": "ipython",
    "version": 3
   },
   "file_extension": ".py",
   "mimetype": "text/x-python",
   "name": "python",
   "nbconvert_exporter": "python",
   "pygments_lexer": "ipython3",
   "version": "3.8.3"
  }
 },
 "nbformat": 4,
 "nbformat_minor": 2
}
