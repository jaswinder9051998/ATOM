{
 "cells": [
  {
   "cell_type": "markdown",
   "metadata": {},
   "source": [
    "# Deep learning\n",
    "---------------------------\n",
    "\n",
    "This example shows how to use ATOM to train and validate a Convolutional Neural Network implemented with [Keras](https://keras.io/).\n",
    "\n",
    "Import the MNIST dataset from [keras.datasets](https://keras.io/api/datasets/mnist/). This is a well known image dataset whose goal is to classify handwritten digits."
   ]
  },
  {
   "cell_type": "markdown",
   "metadata": {},
   "source": [
    "## Load the data"
   ]
  },
  {
   "cell_type": "code",
   "execution_count": 1,
   "metadata": {},
   "outputs": [],
   "source": [
    "# Disable annoying tf warnings\n",
    "import logging\n",
    "import tensorflow as tf\n",
    "tf.get_logger().setLevel(logging.ERROR)\n",
    "\n",
    "# Import standard packages\n",
    "from atom import ATOMClassifier, ATOMModel\n",
    "from skopt.space.space import Integer, Categorical\n",
    "\n",
    "# Keras\n",
    "from keras.datasets import mnist\n",
    "from keras.models import Sequential\n",
    "from keras.layers import Dense, Flatten, Conv2D\n",
    "from keras.wrappers.scikit_learn import KerasClassifier"
   ]
  },
  {
   "cell_type": "code",
   "execution_count": 2,
   "metadata": {},
   "outputs": [],
   "source": [
    "# Create the convolutional neural network\n",
    "def neural_network():\n",
    "    model = Sequential()\n",
    "    model.add(Conv2D(64, kernel_size=3, activation=\"relu\", input_shape=(28, 28, 1)))\n",
    "    model.add(Conv2D(64, kernel_size=3, activation=\"relu\"))\n",
    "    model.add(Flatten())\n",
    "    model.add(Dense(10, activation=\"softmax\"))\n",
    "    model.compile(\n",
    "        optimizer=\"adam\",\n",
    "        loss=\"categorical_crossentropy\",\n",
    "        metrics=[\"accuracy\"],\n",
    "    )\n",
    "\n",
    "    return model\n",
    "\n",
    "\n",
    "# Since ATOM uses sklearn's API, use Keras' wrapper\n",
    "model = KerasClassifier(neural_network, epochs=1, batch_size=512, verbose=0)\n",
    "\n",
    "# Convert the model to an ATOM model\n",
    "model = ATOMModel(model, acronym=\"NN\", fullname=\"Neural network\")"
   ]
  },
  {
   "cell_type": "code",
   "execution_count": 3,
   "metadata": {},
   "outputs": [],
   "source": [
    "# Download the MNIST dataset\n",
    "(X_train, y_train), (X_test, y_test) = mnist.load_data()"
   ]
  },
  {
   "cell_type": "code",
   "execution_count": 4,
   "metadata": {},
   "outputs": [],
   "source": [
    "# Reshape data to fit model\n",
    "X_train = X_train.reshape(60000,28,28,1)\n",
    "X_test = X_test.reshape(10000,28,28,1)\n",
    "\n",
    "data = (X_train, y_train), (X_test, y_test)"
   ]
  },
  {
   "cell_type": "markdown",
   "metadata": {},
   "source": [
    "## Run the pipeline"
   ]
  },
  {
   "cell_type": "code",
   "execution_count": 5,
   "metadata": {
    "scrolled": false
   },
   "outputs": [
    {
     "name": "stdout",
     "output_type": "stream",
     "text": [
      "<< ================== ATOM ================== >>\n",
      "Algorithm task: multiclass classification.\n",
      "Parallel processing with 6 cores.\n",
      "\n",
      "Dataset stats ====================== >>\n",
      "Shape: (7000, (28, 28, 1), 2)\n",
      "---------------------------------------\n",
      "Train set size: 6000\n",
      "Test set size: 1000\n",
      "---------------------------------------\n",
      "|    | dataset   | train     | test      |\n",
      "|---:|:----------|:----------|:----------|\n",
      "|  0 | 661 (1.0) | 566 (1.0) | 95 (1.1)  |\n",
      "|  1 | 739 (1.1) | 649 (1.2) | 90 (1.0)  |\n",
      "|  2 | 690 (1.1) | 586 (1.1) | 104 (1.2) |\n",
      "|  3 | 720 (1.1) | 620 (1.1) | 100 (1.2) |\n",
      "|  4 | 704 (1.1) | 589 (1.1) | 115 (1.3) |\n",
      "|  5 | 643 (1.0) | 549 (1.0) | 94 (1.1)  |\n",
      "|  6 | 712 (1.1) | 626 (1.1) | 86 (1.0)  |\n",
      "|  7 | 733 (1.1) | 622 (1.1) | 111 (1.3) |\n",
      "|  8 | 704 (1.1) | 602 (1.1) | 102 (1.2) |\n",
      "|  9 | 694 (1.1) | 591 (1.1) | 103 (1.2) |\n",
      "\n"
     ]
    }
   ],
   "source": [
    "atom = ATOMClassifier(*data, n_rows=0.1, n_jobs=6, warnings=False, verbose=2)"
   ]
  },
  {
   "cell_type": "code",
   "execution_count": 6,
   "metadata": {},
   "outputs": [
    {
     "name": "stdout",
     "output_type": "stream",
     "text": [
      "                            Multidimensional feature  Target\n",
      "0  [[[0], [0], [0], [0], [0], [0], [0], [0], [0],...       5\n",
      "1  [[[0], [0], [0], [0], [0], [0], [0], [0], [0],...       8\n",
      "2  [[[0], [0], [0], [0], [0], [0], [0], [0], [0],...       8\n",
      "3  [[[0], [0], [0], [0], [0], [0], [0], [0], [0],...       3\n",
      "4  [[[0], [0], [0], [0], [0], [0], [0], [0], [0],...       9\n"
     ]
    }
   ],
   "source": [
    "# When the input data has more than 2 dimensions, ATOM creates a \n",
    "# dataset with just one column of shape (n_samples, shape_sample)\n",
    "atom.head()"
   ]
  },
  {
   "cell_type": "code",
   "execution_count": 7,
   "metadata": {},
   "outputs": [
    {
     "name": "stdout",
     "output_type": "stream",
     "text": [
      "Shape of one image: (28, 28, 1)\n",
      "atom's shape (n_rows, (shape_image), n_cols): (7000, (28, 28, 1), 2)\n"
     ]
    }
   ],
   "source": [
    "# Every row in the column contains the data of one image\n",
    "print(f\"Shape of one image: {atom.iloc[0, 0].shape}\")\n",
    "print(f\"atom's shape (n_rows, (shape_image), n_cols): {atom.shape}\")"
   ]
  },
  {
   "cell_type": "code",
   "execution_count": 8,
   "metadata": {
    "scrolled": false
   },
   "outputs": [
    {
     "name": "stdout",
     "output_type": "stream",
     "text": [
      "\n",
      "Training ===================================== >>\n",
      "Models: NN\n",
      "Metric: f1_weighted\n",
      "\n",
      "\n",
      "Running BO for Neural network...\n",
      "Initial point 1 ---------------------------------\n",
      "Parameters --> {'epochs': 3, 'batch_size': 256}\n",
      "Evaluation --> f1_weighted: 0.9416  Best f1_weighted: 0.9416\n",
      "Time iteration: 21.756s   Total time: 21.760s\n",
      "Initial point 2 ---------------------------------\n",
      "Parameters --> {'epochs': 2, 'batch_size': 256}\n",
      "Evaluation --> f1_weighted: 0.9351  Best f1_weighted: 0.9416\n",
      "Time iteration: 8.107s   Total time: 29.995s\n",
      "Initial point 3 ---------------------------------\n",
      "Parameters --> {'epochs': 1, 'batch_size': 128}\n",
      "Evaluation --> f1_weighted: 0.9238  Best f1_weighted: 0.9416\n",
      "Time iteration: 4.647s   Total time: 34.677s\n",
      "Initial point 4 ---------------------------------\n",
      "Parameters --> {'epochs': 2, 'batch_size': 128}\n",
      "Evaluation --> f1_weighted: 0.9442  Best f1_weighted: 0.9442\n",
      "Time iteration: 8.606s   Total time: 43.311s\n",
      "Initial point 5 ---------------------------------\n",
      "Parameters --> {'epochs': 3, 'batch_size': 64}\n",
      "Evaluation --> f1_weighted: 0.9541  Best f1_weighted: 0.9541\n",
      "Time iteration: 13.274s   Total time: 56.611s\n",
      "\n",
      "Results for Neural network:         \n",
      "Bayesian Optimization ---------------------------\n",
      "Best parameters --> {'epochs': 3, 'batch_size': 64}\n",
      "Best evaluation --> f1_weighted: 0.9541\n",
      "Time elapsed: 59.167s\n",
      "Fit ---------------------------------------------\n",
      "Train evaluation --> f1_weighted: 0.998\n",
      "Test evaluation --> f1_weighted: 0.9549\n",
      "Time elapsed: 17.920s\n",
      "-------------------------------------------------\n",
      "Total time: 1m:17s\n",
      "\n",
      "\n",
      "Final results ========================= >>\n",
      "Duration: 1m:17s\n",
      "------------------------------------------\n",
      "Neural network --> f1_weighted: 0.9549\n"
     ]
    }
   ],
   "source": [
    "# Like any other model, we can define custom dimensions for the bayesian optimization\n",
    "dim = [Integer(1, 3, name=\"epochs\"), Categorical([32, 64, 128, 256], name=\"batch_size\")]\n",
    "\n",
    "atom.run(model, metric=\"f1_weighted\", n_calls=5, bo_params={\"dimensions\": dim, \"cv\": 1, \"max_time\": 120})"
   ]
  },
  {
   "cell_type": "markdown",
   "metadata": {},
   "source": [
    "## Analyze the results"
   ]
  },
  {
   "cell_type": "code",
   "execution_count": 9,
   "metadata": {
    "scrolled": false
   },
   "outputs": [
    {
     "data": {
      "text/plain": [
       "array([[3.5266876e-10, 2.7054303e-09, 6.5099565e-11, ..., 2.0648958e-08,\n",
       "        5.2870408e-10, 8.0803983e-07],\n",
       "       [1.0000000e+00, 1.0826281e-15, 3.2899516e-10, ..., 3.7689074e-13,\n",
       "        4.7216215e-12, 1.0242848e-11],\n",
       "       [4.9486027e-12, 3.2953235e-08, 1.6609141e-07, ..., 4.5303813e-07,\n",
       "        1.0848631e-06, 9.5844080e-05],\n",
       "       ...,\n",
       "       [8.7318136e-15, 1.5246022e-12, 5.7787917e-18, ..., 1.6206396e-18,\n",
       "        2.9980916e-09, 1.0435880e-09],\n",
       "       [1.7884300e-09, 5.5821411e-18, 2.0973881e-10, ..., 4.0482449e-14,\n",
       "        2.3880355e-13, 4.3091268e-15],\n",
       "       [6.0590587e-08, 2.2131283e-09, 5.9565604e-08, ..., 3.5685554e-07,\n",
       "        9.9999332e-01, 8.8240580e-07]], dtype=float32)"
      ]
     },
     "execution_count": 9,
     "metadata": {},
     "output_type": "execute_result"
    }
   ],
   "source": [
    "# Use the prediction methods like any other model\n",
    "atom.nn.predict_proba(X_train)"
   ]
  },
  {
   "cell_type": "code",
   "execution_count": 10,
   "metadata": {
    "pycharm": {
     "name": "#%%\n"
    }
   },
   "outputs": [
    {
     "data": {
      "image/png": "[encoded data removed]",
      "text/plain": [
       "<Figure size 576x432 with 2 Axes>"
      ]
     },
     "metadata": {},
     "output_type": "display_data"
    }
   ],
   "source": [
    "# Or make plots...\n",
    "atom.nn.plot_confusion_matrix()"
   ]
  }
 ],
 "metadata": {
  "kernelspec": {
   "display_name": "Python 3",
   "language": "python",
   "name": "python3"
  },
  "language_info": {
   "codemirror_mode": {
    "name": "ipython",
    "version": 3
   },
   "file_extension": ".py",
   "mimetype": "text/x-python",
   "name": "python",
   "nbconvert_exporter": "python",
   "pygments_lexer": "ipython3",
   "version": "3.8.3"
  }
 },
 "nbformat": 4,
 "nbformat_minor": 2
}
