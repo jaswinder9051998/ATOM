{
 "cells": [
  {
   "cell_type": "markdown",
   "metadata": {},
   "source": [
    "# Deep learning\n",
    "---------------------------\n",
    "\n",
    "This example shows how to use ATOM to train and validate a Convolutional Neural Network implemented with [Keras](https://keras.io/).\n",
    "\n",
    "Import the MNIST dataset from [keras.datasets](https://keras.io/api/datasets/mnist/). This is a well known image dataset whose goal is to classify handwritten digits."
   ]
  },
  {
   "cell_type": "markdown",
   "metadata": {},
   "source": [
    "## Load the data"
   ]
  },
  {
   "cell_type": "code",
   "execution_count": 1,
   "metadata": {},
   "outputs": [],
   "source": [
    "# Disable annoying tf warnings\n",
    "import logging\n",
    "import tensorflow as tf\n",
    "tf.get_logger().setLevel(logging.ERROR)\n",
    "\n",
    "# Import standard packages\n",
    "from atom import ATOMClassifier, ATOMModel\n",
    "from skopt.space.space import Integer, Categorical\n",
    "\n",
    "# Keras\n",
    "from keras.datasets import mnist\n",
    "from keras.models import Sequential\n",
    "from keras.layers import Dense, Flatten, Conv2D\n",
    "from keras.wrappers.scikit_learn import KerasClassifier"
   ]
  },
  {
   "cell_type": "code",
   "execution_count": 2,
   "metadata": {},
   "outputs": [],
   "source": [
    "# Create the convolutional neural network\n",
    "def neural_network():\n",
    "    model = Sequential()\n",
    "    model.add(\n",
    "        Conv2D(\n",
    "            filters=64,\n",
    "            kernel_size=3,\n",
    "            activation=\"relu\",\n",
    "            input_shape=(28, 28, 1),\n",
    "        )\n",
    "    )\n",
    "    model.add(Conv2D(filters=64, kernel_size=3, activation=\"relu\"))\n",
    "    model.add(Flatten())\n",
    "    model.add(Dense(units=10, activation=\"softmax\"))\n",
    "    model.compile(\n",
    "        optimizer=\"adam\",\n",
    "        loss=\"categorical_crossentropy\",\n",
    "        metrics=[\"accuracy\"],\n",
    "    )\n",
    "\n",
    "    return model\n",
    "\n",
    "\n",
    "# Since ATOM uses sklearn's API, use Keras' wrapper\n",
    "model = KerasClassifier(neural_network, epochs=5, verbose=0)\n",
    "\n",
    "# Convert the model to an ATOM model\n",
    "model = ATOMModel(model, acronym=\"NN\", fullname=\"Neural network\")"
   ]
  },
  {
   "cell_type": "code",
   "execution_count": 3,
   "metadata": {},
   "outputs": [],
   "source": [
    "# Download the MNIST dataset\n",
    "(X_train, y_train), (X_test, y_test) = mnist.load_data()"
   ]
  },
  {
   "cell_type": "code",
   "execution_count": 4,
   "metadata": {},
   "outputs": [],
   "source": [
    "# Reshape data to fit model\n",
    "X_train = X_train.reshape(60000,28,28,1)\n",
    "X_test = X_test.reshape(10000,28,28,1)\n",
    "\n",
    "data = (X_train, y_train), (X_test, y_test)"
   ]
  },
  {
   "cell_type": "markdown",
   "metadata": {},
   "source": [
    "## Run the pipeline"
   ]
  },
  {
   "cell_type": "code",
   "execution_count": 5,
   "metadata": {
    "run_control": {
     "marked": false
    }
   },
   "outputs": [
    {
     "name": "stdout",
     "output_type": "stream",
     "text": [
      "<< ================== ATOM ================== >>\n",
      "Algorithm task: multiclass classification.\n",
      "Parallel processing with 6 cores.\n",
      "\n",
      "Dataset stats ==================== >>\n",
      "Shape: (7000, (28, 28, 1), 2)\n",
      "-------------------------------------\n",
      "Train set size: 6000\n",
      "Test set size: 1000\n",
      "-------------------------------------\n",
      "|    |     dataset |       train |        test |\n",
      "| -- | ----------- | ----------- | ----------- |\n",
      "| 0  |   726 (1.2) |   633 (1.2) |    93 (1.1) |\n",
      "| 1  |   765 (1.3) |   652 (1.3) |   113 (1.4) |\n",
      "| 2  |   710 (1.2) |   609 (1.2) |   101 (1.2) |\n",
      "| 3  |   713 (1.2) |   602 (1.2) |   111 (1.3) |\n",
      "| 4  |   691 (1.2) |   599 (1.2) |    92 (1.1) |\n",
      "| 5  |   596 (1.0) |   513 (1.0) |    83 (1.0) |\n",
      "| 6  |   668 (1.1) |   567 (1.1) |   101 (1.2) |\n",
      "| 7  |   725 (1.2) |   624 (1.2) |   101 (1.2) |\n",
      "| 8  |   692 (1.2) |   592 (1.2) |   100 (1.2) |\n",
      "| 9  |   714 (1.2) |   609 (1.2) |   105 (1.3) |\n",
      "\n"
     ]
    }
   ],
   "source": [
    "atom = ATOMClassifier(*data, n_rows=0.1, n_jobs=6, warnings=False, verbose=2)"
   ]
  },
  {
   "cell_type": "code",
   "execution_count": 6,
   "metadata": {},
   "outputs": [
    {
     "data": {
      "text/html": [
       "<div>\n",
       "<style scoped>\n",
       "    .dataframe tbody tr th:only-of-type {\n",
       "        vertical-align: middle;\n",
       "    }\n",
       "\n",
       "    .dataframe tbody tr th {\n",
       "        vertical-align: top;\n",
       "    }\n",
       "\n",
       "    .dataframe thead th {\n",
       "        text-align: right;\n",
       "    }\n",
       "</style>\n",
       "<table border=\"1\" class=\"dataframe\">\n",
       "  <thead>\n",
       "    <tr style=\"text-align: right;\">\n",
       "      <th></th>\n",
       "      <th>Multidimensional feature</th>\n",
       "      <th>Target</th>\n",
       "    </tr>\n",
       "  </thead>\n",
       "  <tbody>\n",
       "    <tr>\n",
       "      <th>0</th>\n",
       "      <td>[[[0], [0], [0], [0], [0], [0], [0], [0], [0],...</td>\n",
       "      <td>3</td>\n",
       "    </tr>\n",
       "    <tr>\n",
       "      <th>1</th>\n",
       "      <td>[[[0], [0], [0], [0], [0], [0], [0], [0], [0],...</td>\n",
       "      <td>0</td>\n",
       "    </tr>\n",
       "    <tr>\n",
       "      <th>2</th>\n",
       "      <td>[[[0], [0], [0], [0], [0], [0], [0], [0], [0],...</td>\n",
       "      <td>3</td>\n",
       "    </tr>\n",
       "    <tr>\n",
       "      <th>3</th>\n",
       "      <td>[[[0], [0], [0], [0], [0], [0], [0], [0], [0],...</td>\n",
       "      <td>4</td>\n",
       "    </tr>\n",
       "    <tr>\n",
       "      <th>4</th>\n",
       "      <td>[[[0], [0], [0], [0], [0], [0], [0], [0], [0],...</td>\n",
       "      <td>0</td>\n",
       "    </tr>\n",
       "  </tbody>\n",
       "</table>\n",
       "</div>"
      ],
      "text/plain": [
       "                            Multidimensional feature  Target\n",
       "0  [[[0], [0], [0], [0], [0], [0], [0], [0], [0],...       3\n",
       "1  [[[0], [0], [0], [0], [0], [0], [0], [0], [0],...       0\n",
       "2  [[[0], [0], [0], [0], [0], [0], [0], [0], [0],...       3\n",
       "3  [[[0], [0], [0], [0], [0], [0], [0], [0], [0],...       4\n",
       "4  [[[0], [0], [0], [0], [0], [0], [0], [0], [0],...       0"
      ]
     },
     "execution_count": 6,
     "metadata": {},
     "output_type": "execute_result"
    }
   ],
   "source": [
    "# When the input data has more than 2 dimensions, ATOM creates a \n",
    "# dataset with just one column of shape (n_samples, shape_sample)\n",
    "atom.head()"
   ]
  },
  {
   "cell_type": "code",
   "execution_count": 7,
   "metadata": {},
   "outputs": [
    {
     "name": "stdout",
     "output_type": "stream",
     "text": [
      "Shape of one image: (28, 28, 1)\n",
      "atom's shape (n_rows, (shape_image), n_cols): (7000, (28, 28, 1), 2)\n"
     ]
    }
   ],
   "source": [
    "# Every row in the column contains the data of one image\n",
    "print(f\"Shape of one image: {atom.iloc[0, 0].shape}\")\n",
    "print(f\"atom's shape (n_rows, (shape_image), n_cols): {atom.shape}\")"
   ]
  },
  {
   "cell_type": "code",
   "execution_count": 8,
   "metadata": {},
   "outputs": [
    {
     "name": "stdout",
     "output_type": "stream",
     "text": [
      "\n",
      "Training ========================= >>\n",
      "Models: NN\n",
      "Metric: f1_weighted\n",
      "\n",
      "\n",
      "Running BO for Neural network...\n",
      "| call             | batch_size | f1_weighted | best_f1_weighted |    time | total_time |\n",
      "| ---------------- | ---------- | ----------- | ---------------- | ------- | ---------- |\n",
      "| Initial point 1  |         64 |      0.9526 |           0.9526 | 34.177s |    34.180s |\n",
      "| Initial point 2  |         64 |      0.9526 |           0.9526 |  0.001s |    34.349s |\n",
      "| Initial point 3  |        128 |      0.9533 |           0.9533 | 23.499s |    57.898s |\n",
      "| Initial point 4  |         64 |      0.9526 |           0.9533 |  0.001s |    57.947s |\n",
      "| Initial point 5  |        128 |      0.9533 |           0.9533 |  0.000s |    57.995s |\n",
      "\n",
      "Results for Neural network:         \n",
      "Bayesian Optimization ---------------------------\n",
      "Best call --> Initial point 3\n",
      "Best parameters --> {'batch_size': 128}\n",
      "Best evaluation --> f1_weighted: 0.9533\n",
      "Time elapsed: 58.131s\n",
      "Fit ---------------------------------------------\n",
      "Train evaluation --> f1_weighted: 1.0\n",
      "Test evaluation --> f1_weighted: 0.961\n",
      "Time elapsed: 29.865s\n",
      "-------------------------------------------------\n",
      "Total time: 1m:28s\n",
      "\n",
      "\n",
      "Final results ==================== >>\n",
      "Duration: 1m:28s\n",
      "-------------------------------------\n",
      "Neural network --> f1_weighted: 0.961\n"
     ]
    }
   ],
   "source": [
    "# Like any other model, we can define custom dimensions for the bayesian optimization\n",
    "atom.run(\n",
    "    models=model,\n",
    "    metric=\"f1_weighted\",\n",
    "    n_calls=5,\n",
    "    bo_params={\n",
    "        \"dimensions\": [Categorical([32, 64, 128, 256], name=\"batch_size\")],\n",
    "        \"max_time\": 120,\n",
    "    }\n",
    ")"
   ]
  },
  {
   "cell_type": "markdown",
   "metadata": {},
   "source": [
    "## Analyze the results"
   ]
  },
  {
   "cell_type": "code",
   "execution_count": 9,
   "metadata": {},
   "outputs": [
    {
     "data": {
      "text/plain": [
       "array([[8.32745670e-14, 4.03909371e-11, 2.39146132e-13, ...,\n",
       "        5.99381433e-09, 1.62837044e-09, 1.22757385e-14],\n",
       "       [9.99999166e-01, 4.09230863e-13, 2.47164795e-08, ...,\n",
       "        5.39234435e-10, 1.17979056e-07, 4.89375597e-12],\n",
       "       [5.94590262e-17, 1.59245773e-15, 1.57664645e-10, ...,\n",
       "        2.82419799e-09, 7.11853493e-11, 2.59625690e-08],\n",
       "       ...,\n",
       "       [1.29603634e-17, 4.96066413e-15, 9.68647729e-19, ...,\n",
       "        5.38861026e-16, 4.13599732e-09, 2.85001779e-11],\n",
       "       [7.66431398e-08, 3.70914470e-17, 2.34945361e-08, ...,\n",
       "        2.30101752e-14, 1.64613359e-13, 1.34364635e-15],\n",
       "       [2.47110190e-08, 2.69764069e-15, 3.62205590e-08, ...,\n",
       "        9.41424894e-09, 9.99999404e-01, 5.29901811e-08]], dtype=float32)"
      ]
     },
     "execution_count": 9,
     "metadata": {},
     "output_type": "execute_result"
    }
   ],
   "source": [
    "# Use the prediction methods like any other model\n",
    "atom.nn.predict_proba(X_train)"
   ]
  },
  {
   "cell_type": "code",
   "execution_count": 10,
   "metadata": {
    "pycharm": {
     "name": "#%%\n"
    }
   },
   "outputs": [
    {
     "data": {
      "image/png": "[encoded data removed]",
      "text/plain": [
       "<Figure size 576x432 with 2 Axes>"
      ]
     },
     "metadata": {},
     "output_type": "display_data"
    }
   ],
   "source": [
    "# Or make plots...\n",
    "atom.nn.plot_confusion_matrix()"
   ]
  }
 ],
 "metadata": {
  "kernelspec": {
   "display_name": "Python 3 (ipykernel)",
   "language": "python",
   "name": "python3"
  },
  "language_info": {
   "codemirror_mode": {
    "name": "ipython",
    "version": 3
   },
   "file_extension": ".py",
   "mimetype": "text/x-python",
   "name": "python",
   "nbconvert_exporter": "python",
   "pygments_lexer": "ipython3",
   "version": "3.8.3"
  },
  "toc": {
   "base_numbering": 1,
   "nav_menu": {},
   "number_sections": true,
   "sideBar": true,
   "skip_h1_title": false,
   "title_cell": "Table of Contents",
   "title_sidebar": "Contents",
   "toc_cell": false,
   "toc_position": {},
   "toc_section_display": true,
   "toc_window_display": false
  }
 },
 "nbformat": 4,
 "nbformat_minor": 4
}
