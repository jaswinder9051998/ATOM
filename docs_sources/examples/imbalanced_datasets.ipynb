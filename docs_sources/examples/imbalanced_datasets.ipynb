{
 "cells": [
  {
   "cell_type": "markdown",
   "metadata": {},
   "source": [
    "# Imbalanced datasets\n",
    "------------------------------------\n",
    "\n",
    "This example shows how ATOM can help you handle imbalanced datasets. We will evaluate the performance of three different Random Forest models: one trained directly on the imbalanced dataset, one trained on an oversampled dataset and the last one trained on an undersampled dataset."
   ]
  },
  {
   "cell_type": "markdown",
   "metadata": {},
   "source": [
    "## Load the data"
   ]
  },
  {
   "cell_type": "code",
   "execution_count": 1,
   "metadata": {},
   "outputs": [],
   "source": [
    "# Import packages\n",
    "from atom import ATOMClassifier\n",
    "from sklearn.datasets import make_classification"
   ]
  },
  {
   "cell_type": "code",
   "execution_count": 2,
   "metadata": {},
   "outputs": [],
   "source": [
    "# Create a mock imbalanced dataset\n",
    "X, y = make_classification(\n",
    "    n_samples=5000,\n",
    "    n_features=30,\n",
    "    n_informative=20,\n",
    "    weights=(0.95,),\n",
    "    random_state=1,\n",
    ")"
   ]
  },
  {
   "cell_type": "markdown",
   "metadata": {},
   "source": [
    "## Run the pipeline"
   ]
  },
  {
   "cell_type": "code",
   "execution_count": 3,
   "metadata": {},
   "outputs": [
    {
     "name": "stdout",
     "output_type": "stream",
     "text": [
      "<< ================== ATOM ================== >>\n",
      "Algorithm task: binary classification.\n",
      "\n",
      "Dataset stats ====================== >>\n",
      "Shape: (5000, 31)\n",
      "Scaled: False\n",
      "Outlier values: 582 (0.5%)\n",
      "---------------------------------------\n",
      "Train set size: 4000\n",
      "Test set size: 1000\n",
      "---------------------------------------\n",
      "|    | dataset     | train       | test       |\n",
      "|---:|:------------|:------------|:-----------|\n",
      "|  0 | 4731 (17.6) | 3777 (16.9) | 954 (20.7) |\n",
      "|  1 | 269 (1.0)   | 223 (1.0)   | 46 (1.0)   |\n",
      "\n"
     ]
    }
   ],
   "source": [
    "# Initialize atom\n",
    "atom = ATOMClassifier(X, y, test_size=0.2, verbose=2, random_state=1)"
   ]
  },
  {
   "cell_type": "code",
   "execution_count": 4,
   "metadata": {},
   "outputs": [
    {
     "data": {
      "text/html": [
       "<div>\n",
       "<style scoped>\n",
       "    .dataframe tbody tr th:only-of-type {\n",
       "        vertical-align: middle;\n",
       "    }\n",
       "\n",
       "    .dataframe tbody tr th {\n",
       "        vertical-align: top;\n",
       "    }\n",
       "\n",
       "    .dataframe thead th {\n",
       "        text-align: right;\n",
       "    }\n",
       "</style>\n",
       "<table border=\"1\" class=\"dataframe\">\n",
       "  <thead>\n",
       "    <tr style=\"text-align: right;\">\n",
       "      <th></th>\n",
       "      <th>Feature 1</th>\n",
       "      <th>Feature 2</th>\n",
       "      <th>Feature 3</th>\n",
       "      <th>Feature 4</th>\n",
       "      <th>Feature 5</th>\n",
       "      <th>Feature 6</th>\n",
       "      <th>Feature 7</th>\n",
       "      <th>Feature 8</th>\n",
       "      <th>Feature 9</th>\n",
       "      <th>Feature 10</th>\n",
       "      <th>...</th>\n",
       "      <th>Feature 22</th>\n",
       "      <th>Feature 23</th>\n",
       "      <th>Feature 24</th>\n",
       "      <th>Feature 25</th>\n",
       "      <th>Feature 26</th>\n",
       "      <th>Feature 27</th>\n",
       "      <th>Feature 28</th>\n",
       "      <th>Feature 29</th>\n",
       "      <th>Feature 30</th>\n",
       "      <th>Target</th>\n",
       "    </tr>\n",
       "  </thead>\n",
       "  <tbody>\n",
       "    <tr>\n",
       "      <th>0</th>\n",
       "      <td>-3.487515</td>\n",
       "      <td>3.854686</td>\n",
       "      <td>-0.540999</td>\n",
       "      <td>14.601416</td>\n",
       "      <td>2.656621</td>\n",
       "      <td>0.890481</td>\n",
       "      <td>-1.369840</td>\n",
       "      <td>-4.366444</td>\n",
       "      <td>3.466322</td>\n",
       "      <td>-0.029618</td>\n",
       "      <td>...</td>\n",
       "      <td>0.404926</td>\n",
       "      <td>1.743085</td>\n",
       "      <td>7.313850</td>\n",
       "      <td>-0.922566</td>\n",
       "      <td>0.994747</td>\n",
       "      <td>0.000604</td>\n",
       "      <td>-1.441929</td>\n",
       "      <td>-0.741606</td>\n",
       "      <td>-1.021307</td>\n",
       "      <td>0</td>\n",
       "    </tr>\n",
       "    <tr>\n",
       "      <th>1</th>\n",
       "      <td>0.493415</td>\n",
       "      <td>-5.068825</td>\n",
       "      <td>0.727330</td>\n",
       "      <td>5.470114</td>\n",
       "      <td>1.631227</td>\n",
       "      <td>-1.267924</td>\n",
       "      <td>0.550369</td>\n",
       "      <td>-2.055318</td>\n",
       "      <td>-0.105617</td>\n",
       "      <td>3.511867</td>\n",
       "      <td>...</td>\n",
       "      <td>2.888285</td>\n",
       "      <td>0.309113</td>\n",
       "      <td>3.817221</td>\n",
       "      <td>1.118588</td>\n",
       "      <td>1.502536</td>\n",
       "      <td>-0.143976</td>\n",
       "      <td>-1.250787</td>\n",
       "      <td>6.095970</td>\n",
       "      <td>0.490575</td>\n",
       "      <td>0</td>\n",
       "    </tr>\n",
       "    <tr>\n",
       "      <th>2</th>\n",
       "      <td>0.010148</td>\n",
       "      <td>-1.926452</td>\n",
       "      <td>-2.079807</td>\n",
       "      <td>-3.113497</td>\n",
       "      <td>4.962937</td>\n",
       "      <td>1.586091</td>\n",
       "      <td>-0.201393</td>\n",
       "      <td>-3.469079</td>\n",
       "      <td>5.401403</td>\n",
       "      <td>5.751620</td>\n",
       "      <td>...</td>\n",
       "      <td>5.692868</td>\n",
       "      <td>-2.097011</td>\n",
       "      <td>-7.173968</td>\n",
       "      <td>-0.493898</td>\n",
       "      <td>-3.530642</td>\n",
       "      <td>-1.061223</td>\n",
       "      <td>5.956756</td>\n",
       "      <td>3.937707</td>\n",
       "      <td>2.394163</td>\n",
       "      <td>0</td>\n",
       "    </tr>\n",
       "    <tr>\n",
       "      <th>3</th>\n",
       "      <td>1.134321</td>\n",
       "      <td>4.081801</td>\n",
       "      <td>0.012246</td>\n",
       "      <td>7.176998</td>\n",
       "      <td>-2.520901</td>\n",
       "      <td>-3.982497</td>\n",
       "      <td>-1.034924</td>\n",
       "      <td>0.885346</td>\n",
       "      <td>2.221092</td>\n",
       "      <td>-1.082554</td>\n",
       "      <td>...</td>\n",
       "      <td>-4.747836</td>\n",
       "      <td>-0.642487</td>\n",
       "      <td>6.538375</td>\n",
       "      <td>-0.724994</td>\n",
       "      <td>-3.191186</td>\n",
       "      <td>-0.220013</td>\n",
       "      <td>1.133145</td>\n",
       "      <td>-0.385503</td>\n",
       "      <td>1.351542</td>\n",
       "      <td>0</td>\n",
       "    </tr>\n",
       "    <tr>\n",
       "      <th>4</th>\n",
       "      <td>1.324943</td>\n",
       "      <td>1.428477</td>\n",
       "      <td>0.935775</td>\n",
       "      <td>1.270190</td>\n",
       "      <td>-2.449393</td>\n",
       "      <td>1.137865</td>\n",
       "      <td>1.652580</td>\n",
       "      <td>1.746711</td>\n",
       "      <td>-3.283392</td>\n",
       "      <td>-1.369744</td>\n",
       "      <td>...</td>\n",
       "      <td>-0.548266</td>\n",
       "      <td>3.693259</td>\n",
       "      <td>4.914830</td>\n",
       "      <td>-0.275366</td>\n",
       "      <td>-0.526327</td>\n",
       "      <td>0.528170</td>\n",
       "      <td>-2.031690</td>\n",
       "      <td>0.889746</td>\n",
       "      <td>-0.605291</td>\n",
       "      <td>0</td>\n",
       "    </tr>\n",
       "  </tbody>\n",
       "</table>\n",
       "<p>5 rows × 31 columns</p>\n",
       "</div>"
      ],
      "text/plain": [
       "   Feature 1  Feature 2  Feature 3  Feature 4  Feature 5  Feature 6  \\\n",
       "0  -3.487515   3.854686  -0.540999  14.601416   2.656621   0.890481   \n",
       "1   0.493415  -5.068825   0.727330   5.470114   1.631227  -1.267924   \n",
       "2   0.010148  -1.926452  -2.079807  -3.113497   4.962937   1.586091   \n",
       "3   1.134321   4.081801   0.012246   7.176998  -2.520901  -3.982497   \n",
       "4   1.324943   1.428477   0.935775   1.270190  -2.449393   1.137865   \n",
       "\n",
       "   Feature 7  Feature 8  Feature 9  Feature 10  ...  Feature 22  Feature 23  \\\n",
       "0  -1.369840  -4.366444   3.466322   -0.029618  ...    0.404926    1.743085   \n",
       "1   0.550369  -2.055318  -0.105617    3.511867  ...    2.888285    0.309113   \n",
       "2  -0.201393  -3.469079   5.401403    5.751620  ...    5.692868   -2.097011   \n",
       "3  -1.034924   0.885346   2.221092   -1.082554  ...   -4.747836   -0.642487   \n",
       "4   1.652580   1.746711  -3.283392   -1.369744  ...   -0.548266    3.693259   \n",
       "\n",
       "   Feature 24  Feature 25  Feature 26  Feature 27  Feature 28  Feature 29  \\\n",
       "0    7.313850   -0.922566    0.994747    0.000604   -1.441929   -0.741606   \n",
       "1    3.817221    1.118588    1.502536   -0.143976   -1.250787    6.095970   \n",
       "2   -7.173968   -0.493898   -3.530642   -1.061223    5.956756    3.937707   \n",
       "3    6.538375   -0.724994   -3.191186   -0.220013    1.133145   -0.385503   \n",
       "4    4.914830   -0.275366   -0.526327    0.528170   -2.031690    0.889746   \n",
       "\n",
       "   Feature 30  Target  \n",
       "0   -1.021307       0  \n",
       "1    0.490575       0  \n",
       "2    2.394163       0  \n",
       "3    1.351542       0  \n",
       "4   -0.605291       0  \n",
       "\n",
       "[5 rows x 31 columns]"
      ]
     },
     "execution_count": 4,
     "metadata": {},
     "output_type": "execute_result"
    }
   ],
   "source": [
    "# Let's have a look at the data. Note that, since the input wasn't\n",
    "# a dataframe, atom has given default names to the columns.\n",
    "atom.head()"
   ]
  },
  {
   "cell_type": "code",
   "execution_count": 5,
   "metadata": {},
   "outputs": [
    {
     "name": "stdout",
     "output_type": "stream",
     "text": [
      "Fitting FeatureSelector...\n",
      "Performing feature selection ...\n",
      " --> The RFE selected 12 features from the dataset.\n",
      "   >>> Dropping feature Feature 2 (rank 3).\n",
      "   >>> Dropping feature Feature 3 (rank 8).\n",
      "   >>> Dropping feature Feature 5 (rank 10).\n",
      "   >>> Dropping feature Feature 7 (rank 17).\n",
      "   >>> Dropping feature Feature 8 (rank 12).\n",
      "   >>> Dropping feature Feature 11 (rank 19).\n",
      "   >>> Dropping feature Feature 13 (rank 13).\n",
      "   >>> Dropping feature Feature 14 (rank 11).\n",
      "   >>> Dropping feature Feature 15 (rank 15).\n",
      "   >>> Dropping feature Feature 17 (rank 4).\n",
      "   >>> Dropping feature Feature 19 (rank 16).\n",
      "   >>> Dropping feature Feature 20 (rank 2).\n",
      "   >>> Dropping feature Feature 21 (rank 6).\n",
      "   >>> Dropping feature Feature 23 (rank 5).\n",
      "   >>> Dropping feature Feature 24 (rank 9).\n",
      "   >>> Dropping feature Feature 25 (rank 18).\n",
      "   >>> Dropping feature Feature 26 (rank 7).\n",
      "   >>> Dropping feature Feature 27 (rank 14).\n"
     ]
    }
   ],
   "source": [
    "# Let's start reducing the number of features\n",
    "atom.feature_selection(\"RFE\", solver=\"RF\", n_features=12)"
   ]
  },
  {
   "cell_type": "code",
   "execution_count": 6,
   "metadata": {},
   "outputs": [
    {
     "name": "stdout",
     "output_type": "stream",
     "text": [
      "\n",
      "Training ===================================== >>\n",
      "Models: RF\n",
      "Metric: balanced_accuracy\n",
      "\n",
      "\n",
      "Results for Random Forest:         \n",
      "Fit ---------------------------------------------\n",
      "Train evaluation --> balanced_accuracy: 1.0\n",
      "Test evaluation --> balanced_accuracy: 0.5326\n",
      "Time elapsed: 0.798s\n",
      "-------------------------------------------------\n",
      "Total time: 0.798s\n",
      "\n",
      "\n",
      "Final results ========================= >>\n",
      "Duration: 0.798s\n",
      "------------------------------------------\n",
      "Random Forest --> balanced_accuracy: 0.5326 ~\n"
     ]
    }
   ],
   "source": [
    "# Fit a model directly on the imbalanced data\n",
    "atom.run(\"RF\", metric=\"ba\")"
   ]
  },
  {
   "cell_type": "code",
   "execution_count": 7,
   "metadata": {},
   "outputs": [
    {
     "data": {
      "text/plain": [
       "Branch: master\n",
       " --> Pipeline: \n",
       "   >>> FeatureSelector\n",
       "     --> strategy: RFE\n",
       "     --> solver: RF_class\n",
       "     --> n_features: 12\n",
       "     --> max_frac_repeated: 1.0\n",
       "     --> max_correlation: 1.0\n",
       "     --> kwargs: {}\n",
       " --> Models: RF"
      ]
     },
     "execution_count": 7,
     "metadata": {},
     "output_type": "execute_result"
    }
   ],
   "source": [
    "# The transformer and the models have been added to the branch\n",
    "atom.branch"
   ]
  },
  {
   "cell_type": "markdown",
   "metadata": {},
   "source": [
    "## Oversampling"
   ]
  },
  {
   "cell_type": "code",
   "execution_count": 8,
   "metadata": {},
   "outputs": [
    {
     "name": "stdout",
     "output_type": "stream",
     "text": [
      "New branch oversample successfully created!\n"
     ]
    }
   ],
   "source": [
    "# Create a new branch for oversampling\n",
    "atom.branch = \"oversample\""
   ]
  },
  {
   "cell_type": "code",
   "execution_count": 9,
   "metadata": {},
   "outputs": [
    {
     "name": "stdout",
     "output_type": "stream",
     "text": [
      "Oversampling with SMOTE...\n",
      " --> Adding 3554 samples to class: 1.\n"
     ]
    }
   ],
   "source": [
    "# Perform oversampling of the minority class\n",
    "atom.balance(strategy=\"smote\")"
   ]
  },
  {
   "cell_type": "code",
   "execution_count": 10,
   "metadata": {
    "scrolled": true
   },
   "outputs": [
    {
     "data": {
      "text/html": [
       "<div>\n",
       "<style scoped>\n",
       "    .dataframe tbody tr th:only-of-type {\n",
       "        vertical-align: middle;\n",
       "    }\n",
       "\n",
       "    .dataframe tbody tr th {\n",
       "        vertical-align: top;\n",
       "    }\n",
       "\n",
       "    .dataframe thead th {\n",
       "        text-align: right;\n",
       "    }\n",
       "</style>\n",
       "<table border=\"1\" class=\"dataframe\">\n",
       "  <thead>\n",
       "    <tr style=\"text-align: right;\">\n",
       "      <th></th>\n",
       "      <th>dataset</th>\n",
       "      <th>train</th>\n",
       "      <th>test</th>\n",
       "    </tr>\n",
       "  </thead>\n",
       "  <tbody>\n",
       "    <tr>\n",
       "      <th>0</th>\n",
       "      <td>4731</td>\n",
       "      <td>3777</td>\n",
       "      <td>954</td>\n",
       "    </tr>\n",
       "    <tr>\n",
       "      <th>1</th>\n",
       "      <td>3823</td>\n",
       "      <td>3777</td>\n",
       "      <td>46</td>\n",
       "    </tr>\n",
       "  </tbody>\n",
       "</table>\n",
       "</div>"
      ],
      "text/plain": [
       "   dataset  train  test\n",
       "0     4731   3777   954\n",
       "1     3823   3777    46"
      ]
     },
     "execution_count": 10,
     "metadata": {},
     "output_type": "execute_result"
    }
   ],
   "source": [
    "atom.classes  # Check the balanced training set!"
   ]
  },
  {
   "cell_type": "code",
   "execution_count": 11,
   "metadata": {},
   "outputs": [
    {
     "name": "stdout",
     "output_type": "stream",
     "text": [
      "\n",
      "Training ===================================== >>\n",
      "Models: RF_os\n",
      "Metric: balanced_accuracy\n",
      "\n",
      "\n",
      "Results for Random Forest:         \n",
      "Fit ---------------------------------------------\n",
      "Train evaluation --> balanced_accuracy: 1.0\n",
      "Test evaluation --> balanced_accuracy: 0.7546\n",
      "Time elapsed: 1.400s\n",
      "-------------------------------------------------\n",
      "Total time: 1.400s\n",
      "\n",
      "\n",
      "Final results ========================= >>\n",
      "Duration: 1.400s\n",
      "------------------------------------------\n",
      "Random Forest --> balanced_accuracy: 0.7546 ~\n"
     ]
    }
   ],
   "source": [
    "# Train another model on the new branch. Add a tag after \n",
    "# the model's acronym to distinguish it from the first model\n",
    "atom.run(\"rf_os\")  # os for oversample"
   ]
  },
  {
   "cell_type": "markdown",
   "metadata": {},
   "source": [
    "## Undersampling"
   ]
  },
  {
   "cell_type": "code",
   "execution_count": 12,
   "metadata": {},
   "outputs": [
    {
     "name": "stdout",
     "output_type": "stream",
     "text": [
      "New branch undersample successfully created!\n"
     ]
    }
   ],
   "source": [
    "# Create the undersampling branch\n",
    "# Split from master to not adopt the oversmapling transformer\n",
    "atom.branch = \"undersample_from_master\""
   ]
  },
  {
   "cell_type": "code",
   "execution_count": 13,
   "metadata": {},
   "outputs": [
    {
     "data": {
      "text/html": [
       "<div>\n",
       "<style scoped>\n",
       "    .dataframe tbody tr th:only-of-type {\n",
       "        vertical-align: middle;\n",
       "    }\n",
       "\n",
       "    .dataframe tbody tr th {\n",
       "        vertical-align: top;\n",
       "    }\n",
       "\n",
       "    .dataframe thead th {\n",
       "        text-align: right;\n",
       "    }\n",
       "</style>\n",
       "<table border=\"1\" class=\"dataframe\">\n",
       "  <thead>\n",
       "    <tr style=\"text-align: right;\">\n",
       "      <th></th>\n",
       "      <th>dataset</th>\n",
       "      <th>train</th>\n",
       "      <th>test</th>\n",
       "    </tr>\n",
       "  </thead>\n",
       "  <tbody>\n",
       "    <tr>\n",
       "      <th>0</th>\n",
       "      <td>4731</td>\n",
       "      <td>3777</td>\n",
       "      <td>954</td>\n",
       "    </tr>\n",
       "    <tr>\n",
       "      <th>1</th>\n",
       "      <td>269</td>\n",
       "      <td>223</td>\n",
       "      <td>46</td>\n",
       "    </tr>\n",
       "  </tbody>\n",
       "</table>\n",
       "</div>"
      ],
      "text/plain": [
       "   dataset  train  test\n",
       "0     4731   3777   954\n",
       "1      269    223    46"
      ]
     },
     "execution_count": 13,
     "metadata": {},
     "output_type": "execute_result"
    }
   ],
   "source": [
    "atom.classes  # In this branch, the data is still imbalanced"
   ]
  },
  {
   "cell_type": "code",
   "execution_count": 14,
   "metadata": {},
   "outputs": [
    {
     "name": "stdout",
     "output_type": "stream",
     "text": [
      "Undersampling with NearMiss...\n",
      " --> Removing 3554 samples from class: 0.\n"
     ]
    }
   ],
   "source": [
    "# Perform undersampling of the majority class\n",
    "atom.balance(strategy=\"NearMiss\")"
   ]
  },
  {
   "cell_type": "code",
   "execution_count": 15,
   "metadata": {},
   "outputs": [
    {
     "name": "stdout",
     "output_type": "stream",
     "text": [
      "\n",
      "Training ===================================== >>\n",
      "Models: RF_us\n",
      "Metric: balanced_accuracy\n",
      "\n",
      "\n",
      "Results for Random Forest:         \n",
      "Fit ---------------------------------------------\n",
      "Train evaluation --> balanced_accuracy: 1.0\n",
      "Test evaluation --> balanced_accuracy: 0.6837\n",
      "Time elapsed: 0.165s\n",
      "-------------------------------------------------\n",
      "Total time: 0.165s\n",
      "\n",
      "\n",
      "Final results ========================= >>\n",
      "Duration: 0.166s\n",
      "------------------------------------------\n",
      "Random Forest --> balanced_accuracy: 0.6837 ~\n"
     ]
    }
   ],
   "source": [
    "atom.run(\"rf_us\")"
   ]
  },
  {
   "cell_type": "code",
   "execution_count": 16,
   "metadata": {},
   "outputs": [
    {
     "data": {
      "text/plain": [
       "Branch: undersample\n",
       " --> Pipeline: \n",
       "   >>> FeatureSelector\n",
       "     --> strategy: RFE\n",
       "     --> solver: RF_class\n",
       "     --> n_features: 12\n",
       "     --> max_frac_repeated: 1.0\n",
       "     --> max_correlation: 1.0\n",
       "     --> kwargs: {}\n",
       "   >>> Balancer\n",
       "     --> strategy: NearMiss\n",
       "     --> kwargs: {}\n",
       " --> Models: RF_us"
      ]
     },
     "execution_count": 16,
     "metadata": {},
     "output_type": "execute_result"
    }
   ],
   "source": [
    "# Check that the branch only contains the desired transformers \n",
    "atom.branch"
   ]
  },
  {
   "cell_type": "markdown",
   "metadata": {},
   "source": [
    "## Analyze results"
   ]
  },
  {
   "cell_type": "code",
   "execution_count": 17,
   "metadata": {},
   "outputs": [
    {
     "data": {
      "text/html": [
       "<div>\n",
       "<style scoped>\n",
       "    .dataframe tbody tr th:only-of-type {\n",
       "        vertical-align: middle;\n",
       "    }\n",
       "\n",
       "    .dataframe tbody tr th {\n",
       "        vertical-align: top;\n",
       "    }\n",
       "\n",
       "    .dataframe thead th {\n",
       "        text-align: right;\n",
       "    }\n",
       "</style>\n",
       "<table border=\"1\" class=\"dataframe\">\n",
       "  <thead>\n",
       "    <tr style=\"text-align: right;\">\n",
       "      <th></th>\n",
       "      <th>accuracy</th>\n",
       "      <th>average_precision</th>\n",
       "      <th>balanced_accuracy</th>\n",
       "      <th>f1</th>\n",
       "      <th>jaccard</th>\n",
       "      <th>matthews_corrcoef</th>\n",
       "      <th>precision</th>\n",
       "      <th>recall</th>\n",
       "      <th>roc_auc</th>\n",
       "    </tr>\n",
       "  </thead>\n",
       "  <tbody>\n",
       "    <tr>\n",
       "      <th>RF</th>\n",
       "      <td>0.957</td>\n",
       "      <td>0.528979</td>\n",
       "      <td>0.532609</td>\n",
       "      <td>0.122449</td>\n",
       "      <td>0.065217</td>\n",
       "      <td>0.249809</td>\n",
       "      <td>1.000000</td>\n",
       "      <td>0.065217</td>\n",
       "      <td>0.917236</td>\n",
       "    </tr>\n",
       "    <tr>\n",
       "      <th>RF_os</th>\n",
       "      <td>0.966</td>\n",
       "      <td>0.557137</td>\n",
       "      <td>0.754580</td>\n",
       "      <td>0.585366</td>\n",
       "      <td>0.413793</td>\n",
       "      <td>0.572556</td>\n",
       "      <td>0.666667</td>\n",
       "      <td>0.521739</td>\n",
       "      <td>0.943476</td>\n",
       "    </tr>\n",
       "    <tr>\n",
       "      <th>RF_us</th>\n",
       "      <td>0.515</td>\n",
       "      <td>0.223479</td>\n",
       "      <td>0.683734</td>\n",
       "      <td>0.141593</td>\n",
       "      <td>0.076190</td>\n",
       "      <td>0.154070</td>\n",
       "      <td>0.077071</td>\n",
       "      <td>0.869565</td>\n",
       "      <td>0.808939</td>\n",
       "    </tr>\n",
       "  </tbody>\n",
       "</table>\n",
       "</div>"
      ],
      "text/plain": [
       "       accuracy  average_precision  balanced_accuracy        f1   jaccard  \\\n",
       "RF        0.957           0.528979           0.532609  0.122449  0.065217   \n",
       "RF_os     0.966           0.557137           0.754580  0.585366  0.413793   \n",
       "RF_us     0.515           0.223479           0.683734  0.141593  0.076190   \n",
       "\n",
       "       matthews_corrcoef  precision    recall   roc_auc  \n",
       "RF              0.249809   1.000000  0.065217  0.917236  \n",
       "RF_os           0.572556   0.666667  0.521739  0.943476  \n",
       "RF_us           0.154070   0.077071  0.869565  0.808939  "
      ]
     },
     "execution_count": 17,
     "metadata": {},
     "output_type": "execute_result"
    }
   ],
   "source": [
    "atom.evaluate()"
   ]
  },
  {
   "cell_type": "code",
   "execution_count": 18,
   "metadata": {},
   "outputs": [
    {
     "data": {
      "image/png": "[encoded data removed]",
      "text/plain": [
       "<Figure size 720x432 with 1 Axes>"
      ]
     },
     "metadata": {},
     "output_type": "display_data"
    }
   ],
   "source": [
    "atom.plot_prc()"
   ]
  },
  {
   "cell_type": "code",
   "execution_count": 19,
   "metadata": {},
   "outputs": [
    {
     "data": {
      "image/png": "[encoded data removed]",
      "text/plain": [
       "<Figure size 720x432 with 1 Axes>"
      ]
     },
     "metadata": {},
     "output_type": "display_data"
    }
   ],
   "source": [
    "atom.plot_roc()"
   ]
  }
 ],
 "metadata": {
  "kernelspec": {
   "display_name": "Python 3 (ipykernel)",
   "language": "python",
   "name": "python3"
  },
  "language_info": {
   "codemirror_mode": {
    "name": "ipython",
    "version": 3
   },
   "file_extension": ".py",
   "mimetype": "text/x-python",
   "name": "python",
   "nbconvert_exporter": "python",
   "pygments_lexer": "ipython3",
   "version": "3.8.3"
  },
  "toc": {
   "base_numbering": 1,
   "nav_menu": {},
   "number_sections": true,
   "sideBar": true,
   "skip_h1_title": false,
   "title_cell": "Table of Contents",
   "title_sidebar": "Contents",
   "toc_cell": false,
   "toc_position": {},
   "toc_section_display": true,
   "toc_window_display": false
  }
 },
 "nbformat": 4,
 "nbformat_minor": 2
}
