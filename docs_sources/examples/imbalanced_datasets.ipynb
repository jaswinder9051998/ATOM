{
 "cells": [
  {
   "cell_type": "markdown",
   "metadata": {},
   "source": [
    "# Imbalanced datasets\n",
    "------------------------------------\n",
    "\n",
    "This example shows how to handle imbalanced datasets using ATOM's branch system to evaluate differrent pipelines."
   ]
  },
  {
   "cell_type": "markdown",
   "metadata": {},
   "source": [
    "## Load the data"
   ]
  },
  {
   "cell_type": "code",
   "execution_count": 1,
   "metadata": {},
   "outputs": [],
   "source": [
    "# Import packages\n",
    "from atom import ATOMClassifier\n",
    "from sklearn.datasets import make_classification"
   ]
  },
  {
   "cell_type": "code",
   "execution_count": 2,
   "metadata": {},
   "outputs": [],
   "source": [
    "# Create a mock imbalanced dataset\n",
    "X, y = make_classification(n_samples=1000, weights=(0.95,), random_state=1)"
   ]
  },
  {
   "cell_type": "markdown",
   "metadata": {},
   "source": [
    "## Run the pipeline"
   ]
  },
  {
   "cell_type": "code",
   "execution_count": 3,
   "metadata": {},
   "outputs": [
    {
     "name": "stdout",
     "output_type": "stream",
     "text": [
      "<< ================== ATOM ================== >>\n",
      "Algorithm task: binary classification.\n",
      "\n",
      "Dataset stats ====================== >>\n",
      "Shape: (1000, 21)\n",
      "Scaled: True\n",
      "Outlier values: 91 (0.5%)\n",
      "---------------------------------------\n",
      "Train set size: 800\n",
      "Test set size: 200\n",
      "---------------------------------------\n",
      "|    | dataset    | train      | test       |\n",
      "|---:|:-----------|:-----------|:-----------|\n",
      "|  0 | 945 (17.2) | 754 (16.4) | 191 (21.2) |\n",
      "|  1 | 55 (1.0)   | 46 (1.0)   | 9 (1.0)    |\n",
      "\n"
     ]
    }
   ],
   "source": [
    "# Initialize ATOM with the created dataset\n",
    "atom = ATOMClassifier(X, y, test_size=0.2, verbose=2, random_state=1)"
   ]
  },
  {
   "cell_type": "code",
   "execution_count": 4,
   "metadata": {},
   "outputs": [
    {
     "data": {
      "text/html": [
       "<div>\n",
       "<style scoped>\n",
       "    .dataframe tbody tr th:only-of-type {\n",
       "        vertical-align: middle;\n",
       "    }\n",
       "\n",
       "    .dataframe tbody tr th {\n",
       "        vertical-align: top;\n",
       "    }\n",
       "\n",
       "    .dataframe thead th {\n",
       "        text-align: right;\n",
       "    }\n",
       "</style>\n",
       "<table border=\"1\" class=\"dataframe\">\n",
       "  <thead>\n",
       "    <tr style=\"text-align: right;\">\n",
       "      <th></th>\n",
       "      <th>Feature 1</th>\n",
       "      <th>Feature 2</th>\n",
       "      <th>Feature 3</th>\n",
       "      <th>Feature 4</th>\n",
       "      <th>Feature 5</th>\n",
       "      <th>Feature 6</th>\n",
       "      <th>Feature 7</th>\n",
       "      <th>Feature 8</th>\n",
       "      <th>Feature 9</th>\n",
       "      <th>Feature 10</th>\n",
       "      <th>...</th>\n",
       "      <th>Feature 12</th>\n",
       "      <th>Feature 13</th>\n",
       "      <th>Feature 14</th>\n",
       "      <th>Feature 15</th>\n",
       "      <th>Feature 16</th>\n",
       "      <th>Feature 17</th>\n",
       "      <th>Feature 18</th>\n",
       "      <th>Feature 19</th>\n",
       "      <th>Feature 20</th>\n",
       "      <th>Target</th>\n",
       "    </tr>\n",
       "  </thead>\n",
       "  <tbody>\n",
       "    <tr>\n",
       "      <th>0</th>\n",
       "      <td>-1.589560</td>\n",
       "      <td>0.104910</td>\n",
       "      <td>0.125240</td>\n",
       "      <td>0.306000</td>\n",
       "      <td>-0.119472</td>\n",
       "      <td>-0.412497</td>\n",
       "      <td>0.195832</td>\n",
       "      <td>-1.478023</td>\n",
       "      <td>-1.563505</td>\n",
       "      <td>0.666030</td>\n",
       "      <td>...</td>\n",
       "      <td>0.013924</td>\n",
       "      <td>-1.377594</td>\n",
       "      <td>-0.087810</td>\n",
       "      <td>1.008428</td>\n",
       "      <td>-0.385521</td>\n",
       "      <td>-2.094381</td>\n",
       "      <td>0.482790</td>\n",
       "      <td>-1.408973</td>\n",
       "      <td>0.076441</td>\n",
       "      <td>0</td>\n",
       "    </tr>\n",
       "    <tr>\n",
       "      <th>1</th>\n",
       "      <td>0.476680</td>\n",
       "      <td>-0.911868</td>\n",
       "      <td>-1.658660</td>\n",
       "      <td>-0.774640</td>\n",
       "      <td>0.486952</td>\n",
       "      <td>-0.066127</td>\n",
       "      <td>-0.989610</td>\n",
       "      <td>-0.770401</td>\n",
       "      <td>0.341549</td>\n",
       "      <td>-0.465186</td>\n",
       "      <td>...</td>\n",
       "      <td>-0.264093</td>\n",
       "      <td>-0.479565</td>\n",
       "      <td>1.299482</td>\n",
       "      <td>-0.378359</td>\n",
       "      <td>1.174563</td>\n",
       "      <td>0.382860</td>\n",
       "      <td>-1.213936</td>\n",
       "      <td>-0.035720</td>\n",
       "      <td>-0.453976</td>\n",
       "      <td>0</td>\n",
       "    </tr>\n",
       "    <tr>\n",
       "      <th>2</th>\n",
       "      <td>-0.274674</td>\n",
       "      <td>0.668523</td>\n",
       "      <td>0.534805</td>\n",
       "      <td>-1.205574</td>\n",
       "      <td>-0.367468</td>\n",
       "      <td>-0.735314</td>\n",
       "      <td>-0.258589</td>\n",
       "      <td>0.204160</td>\n",
       "      <td>-0.491376</td>\n",
       "      <td>-0.788470</td>\n",
       "      <td>...</td>\n",
       "      <td>0.040235</td>\n",
       "      <td>-1.883139</td>\n",
       "      <td>-0.393081</td>\n",
       "      <td>0.034290</td>\n",
       "      <td>0.067912</td>\n",
       "      <td>1.376503</td>\n",
       "      <td>-2.512454</td>\n",
       "      <td>-0.947204</td>\n",
       "      <td>0.752307</td>\n",
       "      <td>0</td>\n",
       "    </tr>\n",
       "    <tr>\n",
       "      <th>3</th>\n",
       "      <td>-1.322943</td>\n",
       "      <td>0.373902</td>\n",
       "      <td>0.301676</td>\n",
       "      <td>0.340079</td>\n",
       "      <td>1.505533</td>\n",
       "      <td>-0.684503</td>\n",
       "      <td>2.053475</td>\n",
       "      <td>0.515006</td>\n",
       "      <td>-1.130264</td>\n",
       "      <td>-0.071174</td>\n",
       "      <td>...</td>\n",
       "      <td>-0.497840</td>\n",
       "      <td>-1.034886</td>\n",
       "      <td>-1.101358</td>\n",
       "      <td>0.848783</td>\n",
       "      <td>-0.610793</td>\n",
       "      <td>2.673071</td>\n",
       "      <td>0.265086</td>\n",
       "      <td>-0.817729</td>\n",
       "      <td>-0.464064</td>\n",
       "      <td>0</td>\n",
       "    </tr>\n",
       "    <tr>\n",
       "      <th>4</th>\n",
       "      <td>-0.437990</td>\n",
       "      <td>0.076926</td>\n",
       "      <td>-1.396307</td>\n",
       "      <td>0.616182</td>\n",
       "      <td>1.006997</td>\n",
       "      <td>-0.102365</td>\n",
       "      <td>-0.713030</td>\n",
       "      <td>1.318968</td>\n",
       "      <td>-1.026331</td>\n",
       "      <td>-0.914775</td>\n",
       "      <td>...</td>\n",
       "      <td>1.122136</td>\n",
       "      <td>0.315690</td>\n",
       "      <td>-0.504619</td>\n",
       "      <td>0.337018</td>\n",
       "      <td>0.944618</td>\n",
       "      <td>-0.122163</td>\n",
       "      <td>-0.954076</td>\n",
       "      <td>1.465656</td>\n",
       "      <td>1.421709</td>\n",
       "      <td>1</td>\n",
       "    </tr>\n",
       "  </tbody>\n",
       "</table>\n",
       "<p>5 rows × 21 columns</p>\n",
       "</div>"
      ],
      "text/plain": [
       "   Feature 1  Feature 2  Feature 3  Feature 4  Feature 5  Feature 6  \\\n",
       "0  -1.589560   0.104910   0.125240   0.306000  -0.119472  -0.412497   \n",
       "1   0.476680  -0.911868  -1.658660  -0.774640   0.486952  -0.066127   \n",
       "2  -0.274674   0.668523   0.534805  -1.205574  -0.367468  -0.735314   \n",
       "3  -1.322943   0.373902   0.301676   0.340079   1.505533  -0.684503   \n",
       "4  -0.437990   0.076926  -1.396307   0.616182   1.006997  -0.102365   \n",
       "\n",
       "   Feature 7  Feature 8  Feature 9  Feature 10  ...  Feature 12  Feature 13  \\\n",
       "0   0.195832  -1.478023  -1.563505    0.666030  ...    0.013924   -1.377594   \n",
       "1  -0.989610  -0.770401   0.341549   -0.465186  ...   -0.264093   -0.479565   \n",
       "2  -0.258589   0.204160  -0.491376   -0.788470  ...    0.040235   -1.883139   \n",
       "3   2.053475   0.515006  -1.130264   -0.071174  ...   -0.497840   -1.034886   \n",
       "4  -0.713030   1.318968  -1.026331   -0.914775  ...    1.122136    0.315690   \n",
       "\n",
       "   Feature 14  Feature 15  Feature 16  Feature 17  Feature 18  Feature 19  \\\n",
       "0   -0.087810    1.008428   -0.385521   -2.094381    0.482790   -1.408973   \n",
       "1    1.299482   -0.378359    1.174563    0.382860   -1.213936   -0.035720   \n",
       "2   -0.393081    0.034290    0.067912    1.376503   -2.512454   -0.947204   \n",
       "3   -1.101358    0.848783   -0.610793    2.673071    0.265086   -0.817729   \n",
       "4   -0.504619    0.337018    0.944618   -0.122163   -0.954076    1.465656   \n",
       "\n",
       "   Feature 20  Target  \n",
       "0    0.076441       0  \n",
       "1   -0.453976       0  \n",
       "2    0.752307       0  \n",
       "3   -0.464064       0  \n",
       "4    1.421709       1  \n",
       "\n",
       "[5 rows x 21 columns]"
      ]
     },
     "execution_count": 4,
     "metadata": {},
     "output_type": "execute_result"
    }
   ],
   "source": [
    "# Have a look at the data, note that atom automatically\n",
    "# names the columns if the input is not a dataframe\n",
    "atom.head()"
   ]
  },
  {
   "cell_type": "code",
   "execution_count": 5,
   "metadata": {},
   "outputs": [
    {
     "name": "stdout",
     "output_type": "stream",
     "text": [
      "Fitting FeatureSelector...\n",
      "Performing feature selection ...\n",
      " --> The RFE selected 12 features from the dataset.\n",
      "   >>> Dropping feature Feature 5 (rank 2).\n",
      "   >>> Dropping feature Feature 6 (rank 7).\n",
      "   >>> Dropping feature Feature 8 (rank 4).\n",
      "   >>> Dropping feature Feature 9 (rank 5).\n",
      "   >>> Dropping feature Feature 16 (rank 8).\n",
      "   >>> Dropping feature Feature 17 (rank 9).\n",
      "   >>> Dropping feature Feature 18 (rank 6).\n",
      "   >>> Dropping feature Feature 20 (rank 3).\n"
     ]
    }
   ],
   "source": [
    "# Let's start reducing the number of features\n",
    "atom.feature_selection(\"RFE\", solver=\"LR\", n_features=12)"
   ]
  },
  {
   "cell_type": "code",
   "execution_count": 6,
   "metadata": {},
   "outputs": [
    {
     "name": "stdout",
     "output_type": "stream",
     "text": [
      "\n",
      "Training ===================================== >>\n",
      "Models: kSVM\n",
      "Metric: balanced_accuracy\n",
      "\n",
      "\n",
      "Results for Kernel-SVM:         \n",
      "Fit ---------------------------------------------\n",
      "Train evaluation --> balanced_accuracy: 0.5652\n",
      "Test evaluation --> balanced_accuracy: 0.5556\n",
      "Time elapsed: 0.040s\n",
      "Bagging -----------------------------------------\n",
      "Evaluation --> balanced_accuracy: 0.5757 ± 0.028\n",
      "Time elapsed: 0.098s\n",
      "-------------------------------------------------\n",
      "Total time: 0.138s\n",
      "\n",
      "\n",
      "Final results ========================= >>\n",
      "Duration: 0.138s\n",
      "------------------------------------------\n",
      "Kernel-SVM --> balanced_accuracy: 0.5757 ± 0.028\n"
     ]
    }
   ],
   "source": [
    "# Now, we fit a SVM model directly on the imbalanced data\n",
    "atom.run(\"kSVM\", metric=\"ba\", bagging=5)"
   ]
  },
  {
   "cell_type": "markdown",
   "metadata": {},
   "source": [
    "## Class weights"
   ]
  },
  {
   "cell_type": "code",
   "execution_count": 7,
   "metadata": {},
   "outputs": [
    {
     "name": "stdout",
     "output_type": "stream",
     "text": [
      "\n",
      "Training ===================================== >>\n",
      "Models: kSVM_cw\n",
      "Metric: balanced_accuracy\n",
      "\n",
      "\n",
      "Results for Kernel-SVM:         \n",
      "Fit ---------------------------------------------\n",
      "Train evaluation --> balanced_accuracy: 0.9728\n",
      "Test evaluation --> balanced_accuracy: 0.6725\n",
      "Time elapsed: 0.051s\n",
      "Bagging -----------------------------------------\n",
      "Evaluation --> balanced_accuracy: 0.6634 ± 0.0263\n",
      "Time elapsed: 0.105s\n",
      "-------------------------------------------------\n",
      "Total time: 0.157s\n",
      "\n",
      "\n",
      "Final results ========================= >>\n",
      "Duration: 0.157s\n",
      "------------------------------------------\n",
      "Kernel-SVM --> balanced_accuracy: 0.6634 ± 0.0263 ~\n"
     ]
    }
   ],
   "source": [
    "# Train another SVM using class weight\n",
    "# Add custom parameters through est_params\n",
    "# Note the tag after the model's acronym to differentiate this model from the first\n",
    "atom.run(\"kSVM_cw\", est_params={\"class_weight\": atom.get_class_weight()}, bagging=5)"
   ]
  },
  {
   "cell_type": "code",
   "execution_count": 8,
   "metadata": {},
   "outputs": [
    {
     "data": {
      "text/plain": [
       "SVC(class_weight={0: 1.061, 1: 17.391}, random_state=1)"
      ]
     },
     "execution_count": 8,
     "metadata": {},
     "output_type": "execute_result"
    }
   ],
   "source": [
    "atom.kSVM_cw.estimator  # Check that the estimator indeed uses class weight"
   ]
  },
  {
   "cell_type": "code",
   "execution_count": 9,
   "metadata": {},
   "outputs": [
    {
     "data": {
      "text/plain": [
       "Branch: master\n",
       " --> Pipeline: \n",
       "   >>> FeatureSelector\n",
       "     --> strategy: RFE\n",
       "     --> solver: LogisticRegression(n_jobs=1, random_state=1)\n",
       "     --> n_features: 12\n",
       "     --> max_frac_repeated: 1.0\n",
       "     --> max_correlation: 1.0\n",
       "     --> kwargs: {}\n",
       " --> Models: kSVM, kSVM_cw"
      ]
     },
     "execution_count": 9,
     "metadata": {},
     "output_type": "execute_result"
    }
   ],
   "source": [
    "# The transformer and the models have been added to the branch\n",
    "atom.branch"
   ]
  },
  {
   "cell_type": "markdown",
   "metadata": {},
   "source": [
    "## Oversampling"
   ]
  },
  {
   "cell_type": "code",
   "execution_count": 10,
   "metadata": {},
   "outputs": [
    {
     "name": "stdout",
     "output_type": "stream",
     "text": [
      "New branch oversample successfully created!\n"
     ]
    }
   ],
   "source": [
    "# Create a new branch for oversampling\n",
    "atom.branch = \"oversample\""
   ]
  },
  {
   "cell_type": "code",
   "execution_count": 11,
   "metadata": {},
   "outputs": [
    {
     "data": {
      "text/plain": [
       "Branch: oversample\n",
       " --> Pipeline: \n",
       "   >>> FeatureSelector\n",
       "     --> strategy: RFE\n",
       "     --> solver: LogisticRegression(n_jobs=1, random_state=1)\n",
       "     --> n_features: 12\n",
       "     --> max_frac_repeated: 1.0\n",
       "     --> max_correlation: 1.0\n",
       "     --> kwargs: {}\n",
       " --> Models: None"
      ]
     },
     "execution_count": 11,
     "metadata": {},
     "output_type": "execute_result"
    }
   ],
   "source": [
    "atom.branch  # The branch adopts all transformers from the parent branch"
   ]
  },
  {
   "cell_type": "code",
   "execution_count": 12,
   "metadata": {},
   "outputs": [
    {
     "name": "stdout",
     "output_type": "stream",
     "text": [
      "Oversampling with SMOTE...\n",
      " --> Adding 708 samples to class: 1.\n"
     ]
    }
   ],
   "source": [
    "# Perform oversampling of the minority class\n",
    "atom.balance(strategy=\"smote\")"
   ]
  },
  {
   "cell_type": "code",
   "execution_count": 13,
   "metadata": {
    "scrolled": true
   },
   "outputs": [
    {
     "data": {
      "text/html": [
       "<div>\n",
       "<style scoped>\n",
       "    .dataframe tbody tr th:only-of-type {\n",
       "        vertical-align: middle;\n",
       "    }\n",
       "\n",
       "    .dataframe tbody tr th {\n",
       "        vertical-align: top;\n",
       "    }\n",
       "\n",
       "    .dataframe thead th {\n",
       "        text-align: right;\n",
       "    }\n",
       "</style>\n",
       "<table border=\"1\" class=\"dataframe\">\n",
       "  <thead>\n",
       "    <tr style=\"text-align: right;\">\n",
       "      <th></th>\n",
       "      <th>dataset</th>\n",
       "      <th>train</th>\n",
       "      <th>test</th>\n",
       "    </tr>\n",
       "  </thead>\n",
       "  <tbody>\n",
       "    <tr>\n",
       "      <th>0</th>\n",
       "      <td>945</td>\n",
       "      <td>754</td>\n",
       "      <td>191</td>\n",
       "    </tr>\n",
       "    <tr>\n",
       "      <th>1</th>\n",
       "      <td>763</td>\n",
       "      <td>754</td>\n",
       "      <td>9</td>\n",
       "    </tr>\n",
       "  </tbody>\n",
       "</table>\n",
       "</div>"
      ],
      "text/plain": [
       "   dataset  train  test\n",
       "0      945    754   191\n",
       "1      763    754     9"
      ]
     },
     "execution_count": 13,
     "metadata": {},
     "output_type": "execute_result"
    }
   ],
   "source": [
    "atom.classes  # Check the balanced training set!"
   ]
  },
  {
   "cell_type": "code",
   "execution_count": 14,
   "metadata": {},
   "outputs": [
    {
     "name": "stdout",
     "output_type": "stream",
     "text": [
      "\n",
      "Training ===================================== >>\n",
      "Models: kSVM_os\n",
      "Metric: balanced_accuracy\n",
      "\n",
      "\n",
      "Results for Kernel-SVM:         \n",
      "Fit ---------------------------------------------\n",
      "Train evaluation --> balanced_accuracy: 0.9721\n",
      "Test evaluation --> balanced_accuracy: 0.6803\n",
      "Time elapsed: 0.093s\n",
      "Bagging -----------------------------------------\n",
      "Evaluation --> balanced_accuracy: 0.6741 ± 0.0027\n",
      "Time elapsed: 0.172s\n",
      "-------------------------------------------------\n",
      "Total time: 0.266s\n",
      "\n",
      "\n",
      "Final results ========================= >>\n",
      "Duration: 0.266s\n",
      "------------------------------------------\n",
      "Kernel-SVM --> balanced_accuracy: 0.6741 ± 0.0027 ~\n"
     ]
    }
   ],
   "source": [
    "# Train another SVM model on this branch\n",
    "atom.run(\"kSVM_os\", bagging=5)"
   ]
  },
  {
   "cell_type": "markdown",
   "metadata": {},
   "source": [
    "## Undersampling"
   ]
  },
  {
   "cell_type": "code",
   "execution_count": 15,
   "metadata": {},
   "outputs": [
    {
     "name": "stdout",
     "output_type": "stream",
     "text": [
      "New branch undersample successfully created!\n"
     ]
    }
   ],
   "source": [
    "# Create the undersampling branch\n",
    "# Create from master to not adopt the SMOTE transformer!\n",
    "atom.branch = \"undersample_from_master\""
   ]
  },
  {
   "cell_type": "code",
   "execution_count": 16,
   "metadata": {},
   "outputs": [
    {
     "data": {
      "text/html": [
       "<div>\n",
       "<style scoped>\n",
       "    .dataframe tbody tr th:only-of-type {\n",
       "        vertical-align: middle;\n",
       "    }\n",
       "\n",
       "    .dataframe tbody tr th {\n",
       "        vertical-align: top;\n",
       "    }\n",
       "\n",
       "    .dataframe thead th {\n",
       "        text-align: right;\n",
       "    }\n",
       "</style>\n",
       "<table border=\"1\" class=\"dataframe\">\n",
       "  <thead>\n",
       "    <tr style=\"text-align: right;\">\n",
       "      <th></th>\n",
       "      <th>dataset</th>\n",
       "      <th>train</th>\n",
       "      <th>test</th>\n",
       "    </tr>\n",
       "  </thead>\n",
       "  <tbody>\n",
       "    <tr>\n",
       "      <th>0</th>\n",
       "      <td>945</td>\n",
       "      <td>754</td>\n",
       "      <td>191</td>\n",
       "    </tr>\n",
       "    <tr>\n",
       "      <th>1</th>\n",
       "      <td>55</td>\n",
       "      <td>46</td>\n",
       "      <td>9</td>\n",
       "    </tr>\n",
       "  </tbody>\n",
       "</table>\n",
       "</div>"
      ],
      "text/plain": [
       "   dataset  train  test\n",
       "0      945    754   191\n",
       "1       55     46     9"
      ]
     },
     "execution_count": 16,
     "metadata": {},
     "output_type": "execute_result"
    }
   ],
   "source": [
    "atom.classes  # In this branch, the data is still imbalanced"
   ]
  },
  {
   "cell_type": "code",
   "execution_count": 17,
   "metadata": {},
   "outputs": [
    {
     "name": "stdout",
     "output_type": "stream",
     "text": [
      "Undersampling with NearMiss...\n",
      " --> Removing 708 samples from class: 0.\n"
     ]
    }
   ],
   "source": [
    "# Perform undersampling of the majority class\n",
    "atom.balance(strategy=\"NearMiss\")"
   ]
  },
  {
   "cell_type": "code",
   "execution_count": 18,
   "metadata": {},
   "outputs": [
    {
     "name": "stdout",
     "output_type": "stream",
     "text": [
      "\n",
      "Training ===================================== >>\n",
      "Models: kSVM_us\n",
      "Metric: balanced_accuracy\n",
      "\n",
      "\n",
      "Results for Kernel-SVM:         \n",
      "Fit ---------------------------------------------\n",
      "Train evaluation --> balanced_accuracy: 0.837\n",
      "Test evaluation --> balanced_accuracy: 0.6303\n",
      "Time elapsed: 0.017s\n",
      "Bagging -----------------------------------------\n",
      "Evaluation --> balanced_accuracy: 0.6009 ± 0.0584\n",
      "Time elapsed: 0.048s\n",
      "-------------------------------------------------\n",
      "Total time: 0.065s\n",
      "\n",
      "\n",
      "Final results ========================= >>\n",
      "Duration: 0.065s\n",
      "------------------------------------------\n",
      "Kernel-SVM --> balanced_accuracy: 0.6009 ± 0.0584 ~\n"
     ]
    }
   ],
   "source": [
    "atom.run(\"kSVM_us\", bagging=5)"
   ]
  },
  {
   "cell_type": "markdown",
   "metadata": {},
   "source": [
    "## Analyze results"
   ]
  },
  {
   "cell_type": "code",
   "execution_count": 19,
   "metadata": {},
   "outputs": [
    {
     "data": {
      "image/png": "[encoded data removed]",
      "text/plain": [
       "<Figure size 720x432 with 1 Axes>"
      ]
     },
     "metadata": {},
     "output_type": "display_data"
    }
   ],
   "source": [
    "# Comparing the performances of all the SVM models can now easily\n",
    "# be done through atom\n",
    "atom.plot_results()"
   ]
  },
  {
   "cell_type": "code",
   "execution_count": 20,
   "metadata": {},
   "outputs": [
    {
     "data": {
      "image/png": "[encoded data removed]",
      "text/plain": [
       "<Figure size 720x432 with 1 Axes>"
      ]
     },
     "metadata": {},
     "output_type": "display_data"
    }
   ],
   "source": [
    "atom.plot_confusion_matrix()"
   ]
  }
 ],
 "metadata": {
  "kernelspec": {
   "display_name": "Python 3",
   "language": "python",
   "name": "python3"
  },
  "language_info": {
   "codemirror_mode": {
    "name": "ipython",
    "version": 3
   },
   "file_extension": ".py",
   "mimetype": "text/x-python",
   "name": "python",
   "nbconvert_exporter": "python",
   "pygments_lexer": "ipython3",
   "version": "3.8.3"
  }
 },
 "nbformat": 4,
 "nbformat_minor": 2
}