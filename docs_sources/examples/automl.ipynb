{
 "cells": [
  {
   "cell_type": "markdown",
   "metadata": {},
   "source": [
    "# AutoML\n",
    "----------------\n",
    "\n",
    "This example shows how to use atom's AutoML implementation to automatically search for an optimized pipeline.\n",
    "\n",
    "Import the breast cancer dataset from [sklearn.datasets](https://scikit-learn.org/stable/datasets/index.html#wine-dataset). This is a small and easy to train dataset whose goal is to predict whether a patient has breast cancer or not."
   ]
  },
  {
   "cell_type": "markdown",
   "metadata": {},
   "source": [
    "## Load the data"
   ]
  },
  {
   "cell_type": "code",
   "execution_count": 22,
   "metadata": {},
   "outputs": [],
   "source": [
    "# Import packages\n",
    "from sklearn.datasets import load_breast_cancer\n",
    "from sklearn.preprocessing import StandardScaler\n",
    "from atom import ATOMClassifier"
   ]
  },
  {
   "cell_type": "code",
   "execution_count": 23,
   "metadata": {},
   "outputs": [],
   "source": [
    "# Load the data\n",
    "X, y = load_breast_cancer(return_X_y=True)"
   ]
  },
  {
   "cell_type": "markdown",
   "metadata": {},
   "source": [
    "## Run the pipeline"
   ]
  },
  {
   "cell_type": "code",
   "execution_count": 24,
   "metadata": {},
   "outputs": [
    {
     "name": "stdout",
     "output_type": "stream",
     "text": [
      "<< ================== ATOM ================== >>\n",
      "Algorithm task: binary classification.\n",
      "Parallel processing with 6 cores.\n",
      "\n",
      "Dataset stats ==================== >>\n",
      "Shape: (569, 31)\n",
      "Memory: 138.96 kB\n",
      "Scaled: False\n",
      "Outlier values: 169 (1.2%)\n",
      "-------------------------------------\n",
      "Train set size: 456\n",
      "Test set size: 113\n",
      "-------------------------------------\n",
      "|   |     dataset |       train |        test |\n",
      "| - | ----------- | ----------- | ----------- |\n",
      "| 0 |   212 (1.0) |   170 (1.0) |    42 (1.0) |\n",
      "| 1 |   357 (1.7) |   286 (1.7) |    71 (1.7) |\n",
      "\n"
     ]
    }
   ],
   "source": [
    "atom = ATOMClassifier(X, y, n_jobs=6, verbose=2, warnings=False, random_state=1)"
   ]
  },
  {
   "cell_type": "code",
   "execution_count": 25,
   "metadata": {},
   "outputs": [
    {
     "name": "stdout",
     "output_type": "stream",
     "text": [
      "Fitting StandardScaler...\n",
      "Applying StandardScaler to the dataset...\n"
     ]
    }
   ],
   "source": [
    "# It's possible to add custom estimators to the pipeline\n",
    "atom.add(StandardScaler())"
   ]
  },
  {
   "cell_type": "code",
   "execution_count": 26,
   "metadata": {
    "run_control": {
     "marked": false
    }
   },
   "outputs": [
    {
     "data": {
      "text/plain": "True"
     },
     "execution_count": 26,
     "metadata": {},
     "output_type": "execute_result"
    }
   ],
   "source": [
    "# Check that the scaling worked\n",
    "atom.scaled"
   ]
  },
  {
   "cell_type": "code",
   "execution_count": 27,
   "metadata": {},
   "outputs": [
    {
     "name": "stdout",
     "output_type": "stream",
     "text": [
      "Fitting automl algorithm...\n"
     ]
    },
    {
     "data": {
      "text/plain": "Optimization Progress:   0%|          | 0/100 [00:00<?, ?pipeline/s]",
      "application/vnd.jupyter.widget-view+json": {
       "version_major": 2,
       "version_minor": 0,
       "model_id": "8e570569e23f4a96bae6997cf575a77d"
      }
     },
     "metadata": {},
     "output_type": "display_data"
    },
    {
     "name": "stdout",
     "output_type": "stream",
     "text": [
      "\n",
      "Generation 1 - Current best internal CV score: 0.9736502627806976\n",
      "\n",
      "Generation 2 - Current best internal CV score: 0.9736741519350215\n",
      "\n",
      "Generation 3 - Current best internal CV score: 0.9758480649784997\n",
      "\n",
      "Generation 4 - Current best internal CV score: 0.9758719541328237\n",
      "\n",
      "5.06 minutes have elapsed. TPOT will close down.\n",
      "TPOT closed during evaluation in one generation.\n",
      "WARNING: TPOT may not provide a good pipeline if TPOT is stopped/interrupted in a early generation.\n",
      "\n",
      "\n",
      "TPOT closed prematurely. Will use the current best pipeline.\n",
      "\n",
      "Best pipeline: XGBClassifier(PolynomialFeatures(MinMaxScaler(input_matrix), degree=2, include_bias=False, interaction_only=False), learning_rate=0.1, max_depth=1, min_child_weight=1, n_estimators=100, n_jobs=1, subsample=0.8500000000000001, verbosity=0)\n",
      "\n",
      "Merging automl results with atom...\n",
      "Applying MinMaxScaler to the dataset...\n",
      "Applying PolynomialFeatures to the dataset...\n",
      "Adding model XGBoost (XGB) to the pipeline...\n"
     ]
    }
   ],
   "source": [
    "# Find an optimized pipeline using AutoML\n",
    "atom.automl(\n",
    "    scoring=\"accuracy\",\n",
    "    max_time_mins=5,\n",
    "    template=\"Transformer-Transformer-Classifier\",\n",
    ")"
   ]
  },
  {
   "cell_type": "markdown",
   "metadata": {},
   "source": [
    "## Analyze the results"
   ]
  },
  {
   "cell_type": "code",
   "execution_count": 28,
   "metadata": {},
   "outputs": [
    {
     "data": {
      "text/plain": "TPOTClassifier(max_time_mins=5, n_jobs=6, random_state=1, scoring='accuracy',\n               template='Transformer-Transformer-Classifier', verbosity=2)"
     },
     "execution_count": 28,
     "metadata": {},
     "output_type": "execute_result"
    }
   ],
   "source": [
    "# The tpot estimator can be accessed for further analysis\n",
    "atom.tpot"
   ]
  },
  {
   "cell_type": "code",
   "execution_count": 29,
   "metadata": {},
   "outputs": [
    {
     "name": "stdout",
     "output_type": "stream",
     "text": [
      "Branch: master\n",
      " --> Pipeline: \n",
      "   >>> StandardScaler\n",
      "     --> copy: True\n",
      "     --> with_mean: True\n",
      "     --> with_std: True\n",
      "   >>> MinMaxScaler\n",
      "     --> feature_range: (0, 1)\n",
      "     --> copy: True\n",
      "     --> clip: False\n",
      "   >>> PolynomialFeatures\n",
      "     --> degree: 2\n",
      "     --> interaction_only: False\n",
      "     --> include_bias: False\n",
      "     --> order: C\n",
      " --> Models: XGB\n"
     ]
    }
   ],
   "source": [
    "# Check the new transformers in the branch\n",
    "atom.branch.status()"
   ]
  },
  {
   "cell_type": "code",
   "execution_count": 30,
   "metadata": {},
   "outputs": [
    {
     "data": {
      "text/plain": "<Figure size 576x360 with 1 Axes>",
      "image/png": "[encoded data removed]"
     },
     "metadata": {},
     "output_type": "display_data"
    }
   ],
   "source": [
    "# Or draw the pipeline\n",
    "atom.plot_pipeline()"
   ]
  },
  {
   "cell_type": "code",
   "execution_count": 31,
   "metadata": {},
   "outputs": [
    {
     "data": {
      "text/plain": "XGBoost\n --> Estimator: XGBClassifier\n --> Evaluation: accuracy: 0.9646"
     },
     "execution_count": 31,
     "metadata": {},
     "output_type": "execute_result"
    }
   ],
   "source": [
    "# Note that the model is also merged with atom\n",
    "atom.xgb"
   ]
  },
  {
   "cell_type": "code",
   "execution_count": 32,
   "metadata": {},
   "outputs": [
    {
     "name": "stdout",
     "output_type": "stream",
     "text": [
      "Pipeline(steps=[('standardscaler', StandardScaler()),\n",
      "                ('minmaxscaler', MinMaxScaler()),\n",
      "                ('polynomialfeatures', PolynomialFeatures(include_bias=False)),\n",
      "                ('XGB',\n",
      "                 XGBClassifier(base_score=0.5, booster='gbtree',\n",
      "                               colsample_bylevel=1, colsample_bynode=1,\n",
      "                               colsample_bytree=1, enable_categorical=False,\n",
      "                               gamma=0, gpu_id=-1, importance_type=None,\n",
      "                               interaction_constraints='', learning_rate=0.1,\n",
      "                               max_delta_step=0, max_depth=1,\n",
      "                               min_child_weight=1, missing=nan,\n",
      "                               monotone_constraints='()', n_estimators=100,\n",
      "                               n_jobs=1, num_parallel_tree=1, predictor='auto',\n",
      "                               random_state=1, reg_alpha=0, reg_lambda=1,\n",
      "                               scale_pos_weight=1, subsample=0.8500000000000001,\n",
      "                               tree_method='exact', validate_parameters=1,\n",
      "                               verbosity=0))])\n"
     ]
    }
   ],
   "source": [
    "# The pipeline can be exported to a sklearn-like pipeline\n",
    "pl = atom.export_pipeline(model=\"xgb\")\n",
    "print(pl)"
   ]
  }
 ],
 "metadata": {
  "kernelspec": {
   "display_name": "Python 3 (ipykernel)",
   "language": "python",
   "name": "python3"
  },
  "language_info": {
   "codemirror_mode": {
    "name": "ipython",
    "version": 3
   },
   "file_extension": ".py",
   "mimetype": "text/x-python",
   "name": "python",
   "nbconvert_exporter": "python",
   "pygments_lexer": "ipython3",
   "version": "3.8.3"
  },
  "toc": {
   "base_numbering": 1,
   "nav_menu": {},
   "number_sections": true,
   "sideBar": true,
   "skip_h1_title": false,
   "title_cell": "Table of Contents",
   "title_sidebar": "Contents",
   "toc_cell": false,
   "toc_position": {},
   "toc_section_display": true,
   "toc_window_display": false
  }
 },
 "nbformat": 4,
 "nbformat_minor": 4
}