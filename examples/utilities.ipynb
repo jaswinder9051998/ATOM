{
 "cells": [
  {
   "cell_type": "markdown",
   "metadata": {},
   "source": [
    "# Utilities\n",
    "---------------------------------\n",
    "\n",
    "This example shows various useful utilities that can be used to improve your pipelines.\n",
    "\n",
    "The data used is a variation on the Australian weather dataset from [https://www.kaggle.com/jsphyg/weather-dataset-rattle-package](https://www.kaggle.com/jsphyg/weather-dataset-rattle-package). The goal of this dataset is to predict whether or not it will rain tomorrow training a binay classifier on target `RainTomorrow`."
   ]
  },
  {
   "cell_type": "markdown",
   "metadata": {},
   "source": [
    "## Load the data"
   ]
  },
  {
   "cell_type": "code",
   "execution_count": 1,
   "metadata": {},
   "outputs": [],
   "source": [
    "# Import packages\n",
    "import pandas as pd\n",
    "from sklearn.metrics import fbeta_score\n",
    "from atom import ATOMClassifier, ATOMLoader"
   ]
  },
  {
   "cell_type": "code",
   "execution_count": 2,
   "metadata": {},
   "outputs": [
    {
     "data": {
      "text/html": [
       "<div>\n",
       "<style scoped>\n",
       "    .dataframe tbody tr th:only-of-type {\n",
       "        vertical-align: middle;\n",
       "    }\n",
       "\n",
       "    .dataframe tbody tr th {\n",
       "        vertical-align: top;\n",
       "    }\n",
       "\n",
       "    .dataframe thead th {\n",
       "        text-align: right;\n",
       "    }\n",
       "</style>\n",
       "<table border=\"1\" class=\"dataframe\">\n",
       "  <thead>\n",
       "    <tr style=\"text-align: right;\">\n",
       "      <th></th>\n",
       "      <th>Location</th>\n",
       "      <th>MinTemp</th>\n",
       "      <th>MaxTemp</th>\n",
       "      <th>Rainfall</th>\n",
       "      <th>Evaporation</th>\n",
       "      <th>Sunshine</th>\n",
       "      <th>WindGustDir</th>\n",
       "      <th>WindGustSpeed</th>\n",
       "    </tr>\n",
       "  </thead>\n",
       "  <tbody>\n",
       "    <tr>\n",
       "      <th>88027</th>\n",
       "      <td>GoldCoast</td>\n",
       "      <td>15.7</td>\n",
       "      <td>21.3</td>\n",
       "      <td>3.4</td>\n",
       "      <td>NaN</td>\n",
       "      <td>NaN</td>\n",
       "      <td>SSE</td>\n",
       "      <td>31.0</td>\n",
       "    </tr>\n",
       "    <tr>\n",
       "      <th>130010</th>\n",
       "      <td>Launceston</td>\n",
       "      <td>-0.3</td>\n",
       "      <td>13.0</td>\n",
       "      <td>0.0</td>\n",
       "      <td>2.2</td>\n",
       "      <td>NaN</td>\n",
       "      <td>SSE</td>\n",
       "      <td>33.0</td>\n",
       "    </tr>\n",
       "    <tr>\n",
       "      <th>118018</th>\n",
       "      <td>Perth</td>\n",
       "      <td>7.6</td>\n",
       "      <td>25.6</td>\n",
       "      <td>0.0</td>\n",
       "      <td>4.2</td>\n",
       "      <td>9.8</td>\n",
       "      <td>ENE</td>\n",
       "      <td>26.0</td>\n",
       "    </tr>\n",
       "    <tr>\n",
       "      <th>106188</th>\n",
       "      <td>Albany</td>\n",
       "      <td>12.4</td>\n",
       "      <td>18.5</td>\n",
       "      <td>3.0</td>\n",
       "      <td>3.0</td>\n",
       "      <td>5.5</td>\n",
       "      <td>NaN</td>\n",
       "      <td>NaN</td>\n",
       "    </tr>\n",
       "    <tr>\n",
       "      <th>21882</th>\n",
       "      <td>NorfolkIsland</td>\n",
       "      <td>13.9</td>\n",
       "      <td>18.1</td>\n",
       "      <td>13.4</td>\n",
       "      <td>1.6</td>\n",
       "      <td>1.7</td>\n",
       "      <td>ENE</td>\n",
       "      <td>54.0</td>\n",
       "    </tr>\n",
       "  </tbody>\n",
       "</table>\n",
       "</div>"
      ],
      "text/plain": [
       "             Location  MinTemp  MaxTemp  Rainfall  Evaporation  Sunshine  \\\n",
       "88027       GoldCoast     15.7     21.3       3.4          NaN       NaN   \n",
       "130010     Launceston     -0.3     13.0       0.0          2.2       NaN   \n",
       "118018          Perth      7.6     25.6       0.0          4.2       9.8   \n",
       "106188         Albany     12.4     18.5       3.0          3.0       5.5   \n",
       "21882   NorfolkIsland     13.9     18.1      13.4          1.6       1.7   \n",
       "\n",
       "       WindGustDir  WindGustSpeed  \n",
       "88027          SSE           31.0  \n",
       "130010         SSE           33.0  \n",
       "118018         ENE           26.0  \n",
       "106188         NaN            NaN  \n",
       "21882          ENE           54.0  "
      ]
     },
     "execution_count": 2,
     "metadata": {},
     "output_type": "execute_result"
    }
   ],
   "source": [
    "# Load data\n",
    "X = pd.read_csv('./datasets/weatherAUS.csv')\n",
    "\n",
    "# Let's have a look at a subset of the data\n",
    "X.sample(frac=1).iloc[:5, :8]"
   ]
  },
  {
   "cell_type": "markdown",
   "metadata": {},
   "source": [
    "## Use the utility attributes"
   ]
  },
  {
   "cell_type": "code",
   "execution_count": 3,
   "metadata": {},
   "outputs": [
    {
     "name": "stdout",
     "output_type": "stream",
     "text": [
      "\n",
      "\n",
      "Columns with missing values:\n",
      " MinTemp            637\n",
      "MaxTemp            322\n",
      "Rainfall          1406\n",
      "Evaporation      60843\n",
      "Sunshine         67816\n",
      "WindGustDir       9330\n",
      "WindGustSpeed     9270\n",
      "WindDir9am       10013\n",
      "WindDir3pm        3778\n",
      "WindSpeed9am      1348\n",
      "WindSpeed3pm      2630\n",
      "Humidity9am       1774\n",
      "Humidity3pm       3610\n",
      "Pressure9am      14014\n",
      "Pressure3pm      13981\n",
      "Cloud9am         53657\n",
      "Cloud3pm         57094\n",
      "Temp9am            904\n",
      "Temp3pm           2726\n",
      "RainToday         1406\n",
      "dtype: int64\n",
      "\n",
      "Categorical columns: ['Location', 'WindGustDir', 'WindDir9am', 'WindDir3pm', 'RainToday']\n",
      "\n",
      "Is the dataset scaled? False\n"
     ]
    }
   ],
   "source": [
    "atom = ATOMClassifier(X, warnings=False, random_state=1)\n",
    "atom.clean()\n",
    "\n",
    "# We can quickly check what columns have missing values\n",
    "print(\"Columns with missing values:\\n\", atom.nans)\n",
    "\n",
    "# Or what columns are categorical\n",
    "print(\"\\nCategorical columns:\", atom.categorical)\n",
    "\n",
    "# Or if the dataset is scaled\n",
    "print(\"\\nIs the dataset scaled?\", atom.scaled)"
   ]
  },
  {
   "cell_type": "markdown",
   "metadata": {},
   "source": [
    "## Use the stats method to check changes in the dataset"
   ]
  },
  {
   "cell_type": "code",
   "execution_count": 4,
   "metadata": {},
   "outputs": [
    {
     "name": "stdout",
     "output_type": "stream",
     "text": [
      "Dataset stats ================== >>\n",
      "Shape: (142193, 22)\n",
      "Missing values: 316559\n",
      "Categorical columns: 5\n",
      "Scaled: False\n",
      "-----------------------------------\n",
      "Train set size: 113755\n",
      "Test set size: 28438\n",
      "-----------------------------------\n",
      "Dataset balance: No:Yes <==> 3.5:1.0\n",
      "-----------------------------------\n",
      "Distribution of classes:\n",
      "|    |   dataset |   train |   test |\n",
      "|---:|----------:|--------:|-------:|\n",
      "|  0 |    110316 |   88263 |  22053 |\n",
      "|  1 |     31877 |   25492 |   6385 |\n"
     ]
    }
   ],
   "source": [
    "# Note the number of missing values and categorical columns\n",
    "atom.stats()"
   ]
  },
  {
   "cell_type": "code",
   "execution_count": 5,
   "metadata": {},
   "outputs": [
    {
     "name": "stdout",
     "output_type": "stream",
     "text": [
      "Dataset stats ================== >>\n",
      "Shape: (56420, 22)\n",
      "Scaled: False\n",
      "-----------------------------------\n",
      "Train set size: 45021\n",
      "Test set size: 11399\n",
      "-----------------------------------\n",
      "Dataset balance: No:Yes <==> 3.5:1.0\n",
      "-----------------------------------\n",
      "Distribution of classes:\n",
      "|    |   dataset |   train |   test |\n",
      "|---:|----------:|--------:|-------:|\n",
      "|  0 |     43993 |   35107 |   8886 |\n",
      "|  1 |     12427 |    9914 |   2513 |\n"
     ]
    }
   ],
   "source": [
    "# Now, let's impute and encode the dataset...\n",
    "atom.impute()\n",
    "atom.encode()\n",
    "\n",
    "# ... and the values are gone\n",
    "atom.stats()"
   ]
  },
  {
   "cell_type": "markdown",
   "metadata": {},
   "source": [
    "## Change the data mid-pipeline"
   ]
  },
  {
   "cell_type": "code",
   "execution_count": 6,
   "metadata": {},
   "outputs": [],
   "source": [
    "# We can change atom's data mid-pipeline, adding a column for example\n",
    "# Note that we can only replace a dataframe with a new dataframe!\n",
    "atom.X = atom.X.assign(AvgTemp=(atom.X['MaxTemp'] + atom.X['MinTemp'])/2)\n",
    "\n",
    "# This will automatically update all other data attributes\n",
    "assert 'AvgTemp' in atom.dataset"
   ]
  },
  {
   "cell_type": "markdown",
   "metadata": {},
   "source": [
    "## Visualize the pipeline"
   ]
  },
  {
   "cell_type": "code",
   "execution_count": 7,
   "metadata": {},
   "outputs": [
    {
     "name": "stdout",
     "output_type": "stream",
     "text": [
      "Branch: main\n",
      " --> Cleaner\n",
      "   >>> prohibited_types: []\n",
      "   >>> strip_categorical: True\n",
      "   >>> maximum_cardinality: True\n",
      "   >>> minimum_cardinality: True\n",
      "   >>> missing_target: True\n",
      "   >>> encode_target: True\n",
      " --> Imputer\n",
      "   >>> strat_num: drop\n",
      "   >>> strat_cat: drop\n",
      "   >>> min_frac_rows: 0.5\n",
      "   >>> min_frac_cols: 0.5\n",
      " --> Encoder\n",
      "   >>> strategy: LeaveOneOut\n",
      "   >>> max_onehot: 10\n",
      "   >>> frac_to_other: None\n",
      "   >>> kwargs: {}\n"
     ]
    }
   ],
   "source": [
    "# We can easily visualize the pipeline through the branch\n",
    "atom.branch.status()"
   ]
  },
  {
   "cell_type": "code",
   "execution_count": 8,
   "metadata": {},
   "outputs": [
    {
     "data": {
      "image/png": "[encoded data removed]",
      "text/plain": [
       "<Figure size 576x504 with 1 Axes>"
      ]
     },
     "metadata": {},
     "output_type": "display_data"
    }
   ],
   "source": [
    "atom.plot_pipeline()  # Or using a plot"
   ]
  },
  {
   "cell_type": "markdown",
   "metadata": {},
   "source": [
    "## Use a custom metric"
   ]
  },
  {
   "cell_type": "code",
   "execution_count": 9,
   "metadata": {},
   "outputs": [
    {
     "name": "stdout",
     "output_type": "stream",
     "text": [
      "\n",
      "Training ===================================== >>\n",
      "Models: LR\n",
      "Metric: f2_score\n",
      "\n",
      "\n",
      "Results for Logistic Regression:         \n",
      "Fit ---------------------------------------------\n",
      "Train evaluation --> f2_score: 0.5677\n",
      "Test evaluation --> f2_score: 0.5691\n",
      "Time elapsed: 0.237s\n",
      "-------------------------------------------------\n",
      "Total time: 0.265s\n",
      "\n",
      "\n",
      "Final results ========================= >>\n",
      "Duration: 0.266s\n",
      "------------------------------------------\n",
      "Logistic Regression --> f2_score: 0.569\n"
     ]
    }
   ],
   "source": [
    "atom.verbose = 1\n",
    "\n",
    "# Define a custom metric\n",
    "def f2_score(y_true, y_pred):\n",
    "    return fbeta_score(y_true, y_pred, beta=2)\n",
    "\n",
    "# Remember to use the greater_is_better, needs_proba and needs_threshold parameters if necessary!\n",
    "atom.run(models='lr', metric=f2_score)"
   ]
  },
  {
   "cell_type": "markdown",
   "metadata": {},
   "source": [
    "## Customize the estimator's parameters"
   ]
  },
  {
   "cell_type": "code",
   "execution_count": 10,
   "metadata": {},
   "outputs": [
    {
     "name": "stdout",
     "output_type": "stream",
     "text": [
      "\n",
      "Training ===================================== >>\n",
      "Models: AdaB\n",
      "Metric: f2_score\n",
      "\n",
      "\n",
      "Results for AdaBoost:         \n",
      "Fit ---------------------------------------------\n",
      "Train evaluation --> f2_score: 0.5567\n",
      "Test evaluation --> f2_score: 0.5488\n",
      "Time elapsed: 2.123s\n",
      "-------------------------------------------------\n",
      "Total time: 2.123s\n",
      "\n",
      "\n",
      "Final results ========================= >>\n",
      "Duration: 2.125s\n",
      "------------------------------------------\n",
      "AdaBoost --> f2_score: 0.549\n"
     ]
    }
   ],
   "source": [
    "# You can use the est_params parameter to customize the estimator\n",
    "# Let's run AdaBoost using LR instead of a decision tree as base estimator\n",
    "atom.run('AdaB', est_params={'base_estimator': atom.lr.estimator})"
   ]
  },
  {
   "cell_type": "code",
   "execution_count": 11,
   "metadata": {},
   "outputs": [
    {
     "data": {
      "text/plain": [
       "AdaBoostClassifier(base_estimator=LogisticRegression(n_jobs=1, random_state=1),\n",
       "                   random_state=1)"
      ]
     },
     "execution_count": 11,
     "metadata": {},
     "output_type": "execute_result"
    }
   ],
   "source": [
    "atom.adab.estimator"
   ]
  },
  {
   "cell_type": "code",
   "execution_count": 12,
   "metadata": {},
   "outputs": [
    {
     "name": "stdout",
     "output_type": "stream",
     "text": [
      "\n",
      "Training ===================================== >>\n",
      "Models: Tree\n",
      "Metric: f2_score\n",
      "\n",
      "\n",
      "Running BO for Decision Tree...\n",
      "Initial point 1 ---------------------------------\n",
      "Parameters --> {'criterion': 'gini', 'splitter': 'best', 'min_samples_split': 2, 'min_samples_leaf': 1, 'max_features': None, 'ccp_alpha': 0}\n",
      "Evaluation --> f2_score: 0.4938  Best f2_score: 0.4938\n",
      "Time iteration: 0.396s   Total time: 0.410s\n",
      "Iteration 2 -------------------------------------\n",
      "Parameters --> {'criterion': 'gini', 'splitter': 'random', 'min_samples_split': 4, 'min_samples_leaf': 20, 'max_features': 0.5, 'ccp_alpha': 0.014}\n",
      "Evaluation --> f2_score: 0.4444  Best f2_score: 0.4938\n",
      "Time iteration: 0.136s   Total time: 0.550s\n",
      "Iteration 3 -------------------------------------\n",
      "Parameters --> {'criterion': 'entropy', 'splitter': 'random', 'min_samples_split': 2, 'min_samples_leaf': 6, 'max_features': 0.5, 'ccp_alpha': 0.0}\n",
      "Evaluation --> f2_score: 0.3052  Best f2_score: 0.4938\n",
      "Time iteration: 0.140s   Total time: 0.932s\n",
      "\n",
      "Results for Decision Tree:         \n",
      "Bayesian Optimization ---------------------------\n",
      "Best parameters --> {'criterion': 'gini', 'splitter': 'best', 'min_samples_split': 2, 'min_samples_leaf': 1, 'max_features': None, 'ccp_alpha': 0}\n",
      "Best evaluation --> f2_score: 0.4938\n",
      "Time elapsed: 1.231s\n",
      "Fit ---------------------------------------------\n",
      "Train evaluation --> f2_score: 0.4939\n",
      "Test evaluation --> f2_score: 0.4871\n",
      "Time elapsed: 0.090s\n",
      "-------------------------------------------------\n",
      "Total time: 1.328s\n",
      "\n",
      "\n",
      "Final results ========================= >>\n",
      "Duration: 1.338s\n",
      "------------------------------------------\n",
      "Decision Tree --> f2_score: 0.487\n"
     ]
    }
   ],
   "source": [
    "# Note that parameters specified by est_params are not optimized in the BO\n",
    "# (also, we can change the verbosity per method)\n",
    "atom.run('tree', n_calls=3, n_initial_points=1, est_params={'max_depth': 2}, verbose=2)"
   ]
  },
  {
   "cell_type": "markdown",
   "metadata": {},
   "source": [
    "## Save & load"
   ]
  },
  {
   "cell_type": "code",
   "execution_count": 13,
   "metadata": {},
   "outputs": [
    {
     "name": "stdout",
     "output_type": "stream",
     "text": [
      "ATOMClassifier saved successfully!\n"
     ]
    }
   ],
   "source": [
    "# Save the atom instance as a pickle with the save method\n",
    "# Remember that the instance contains the data, use save_datad to save the instance without the data\n",
    "atom.save('atom', save_data=False)"
   ]
  },
  {
   "cell_type": "code",
   "execution_count": 14,
   "metadata": {},
   "outputs": [
    {
     "name": "stdout",
     "output_type": "stream",
     "text": [
      "Loading data for branch 'main'...\n",
      "Applying data cleaning...\n",
      " --> Label-encoding the target column.\n",
      "Imputing missing values...\n",
      " --> Dropping 1116 rows for containing less than 50% non-missing values.\n",
      " --> Dropping 295 rows due to missing values in feature MinTemp.\n",
      " --> Dropping 176 rows due to missing values in feature MaxTemp.\n",
      " --> Dropping 1161 rows due to missing values in feature Rainfall.\n",
      " --> Dropping 58505 rows due to missing values in feature Evaporation.\n",
      " --> Dropping 10826 rows due to missing values in feature Sunshine.\n",
      " --> Dropping 4153 rows due to missing values in feature WindGustDir.\n",
      " --> Dropping 2199 rows due to missing values in feature WindDir9am.\n",
      " --> Dropping 208 rows due to missing values in feature WindDir3pm.\n",
      " --> Dropping 258 rows due to missing values in feature Humidity9am.\n",
      " --> Dropping 56 rows due to missing values in feature Humidity3pm.\n",
      " --> Dropping 53 rows due to missing values in feature Pressure9am.\n",
      " --> Dropping 20 rows due to missing values in feature Pressure3pm.\n",
      " --> Dropping 5361 rows due to missing values in feature Cloud9am.\n",
      " --> Dropping 1386 rows due to missing values in feature Cloud3pm.\n",
      "Encoding categorical columns...\n",
      " --> LeaveOneOut-encoding feature Location. Contains 26 unique classes.\n",
      " --> LeaveOneOut-encoding feature WindGustDir. Contains 16 unique classes.\n",
      " --> LeaveOneOut-encoding feature WindDir9am. Contains 16 unique classes.\n",
      " --> LeaveOneOut-encoding feature WindDir3pm. Contains 16 unique classes.\n",
      " --> Label-encoding feature RainToday. Contains 2 unique classes.\n",
      "ATOMClassifier loaded successfully!\n"
     ]
    }
   ],
   "source": [
    "# Load the instance again with ATOMLoader\n",
    "# No need to store the transformed data, providing the original dataset to the loader\n",
    "# will automatically transform it throigh all the steps in atom's pipeline\n",
    "atom_2 = ATOMLoader('atom', data=(X,), verbose=2)\n",
    "\n",
    "# Remember to also add the extra column!\n",
    "atom_2.X = atom_2.X.assign(AvgTemp=(atom_2.X['MaxTemp'] + atom_2.X['MinTemp'])/2)"
   ]
  },
  {
   "cell_type": "markdown",
   "metadata": {},
   "source": [
    "## Customize the plot aesthetics"
   ]
  },
  {
   "cell_type": "code",
   "execution_count": 15,
   "metadata": {},
   "outputs": [
    {
     "data": {
      "image/png": "[encoded data removed]",
      "text/plain": [
       "<Figure size 720x432 with 1 Axes>"
      ]
     },
     "metadata": {},
     "output_type": "display_data"
    }
   ],
   "source": [
    "# Use the plotting attributes to further customize your plots!\n",
    "atom_2.palette= 'Blues'\n",
    "atom_2.style = 'white'\n",
    "\n",
    "atom_2.plot_roc()"
   ]
  }
 ],
 "metadata": {
  "kernelspec": {
   "display_name": "Python 3",
   "language": "python",
   "name": "python3"
  },
  "language_info": {
   "codemirror_mode": {
    "name": "ipython",
    "version": 3
   },
   "file_extension": ".py",
   "mimetype": "text/x-python",
   "name": "python",
   "nbconvert_exporter": "python",
   "pygments_lexer": "ipython3",
   "version": "3.8.3"
  }
 },
 "nbformat": 4,
 "nbformat_minor": 2
}
