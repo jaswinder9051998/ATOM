{
 "cells": [
  {
   "cell_type": "markdown",
   "metadata": {},
   "source": [
    "# Utilities\n",
    "---------------------------------\n",
    "\n",
    "This example shows various useful utilities that can be used to improve your pipelines.\n",
    "\n",
    "The data used is a variation on the Australian weather dataset from [https://www.kaggle.com/jsphyg/weather-dataset-rattle-package](https://www.kaggle.com/jsphyg/weather-dataset-rattle-package). The goal of this dataset is to predict whether or not it will rain tomorrow training a binay classifier on target `RainTomorrow`."
   ]
  },
  {
   "cell_type": "markdown",
   "metadata": {},
   "source": [
    "## Load the data"
   ]
  },
  {
   "cell_type": "code",
   "execution_count": 1,
   "metadata": {},
   "outputs": [],
   "source": [
    "# Import packages\n",
    "import pandas as pd\n",
    "from sklearn.metrics import fbeta_score\n",
    "from atom import ATOMClassifier, ATOMLoader"
   ]
  },
  {
   "cell_type": "code",
   "execution_count": 2,
   "metadata": {},
   "outputs": [
    {
     "data": {
      "text/html": [
       "<div>\n",
       "<style scoped>\n",
       "    .dataframe tbody tr th:only-of-type {\n",
       "        vertical-align: middle;\n",
       "    }\n",
       "\n",
       "    .dataframe tbody tr th {\n",
       "        vertical-align: top;\n",
       "    }\n",
       "\n",
       "    .dataframe thead th {\n",
       "        text-align: right;\n",
       "    }\n",
       "</style>\n",
       "<table border=\"1\" class=\"dataframe\">\n",
       "  <thead>\n",
       "    <tr style=\"text-align: right;\">\n",
       "      <th></th>\n",
       "      <th>Location</th>\n",
       "      <th>MinTemp</th>\n",
       "      <th>MaxTemp</th>\n",
       "      <th>Rainfall</th>\n",
       "      <th>Evaporation</th>\n",
       "      <th>Sunshine</th>\n",
       "      <th>WindGustDir</th>\n",
       "      <th>WindGustSpeed</th>\n",
       "    </tr>\n",
       "  </thead>\n",
       "  <tbody>\n",
       "    <tr>\n",
       "      <th>85350</th>\n",
       "      <td>Cairns</td>\n",
       "      <td>21.1</td>\n",
       "      <td>30.6</td>\n",
       "      <td>0.0</td>\n",
       "      <td>6.4</td>\n",
       "      <td>11.0</td>\n",
       "      <td>ENE</td>\n",
       "      <td>30.0</td>\n",
       "    </tr>\n",
       "    <tr>\n",
       "      <th>84762</th>\n",
       "      <td>Brisbane</td>\n",
       "      <td>23.2</td>\n",
       "      <td>27.9</td>\n",
       "      <td>3.8</td>\n",
       "      <td>5.6</td>\n",
       "      <td>0.2</td>\n",
       "      <td>ENE</td>\n",
       "      <td>20.0</td>\n",
       "    </tr>\n",
       "    <tr>\n",
       "      <th>131267</th>\n",
       "      <td>Launceston</td>\n",
       "      <td>13.3</td>\n",
       "      <td>28.0</td>\n",
       "      <td>0.2</td>\n",
       "      <td>NaN</td>\n",
       "      <td>NaN</td>\n",
       "      <td>SSE</td>\n",
       "      <td>28.0</td>\n",
       "    </tr>\n",
       "    <tr>\n",
       "      <th>107223</th>\n",
       "      <td>Albany</td>\n",
       "      <td>8.5</td>\n",
       "      <td>19.3</td>\n",
       "      <td>5.4</td>\n",
       "      <td>1.8</td>\n",
       "      <td>9.5</td>\n",
       "      <td>NaN</td>\n",
       "      <td>NaN</td>\n",
       "    </tr>\n",
       "    <tr>\n",
       "      <th>33917</th>\n",
       "      <td>SydneyAirport</td>\n",
       "      <td>21.3</td>\n",
       "      <td>24.9</td>\n",
       "      <td>0.0</td>\n",
       "      <td>7.8</td>\n",
       "      <td>NaN</td>\n",
       "      <td>SSW</td>\n",
       "      <td>48.0</td>\n",
       "    </tr>\n",
       "  </tbody>\n",
       "</table>\n",
       "</div>"
      ],
      "text/plain": [
       "             Location  MinTemp  MaxTemp  Rainfall  Evaporation  Sunshine  \\\n",
       "85350          Cairns     21.1     30.6       0.0          6.4      11.0   \n",
       "84762        Brisbane     23.2     27.9       3.8          5.6       0.2   \n",
       "131267     Launceston     13.3     28.0       0.2          NaN       NaN   \n",
       "107223         Albany      8.5     19.3       5.4          1.8       9.5   \n",
       "33917   SydneyAirport     21.3     24.9       0.0          7.8       NaN   \n",
       "\n",
       "       WindGustDir  WindGustSpeed  \n",
       "85350          ENE           30.0  \n",
       "84762          ENE           20.0  \n",
       "131267         SSE           28.0  \n",
       "107223         NaN            NaN  \n",
       "33917          SSW           48.0  "
      ]
     },
     "execution_count": 2,
     "metadata": {},
     "output_type": "execute_result"
    }
   ],
   "source": [
    "# Load data\n",
    "X = pd.read_csv('./datasets/weatherAUS.csv')\n",
    "\n",
    "# Let's have a look at a subset of the data\n",
    "X.sample(frac=1).iloc[:5, :8]"
   ]
  },
  {
   "cell_type": "markdown",
   "metadata": {},
   "source": [
    "## Use the utility attributes"
   ]
  },
  {
   "cell_type": "code",
   "execution_count": 3,
   "metadata": {},
   "outputs": [
    {
     "name": "stdout",
     "output_type": "stream",
     "text": [
      "Columns with missing values:\n",
      " MinTemp            637\n",
      "MaxTemp            322\n",
      "Rainfall          1406\n",
      "Evaporation      60843\n",
      "Sunshine         67816\n",
      "WindGustDir       9330\n",
      "WindGustSpeed     9270\n",
      "WindDir9am       10013\n",
      "WindDir3pm        3778\n",
      "WindSpeed9am      1348\n",
      "WindSpeed3pm      2630\n",
      "Humidity9am       1774\n",
      "Humidity3pm       3610\n",
      "Pressure9am      14014\n",
      "Pressure3pm      13981\n",
      "Cloud9am         53657\n",
      "Cloud3pm         57094\n",
      "Temp9am            904\n",
      "Temp3pm           2726\n",
      "RainToday         1406\n",
      "dtype: int64\n",
      "\n",
      "Categorical columns: ['Location', 'WindGustDir', 'WindDir9am', 'WindDir3pm', 'RainToday']\n",
      "\n",
      "Is the dataset scaled? False\n"
     ]
    }
   ],
   "source": [
    "atom = ATOMClassifier(X, warnings=False, random_state=1)\n",
    "atom.clean()\n",
    "\n",
    "# We can quickly check what columns have missing values\n",
    "print(\"Columns with missing values:\\n\", atom.missing)\n",
    "\n",
    "# Or what columns are categorical\n",
    "print(\"\\nCategorical columns:\", atom.categorical)\n",
    "\n",
    "# Or if the dataset is scaled\n",
    "print(\"\\nIs the dataset scaled?\", atom.scaled)"
   ]
  },
  {
   "cell_type": "markdown",
   "metadata": {},
   "source": [
    "## Use the stats method to check changes in the dataset"
   ]
  },
  {
   "cell_type": "code",
   "execution_count": 4,
   "metadata": {},
   "outputs": [
    {
     "name": "stdout",
     "output_type": "stream",
     "text": [
      "\n",
      "Dataset stats ================= >>\n",
      "Shape: (142193, 22)\n",
      "Missing values: 316559\n",
      "Categorical columns: 5\n",
      "Scaled: False\n",
      "----------------------------------\n",
      "Train set size: 113755\n",
      "Test set size: 28438\n",
      "----------------------------------\n",
      "Dataset balance: No:Yes <==> 3.5:1.0\n",
      "----------------------------------\n",
      "Instances in RainTomorrow per class:\n",
      "|        |    total |    train_set |    test_set |\n",
      "|:-------|---------:|-------------:|------------:|\n",
      "| 0: No  |   110316 |        88263 |       22053 |\n",
      "| 1: Yes |    31877 |        25492 |        6385 |\n",
      "\n",
      "\n",
      "Dataset stats ================= >>\n",
      "Shape: (56420, 22)\n",
      "Scaled: False\n",
      "----------------------------------\n",
      "Train set size: 45136\n",
      "Test set size: 11284\n",
      "----------------------------------\n",
      "Dataset balance: No:Yes <==> 3.5:1.0\n",
      "----------------------------------\n",
      "Instances in RainTomorrow per class:\n",
      "|        |    total |    train_set |    test_set |\n",
      "|:-------|---------:|-------------:|------------:|\n",
      "| 0: No  |    43993 |        35199 |        8794 |\n",
      "| 1: Yes |    12427 |         9937 |        2490 |\n",
      "\n"
     ]
    }
   ],
   "source": [
    "# Note the number of missing values and categorical columns\n",
    "atom.stats()\n",
    "\n",
    "# Now, let's impute and encode the dataset...\n",
    "atom.impute()\n",
    "atom.encode()\n",
    "\n",
    "# ... and the values are gone\n",
    "atom.stats()"
   ]
  },
  {
   "cell_type": "markdown",
   "metadata": {},
   "source": [
    "## Change the data mid-pipeline"
   ]
  },
  {
   "cell_type": "code",
   "execution_count": 5,
   "metadata": {},
   "outputs": [],
   "source": [
    "# We can change atom's data mid-pipeline, adding a column for example\n",
    "# Note that we can only replace a dataframe with a new dataframe!\n",
    "atom.X = atom.X.assign(AvgTemp=(atom.X['MaxTemp'] + atom.X['MinTemp'])/2)\n",
    "\n",
    "# This will automatically update all other data attributes\n",
    "assert 'AvgTemp' in atom.dataset"
   ]
  },
  {
   "cell_type": "markdown",
   "metadata": {},
   "source": [
    "## Visualize the pipeline"
   ]
  },
  {
   "cell_type": "code",
   "execution_count": 6,
   "metadata": {},
   "outputs": [
    {
     "name": "stdout",
     "output_type": "stream",
     "text": [
      "ATOMClassifier\n",
      " --> Cleaner\n",
      "   >>> prohibited_types: ['datetime64', 'datetime64[ns]', 'timedelta[ns]']\n",
      "   >>> strip_categorical: True\n",
      "   >>> maximum_cardinality: True\n",
      "   >>> minimum_cardinality: True\n",
      "   >>> missing_target: True\n",
      "   >>> map_target: True\n",
      " --> Imputer\n",
      "   >>> strat_num: drop\n",
      "   >>> strat_cat: drop\n",
      "   >>> min_frac_rows: 0.5\n",
      "   >>> min_frac_cols: 0.5\n",
      "   >>> missing: {'', inf, -inf, 'NA', 'nan', 'None', 'inf', '?'}\n",
      " --> Encoder\n",
      "   >>> strategy: LeaveOneOut\n",
      "   >>> max_onehot: 10\n",
      "   >>> frac_to_other: None\n",
      "   >>> kwargs: {}\n"
     ]
    },
    {
     "data": {
      "image/png": "[encoded data removed]",
      "text/plain": [
       "<Figure size 576x504 with 1 Axes>"
      ]
     },
     "metadata": {},
     "output_type": "display_data"
    }
   ],
   "source": [
    "# We can easily visualize the pipeline in two ways\n",
    "print(atom)  # Directly in the notebook\n",
    "atom.plot_pipeline()  # Using a plot"
   ]
  },
  {
   "cell_type": "markdown",
   "metadata": {},
   "source": [
    "## Use a custom metric"
   ]
  },
  {
   "cell_type": "code",
   "execution_count": 7,
   "metadata": {},
   "outputs": [
    {
     "name": "stdout",
     "output_type": "stream",
     "text": [
      "\n",
      "Training ===================================== >>\n",
      "Models: LR\n",
      "Metric: f2_score\n",
      "\n",
      "\n",
      "Results for Logistic Regression:         \n",
      "Fit ---------------------------------------------\n",
      "Score on the train set --> f2_score: 0.5678\n",
      "Score on the test set  --> f2_score: 0.5682\n",
      "Time elapsed: 0.209s\n",
      "-------------------------------------------------\n",
      "Total time: 0.234s\n",
      "\n",
      "\n",
      "Final results ========================= >>\n",
      "Duration: 0.236s\n",
      "------------------------------------------\n",
      "Logistic Regression --> f2_score: 0.568\n"
     ]
    }
   ],
   "source": [
    "atom.verbose = 1\n",
    "\n",
    "# Define a custom metric\n",
    "def f2_score(y_true, y_pred):\n",
    "    return fbeta_score(y_true, y_pred, beta=2)\n",
    "\n",
    "# Remember to use the greater_is_better, needs_proba and needs_threshold parameters if necessary!\n",
    "atom.run(models='lr', metric=f2_score)"
   ]
  },
  {
   "cell_type": "markdown",
   "metadata": {},
   "source": [
    "## Customize the estimator's parameters"
   ]
  },
  {
   "cell_type": "code",
   "execution_count": 8,
   "metadata": {},
   "outputs": [
    {
     "name": "stdout",
     "output_type": "stream",
     "text": [
      "\n",
      "Training ===================================== >>\n",
      "Models: AdaB\n",
      "Metric: f2_score\n",
      "\n",
      "\n",
      "Results for AdaBoost:         \n",
      "Fit ---------------------------------------------\n",
      "Score on the train set --> f2_score: 0.5565\n",
      "Score on the test set  --> f2_score: 0.5482\n",
      "Time elapsed: 2.094s\n",
      "-------------------------------------------------\n",
      "Total time: 2.098s\n",
      "\n",
      "\n",
      "Final results ========================= >>\n",
      "Duration: 2.100s\n",
      "------------------------------------------\n",
      "AdaBoost --> f2_score: 0.548\n"
     ]
    }
   ],
   "source": [
    "# You can use the est_params parameter to customize the estimator\n",
    "# Let's run AdaBoost using LR instead of a decision tree as base estimator\n",
    "atom.run('AdaB', est_params={'base_estimator': atom.lr.estimator})"
   ]
  },
  {
   "cell_type": "code",
   "execution_count": 9,
   "metadata": {},
   "outputs": [
    {
     "data": {
      "text/plain": [
       "AdaBoostClassifier(base_estimator=LogisticRegression(n_jobs=1, random_state=1),\n",
       "                   random_state=1)"
      ]
     },
     "execution_count": 9,
     "metadata": {},
     "output_type": "execute_result"
    }
   ],
   "source": [
    "atom.adab.estimator"
   ]
  },
  {
   "cell_type": "code",
   "execution_count": 10,
   "metadata": {},
   "outputs": [
    {
     "name": "stdout",
     "output_type": "stream",
     "text": [
      "\n",
      "Training ===================================== >>\n",
      "Models: Tree\n",
      "Metric: f2_score\n",
      "\n",
      "\n",
      "Running BO for Decision Tree...\n",
      "Initial point 1 ---------------------------------\n",
      "Parameters --> {'criterion': 'gini', 'splitter': 'best', 'min_samples_split': 2, 'min_samples_leaf': 1, 'max_features': None, 'ccp_alpha': 0}\n",
      "Evaluation --> f2_score: 0.4936  Best f2_score: 0.4936\n",
      "Time iteration: 0.383s   Total time: 0.396s\n",
      "Iteration 2 -------------------------------------\n",
      "Parameters --> {'criterion': 'gini', 'splitter': 'random', 'min_samples_split': 4, 'min_samples_leaf': 20, 'max_features': 0.5, 'ccp_alpha': 0.014}\n",
      "Evaluation --> f2_score: 0.4441  Best f2_score: 0.4936\n",
      "Time iteration: 0.137s   Total time: 0.537s\n",
      "Iteration 3 -------------------------------------\n",
      "Parameters --> {'criterion': 'entropy', 'splitter': 'random', 'min_samples_split': 2, 'min_samples_leaf': 6, 'max_features': 0.5, 'ccp_alpha': 0.0}\n",
      "Evaluation --> f2_score: 0.3050  Best f2_score: 0.4936\n",
      "Time iteration: 0.140s   Total time: 0.927s\n",
      "\n",
      "Results for Decision Tree:         \n",
      "Bayesian Optimization ---------------------------\n",
      "Best parameters --> {'criterion': 'gini', 'splitter': 'best', 'min_samples_split': 2, 'min_samples_leaf': 1, 'max_features': None, 'ccp_alpha': 0}\n",
      "Best evaluation --> f2_score: 0.4936\n",
      "Time elapsed: 1.229s\n",
      "Fit ---------------------------------------------\n",
      "Score on the train set --> f2_score: 0.4937\n",
      "Score on the test set  --> f2_score: 0.4878\n",
      "Time elapsed: 0.105s\n",
      "-------------------------------------------------\n",
      "Total time: 1.344s\n",
      "\n",
      "\n",
      "Final results ========================= >>\n",
      "Duration: 1.346s\n",
      "------------------------------------------\n",
      "Decision Tree --> f2_score: 0.488\n"
     ]
    }
   ],
   "source": [
    "# Note that parameters specified by est_params are not optimized in the BO\n",
    "# (also, we can change the verbosity per method)\n",
    "atom.run('tree', n_calls=3, n_initial_points=1, est_params={'max_depth': 2}, verbose=2)"
   ]
  },
  {
   "cell_type": "markdown",
   "metadata": {},
   "source": [
    "## Save & load"
   ]
  },
  {
   "cell_type": "code",
   "execution_count": 11,
   "metadata": {},
   "outputs": [
    {
     "name": "stdout",
     "output_type": "stream",
     "text": [
      "ATOMClassifier saved successfully!\n"
     ]
    }
   ],
   "source": [
    "# Save the atom instance as a pickle with the save method\n",
    "# Remember that the instance contains the data, use save_datad to save the instance without the data\n",
    "atom.save('atom', save_data=False)"
   ]
  },
  {
   "cell_type": "code",
   "execution_count": 12,
   "metadata": {},
   "outputs": [
    {
     "name": "stdout",
     "output_type": "stream",
     "text": [
      "Applying data cleaning...\n",
      " --> Label-encoding the target column.\n",
      "Imputing missing values...\n",
      " --> Dropping 1116 rows for containing less than 50% non-missing values.\n",
      " --> Dropping 295 rows due to missing values in feature MinTemp.\n",
      " --> Dropping 176 rows due to missing values in feature MaxTemp.\n",
      " --> Dropping 1161 rows due to missing values in feature Rainfall.\n",
      " --> Dropping 58505 rows due to missing values in feature Evaporation.\n",
      " --> Dropping 10826 rows due to missing values in feature Sunshine.\n",
      " --> Dropping 4153 rows due to missing values in feature WindGustDir.\n",
      " --> Dropping 2199 rows due to missing values in feature WindDir9am.\n",
      " --> Dropping 208 rows due to missing values in feature WindDir3pm.\n",
      " --> Dropping 258 rows due to missing values in feature Humidity9am.\n",
      " --> Dropping 56 rows due to missing values in feature Humidity3pm.\n",
      " --> Dropping 53 rows due to missing values in feature Pressure9am.\n",
      " --> Dropping 20 rows due to missing values in feature Pressure3pm.\n",
      " --> Dropping 5361 rows due to missing values in feature Cloud9am.\n",
      " --> Dropping 1386 rows due to missing values in feature Cloud3pm.\n",
      "Encoding categorical columns...\n",
      " --> LeaveOneOut-encoding feature Location. Contains 26 unique classes.\n",
      " --> LeaveOneOut-encoding feature WindGustDir. Contains 16 unique classes.\n",
      " --> LeaveOneOut-encoding feature WindDir9am. Contains 16 unique classes.\n",
      " --> LeaveOneOut-encoding feature WindDir3pm. Contains 16 unique classes.\n",
      " --> Label-encoding feature RainToday. Contains 2 unique classes.\n",
      "ATOMClassifier loaded successfully!\n"
     ]
    }
   ],
   "source": [
    "# Load the instance again with ATOMLoader\n",
    "# No need to store the transformed data, providing the original dataset to the loader\n",
    "# will automatically transform it throigh all the steps in atom's pipeline\n",
    "atom_2 = ATOMLoader('atom', X, verbose=2)\n",
    "\n",
    "# Remember to also add the extra column!\n",
    "atom_2.X = atom_2.X.assign(AvgTemp=(atom_2.X['MaxTemp'] + atom_2.X['MinTemp'])/2)"
   ]
  },
  {
   "cell_type": "markdown",
   "metadata": {},
   "source": [
    "## Customize the plot aesthetics"
   ]
  },
  {
   "cell_type": "code",
   "execution_count": 13,
   "metadata": {},
   "outputs": [
    {
     "data": {
      "image/png": "[encoded data removed]",
      "text/plain": [
       "<Figure size 720x432 with 1 Axes>"
      ]
     },
     "metadata": {},
     "output_type": "display_data"
    }
   ],
   "source": [
    "# Use the plotting attributes to further customize your plots!\n",
    "atom_2.palette= 'Blues'\n",
    "atom_2.style = 'white'\n",
    "\n",
    "atom_2.plot_roc()"
   ]
  }
 ],
 "metadata": {
  "kernelspec": {
   "display_name": "Python 3",
   "language": "python",
   "name": "python3"
  },
  "language_info": {
   "codemirror_mode": {
    "name": "ipython",
    "version": 3
   },
   "file_extension": ".py",
   "mimetype": "text/x-python",
   "name": "python",
   "nbconvert_exporter": "python",
   "pygments_lexer": "ipython3",
   "version": "3.8.3"
  }
 },
 "nbformat": 4,
 "nbformat_minor": 2
}
