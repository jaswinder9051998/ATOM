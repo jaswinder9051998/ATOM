{
 "cells": [
  {
   "cell_type": "markdown",
   "metadata": {},
   "source": [
    "# Multi-metric runs\n",
    "------------------------------\n",
    "\n",
    "This example shows how we can evaluate an ATOM pipeline on multiple metrics.\n",
    "\n",
    "Import the breast cancer dataset from [sklearn.datasets](https://scikit-learn.org/stable/datasets/index.html#wine-dataset). This is a small and easy to train dataset whose goal is to predict whether a patient has breast cancer or not."
   ]
  },
  {
   "cell_type": "markdown",
   "metadata": {},
   "source": [
    "## Load the data"
   ]
  },
  {
   "cell_type": "code",
   "execution_count": 1,
   "metadata": {},
   "outputs": [],
   "source": [
    "# Import packages\n",
    "from sklearn.datasets import load_breast_cancer\n",
    "from atom import ATOMClassifier"
   ]
  },
  {
   "cell_type": "code",
   "execution_count": 2,
   "metadata": {},
   "outputs": [],
   "source": [
    "# Get the dataset's features and targets\n",
    "X, y = load_breast_cancer(return_X_y=True)"
   ]
  },
  {
   "cell_type": "markdown",
   "metadata": {},
   "source": [
    "## Run the pipeline"
   ]
  },
  {
   "cell_type": "code",
   "execution_count": 3,
   "metadata": {
    "scrolled": false
   },
   "outputs": [
    {
     "name": "stdout",
     "output_type": "stream",
     "text": [
      "<< ================== ATOM ================== >>\n",
      "Algorithm task: binary classification.\n",
      "Parallel processing with 2 cores.\n",
      "\n",
      "Dataset stats ================== >>\n",
      "Shape: (569, 31)\n",
      "Scaled: False\n",
      "-----------------------------------\n",
      "Train set size: 456\n",
      "Test set size: 113\n",
      "-----------------------------------\n",
      "Train set balance: 0:1 <==> 1.0:1.7\n",
      "Test set balance: 0:1 <==> 1.0:1.5\n",
      "-----------------------------------\n",
      "Distribution of classes:\n",
      "|    |   dataset |   train |   test |\n",
      "|---:|----------:|--------:|-------:|\n",
      "|  0 |       212 |     167 |     45 |\n",
      "|  1 |       357 |     289 |     68 |\n",
      "\n",
      "\n",
      "Training ===================================== >>\n",
      "Models: MNB, QDA\n",
      "Metric: f1, recall\n",
      "\n",
      "\n",
      "Running BO for Multinomial Naive Bayes...\n",
      "Initial point 1 ---------------------------------\n",
      "Parameters --> {'alpha': 1.0, 'fit_prior': True}\n",
      "Evaluation --> f1: 0.9260  Best f1: 0.9260   recall: 0.9722  Best recall: 0.9722\n",
      "Time iteration: 5.871s   Total time: 5.876s\n",
      "Iteration 2 -------------------------------------\n",
      "Parameters --> {'alpha': 9.744, 'fit_prior': True}\n",
      "Evaluation --> f1: 0.9225  Best f1: 0.9260   recall: 0.9688  Best recall: 0.9722\n",
      "Time iteration: 0.039s   Total time: 5.919s\n",
      "Iteration 3 -------------------------------------\n",
      "Parameters --> {'alpha': 0.66, 'fit_prior': False}\n",
      "Evaluation --> f1: 0.9223  Best f1: 0.9260   recall: 0.9655  Best recall: 0.9722\n",
      "Time iteration: 0.049s   Total time: 6.116s\n",
      "\n",
      "Results for Multinomial Naive Bayes:         \n",
      "Bayesian Optimization ---------------------------\n",
      "Best parameters --> {'alpha': 1.0, 'fit_prior': True}\n",
      "Best evaluation --> f1: 0.926   recall: 0.9722\n",
      "Time elapsed: 6.251s\n",
      "Fit ---------------------------------------------\n",
      "Train evaluation --> f1: 0.9243   recall: 0.9723\n",
      "Test evaluation --> f1: 0.9103   recall: 0.9706\n",
      "Time elapsed: 0.000s\n",
      "Bagging -----------------------------------------\n",
      "Evaluation --> f1: 0.91 ± 0.0005   recall: 0.9669 ± 0.0064\n",
      "Time elapsed: 0.045s\n",
      "-------------------------------------------------\n",
      "Total time: 6.296s\n",
      "\n",
      "\n",
      "Running BO for Quadratic Discriminant Analysis...\n",
      "Initial point 1 ---------------------------------\n",
      "Parameters --> {'reg_param': 0}\n",
      "Evaluation --> f1: 0.9654  Best f1: 0.9654   recall: 0.9619  Best recall: 0.9619\n",
      "Time iteration: 0.032s   Total time: 0.036s\n",
      "Iteration 2 -------------------------------------\n",
      "Parameters --> {'reg_param': 1.0}\n",
      "Evaluation --> f1: 0.9245  Best f1: 0.9654   recall: 0.9897  Best recall: 0.9897\n",
      "Time iteration: 0.031s   Total time: 0.068s\n",
      "Iteration 3 -------------------------------------\n",
      "Parameters --> {'reg_param': 0.0}\n",
      "Evaluation --> f1: 0.9633  Best f1: 0.9654   recall: 0.9549  Best recall: 0.9897\n",
      "Time iteration: 0.041s   Total time: 0.219s\n",
      "\n",
      "Results for Quadratic Discriminant Analysis:         \n",
      "Bayesian Optimization ---------------------------\n",
      "Best parameters --> {'reg_param': 0}\n",
      "Best evaluation --> f1: 0.9654   recall: 0.9619\n",
      "Time elapsed: 0.335s\n",
      "Fit ---------------------------------------------\n",
      "Train evaluation --> f1: 0.9828   recall: 0.9896\n",
      "Test evaluation --> f1: 0.971   recall: 0.9853\n",
      "Time elapsed: 0.017s\n",
      "Bagging -----------------------------------------\n",
      "Evaluation --> f1: 0.9606 ± 0.0081   recall: 0.9853 ± 0.0104\n",
      "Time elapsed: 0.035s\n",
      "-------------------------------------------------\n",
      "Total time: 0.388s\n",
      "\n",
      "\n",
      "Final results ========================= >>\n",
      "Duration: 6.685s\n",
      "------------------------------------------\n",
      "Multinomial Naive Bayes         --> f1: 0.91 ± 0.001   recall: 0.967 ± 0.006\n",
      "Quadratic Discriminant Analysis --> f1: 0.961 ± 0.008   recall: 0.985 ± 0.01\n"
     ]
    }
   ],
   "source": [
    "# Call ATOM and run the pipeline using multipe metrics\n",
    "# Note that for every step of the BO, both metrics are calculated, but only the first is used for optimization!\n",
    "atom = ATOMClassifier(X, y, n_jobs=2, verbose=2, warnings=False, random_state=1)\n",
    "atom.run(['MNB', 'QDA'], metric=('f1', 'recall'), n_calls=3, n_initial_points=1, bagging=4)"
   ]
  },
  {
   "cell_type": "markdown",
   "metadata": {},
   "source": [
    "## Analyze the results"
   ]
  },
  {
   "cell_type": "code",
   "execution_count": 4,
   "metadata": {},
   "outputs": [
    {
     "data": {
      "text/html": [
       "<div>\n",
       "<style scoped>\n",
       "    .dataframe tbody tr th:only-of-type {\n",
       "        vertical-align: middle;\n",
       "    }\n",
       "\n",
       "    .dataframe tbody tr th {\n",
       "        vertical-align: top;\n",
       "    }\n",
       "\n",
       "    .dataframe thead th {\n",
       "        text-align: right;\n",
       "    }\n",
       "</style>\n",
       "<table border=\"1\" class=\"dataframe\">\n",
       "  <thead>\n",
       "    <tr style=\"text-align: right;\">\n",
       "      <th></th>\n",
       "      <th>metric_bo</th>\n",
       "      <th>metric_train</th>\n",
       "      <th>metric_test</th>\n",
       "    </tr>\n",
       "  </thead>\n",
       "  <tbody>\n",
       "    <tr>\n",
       "      <th>MNB</th>\n",
       "      <td>[0.9259597646215939, 0.9722323049001815]</td>\n",
       "      <td>[0.924342105263158, 0.972318339100346]</td>\n",
       "      <td>[0.9103448275862068, 0.9705882352941176]</td>\n",
       "    </tr>\n",
       "    <tr>\n",
       "      <th>QDA</th>\n",
       "      <td>[0.965402611638704, 0.9618874773139746]</td>\n",
       "      <td>[0.9828178694158075, 0.9896193771626297]</td>\n",
       "      <td>[0.9710144927536232, 0.9852941176470589]</td>\n",
       "    </tr>\n",
       "  </tbody>\n",
       "</table>\n",
       "</div>"
      ],
      "text/plain": [
       "                                    metric_bo  \\\n",
       "MNB  [0.9259597646215939, 0.9722323049001815]   \n",
       "QDA   [0.965402611638704, 0.9618874773139746]   \n",
       "\n",
       "                                 metric_train  \\\n",
       "MNB    [0.924342105263158, 0.972318339100346]   \n",
       "QDA  [0.9828178694158075, 0.9896193771626297]   \n",
       "\n",
       "                                  metric_test  \n",
       "MNB  [0.9103448275862068, 0.9705882352941176]  \n",
       "QDA  [0.9710144927536232, 0.9852941176470589]  "
      ]
     },
     "execution_count": 4,
     "metadata": {},
     "output_type": "execute_result"
    }
   ],
   "source": [
    "# Note that some columns in the results dataframe now contain a list of scores,\n",
    "# one for each metric, in the same order as you called them\n",
    "atom.results[['metric_bo', 'metric_train', 'metric_test']]"
   ]
  },
  {
   "cell_type": "code",
   "execution_count": 5,
   "metadata": {},
   "outputs": [
    {
     "data": {
      "image/png": "[encoded data removed]",
      "text/plain": [
       "<Figure size 720x360 with 1 Axes>"
      ]
     },
     "metadata": {},
     "output_type": "display_data"
    }
   ],
   "source": [
    "# Some plots allow us to choose the metric we want to show\n",
    "atom.plot_results(metric='recall')"
   ]
  }
 ],
 "metadata": {
  "kernelspec": {
   "display_name": "Python 3",
   "language": "python",
   "name": "python3"
  },
  "language_info": {
   "codemirror_mode": {
    "name": "ipython",
    "version": 3
   },
   "file_extension": ".py",
   "mimetype": "text/x-python",
   "name": "python",
   "nbconvert_exporter": "python",
   "pygments_lexer": "ipython3",
   "version": "3.8.3"
  }
 },
 "nbformat": 4,
 "nbformat_minor": 2
}
