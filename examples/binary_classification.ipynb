{
 "cells": [
  {
   "cell_type": "markdown",
   "metadata": {},
   "source": [
    "# Binary classification\n",
    "------------------------------------\n",
    "\n",
    "This example shows how to use ATOM to solve a binary classification problem. Additonnaly, we'll perform a variety of data cleaning steps to prepare the data for modelling.\n",
    "\n",
    "The data used is a variation on the [Australian weather dataset](https://www.kaggle.com/jsphyg/weather-dataset-rattle-package) from Kaggle. You can download it from [here](https://github.com/tvdboom/ATOM/blob/master/examples/datasets/weatherAUS.csv). The goal of this dataset is to predict whether or not it will rain tomorrow training a binary classifier on target `RainTomorrow`."
   ]
  },
  {
   "cell_type": "markdown",
   "metadata": {},
   "source": [
    "## Load the data"
   ]
  },
  {
   "cell_type": "code",
   "execution_count": 1,
   "metadata": {},
   "outputs": [],
   "source": [
    "# Import packages\n",
    "import pandas as pd\n",
    "from atom import ATOMClassifier"
   ]
  },
  {
   "cell_type": "code",
   "execution_count": 2,
   "metadata": {},
   "outputs": [
    {
     "data": {
      "text/html": [
       "<div>\n",
       "<style scoped>\n",
       "    .dataframe tbody tr th:only-of-type {\n",
       "        vertical-align: middle;\n",
       "    }\n",
       "\n",
       "    .dataframe tbody tr th {\n",
       "        vertical-align: top;\n",
       "    }\n",
       "\n",
       "    .dataframe thead th {\n",
       "        text-align: right;\n",
       "    }\n",
       "</style>\n",
       "<table border=\"1\" class=\"dataframe\">\n",
       "  <thead>\n",
       "    <tr style=\"text-align: right;\">\n",
       "      <th></th>\n",
       "      <th>Location</th>\n",
       "      <th>MinTemp</th>\n",
       "      <th>MaxTemp</th>\n",
       "      <th>Rainfall</th>\n",
       "      <th>Evaporation</th>\n",
       "      <th>Sunshine</th>\n",
       "      <th>WindGustDir</th>\n",
       "      <th>WindGustSpeed</th>\n",
       "      <th>WindDir9am</th>\n",
       "      <th>WindDir3pm</th>\n",
       "      <th>...</th>\n",
       "      <th>Humidity9am</th>\n",
       "      <th>Humidity3pm</th>\n",
       "      <th>Pressure9am</th>\n",
       "      <th>Pressure3pm</th>\n",
       "      <th>Cloud9am</th>\n",
       "      <th>Cloud3pm</th>\n",
       "      <th>Temp9am</th>\n",
       "      <th>Temp3pm</th>\n",
       "      <th>RainToday</th>\n",
       "      <th>RainTomorrow</th>\n",
       "    </tr>\n",
       "  </thead>\n",
       "  <tbody>\n",
       "    <tr>\n",
       "      <th>0</th>\n",
       "      <td>MelbourneAirport</td>\n",
       "      <td>18.0</td>\n",
       "      <td>26.9</td>\n",
       "      <td>21.4</td>\n",
       "      <td>7.0</td>\n",
       "      <td>8.9</td>\n",
       "      <td>SSE</td>\n",
       "      <td>41.0</td>\n",
       "      <td>W</td>\n",
       "      <td>SSE</td>\n",
       "      <td>...</td>\n",
       "      <td>95.0</td>\n",
       "      <td>54.0</td>\n",
       "      <td>1019.5</td>\n",
       "      <td>1017.0</td>\n",
       "      <td>8.0</td>\n",
       "      <td>5.0</td>\n",
       "      <td>18.5</td>\n",
       "      <td>26.0</td>\n",
       "      <td>Yes</td>\n",
       "      <td>0</td>\n",
       "    </tr>\n",
       "    <tr>\n",
       "      <th>1</th>\n",
       "      <td>Adelaide</td>\n",
       "      <td>17.2</td>\n",
       "      <td>23.4</td>\n",
       "      <td>0.0</td>\n",
       "      <td>NaN</td>\n",
       "      <td>NaN</td>\n",
       "      <td>S</td>\n",
       "      <td>41.0</td>\n",
       "      <td>S</td>\n",
       "      <td>WSW</td>\n",
       "      <td>...</td>\n",
       "      <td>59.0</td>\n",
       "      <td>36.0</td>\n",
       "      <td>1015.7</td>\n",
       "      <td>1015.7</td>\n",
       "      <td>NaN</td>\n",
       "      <td>NaN</td>\n",
       "      <td>17.7</td>\n",
       "      <td>21.9</td>\n",
       "      <td>No</td>\n",
       "      <td>0</td>\n",
       "    </tr>\n",
       "    <tr>\n",
       "      <th>2</th>\n",
       "      <td>Cairns</td>\n",
       "      <td>18.6</td>\n",
       "      <td>24.6</td>\n",
       "      <td>7.4</td>\n",
       "      <td>3.0</td>\n",
       "      <td>6.1</td>\n",
       "      <td>SSE</td>\n",
       "      <td>54.0</td>\n",
       "      <td>SSE</td>\n",
       "      <td>SE</td>\n",
       "      <td>...</td>\n",
       "      <td>78.0</td>\n",
       "      <td>57.0</td>\n",
       "      <td>1018.7</td>\n",
       "      <td>1016.6</td>\n",
       "      <td>3.0</td>\n",
       "      <td>3.0</td>\n",
       "      <td>20.8</td>\n",
       "      <td>24.1</td>\n",
       "      <td>Yes</td>\n",
       "      <td>0</td>\n",
       "    </tr>\n",
       "    <tr>\n",
       "      <th>3</th>\n",
       "      <td>Portland</td>\n",
       "      <td>13.6</td>\n",
       "      <td>16.8</td>\n",
       "      <td>4.2</td>\n",
       "      <td>1.2</td>\n",
       "      <td>0.0</td>\n",
       "      <td>ESE</td>\n",
       "      <td>39.0</td>\n",
       "      <td>ESE</td>\n",
       "      <td>ESE</td>\n",
       "      <td>...</td>\n",
       "      <td>76.0</td>\n",
       "      <td>74.0</td>\n",
       "      <td>1021.4</td>\n",
       "      <td>1020.5</td>\n",
       "      <td>7.0</td>\n",
       "      <td>8.0</td>\n",
       "      <td>15.6</td>\n",
       "      <td>16.0</td>\n",
       "      <td>Yes</td>\n",
       "      <td>1</td>\n",
       "    </tr>\n",
       "    <tr>\n",
       "      <th>4</th>\n",
       "      <td>Walpole</td>\n",
       "      <td>16.4</td>\n",
       "      <td>19.9</td>\n",
       "      <td>0.0</td>\n",
       "      <td>NaN</td>\n",
       "      <td>NaN</td>\n",
       "      <td>SE</td>\n",
       "      <td>44.0</td>\n",
       "      <td>SE</td>\n",
       "      <td>SE</td>\n",
       "      <td>...</td>\n",
       "      <td>78.0</td>\n",
       "      <td>70.0</td>\n",
       "      <td>1019.4</td>\n",
       "      <td>1018.9</td>\n",
       "      <td>NaN</td>\n",
       "      <td>NaN</td>\n",
       "      <td>17.4</td>\n",
       "      <td>18.1</td>\n",
       "      <td>No</td>\n",
       "      <td>0</td>\n",
       "    </tr>\n",
       "  </tbody>\n",
       "</table>\n",
       "<p>5 rows × 22 columns</p>\n",
       "</div>"
      ],
      "text/plain": [
       "           Location  MinTemp  MaxTemp  Rainfall  Evaporation  Sunshine  \\\n",
       "0  MelbourneAirport     18.0     26.9      21.4          7.0       8.9   \n",
       "1          Adelaide     17.2     23.4       0.0          NaN       NaN   \n",
       "2            Cairns     18.6     24.6       7.4          3.0       6.1   \n",
       "3          Portland     13.6     16.8       4.2          1.2       0.0   \n",
       "4           Walpole     16.4     19.9       0.0          NaN       NaN   \n",
       "\n",
       "  WindGustDir  WindGustSpeed WindDir9am WindDir3pm  ...  Humidity9am  \\\n",
       "0         SSE           41.0          W        SSE  ...         95.0   \n",
       "1           S           41.0          S        WSW  ...         59.0   \n",
       "2         SSE           54.0        SSE         SE  ...         78.0   \n",
       "3         ESE           39.0        ESE        ESE  ...         76.0   \n",
       "4          SE           44.0         SE         SE  ...         78.0   \n",
       "\n",
       "   Humidity3pm  Pressure9am  Pressure3pm  Cloud9am  Cloud3pm  Temp9am  \\\n",
       "0         54.0       1019.5       1017.0       8.0       5.0     18.5   \n",
       "1         36.0       1015.7       1015.7       NaN       NaN     17.7   \n",
       "2         57.0       1018.7       1016.6       3.0       3.0     20.8   \n",
       "3         74.0       1021.4       1020.5       7.0       8.0     15.6   \n",
       "4         70.0       1019.4       1018.9       NaN       NaN     17.4   \n",
       "\n",
       "   Temp3pm  RainToday  RainTomorrow  \n",
       "0     26.0        Yes             0  \n",
       "1     21.9         No             0  \n",
       "2     24.1        Yes             0  \n",
       "3     16.0        Yes             1  \n",
       "4     18.1         No             0  \n",
       "\n",
       "[5 rows x 22 columns]"
      ]
     },
     "execution_count": 2,
     "metadata": {},
     "output_type": "execute_result"
    }
   ],
   "source": [
    "# Load data\n",
    "X = pd.read_csv(\"./datasets/weatherAUS.csv\")\n",
    "\n",
    "# Let's have a look\n",
    "X.head()"
   ]
  },
  {
   "cell_type": "markdown",
   "metadata": {},
   "source": [
    "## Run the pipeline"
   ]
  },
  {
   "cell_type": "code",
   "execution_count": 3,
   "metadata": {},
   "outputs": [
    {
     "name": "stdout",
     "output_type": "stream",
     "text": [
      "<< ================== ATOM ================== >>\n",
      "Algorithm task: binary classification.\n",
      "\n",
      "Dataset stats ====================== >>\n",
      "Shape: (7109, 22)\n",
      "Scaled: False\n",
      "Missing values: 15819 (10.1%)\n",
      "Categorical features: 5 (23.8%)\n",
      "---------------------------------------\n",
      "Train set size: 5688\n",
      "Test set size: 1421\n",
      "---------------------------------------\n",
      "|    | dataset    | train      | test       |\n",
      "|---:|:-----------|:-----------|:-----------|\n",
      "|  0 | 5529 (3.5) | 4419 (3.5) | 1110 (3.6) |\n",
      "|  1 | 1580 (1.0) | 1269 (1.0) | 311 (1.0)  |\n",
      "\n"
     ]
    }
   ],
   "source": [
    "# Call ATOM using only 5% of the complete dataset (for explanatory purposes)\n",
    "atom = ATOMClassifier(X, \"RainTomorrow\", n_rows=0.05, warnings=False, verbose=2)"
   ]
  },
  {
   "cell_type": "code",
   "execution_count": 4,
   "metadata": {},
   "outputs": [
    {
     "name": "stdout",
     "output_type": "stream",
     "text": [
      "Applying data cleaning...\n"
     ]
    }
   ],
   "source": [
    "# Encode the target column\n",
    "atom.clean()"
   ]
  },
  {
   "cell_type": "code",
   "execution_count": 5,
   "metadata": {},
   "outputs": [
    {
     "name": "stdout",
     "output_type": "stream",
     "text": [
      "Fitting Imputer...\n",
      "Imputing missing values...\n",
      " --> Dropping 754 samples for containing more than 0% missing values.\n",
      " --> Imputing 8 missing values with median (12.1) in feature MinTemp.\n",
      " --> Imputing 1 missing values with median (22.55) in feature MaxTemp.\n",
      " --> Imputing 29 missing values with median (0.0) in feature Rainfall.\n",
      " --> Imputing 2307 missing values with median (4.8) in feature Evaporation.\n",
      " --> Imputing 2646 missing values with median (8.3) in feature Sunshine.\n",
      " --> Dropping 218 samples due to missing values in feature WindGustDir.\n",
      " --> Dropping 314 samples due to missing values in feature WindDir9am.\n",
      " --> Dropping 19 samples due to missing values in feature WindDir3pm.\n",
      " --> Imputing 22 missing values with median (70.0) in feature Humidity9am.\n",
      " --> Imputing 65 missing values with median (52.0) in feature Humidity3pm.\n",
      " --> Imputing 37 missing values with median (1017.5) in feature Pressure9am.\n",
      " --> Imputing 35 missing values with median (1015.2) in feature Pressure3pm.\n",
      " --> Imputing 1922 missing values with median (5.0) in feature Cloud9am.\n",
      " --> Imputing 2025 missing values with median (5.0) in feature Cloud3pm.\n",
      " --> Imputing 4 missing values with median (16.6) in feature Temp9am.\n",
      " --> Imputing 44 missing values with median (21.0) in feature Temp3pm.\n",
      " --> Dropping 28 samples due to missing values in feature RainToday.\n"
     ]
    }
   ],
   "source": [
    "# Impute missing values\n",
    "atom.impute(strat_num=\"median\", strat_cat=\"drop\", max_nan_rows=0.8)"
   ]
  },
  {
   "cell_type": "code",
   "execution_count": 6,
   "metadata": {},
   "outputs": [
    {
     "name": "stdout",
     "output_type": "stream",
     "text": [
      "Fitting Encoder...\n",
      "Encoding categorical columns...\n",
      " --> Target-encoding feature Location. Contains 1 classes.\n",
      " --> Target-encoding feature WindGustDir. Contains 16 classes.\n",
      " --> Target-encoding feature WindDir9am. Contains 16 classes.\n",
      " --> Target-encoding feature WindDir3pm. Contains 16 classes.\n",
      " --> Ordinal-encoding feature RainToday. Contains 2 classes.\n"
     ]
    }
   ],
   "source": [
    "# Encode the categorical features\n",
    "atom.encode(strategy=\"Target\", max_onehot=10, frac_to_other=0.04)"
   ]
  },
  {
   "cell_type": "code",
   "execution_count": 7,
   "metadata": {},
   "outputs": [
    {
     "name": "stdout",
     "output_type": "stream",
     "text": [
      "\n",
      "Training ===================================== >>\n",
      "Models: ET, RF\n",
      "Metric: f1\n",
      "\n",
      "\n",
      "Results for Extra-Trees:         \n",
      "Fit ---------------------------------------------\n",
      "Train evaluation --> f1: 1.0\n",
      "Test evaluation --> f1: 0.5309\n",
      "Time elapsed: 0.460s\n",
      "Bootstrap ---------------------------------------\n",
      "Evaluation --> f1: 0.5082 ± 0.0144\n",
      "Time elapsed: 1.680s\n",
      "-------------------------------------------------\n",
      "Total time: 2.140s\n",
      "\n",
      "\n",
      "Results for Random Forest:         \n",
      "Fit ---------------------------------------------\n",
      "Train evaluation --> f1: 1.0\n",
      "Test evaluation --> f1: 0.5736\n",
      "Time elapsed: 0.677s\n",
      "Bootstrap ---------------------------------------\n",
      "Evaluation --> f1: 0.5365 ± 0.0156\n",
      "Time elapsed: 2.820s\n",
      "-------------------------------------------------\n",
      "Total time: 3.496s\n",
      "\n",
      "\n",
      "Final results ========================= >>\n",
      "Duration: 5.637s\n",
      "------------------------------------------\n",
      "Extra-Trees   --> f1: 0.5082 ± 0.0144 ~\n",
      "Random Forest --> f1: 0.5365 ± 0.0156 ~ !\n"
     ]
    }
   ],
   "source": [
    "# Train an Extra-Trees and a Random Forest model\n",
    "atom.run(models=[\"ET\", \"RF\"], metric=\"f1\", n_bootstrap=5)"
   ]
  },
  {
   "cell_type": "markdown",
   "metadata": {},
   "source": [
    "## Analyze the results"
   ]
  },
  {
   "cell_type": "code",
   "execution_count": 8,
   "metadata": {},
   "outputs": [
    {
     "data": {
      "text/html": [
       "<div>\n",
       "<style scoped>\n",
       "    .dataframe tbody tr th:only-of-type {\n",
       "        vertical-align: middle;\n",
       "    }\n",
       "\n",
       "    .dataframe tbody tr th {\n",
       "        vertical-align: top;\n",
       "    }\n",
       "\n",
       "    .dataframe thead th {\n",
       "        text-align: right;\n",
       "    }\n",
       "</style>\n",
       "<table border=\"1\" class=\"dataframe\">\n",
       "  <thead>\n",
       "    <tr style=\"text-align: right;\">\n",
       "      <th></th>\n",
       "      <th>metric_train</th>\n",
       "      <th>metric_test</th>\n",
       "      <th>time_fit</th>\n",
       "      <th>mean_bootstrap</th>\n",
       "      <th>std_bootstrap</th>\n",
       "      <th>time_bootstrap</th>\n",
       "      <th>time</th>\n",
       "    </tr>\n",
       "  </thead>\n",
       "  <tbody>\n",
       "    <tr>\n",
       "      <th>ET</th>\n",
       "      <td>1.0</td>\n",
       "      <td>0.530928</td>\n",
       "      <td>0.460s</td>\n",
       "      <td>0.508201</td>\n",
       "      <td>0.014415</td>\n",
       "      <td>1.680s</td>\n",
       "      <td>2.140s</td>\n",
       "    </tr>\n",
       "    <tr>\n",
       "      <th>RF</th>\n",
       "      <td>1.0</td>\n",
       "      <td>0.573566</td>\n",
       "      <td>0.677s</td>\n",
       "      <td>0.536463</td>\n",
       "      <td>0.015587</td>\n",
       "      <td>2.820s</td>\n",
       "      <td>3.496s</td>\n",
       "    </tr>\n",
       "  </tbody>\n",
       "</table>\n",
       "</div>"
      ],
      "text/plain": [
       "    metric_train  metric_test time_fit  mean_bootstrap  std_bootstrap  \\\n",
       "ET           1.0     0.530928   0.460s        0.508201       0.014415   \n",
       "RF           1.0     0.573566   0.677s        0.536463       0.015587   \n",
       "\n",
       "   time_bootstrap    time  \n",
       "ET         1.680s  2.140s  \n",
       "RF         2.820s  3.496s  "
      ]
     },
     "execution_count": 8,
     "metadata": {},
     "output_type": "execute_result"
    }
   ],
   "source": [
    "# Let's have a look at the final results\n",
    "atom.results"
   ]
  },
  {
   "cell_type": "code",
   "execution_count": 9,
   "metadata": {},
   "outputs": [
    {
     "data": {
      "image/png": "[encoded data removed]",
      "text/plain": [
       "<Figure size 720x360 with 1 Axes>"
      ]
     },
     "metadata": {},
     "output_type": "display_data"
    }
   ],
   "source": [
    "# Visualize the bootstrap results\n",
    "atom.plot_results(title=\"RF vs ET performance\")"
   ]
  },
  {
   "cell_type": "code",
   "execution_count": 10,
   "metadata": {},
   "outputs": [
    {
     "data": {
      "text/html": [
       "<div>\n",
       "<style scoped>\n",
       "    .dataframe tbody tr th:only-of-type {\n",
       "        vertical-align: middle;\n",
       "    }\n",
       "\n",
       "    .dataframe tbody tr th {\n",
       "        vertical-align: top;\n",
       "    }\n",
       "\n",
       "    .dataframe thead th {\n",
       "        text-align: right;\n",
       "    }\n",
       "</style>\n",
       "<table border=\"1\" class=\"dataframe\">\n",
       "  <thead>\n",
       "    <tr style=\"text-align: right;\">\n",
       "      <th></th>\n",
       "      <th>accuracy</th>\n",
       "      <th>average_precision</th>\n",
       "      <th>balanced_accuracy</th>\n",
       "      <th>f1</th>\n",
       "      <th>jaccard</th>\n",
       "      <th>matthews_corrcoef</th>\n",
       "      <th>precision</th>\n",
       "      <th>recall</th>\n",
       "      <th>roc_auc</th>\n",
       "    </tr>\n",
       "  </thead>\n",
       "  <tbody>\n",
       "    <tr>\n",
       "      <th>ET</th>\n",
       "      <td>0.843508</td>\n",
       "      <td>0.644019</td>\n",
       "      <td>0.688085</td>\n",
       "      <td>0.530928</td>\n",
       "      <td>0.361404</td>\n",
       "      <td>0.469222</td>\n",
       "      <td>0.725352</td>\n",
       "      <td>0.418699</td>\n",
       "      <td>0.848581</td>\n",
       "    </tr>\n",
       "    <tr>\n",
       "      <th>RF</th>\n",
       "      <td>0.852966</td>\n",
       "      <td>0.649330</td>\n",
       "      <td>0.711930</td>\n",
       "      <td>0.573566</td>\n",
       "      <td>0.402098</td>\n",
       "      <td>0.509305</td>\n",
       "      <td>0.741935</td>\n",
       "      <td>0.467480</td>\n",
       "      <td>0.851976</td>\n",
       "    </tr>\n",
       "  </tbody>\n",
       "</table>\n",
       "</div>"
      ],
      "text/plain": [
       "    accuracy  average_precision  balanced_accuracy        f1   jaccard  \\\n",
       "ET  0.843508           0.644019           0.688085  0.530928  0.361404   \n",
       "RF  0.852966           0.649330           0.711930  0.573566  0.402098   \n",
       "\n",
       "    matthews_corrcoef  precision    recall   roc_auc  \n",
       "ET           0.469222   0.725352  0.418699  0.848581  \n",
       "RF           0.509305   0.741935  0.467480  0.851976  "
      ]
     },
     "execution_count": 10,
     "metadata": {},
     "output_type": "execute_result"
    }
   ],
   "source": [
    "# Print the results of some common metrics\n",
    "atom.scoring()"
   ]
  },
  {
   "cell_type": "code",
   "execution_count": 11,
   "metadata": {},
   "outputs": [
    {
     "name": "stdout",
     "output_type": "stream",
     "text": [
      "The winner is the Random Forest model!!\n"
     ]
    }
   ],
   "source": [
    "# The winner attribute calls the best model (atom.winner == atom.rf)\n",
    "print(f\"The winner is the {atom.winner.fullname} model!!\")"
   ]
  },
  {
   "cell_type": "code",
   "execution_count": 12,
   "metadata": {},
   "outputs": [
    {
     "data": {
      "image/png": "[encoded data removed]",
      "text/plain": [
       "<Figure size 720x432 with 1 Axes>"
      ]
     },
     "metadata": {},
     "output_type": "display_data"
    }
   ],
   "source": [
    "# Visualize the distribution of predicted probabilities\n",
    "atom.winner.plot_probabilities()"
   ]
  },
  {
   "cell_type": "code",
   "execution_count": 13,
   "metadata": {},
   "outputs": [
    {
     "data": {
      "image/png": "[encoded data removed]",
      "text/plain": [
       "<Figure size 720x432 with 1 Axes>"
      ]
     },
     "metadata": {},
     "output_type": "display_data"
    }
   ],
   "source": [
    "# Compare how different metrics perform for different thresholds\n",
    "atom.winner.plot_threshold(metric=[\"f1\", \"accuracy\", \"average_precision\"], steps=50)"
   ]
  }
 ],
 "metadata": {
  "kernelspec": {
   "display_name": "Python 3",
   "language": "python",
   "name": "python3"
  },
  "language_info": {
   "codemirror_mode": {
    "name": "ipython",
    "version": 3
   },
   "file_extension": ".py",
   "mimetype": "text/x-python",
   "name": "python",
   "nbconvert_exporter": "python",
   "pygments_lexer": "ipython3",
   "version": "3.8.3"
  }
 },
 "nbformat": 4,
 "nbformat_minor": 2
}
