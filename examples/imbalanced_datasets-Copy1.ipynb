{
 "cells": [
  {
   "cell_type": "markdown",
   "metadata": {},
   "source": [
    "# Imbalanced datasets\n",
    "------------------------------------\n",
    "\n",
    "This example shows how to handle imbalanced datasets using ATOM's branch system to evaluate differrent pipelines."
   ]
  },
  {
   "cell_type": "markdown",
   "metadata": {},
   "source": [
    "## Load the data"
   ]
  },
  {
   "cell_type": "code",
   "execution_count": 1,
   "metadata": {},
   "outputs": [],
   "source": [
    "# Import packages\n",
    "from atom import ATOMClassifier\n",
    "from sklearn.datasets import make_classification"
   ]
  },
  {
   "cell_type": "code",
   "execution_count": 2,
   "metadata": {},
   "outputs": [],
   "source": [
    "# Create a mock imbalanced dataset\n",
    "X, y = make_classification(n_samples=10000, weights=(0.95,), random_state=1)"
   ]
  },
  {
   "cell_type": "markdown",
   "metadata": {},
   "source": [
    "## Run the pipeline"
   ]
  },
  {
   "cell_type": "code",
   "execution_count": 3,
   "metadata": {},
   "outputs": [
    {
     "name": "stdout",
     "output_type": "stream",
     "text": [
      "<< ================== ATOM ================== >>\n",
      "Algorithm task: binary classification.\n",
      "\n",
      "Dataset stats ====================== >>\n",
      "Shape: (10000, 21)\n",
      "Scaled: True\n",
      "Outlier values: 1090 (0.6%)\n",
      "---------------------------------------\n",
      "Train set size: 8000\n",
      "Test set size: 2000\n",
      "---------------------------------------\n",
      "|    | dataset     | train       | test        |\n",
      "|---:|:------------|:------------|:------------|\n",
      "|  0 | 9445 (17.0) | 7551 (16.8) | 1894 (17.9) |\n",
      "|  1 | 555 (1.0)   | 449 (1.0)   | 106 (1.0)   |\n",
      "\n"
     ]
    }
   ],
   "source": [
    "# Initialize ATOM with the created dataset\n",
    "atom = ATOMClassifier(X, y, test_size=0.2, verbose=2, random_state=1)"
   ]
  },
  {
   "cell_type": "code",
   "execution_count": 4,
   "metadata": {},
   "outputs": [
    {
     "data": {
      "text/html": [
       "<div>\n",
       "<style scoped>\n",
       "    .dataframe tbody tr th:only-of-type {\n",
       "        vertical-align: middle;\n",
       "    }\n",
       "\n",
       "    .dataframe tbody tr th {\n",
       "        vertical-align: top;\n",
       "    }\n",
       "\n",
       "    .dataframe thead th {\n",
       "        text-align: right;\n",
       "    }\n",
       "</style>\n",
       "<table border=\"1\" class=\"dataframe\">\n",
       "  <thead>\n",
       "    <tr style=\"text-align: right;\">\n",
       "      <th></th>\n",
       "      <th>Feature 1</th>\n",
       "      <th>Feature 2</th>\n",
       "      <th>Feature 3</th>\n",
       "      <th>Feature 4</th>\n",
       "      <th>Feature 5</th>\n",
       "      <th>Feature 6</th>\n",
       "      <th>Feature 7</th>\n",
       "      <th>Feature 8</th>\n",
       "      <th>Feature 9</th>\n",
       "      <th>Feature 10</th>\n",
       "      <th>...</th>\n",
       "      <th>Feature 12</th>\n",
       "      <th>Feature 13</th>\n",
       "      <th>Feature 14</th>\n",
       "      <th>Feature 15</th>\n",
       "      <th>Feature 16</th>\n",
       "      <th>Feature 17</th>\n",
       "      <th>Feature 18</th>\n",
       "      <th>Feature 19</th>\n",
       "      <th>Feature 20</th>\n",
       "      <th>Target</th>\n",
       "    </tr>\n",
       "  </thead>\n",
       "  <tbody>\n",
       "    <tr>\n",
       "      <th>0</th>\n",
       "      <td>-0.071428</td>\n",
       "      <td>0.310280</td>\n",
       "      <td>-1.196560</td>\n",
       "      <td>-1.529671</td>\n",
       "      <td>-1.173725</td>\n",
       "      <td>-0.254356</td>\n",
       "      <td>0.701712</td>\n",
       "      <td>-1.411579</td>\n",
       "      <td>-0.704537</td>\n",
       "      <td>-0.088643</td>\n",
       "      <td>...</td>\n",
       "      <td>0.074736</td>\n",
       "      <td>0.643117</td>\n",
       "      <td>-1.154644</td>\n",
       "      <td>0.536625</td>\n",
       "      <td>1.009980</td>\n",
       "      <td>-1.375527</td>\n",
       "      <td>0.917017</td>\n",
       "      <td>-1.802224</td>\n",
       "      <td>-0.162823</td>\n",
       "      <td>0</td>\n",
       "    </tr>\n",
       "    <tr>\n",
       "      <th>1</th>\n",
       "      <td>-0.516592</td>\n",
       "      <td>0.530945</td>\n",
       "      <td>1.661092</td>\n",
       "      <td>-1.292453</td>\n",
       "      <td>-0.141586</td>\n",
       "      <td>-0.664244</td>\n",
       "      <td>-1.071332</td>\n",
       "      <td>1.374610</td>\n",
       "      <td>-1.313380</td>\n",
       "      <td>0.828266</td>\n",
       "      <td>...</td>\n",
       "      <td>-0.836718</td>\n",
       "      <td>0.116314</td>\n",
       "      <td>-2.116304</td>\n",
       "      <td>0.551715</td>\n",
       "      <td>0.765546</td>\n",
       "      <td>-0.036432</td>\n",
       "      <td>-1.015412</td>\n",
       "      <td>1.062622</td>\n",
       "      <td>-0.387390</td>\n",
       "      <td>0</td>\n",
       "    </tr>\n",
       "    <tr>\n",
       "      <th>2</th>\n",
       "      <td>-0.088401</td>\n",
       "      <td>0.427176</td>\n",
       "      <td>0.909883</td>\n",
       "      <td>0.004638</td>\n",
       "      <td>0.394158</td>\n",
       "      <td>0.449127</td>\n",
       "      <td>-0.505026</td>\n",
       "      <td>0.159599</td>\n",
       "      <td>0.365104</td>\n",
       "      <td>0.482750</td>\n",
       "      <td>...</td>\n",
       "      <td>-2.318417</td>\n",
       "      <td>-0.532931</td>\n",
       "      <td>-1.063758</td>\n",
       "      <td>0.275730</td>\n",
       "      <td>-0.729440</td>\n",
       "      <td>2.046880</td>\n",
       "      <td>-0.145395</td>\n",
       "      <td>-0.200415</td>\n",
       "      <td>0.207975</td>\n",
       "      <td>0</td>\n",
       "    </tr>\n",
       "    <tr>\n",
       "      <th>3</th>\n",
       "      <td>-0.100931</td>\n",
       "      <td>-0.994237</td>\n",
       "      <td>1.972203</td>\n",
       "      <td>0.294235</td>\n",
       "      <td>-0.676401</td>\n",
       "      <td>0.824231</td>\n",
       "      <td>1.829958</td>\n",
       "      <td>0.255509</td>\n",
       "      <td>0.021049</td>\n",
       "      <td>-0.143176</td>\n",
       "      <td>...</td>\n",
       "      <td>0.575833</td>\n",
       "      <td>-0.366357</td>\n",
       "      <td>-2.027100</td>\n",
       "      <td>-0.814381</td>\n",
       "      <td>-0.388433</td>\n",
       "      <td>2.608870</td>\n",
       "      <td>0.233957</td>\n",
       "      <td>0.940194</td>\n",
       "      <td>-0.341405</td>\n",
       "      <td>0</td>\n",
       "    </tr>\n",
       "    <tr>\n",
       "      <th>4</th>\n",
       "      <td>-0.010847</td>\n",
       "      <td>-1.071147</td>\n",
       "      <td>0.519265</td>\n",
       "      <td>-0.705204</td>\n",
       "      <td>0.571365</td>\n",
       "      <td>0.259026</td>\n",
       "      <td>0.318726</td>\n",
       "      <td>-0.396639</td>\n",
       "      <td>-0.560105</td>\n",
       "      <td>1.031218</td>\n",
       "      <td>...</td>\n",
       "      <td>0.688116</td>\n",
       "      <td>-1.098997</td>\n",
       "      <td>0.391576</td>\n",
       "      <td>1.447618</td>\n",
       "      <td>-0.858905</td>\n",
       "      <td>-0.991063</td>\n",
       "      <td>-0.308652</td>\n",
       "      <td>0.659853</td>\n",
       "      <td>-0.810452</td>\n",
       "      <td>0</td>\n",
       "    </tr>\n",
       "  </tbody>\n",
       "</table>\n",
       "<p>5 rows × 21 columns</p>\n",
       "</div>"
      ],
      "text/plain": [
       "   Feature 1  Feature 2  Feature 3  Feature 4  Feature 5  Feature 6  \\\n",
       "0  -0.071428   0.310280  -1.196560  -1.529671  -1.173725  -0.254356   \n",
       "1  -0.516592   0.530945   1.661092  -1.292453  -0.141586  -0.664244   \n",
       "2  -0.088401   0.427176   0.909883   0.004638   0.394158   0.449127   \n",
       "3  -0.100931  -0.994237   1.972203   0.294235  -0.676401   0.824231   \n",
       "4  -0.010847  -1.071147   0.519265  -0.705204   0.571365   0.259026   \n",
       "\n",
       "   Feature 7  Feature 8  Feature 9  Feature 10  ...  Feature 12  Feature 13  \\\n",
       "0   0.701712  -1.411579  -0.704537   -0.088643  ...    0.074736    0.643117   \n",
       "1  -1.071332   1.374610  -1.313380    0.828266  ...   -0.836718    0.116314   \n",
       "2  -0.505026   0.159599   0.365104    0.482750  ...   -2.318417   -0.532931   \n",
       "3   1.829958   0.255509   0.021049   -0.143176  ...    0.575833   -0.366357   \n",
       "4   0.318726  -0.396639  -0.560105    1.031218  ...    0.688116   -1.098997   \n",
       "\n",
       "   Feature 14  Feature 15  Feature 16  Feature 17  Feature 18  Feature 19  \\\n",
       "0   -1.154644    0.536625    1.009980   -1.375527    0.917017   -1.802224   \n",
       "1   -2.116304    0.551715    0.765546   -0.036432   -1.015412    1.062622   \n",
       "2   -1.063758    0.275730   -0.729440    2.046880   -0.145395   -0.200415   \n",
       "3   -2.027100   -0.814381   -0.388433    2.608870    0.233957    0.940194   \n",
       "4    0.391576    1.447618   -0.858905   -0.991063   -0.308652    0.659853   \n",
       "\n",
       "   Feature 20  Target  \n",
       "0   -0.162823       0  \n",
       "1   -0.387390       0  \n",
       "2    0.207975       0  \n",
       "3   -0.341405       0  \n",
       "4   -0.810452       0  \n",
       "\n",
       "[5 rows x 21 columns]"
      ]
     },
     "execution_count": 4,
     "metadata": {},
     "output_type": "execute_result"
    }
   ],
   "source": [
    "# Have a look at the data, note that atom automatically\n",
    "# names the columns if the input is not a dataframe\n",
    "atom.head()"
   ]
  },
  {
   "cell_type": "code",
   "execution_count": 5,
   "metadata": {},
   "outputs": [
    {
     "name": "stdout",
     "output_type": "stream",
     "text": [
      "Fitting FeatureSelector...\n",
      "Performing feature selection ...\n",
      " --> The RFE selected 12 features from the dataset.\n",
      "   >>> Dropping feature Feature 1 (rank 6).\n",
      "   >>> Dropping feature Feature 5 (rank 7).\n",
      "   >>> Dropping feature Feature 10 (rank 5).\n",
      "   >>> Dropping feature Feature 12 (rank 3).\n",
      "   >>> Dropping feature Feature 17 (rank 9).\n",
      "   >>> Dropping feature Feature 18 (rank 8).\n",
      "   >>> Dropping feature Feature 19 (rank 4).\n",
      "   >>> Dropping feature Feature 20 (rank 2).\n"
     ]
    }
   ],
   "source": [
    "# Let's start reducing the number of features\n",
    "atom.feature_selection(\"RFE\", solver=\"RF\", n_features=12)"
   ]
  },
  {
   "cell_type": "code",
   "execution_count": 6,
   "metadata": {},
   "outputs": [
    {
     "name": "stdout",
     "output_type": "stream",
     "text": [
      "\n",
      "Training ===================================== >>\n",
      "Models: RF\n",
      "Metric: average_precision\n",
      "\n",
      "\n",
      "Results for Random Forest:         \n",
      "Fit ---------------------------------------------\n",
      "Train evaluation --> average_precision: 1.0\n",
      "Test evaluation --> average_precision: 0.8384\n",
      "Time elapsed: 2.065s\n",
      "-------------------------------------------------\n",
      "Total time: 2.065s\n",
      "\n",
      "\n",
      "Final results ========================= >>\n",
      "Duration: 2.065s\n",
      "------------------------------------------\n",
      "Random Forest --> average_precision: 0.8384\n"
     ]
    }
   ],
   "source": [
    "# Now, we fit a SVM model directly on the imbalanced data\n",
    "atom.run(\"RF\", metric=\"ap\")"
   ]
  },
  {
   "cell_type": "code",
   "execution_count": 7,
   "metadata": {},
   "outputs": [
    {
     "data": {
      "text/plain": [
       "Branch: master\n",
       " --> Pipeline: \n",
       "   >>> FeatureSelector\n",
       "     --> strategy: RFE\n",
       "     --> solver: RandomForestClassifier(n_jobs=1, random_state=1)\n",
       "     --> n_features: 12\n",
       "     --> max_frac_repeated: 1.0\n",
       "     --> max_correlation: 1.0\n",
       "     --> kwargs: {}\n",
       " --> Models: RF"
      ]
     },
     "execution_count": 7,
     "metadata": {},
     "output_type": "execute_result"
    }
   ],
   "source": [
    "# The transformer and the models have been added to the branch\n",
    "atom.branch"
   ]
  },
  {
   "cell_type": "markdown",
   "metadata": {},
   "source": [
    "## Oversampling"
   ]
  },
  {
   "cell_type": "code",
   "execution_count": 8,
   "metadata": {},
   "outputs": [
    {
     "name": "stdout",
     "output_type": "stream",
     "text": [
      "New branch oversample successfully created!\n"
     ]
    }
   ],
   "source": [
    "# Create a new branch for oversampling\n",
    "atom.branch = \"oversample\""
   ]
  },
  {
   "cell_type": "code",
   "execution_count": 9,
   "metadata": {},
   "outputs": [
    {
     "data": {
      "text/plain": [
       "Branch: oversample\n",
       " --> Pipeline: \n",
       "   >>> FeatureSelector\n",
       "     --> strategy: RFE\n",
       "     --> solver: RandomForestClassifier(n_jobs=1, random_state=1)\n",
       "     --> n_features: 12\n",
       "     --> max_frac_repeated: 1.0\n",
       "     --> max_correlation: 1.0\n",
       "     --> kwargs: {}\n",
       " --> Models: None"
      ]
     },
     "execution_count": 9,
     "metadata": {},
     "output_type": "execute_result"
    }
   ],
   "source": [
    "atom.branch  # The branch adopts all transformers from the parent branch"
   ]
  },
  {
   "cell_type": "code",
   "execution_count": 10,
   "metadata": {},
   "outputs": [
    {
     "name": "stdout",
     "output_type": "stream",
     "text": [
      "Oversampling with SMOTE...\n",
      " --> Adding 7102 samples to class: 1.\n"
     ]
    }
   ],
   "source": [
    "# Perform oversampling of the minority class\n",
    "atom.balance(strategy=\"smote\")"
   ]
  },
  {
   "cell_type": "code",
   "execution_count": 11,
   "metadata": {
    "scrolled": true
   },
   "outputs": [
    {
     "data": {
      "text/html": [
       "<div>\n",
       "<style scoped>\n",
       "    .dataframe tbody tr th:only-of-type {\n",
       "        vertical-align: middle;\n",
       "    }\n",
       "\n",
       "    .dataframe tbody tr th {\n",
       "        vertical-align: top;\n",
       "    }\n",
       "\n",
       "    .dataframe thead th {\n",
       "        text-align: right;\n",
       "    }\n",
       "</style>\n",
       "<table border=\"1\" class=\"dataframe\">\n",
       "  <thead>\n",
       "    <tr style=\"text-align: right;\">\n",
       "      <th></th>\n",
       "      <th>dataset</th>\n",
       "      <th>train</th>\n",
       "      <th>test</th>\n",
       "    </tr>\n",
       "  </thead>\n",
       "  <tbody>\n",
       "    <tr>\n",
       "      <th>0</th>\n",
       "      <td>9445</td>\n",
       "      <td>7551</td>\n",
       "      <td>1894</td>\n",
       "    </tr>\n",
       "    <tr>\n",
       "      <th>1</th>\n",
       "      <td>7657</td>\n",
       "      <td>7551</td>\n",
       "      <td>106</td>\n",
       "    </tr>\n",
       "  </tbody>\n",
       "</table>\n",
       "</div>"
      ],
      "text/plain": [
       "   dataset  train  test\n",
       "0     9445   7551  1894\n",
       "1     7657   7551   106"
      ]
     },
     "execution_count": 11,
     "metadata": {},
     "output_type": "execute_result"
    }
   ],
   "source": [
    "atom.classes  # Check the balanced training set!"
   ]
  },
  {
   "cell_type": "code",
   "execution_count": 12,
   "metadata": {},
   "outputs": [
    {
     "name": "stdout",
     "output_type": "stream",
     "text": [
      "\n",
      "Training ===================================== >>\n",
      "Models: RF_os\n",
      "Metric: average_precision\n",
      "\n",
      "\n",
      "Results for Random Forest:         \n",
      "Fit ---------------------------------------------\n",
      "Train evaluation --> average_precision: 1.0\n",
      "Test evaluation --> average_precision: 0.8423\n",
      "Time elapsed: 2.719s\n",
      "-------------------------------------------------\n",
      "Total time: 2.719s\n",
      "\n",
      "\n",
      "Final results ========================= >>\n",
      "Duration: 2.719s\n",
      "------------------------------------------\n",
      "Random Forest --> average_precision: 0.8423\n"
     ]
    }
   ],
   "source": [
    "# Train another SVM model on this branch\n",
    "atom.run(\"rf_os\")"
   ]
  },
  {
   "cell_type": "markdown",
   "metadata": {},
   "source": [
    "## Undersampling"
   ]
  },
  {
   "cell_type": "code",
   "execution_count": 13,
   "metadata": {},
   "outputs": [
    {
     "name": "stdout",
     "output_type": "stream",
     "text": [
      "New branch undersample successfully created!\n"
     ]
    }
   ],
   "source": [
    "# Create the undersampling branch\n",
    "# Create from master to not adopt the SMOTE transformer!\n",
    "atom.branch = \"undersample_from_master\""
   ]
  },
  {
   "cell_type": "code",
   "execution_count": 14,
   "metadata": {},
   "outputs": [
    {
     "data": {
      "text/plain": [
       "Branch: master\n",
       " --> Pipeline: \n",
       "   >>> FeatureSelector\n",
       "     --> strategy: RFE\n",
       "     --> solver: RandomForestClassifier(n_jobs=1, random_state=1)\n",
       "     --> n_features: 12\n",
       "     --> max_frac_repeated: 1.0\n",
       "     --> max_correlation: 1.0\n",
       "     --> kwargs: {}\n",
       " --> Models: RF"
      ]
     },
     "execution_count": 14,
     "metadata": {},
     "output_type": "execute_result"
    }
   ],
   "source": [
    "atom.master"
   ]
  },
  {
   "cell_type": "code",
   "execution_count": 15,
   "metadata": {},
   "outputs": [
    {
     "data": {
      "text/html": [
       "<div>\n",
       "<style scoped>\n",
       "    .dataframe tbody tr th:only-of-type {\n",
       "        vertical-align: middle;\n",
       "    }\n",
       "\n",
       "    .dataframe tbody tr th {\n",
       "        vertical-align: top;\n",
       "    }\n",
       "\n",
       "    .dataframe thead th {\n",
       "        text-align: right;\n",
       "    }\n",
       "</style>\n",
       "<table border=\"1\" class=\"dataframe\">\n",
       "  <thead>\n",
       "    <tr style=\"text-align: right;\">\n",
       "      <th></th>\n",
       "      <th>dataset</th>\n",
       "      <th>train</th>\n",
       "      <th>test</th>\n",
       "    </tr>\n",
       "  </thead>\n",
       "  <tbody>\n",
       "    <tr>\n",
       "      <th>0</th>\n",
       "      <td>9445</td>\n",
       "      <td>7551</td>\n",
       "      <td>1894</td>\n",
       "    </tr>\n",
       "    <tr>\n",
       "      <th>1</th>\n",
       "      <td>555</td>\n",
       "      <td>449</td>\n",
       "      <td>106</td>\n",
       "    </tr>\n",
       "  </tbody>\n",
       "</table>\n",
       "</div>"
      ],
      "text/plain": [
       "   dataset  train  test\n",
       "0     9445   7551  1894\n",
       "1      555    449   106"
      ]
     },
     "execution_count": 15,
     "metadata": {},
     "output_type": "execute_result"
    }
   ],
   "source": [
    "atom.classes  # In this branch, the data is still imbalanced"
   ]
  },
  {
   "cell_type": "code",
   "execution_count": 16,
   "metadata": {},
   "outputs": [
    {
     "name": "stdout",
     "output_type": "stream",
     "text": [
      "Undersampling with NearMiss...\n",
      " --> Removing 7102 samples from class: 0.\n"
     ]
    }
   ],
   "source": [
    "# Perform undersampling of the majority class\n",
    "atom.balance(strategy=\"NearMiss\")"
   ]
  },
  {
   "cell_type": "code",
   "execution_count": 17,
   "metadata": {},
   "outputs": [
    {
     "name": "stdout",
     "output_type": "stream",
     "text": [
      "\n",
      "Training ===================================== >>\n",
      "Models: RF_us\n",
      "Metric: average_precision\n",
      "\n",
      "\n",
      "Results for Random Forest:         \n",
      "Fit ---------------------------------------------\n",
      "Train evaluation --> average_precision: 1.0\n",
      "Test evaluation --> average_precision: 0.7779\n",
      "Time elapsed: 0.241s\n",
      "-------------------------------------------------\n",
      "Total time: 0.241s\n",
      "\n",
      "\n",
      "Final results ========================= >>\n",
      "Duration: 0.241s\n",
      "------------------------------------------\n",
      "Random Forest --> average_precision: 0.7779 ~\n"
     ]
    }
   ],
   "source": [
    "atom.run(\"rf_us\")"
   ]
  },
  {
   "cell_type": "markdown",
   "metadata": {},
   "source": [
    "## Analyze results"
   ]
  },
  {
   "cell_type": "code",
   "execution_count": 18,
   "metadata": {},
   "outputs": [
    {
     "data": {
      "image/png": "[encoded data removed]",
      "text/plain": [
       "<Figure size 720x432 with 1 Axes>"
      ]
     },
     "metadata": {},
     "output_type": "display_data"
    }
   ],
   "source": [
    "atom.plot_prc()"
   ]
  },
  {
   "cell_type": "code",
   "execution_count": 19,
   "metadata": {},
   "outputs": [
    {
     "data": {
      "image/png": "[encoded data removed]",
      "text/plain": [
       "<Figure size 720x432 with 1 Axes>"
      ]
     },
     "metadata": {},
     "output_type": "display_data"
    }
   ],
   "source": [
    "atom.plot_roc()"
   ]
  },
  {
   "cell_type": "code",
   "execution_count": 20,
   "metadata": {},
   "outputs": [
    {
     "data": {
      "image/png": "[encoded data removed]",
      "text/plain": [
       "<Figure size 720x360 with 1 Axes>"
      ]
     },
     "metadata": {},
     "output_type": "display_data"
    }
   ],
   "source": [
    "# Comparing the performances of all the SVM models can now easily\n",
    "# be done through atom\n",
    "atom.plot_results()"
   ]
  },
  {
   "cell_type": "code",
   "execution_count": 21,
   "metadata": {},
   "outputs": [
    {
     "data": {
      "image/png": "[encoded data removed]",
      "text/plain": [
       "<Figure size 720x432 with 1 Axes>"
      ]
     },
     "metadata": {},
     "output_type": "display_data"
    }
   ],
   "source": [
    "atom.plot_confusion_matrix()"
   ]
  }
 ],
 "metadata": {
  "kernelspec": {
   "display_name": "Python 3",
   "language": "python",
   "name": "python3"
  },
  "language_info": {
   "codemirror_mode": {
    "name": "ipython",
    "version": 3
   },
   "file_extension": ".py",
   "mimetype": "text/x-python",
   "name": "python",
   "nbconvert_exporter": "python",
   "pygments_lexer": "ipython3",
   "version": "3.8.3"
  }
 },
 "nbformat": 4,
 "nbformat_minor": 2
}
