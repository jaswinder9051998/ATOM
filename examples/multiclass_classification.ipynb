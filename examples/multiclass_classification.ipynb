{
 "cells": [
  {
   "cell_type": "markdown",
   "metadata": {},
   "source": [
    "# Multiclass classification\n",
    "---------------------------------\n",
    "\n",
    "This example shows how to compare the performance of three models on a multiclass classification task.\n",
    "\n",
    "Import the wine dataset from [sklearn.datasets](https://scikit-learn.org/stable/datasets/index.html#breast-cancer-wisconsin-diagnostic-dataset). This is a small and easy to train dataset whose goal is to predict wines into three groups (which cultivator it's from) using features based on the results of chemical analysis."
   ]
  },
  {
   "cell_type": "markdown",
   "metadata": {},
   "source": [
    "## Load the data"
   ]
  },
  {
   "cell_type": "code",
   "execution_count": 1,
   "metadata": {},
   "outputs": [],
   "source": [
    "# Import packages\n",
    "from sklearn.datasets import load_wine\n",
    "from atom import ATOMClassifier"
   ]
  },
  {
   "cell_type": "code",
   "execution_count": 2,
   "metadata": {},
   "outputs": [
    {
     "data": {
      "text/html": [
       "<div>\n",
       "<style scoped>\n",
       "    .dataframe tbody tr th:only-of-type {\n",
       "        vertical-align: middle;\n",
       "    }\n",
       "\n",
       "    .dataframe tbody tr th {\n",
       "        vertical-align: top;\n",
       "    }\n",
       "\n",
       "    .dataframe thead th {\n",
       "        text-align: right;\n",
       "    }\n",
       "</style>\n",
       "<table border=\"1\" class=\"dataframe\">\n",
       "  <thead>\n",
       "    <tr style=\"text-align: right;\">\n",
       "      <th></th>\n",
       "      <th>alcohol</th>\n",
       "      <th>malic_acid</th>\n",
       "      <th>ash</th>\n",
       "      <th>alcalinity_of_ash</th>\n",
       "      <th>magnesium</th>\n",
       "      <th>total_phenols</th>\n",
       "      <th>flavanoids</th>\n",
       "      <th>nonflavanoid_phenols</th>\n",
       "    </tr>\n",
       "  </thead>\n",
       "  <tbody>\n",
       "    <tr>\n",
       "      <th>134</th>\n",
       "      <td>12.51</td>\n",
       "      <td>1.24</td>\n",
       "      <td>2.25</td>\n",
       "      <td>17.5</td>\n",
       "      <td>85.0</td>\n",
       "      <td>2.00</td>\n",
       "      <td>0.58</td>\n",
       "      <td>0.60</td>\n",
       "    </tr>\n",
       "    <tr>\n",
       "      <th>70</th>\n",
       "      <td>12.29</td>\n",
       "      <td>1.61</td>\n",
       "      <td>2.21</td>\n",
       "      <td>20.4</td>\n",
       "      <td>103.0</td>\n",
       "      <td>1.10</td>\n",
       "      <td>1.02</td>\n",
       "      <td>0.37</td>\n",
       "    </tr>\n",
       "    <tr>\n",
       "      <th>95</th>\n",
       "      <td>12.47</td>\n",
       "      <td>1.52</td>\n",
       "      <td>2.20</td>\n",
       "      <td>19.0</td>\n",
       "      <td>162.0</td>\n",
       "      <td>2.50</td>\n",
       "      <td>2.27</td>\n",
       "      <td>0.32</td>\n",
       "    </tr>\n",
       "    <tr>\n",
       "      <th>59</th>\n",
       "      <td>12.37</td>\n",
       "      <td>0.94</td>\n",
       "      <td>1.36</td>\n",
       "      <td>10.6</td>\n",
       "      <td>88.0</td>\n",
       "      <td>1.98</td>\n",
       "      <td>0.57</td>\n",
       "      <td>0.28</td>\n",
       "    </tr>\n",
       "    <tr>\n",
       "      <th>115</th>\n",
       "      <td>11.03</td>\n",
       "      <td>1.51</td>\n",
       "      <td>2.20</td>\n",
       "      <td>21.5</td>\n",
       "      <td>85.0</td>\n",
       "      <td>2.46</td>\n",
       "      <td>2.17</td>\n",
       "      <td>0.52</td>\n",
       "    </tr>\n",
       "  </tbody>\n",
       "</table>\n",
       "</div>"
      ],
      "text/plain": [
       "     alcohol  malic_acid   ash  alcalinity_of_ash  magnesium  total_phenols  \\\n",
       "134    12.51        1.24  2.25               17.5       85.0           2.00   \n",
       "70     12.29        1.61  2.21               20.4      103.0           1.10   \n",
       "95     12.47        1.52  2.20               19.0      162.0           2.50   \n",
       "59     12.37        0.94  1.36               10.6       88.0           1.98   \n",
       "115    11.03        1.51  2.20               21.5       85.0           2.46   \n",
       "\n",
       "     flavanoids  nonflavanoid_phenols  \n",
       "134        0.58                  0.60  \n",
       "70         1.02                  0.37  \n",
       "95         2.27                  0.32  \n",
       "59         0.57                  0.28  \n",
       "115        2.17                  0.52  "
      ]
     },
     "execution_count": 2,
     "metadata": {},
     "output_type": "execute_result"
    }
   ],
   "source": [
    "# Load the dataset's features and targets\n",
    "X, y = load_wine(return_X_y=True, as_frame=True)\n",
    "\n",
    "# Let's have a look at a subsample of the data\n",
    "X.sample(frac=1).iloc[:5, :8]"
   ]
  },
  {
   "cell_type": "markdown",
   "metadata": {},
   "source": [
    "## Run the pipeline"
   ]
  },
  {
   "cell_type": "code",
   "execution_count": 3,
   "metadata": {
    "scrolled": false
   },
   "outputs": [
    {
     "name": "stdout",
     "output_type": "stream",
     "text": [
      "<< ================== ATOM ================== >>\n",
      "Algorithm task: multiclass classification.\n",
      "Parallel processing with 16 cores.\n",
      "\n",
      "Dataset stats ================== >>\n",
      "Shape: (178, 14)\n",
      "Scaled: False\n",
      "-----------------------------------\n",
      "Train set size: 143\n",
      "Test set size: 35\n",
      "-----------------------------------\n",
      "Train set balance: 0:1:2 <==> 1.4:1.7:1.0\n",
      "Test set balance: 0:1:2 <==> 1.0:1.4:1.4\n",
      "-----------------------------------\n",
      "Distribution of classes:\n",
      "|    |   dataset |   train |   test |\n",
      "|---:|----------:|--------:|-------:|\n",
      "|  0 |        59 |      50 |      9 |\n",
      "|  1 |        71 |      58 |     13 |\n",
      "|  2 |        48 |      35 |     13 |\n",
      "\n",
      "\n",
      "Training ===================================== >>\n",
      "Models: LR, LDA, RF\n",
      "Metric: roc_auc_ovr\n",
      "\n",
      "\n",
      "Running BO for Logistic Regression...\n",
      "Initial point 1 ---------------------------------\n",
      "Parameters --> {'penalty': 'l2', 'C': 46.003, 'solver': 'lbfgs', 'max_iter': 745}\n",
      "Evaluation --> roc_auc_ovr: 1.0000  Best roc_auc_ovr: 1.0000\n",
      "Time iteration: 3.985s   Total time: 4.078s\n",
      "Initial point 2 ---------------------------------\n",
      "Parameters --> {'penalty': 'none', 'solver': 'newton-cg', 'max_iter': 490}\n",
      "Evaluation --> roc_auc_ovr: 1.0000  Best roc_auc_ovr: 1.0000\n",
      "Time iteration: 3.537s   Total time: 7.620s\n",
      "Initial point 3 ---------------------------------\n",
      "Parameters --> {'penalty': 'l2', 'C': 0.037, 'solver': 'liblinear', 'max_iter': 352}\n",
      "Evaluation --> roc_auc_ovr: 0.9993  Best roc_auc_ovr: 1.0000\n",
      "Time iteration: 3.675s   Total time: 11.302s\n",
      "Iteration 4 -------------------------------------\n",
      "Parameters --> {'penalty': 'none', 'solver': 'newton-cg', 'max_iter': 378}\n",
      "Evaluation --> roc_auc_ovr: 1.0000  Best roc_auc_ovr: 1.0000\n",
      "Time iteration: 3.007s   Total time: 14.545s\n",
      "\n",
      "Results for Logistic Regression:         \n",
      "Bayesian Optimization ---------------------------\n",
      "Best parameters --> {'penalty': 'l2', 'C': 46.003, 'solver': 'lbfgs', 'max_iter': 745}\n",
      "Best evaluation --> roc_auc_ovr: 1.0000\n",
      "Time elapsed: 14.760s\n",
      "Fit ---------------------------------------------\n",
      "Train evaluation --> roc_auc_ovr: 1.0000\n",
      "Test evaluation --> roc_auc_ovr: 0.9965\n",
      "Time elapsed: 0.025s\n",
      "Bagging -----------------------------------------\n",
      "Evaluation --> roc_auc_ovr: 0.9942 ± 0.0026\n",
      "Time elapsed: 0.097s\n",
      "-------------------------------------------------\n",
      "Total time: 14.886s\n",
      "\n",
      "\n",
      "Running BO for Linear Discriminant Analysis...\n",
      "Initial point 1 ---------------------------------\n",
      "Parameters --> {'solver': 'eigen', 'shrinkage': 1.0}\n",
      "Evaluation --> roc_auc_ovr: 0.8975  Best roc_auc_ovr: 0.8975\n",
      "Time iteration: 0.030s   Total time: 0.032s\n",
      "Initial point 2 ---------------------------------\n",
      "Parameters --> {'solver': 'svd'}\n",
      "Evaluation --> roc_auc_ovr: 1.0000  Best roc_auc_ovr: 1.0000\n",
      "Time iteration: 0.030s   Total time: 0.066s\n",
      "Initial point 3 ---------------------------------\n",
      "Parameters --> {'solver': 'svd'}\n",
      "Evaluation --> roc_auc_ovr: 1.0000  Best roc_auc_ovr: 1.0000\n",
      "Time iteration: 0.028s   Total time: 0.099s\n",
      "Iteration 4 -------------------------------------\n",
      "Parameters --> {'solver': 'lsqr', 'shrinkage': 0.7}\n",
      "Evaluation --> roc_auc_ovr: 0.8996  Best roc_auc_ovr: 1.0000\n",
      "Time iteration: 0.024s   Total time: 0.309s\n",
      "\n",
      "Results for Linear Discriminant Analysis:         \n",
      "Bayesian Optimization ---------------------------\n",
      "Best parameters --> {'solver': 'svd'}\n",
      "Best evaluation --> roc_auc_ovr: 1.0000\n",
      "Time elapsed: 0.502s\n",
      "Fit ---------------------------------------------\n",
      "Train evaluation --> roc_auc_ovr: 1.0000\n",
      "Test evaluation --> roc_auc_ovr: 1.0000\n",
      "Time elapsed: 0.077s\n",
      "Bagging -----------------------------------------\n",
      "Evaluation --> roc_auc_ovr: 0.9998 ± 0.0005\n",
      "Time elapsed: 0.037s\n",
      "-------------------------------------------------\n",
      "Total time: 0.617s\n",
      "\n",
      "\n",
      "Running BO for Random Forest...\n",
      "Initial point 1 ---------------------------------\n",
      "Parameters --> {'n_estimators': 245, 'criterion': 'entropy', 'max_depth': None, 'min_samples_split': 13, 'min_samples_leaf': 6, 'max_features': None, 'bootstrap': True, 'ccp_alpha': 0.007, 'max_samples': 0.6}\n",
      "Evaluation --> roc_auc_ovr: 0.9921  Best roc_auc_ovr: 0.9921\n",
      "Time iteration: 0.441s   Total time: 0.449s\n",
      "Initial point 2 ---------------------------------\n",
      "Parameters --> {'n_estimators': 400, 'criterion': 'entropy', 'max_depth': 8, 'min_samples_split': 7, 'min_samples_leaf': 19, 'max_features': 0.7, 'bootstrap': True, 'ccp_alpha': 0.008, 'max_samples': 0.7}\n",
      "Evaluation --> roc_auc_ovr: 0.9927  Best roc_auc_ovr: 0.9927\n",
      "Time iteration: 0.648s   Total time: 1.102s\n",
      "Initial point 3 ---------------------------------\n",
      "Parameters --> {'n_estimators': 78, 'criterion': 'gini', 'max_depth': 5, 'min_samples_split': 2, 'min_samples_leaf': 14, 'max_features': 0.8, 'bootstrap': False, 'ccp_alpha': 0.003}\n",
      "Evaluation --> roc_auc_ovr: 0.9851  Best roc_auc_ovr: 0.9927\n",
      "Time iteration: 0.129s   Total time: 1.236s\n",
      "Iteration 4 -------------------------------------\n",
      "Parameters --> {'n_estimators': 394, 'criterion': 'entropy', 'max_depth': 3, 'min_samples_split': 19, 'min_samples_leaf': 14, 'max_features': 0.8, 'bootstrap': False, 'ccp_alpha': 0.015}\n",
      "Evaluation --> roc_auc_ovr: 0.9897  Best roc_auc_ovr: 0.9927\n",
      "Time iteration: 0.497s   Total time: 2.036s\n",
      "\n",
      "Results for Random Forest:         \n",
      "Bayesian Optimization ---------------------------\n",
      "Best parameters --> {'n_estimators': 400, 'criterion': 'entropy', 'max_depth': 8, 'min_samples_split': 7, 'min_samples_leaf': 19, 'max_features': 0.7, 'bootstrap': True, 'ccp_alpha': 0.008, 'max_samples': 0.7}\n",
      "Best evaluation --> roc_auc_ovr: 0.9927\n",
      "Time elapsed: 2.333s\n",
      "Fit ---------------------------------------------\n",
      "Train evaluation --> roc_auc_ovr: 0.9997\n",
      "Test evaluation --> roc_auc_ovr: 0.9802\n",
      "Time elapsed: 0.605s\n",
      "Bagging -----------------------------------------\n",
      "Evaluation --> roc_auc_ovr: 0.9740 ± 0.0074\n",
      "Time elapsed: 2.643s\n",
      "-------------------------------------------------\n",
      "Total time: 5.583s\n",
      "\n",
      "\n",
      "Final results ========================= >>\n",
      "Duration: 21.088s\n",
      "------------------------------------------\n",
      "Logistic Regression          --> roc_auc_ovr: 0.994 ± 0.003\n",
      "Linear Discriminant Analysis --> roc_auc_ovr: 1.000 ± 0.000 !\n",
      "Random Forest                --> roc_auc_ovr: 0.974 ± 0.007\n"
     ]
    }
   ],
   "source": [
    "atom = ATOMClassifier(X, y, n_jobs=-1, warnings='ignore', verbose=2, random_state=1)\n",
    "\n",
    "# Fit the pipeline with the selected models\n",
    "atom.run(\n",
    "    models=['LR','LDA', 'RF'],\n",
    "    metric='roc_auc_ovr',\n",
    "    n_calls=4,\n",
    "    n_initial_points=3,\n",
    "    bo_params={'base_estimator': 'rf', 'max_time': 100},\n",
    "    bagging=5\n",
    ")"
   ]
  },
  {
   "cell_type": "markdown",
   "metadata": {},
   "source": [
    "## Analyze the results"
   ]
  },
  {
   "cell_type": "code",
   "execution_count": 4,
   "metadata": {},
   "outputs": [
    {
     "data": {
      "text/html": [
       "<div>\n",
       "<style scoped>\n",
       "    .dataframe tbody tr th:only-of-type {\n",
       "        vertical-align: middle;\n",
       "    }\n",
       "\n",
       "    .dataframe tbody tr th {\n",
       "        vertical-align: top;\n",
       "    }\n",
       "\n",
       "    .dataframe thead th {\n",
       "        text-align: right;\n",
       "    }\n",
       "</style>\n",
       "<table border=\"1\" class=\"dataframe\">\n",
       "  <thead>\n",
       "    <tr style=\"text-align: right;\">\n",
       "      <th></th>\n",
       "      <th>metric_bo</th>\n",
       "      <th>time_bo</th>\n",
       "      <th>metric_train</th>\n",
       "      <th>metric_test</th>\n",
       "      <th>time_fit</th>\n",
       "      <th>mean_bagging</th>\n",
       "      <th>std_bagging</th>\n",
       "      <th>time_bagging</th>\n",
       "      <th>time</th>\n",
       "    </tr>\n",
       "    <tr>\n",
       "      <th>model</th>\n",
       "      <th></th>\n",
       "      <th></th>\n",
       "      <th></th>\n",
       "      <th></th>\n",
       "      <th></th>\n",
       "      <th></th>\n",
       "      <th></th>\n",
       "      <th></th>\n",
       "      <th></th>\n",
       "    </tr>\n",
       "  </thead>\n",
       "  <tbody>\n",
       "    <tr>\n",
       "      <th>LR</th>\n",
       "      <td>1</td>\n",
       "      <td>14.760s</td>\n",
       "      <td>1</td>\n",
       "      <td>0.996503</td>\n",
       "      <td>0.025s</td>\n",
       "      <td>0.994172</td>\n",
       "      <td>0.00255349</td>\n",
       "      <td>0.097s</td>\n",
       "      <td>14.886s</td>\n",
       "    </tr>\n",
       "    <tr>\n",
       "      <th>LDA</th>\n",
       "      <td>1</td>\n",
       "      <td>0.502s</td>\n",
       "      <td>1</td>\n",
       "      <td>1</td>\n",
       "      <td>0.077s</td>\n",
       "      <td>0.999767</td>\n",
       "      <td>0.0004662</td>\n",
       "      <td>0.037s</td>\n",
       "      <td>0.617s</td>\n",
       "    </tr>\n",
       "    <tr>\n",
       "      <th>RF</th>\n",
       "      <td>0.992716</td>\n",
       "      <td>2.333s</td>\n",
       "      <td>0.999654</td>\n",
       "      <td>0.980186</td>\n",
       "      <td>0.605s</td>\n",
       "      <td>0.974022</td>\n",
       "      <td>0.00735105</td>\n",
       "      <td>2.643s</td>\n",
       "      <td>5.583s</td>\n",
       "    </tr>\n",
       "  </tbody>\n",
       "</table>\n",
       "</div>"
      ],
      "text/plain": [
       "      metric_bo  time_bo metric_train metric_test time_fit mean_bagging  \\\n",
       "model                                                                     \n",
       "LR            1  14.760s            1    0.996503   0.025s     0.994172   \n",
       "LDA           1   0.502s            1           1   0.077s     0.999767   \n",
       "RF     0.992716   2.333s     0.999654    0.980186   0.605s     0.974022   \n",
       "\n",
       "      std_bagging time_bagging     time  \n",
       "model                                    \n",
       "LR     0.00255349       0.097s  14.886s  \n",
       "LDA     0.0004662       0.037s   0.617s  \n",
       "RF     0.00735105       2.643s   5.583s  "
      ]
     },
     "execution_count": 4,
     "metadata": {},
     "output_type": "execute_result"
    }
   ],
   "source": [
    "# We can access the pipeline's results via the results attribute\n",
    "atom.results"
   ]
  },
  {
   "cell_type": "code",
   "execution_count": 5,
   "metadata": {},
   "outputs": [
    {
     "name": "stdout",
     "output_type": "stream",
     "text": [
      "Results ===================== >>\n",
      "Logistic Regression          --> precision_macro: 0.949\n",
      "Linear Discriminant Analysis --> precision_macro: 1.0\n",
      "Random Forest                --> precision_macro: 0.919\n"
     ]
    }
   ],
   "source": [
    "# Show the scoring for a different metric than the one we trained on\n",
    "atom.scoring('precision_macro')"
   ]
  },
  {
   "cell_type": "markdown",
   "metadata": {},
   "source": [
    "**Let's have a closer look at the Random Forest**"
   ]
  },
  {
   "cell_type": "code",
   "execution_count": 6,
   "metadata": {},
   "outputs": [
    {
     "name": "stdout",
     "output_type": "stream",
     "text": [
      "Jaccard score: 0.8428571428571429\n",
      "Recall score: 0.923076923076923\n"
     ]
    }
   ],
   "source": [
    "# Get the results on some other metrics\n",
    "print('Jaccard score:', atom.rf.scoring('jaccard_weighted'))\n",
    "print('Recall score:', atom.rf.scoring('recall_macro'))"
   ]
  },
  {
   "cell_type": "code",
   "execution_count": 7,
   "metadata": {
    "scrolled": false
   },
   "outputs": [
    {
     "data": {
      "image/png": "[encoded data removed]",
      "text/plain": [
       "<Figure size 648x648 with 2 Axes>"
      ]
     },
     "metadata": {},
     "output_type": "display_data"
    }
   ],
   "source": [
    "# Plot the confusion matrix\n",
    "atom.RF.plot_confusion_matrix(figsize=(9, 9))"
   ]
  },
  {
   "cell_type": "code",
   "execution_count": 8,
   "metadata": {},
   "outputs": [
    {
     "name": "stdout",
     "output_type": "stream",
     "text": [
      "Random Forest estimator saved successfully!\n"
     ]
    }
   ],
   "source": [
    "# Save the estimator as a pickle file\n",
    "atom.RF.save_estimator('Random_Forest_model')"
   ]
  }
 ],
 "metadata": {
  "kernelspec": {
   "display_name": "Python 3",
   "language": "python",
   "name": "python3"
  },
  "language_info": {
   "codemirror_mode": {
    "name": "ipython",
    "version": 3
   },
   "file_extension": ".py",
   "mimetype": "text/x-python",
   "name": "python",
   "nbconvert_exporter": "python",
   "pygments_lexer": "ipython3",
   "version": "3.8.3"
  }
 },
 "nbformat": 4,
 "nbformat_minor": 2
}
