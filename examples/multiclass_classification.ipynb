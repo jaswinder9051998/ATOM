{
 "cells": [
  {
   "cell_type": "markdown",
   "metadata": {},
   "source": [
    "# Multiclass classification\n",
    "---------------------------------\n",
    "\n",
    "This example shows how to compare the performance of three models on a multiclass classification task.\n",
    "\n",
    "Import the wine dataset from [sklearn.datasets](https://scikit-learn.org/stable/datasets/index.html#breast-cancer-wisconsin-diagnostic-dataset). This is a small and easy to train dataset whose goal is to predict wines into three groups (which cultivator it's from) using features based on the results of chemical analysis."
   ]
  },
  {
   "cell_type": "markdown",
   "metadata": {},
   "source": [
    "## Load the data"
   ]
  },
  {
   "cell_type": "code",
   "execution_count": 1,
   "metadata": {},
   "outputs": [],
   "source": [
    "# Import packages\n",
    "from sklearn.datasets import load_wine\n",
    "from atom import ATOMClassifier"
   ]
  },
  {
   "cell_type": "code",
   "execution_count": 2,
   "metadata": {},
   "outputs": [
    {
     "data": {
      "text/html": [
       "<div>\n",
       "<style scoped>\n",
       "    .dataframe tbody tr th:only-of-type {\n",
       "        vertical-align: middle;\n",
       "    }\n",
       "\n",
       "    .dataframe tbody tr th {\n",
       "        vertical-align: top;\n",
       "    }\n",
       "\n",
       "    .dataframe thead th {\n",
       "        text-align: right;\n",
       "    }\n",
       "</style>\n",
       "<table border=\"1\" class=\"dataframe\">\n",
       "  <thead>\n",
       "    <tr style=\"text-align: right;\">\n",
       "      <th></th>\n",
       "      <th>alcohol</th>\n",
       "      <th>malic_acid</th>\n",
       "      <th>ash</th>\n",
       "      <th>alcalinity_of_ash</th>\n",
       "      <th>magnesium</th>\n",
       "      <th>total_phenols</th>\n",
       "      <th>flavanoids</th>\n",
       "      <th>nonflavanoid_phenols</th>\n",
       "    </tr>\n",
       "  </thead>\n",
       "  <tbody>\n",
       "    <tr>\n",
       "      <th>57</th>\n",
       "      <td>13.29</td>\n",
       "      <td>1.97</td>\n",
       "      <td>2.68</td>\n",
       "      <td>16.8</td>\n",
       "      <td>102.0</td>\n",
       "      <td>3.00</td>\n",
       "      <td>3.23</td>\n",
       "      <td>0.31</td>\n",
       "    </tr>\n",
       "    <tr>\n",
       "      <th>65</th>\n",
       "      <td>12.37</td>\n",
       "      <td>1.21</td>\n",
       "      <td>2.56</td>\n",
       "      <td>18.1</td>\n",
       "      <td>98.0</td>\n",
       "      <td>2.42</td>\n",
       "      <td>2.65</td>\n",
       "      <td>0.37</td>\n",
       "    </tr>\n",
       "    <tr>\n",
       "      <th>14</th>\n",
       "      <td>14.38</td>\n",
       "      <td>1.87</td>\n",
       "      <td>2.38</td>\n",
       "      <td>12.0</td>\n",
       "      <td>102.0</td>\n",
       "      <td>3.30</td>\n",
       "      <td>3.64</td>\n",
       "      <td>0.29</td>\n",
       "    </tr>\n",
       "    <tr>\n",
       "      <th>102</th>\n",
       "      <td>12.34</td>\n",
       "      <td>2.45</td>\n",
       "      <td>2.46</td>\n",
       "      <td>21.0</td>\n",
       "      <td>98.0</td>\n",
       "      <td>2.56</td>\n",
       "      <td>2.11</td>\n",
       "      <td>0.34</td>\n",
       "    </tr>\n",
       "    <tr>\n",
       "      <th>89</th>\n",
       "      <td>12.08</td>\n",
       "      <td>1.33</td>\n",
       "      <td>2.30</td>\n",
       "      <td>23.6</td>\n",
       "      <td>70.0</td>\n",
       "      <td>2.20</td>\n",
       "      <td>1.59</td>\n",
       "      <td>0.42</td>\n",
       "    </tr>\n",
       "  </tbody>\n",
       "</table>\n",
       "</div>"
      ],
      "text/plain": [
       "     alcohol  malic_acid   ash  alcalinity_of_ash  magnesium  total_phenols  \\\n",
       "57     13.29        1.97  2.68               16.8      102.0           3.00   \n",
       "65     12.37        1.21  2.56               18.1       98.0           2.42   \n",
       "14     14.38        1.87  2.38               12.0      102.0           3.30   \n",
       "102    12.34        2.45  2.46               21.0       98.0           2.56   \n",
       "89     12.08        1.33  2.30               23.6       70.0           2.20   \n",
       "\n",
       "     flavanoids  nonflavanoid_phenols  \n",
       "57         3.23                  0.31  \n",
       "65         2.65                  0.37  \n",
       "14         3.64                  0.29  \n",
       "102        2.11                  0.34  \n",
       "89         1.59                  0.42  "
      ]
     },
     "execution_count": 2,
     "metadata": {},
     "output_type": "execute_result"
    }
   ],
   "source": [
    "# Load the dataset's features and targets\n",
    "X, y = load_wine(return_X_y=True, as_frame=True)\n",
    "\n",
    "# Let's have a look at a subsample of the data\n",
    "X.sample(frac=1).iloc[:5, :8]"
   ]
  },
  {
   "cell_type": "markdown",
   "metadata": {},
   "source": [
    "## Run the pipeline"
   ]
  },
  {
   "cell_type": "code",
   "execution_count": 3,
   "metadata": {
    "scrolled": false
   },
   "outputs": [
    {
     "name": "stdout",
     "output_type": "stream",
     "text": [
      "<< ================== ATOM ================== >>\n",
      "Algorithm task: multiclass classification.\n",
      "Parallel processing with 16 cores.\n",
      "Applying data cleaning...\n",
      "\n",
      "Dataset stats ================= >>\n",
      "Shape: (178, 14)\n",
      "Scaled: False\n",
      "----------------------------------\n",
      "Train set size: 143\n",
      "Test set size: 35\n",
      "----------------------------------\n",
      "Train set balance: 0:1:2 <==> 1.4:1.7:1.0\n",
      "Test set balance: 0:1:2 <==> 0.7:1.0:1.0\n",
      "----------------------------------\n",
      "Instances in target per class:\n",
      "|    |    total |    train_set |    test_set |\n",
      "|---:|---------:|-------------:|------------:|\n",
      "|  0 |       59 |           50 |           9 |\n",
      "|  1 |       71 |           58 |          13 |\n",
      "|  2 |       48 |           35 |          13 |\n",
      "\n",
      "\n",
      "Running pipeline ============================= >>\n",
      "Models in pipeline: LR, LDA, RF\n",
      "Metric: roc_auc_ovr\n",
      "\n",
      "\n",
      "Running BO for Logistic Regression...\n",
      "Initial point 1 ---------------------------------\n",
      "Parameters --> {'penalty': 'l2', 'C': 46.003, 'solver': 'lbfgs', 'max_iter': 745}\n",
      "Evaluation --> roc_auc_ovr: 1.0000  Best roc_auc_ovr: 1.0000\n",
      "Time iteration: 3.672s   Total time: 3.676s\n",
      "Initial point 2 ---------------------------------\n",
      "Parameters --> {'penalty': 'none', 'solver': 'newton-cg', 'max_iter': 490}\n",
      "Evaluation --> roc_auc_ovr: 1.0000  Best roc_auc_ovr: 1.0000\n",
      "Time iteration: 3.177s   Total time: 6.859s\n",
      "Initial point 3 ---------------------------------\n",
      "Parameters --> {'penalty': 'l2', 'C': 0.037, 'solver': 'liblinear', 'max_iter': 352}\n",
      "Evaluation --> roc_auc_ovr: 0.9993  Best roc_auc_ovr: 1.0000\n",
      "Time iteration: 3.195s   Total time: 10.059s\n",
      "Iteration 4 -------------------------------------\n",
      "Parameters --> {'penalty': 'none', 'solver': 'newton-cg', 'max_iter': 378}\n",
      "Evaluation --> roc_auc_ovr: 1.0000  Best roc_auc_ovr: 1.0000\n",
      "Time iteration: 2.641s   Total time: 12.912s\n",
      "\n",
      "Results for Logistic Regression:         \n",
      "Bayesian Optimization ---------------------------\n",
      "Best parameters --> {'penalty': 'l2', 'C': 46.003, 'solver': 'lbfgs', 'max_iter': 745}\n",
      "Best evaluation --> roc_auc_ovr: 1.0000\n",
      "Time elapsed: 13.115s\n",
      "Fit ---------------------------------------------\n",
      "Score on the train set --> roc_auc_ovr: 1.0000\n",
      "Score on the test set  --> roc_auc_ovr: 0.9965\n",
      "Time elapsed: 0.024s\n",
      "Bagging -----------------------------------------\n",
      "Score --> roc_auc_ovr: 0.9942 ± 0.0026\n",
      "Time elapsed: 0.084s\n",
      "-------------------------------------------------\n",
      "Total time: 13.229s\n",
      "\n",
      "\n",
      "Running BO for Linear Discriminant Analysis...\n",
      "Initial point 1 ---------------------------------\n",
      "Parameters --> {'solver': 'eigen', 'shrinkage': 1.0}\n",
      "Evaluation --> roc_auc_ovr: 0.8975  Best roc_auc_ovr: 0.8975\n",
      "Time iteration: 0.040s   Total time: 0.042s\n",
      "Initial point 2 ---------------------------------\n",
      "Parameters --> {'solver': 'svd'}\n",
      "Evaluation --> roc_auc_ovr: 1.0000  Best roc_auc_ovr: 1.0000\n",
      "Time iteration: 0.026s   Total time: 0.072s\n",
      "Initial point 3 ---------------------------------\n",
      "Parameters --> {'solver': 'svd'}\n",
      "Evaluation --> roc_auc_ovr: 1.0000  Best roc_auc_ovr: 1.0000\n",
      "Time iteration: 0.023s   Total time: 0.098s\n",
      "Iteration 4 -------------------------------------\n",
      "Parameters --> {'solver': 'lsqr', 'shrinkage': 0.7}\n",
      "Evaluation --> roc_auc_ovr: 0.8996  Best roc_auc_ovr: 1.0000\n",
      "Time iteration: 0.021s   Total time: 0.298s\n",
      "\n",
      "Results for Linear Discriminant Analysis:         \n",
      "Bayesian Optimization ---------------------------\n",
      "Best parameters --> {'solver': 'svd'}\n",
      "Best evaluation --> roc_auc_ovr: 1.0000\n",
      "Time elapsed: 0.477s\n",
      "Fit ---------------------------------------------\n",
      "Score on the train set --> roc_auc_ovr: 1.0000\n",
      "Score on the test set  --> roc_auc_ovr: 1.0000\n",
      "Time elapsed: 0.015s\n",
      "Bagging -----------------------------------------\n",
      "Score --> roc_auc_ovr: 0.9998 ± 0.0005\n",
      "Time elapsed: 0.026s\n",
      "-------------------------------------------------\n",
      "Total time: 0.523s\n",
      "\n",
      "\n",
      "Running BO for Random Forest...\n",
      "Initial point 1 ---------------------------------\n",
      "Parameters --> {'n_estimators': 245, 'criterion': 'entropy', 'max_depth': None, 'min_samples_split': 13, 'min_samples_leaf': 6, 'max_features': 0.6, 'bootstrap': True, 'ccp_alpha': 0.007, 'max_samples': 0.6}\n",
      "Evaluation --> roc_auc_ovr: 0.9950  Best roc_auc_ovr: 0.9950\n",
      "Time iteration: 0.388s   Total time: 0.393s\n",
      "Initial point 2 ---------------------------------\n",
      "Parameters --> {'n_estimators': 400, 'criterion': 'entropy', 'max_depth': 8, 'min_samples_split': 7, 'min_samples_leaf': 19, 'max_features': 0.9, 'bootstrap': True, 'ccp_alpha': 0.008, 'max_samples': 0.7}\n",
      "Evaluation --> roc_auc_ovr: 0.9914  Best roc_auc_ovr: 0.9950\n",
      "Time iteration: 0.526s   Total time: 0.925s\n",
      "Initial point 3 ---------------------------------\n",
      "Parameters --> {'n_estimators': 78, 'criterion': 'gini', 'max_depth': 5, 'min_samples_split': 2, 'min_samples_leaf': 14, 'max_features': None, 'bootstrap': False, 'ccp_alpha': 0.003}\n",
      "Evaluation --> roc_auc_ovr: 0.9671  Best roc_auc_ovr: 0.9950\n",
      "Time iteration: 0.117s   Total time: 1.046s\n",
      "Iteration 4 -------------------------------------\n",
      "Parameters --> {'n_estimators': 394, 'criterion': 'entropy', 'max_depth': 3, 'min_samples_split': 19, 'min_samples_leaf': 14, 'max_features': None, 'bootstrap': False, 'ccp_alpha': 0.015}\n",
      "Evaluation --> roc_auc_ovr: 0.9477  Best roc_auc_ovr: 0.9950\n",
      "Time iteration: 0.460s   Total time: 1.810s\n",
      "\n",
      "Results for Random Forest:         \n",
      "Bayesian Optimization ---------------------------\n",
      "Best parameters --> {'n_estimators': 245, 'criterion': 'entropy', 'max_depth': None, 'min_samples_split': 13, 'min_samples_leaf': 6, 'max_features': 0.6, 'bootstrap': True, 'ccp_alpha': 0.007, 'max_samples': 0.6}\n",
      "Best evaluation --> roc_auc_ovr: 0.9950\n",
      "Time elapsed: 2.124s\n",
      "Fit ---------------------------------------------\n",
      "Score on the train set --> roc_auc_ovr: 0.9999\n",
      "Score on the test set  --> roc_auc_ovr: 0.9767\n",
      "Time elapsed: 0.354s\n",
      "Bagging -----------------------------------------\n",
      "Score --> roc_auc_ovr: 0.9751 ± 0.0127\n",
      "Time elapsed: 1.568s\n",
      "-------------------------------------------------\n",
      "Total time: 4.050s\n",
      "\n",
      "\n",
      "Final results ========================= >>\n",
      "Duration: 17.804s\n",
      "------------------------------------------\n",
      "Logistic Regression          --> roc_auc_ovr: 0.994 ± 0.003\n",
      "Linear Discriminant Analysis --> roc_auc_ovr: 1.000 ± 0.000 !\n",
      "Random Forest                --> roc_auc_ovr: 0.975 ± 0.013\n"
     ]
    }
   ],
   "source": [
    "atom = ATOMClassifier(X, y, n_jobs=-1, warnings='ignore', verbose=2, random_state=1)\n",
    "\n",
    "# Fit the pipeline with the selected models\n",
    "atom.run(\n",
    "    models=['LR','LDA', 'RF'],\n",
    "    metric='roc_auc_ovr',\n",
    "    n_calls=4,\n",
    "    n_initial_points=3,\n",
    "    bo_params={'base_estimator': 'rf', 'max_time': 100},\n",
    "    bagging=5\n",
    ")"
   ]
  },
  {
   "cell_type": "markdown",
   "metadata": {},
   "source": [
    "## Analyze the results"
   ]
  },
  {
   "cell_type": "code",
   "execution_count": 4,
   "metadata": {},
   "outputs": [
    {
     "data": {
      "text/html": [
       "<div>\n",
       "<style scoped>\n",
       "    .dataframe tbody tr th:only-of-type {\n",
       "        vertical-align: middle;\n",
       "    }\n",
       "\n",
       "    .dataframe tbody tr th {\n",
       "        vertical-align: top;\n",
       "    }\n",
       "\n",
       "    .dataframe thead th {\n",
       "        text-align: right;\n",
       "    }\n",
       "</style>\n",
       "<table border=\"1\" class=\"dataframe\">\n",
       "  <thead>\n",
       "    <tr style=\"text-align: right;\">\n",
       "      <th></th>\n",
       "      <th>name</th>\n",
       "      <th>metric_bo</th>\n",
       "      <th>time_bo</th>\n",
       "      <th>metric_train</th>\n",
       "      <th>metric_test</th>\n",
       "      <th>time_fit</th>\n",
       "      <th>mean_bagging</th>\n",
       "      <th>std_bagging</th>\n",
       "      <th>time_bagging</th>\n",
       "      <th>time</th>\n",
       "    </tr>\n",
       "    <tr>\n",
       "      <th>model</th>\n",
       "      <th></th>\n",
       "      <th></th>\n",
       "      <th></th>\n",
       "      <th></th>\n",
       "      <th></th>\n",
       "      <th></th>\n",
       "      <th></th>\n",
       "      <th></th>\n",
       "      <th></th>\n",
       "      <th></th>\n",
       "    </tr>\n",
       "  </thead>\n",
       "  <tbody>\n",
       "    <tr>\n",
       "      <th>LR</th>\n",
       "      <td>Logistic Regression</td>\n",
       "      <td>1.00000</td>\n",
       "      <td>13.115s</td>\n",
       "      <td>1.000000</td>\n",
       "      <td>0.996503</td>\n",
       "      <td>0.024s</td>\n",
       "      <td>0.994172</td>\n",
       "      <td>0.002553</td>\n",
       "      <td>0.084s</td>\n",
       "      <td>13.229s</td>\n",
       "    </tr>\n",
       "    <tr>\n",
       "      <th>LDA</th>\n",
       "      <td>Linear Discriminant Analysis</td>\n",
       "      <td>1.00000</td>\n",
       "      <td>0.477s</td>\n",
       "      <td>1.000000</td>\n",
       "      <td>1.000000</td>\n",
       "      <td>0.015s</td>\n",
       "      <td>0.999767</td>\n",
       "      <td>0.000466</td>\n",
       "      <td>0.026s</td>\n",
       "      <td>0.523s</td>\n",
       "    </tr>\n",
       "    <tr>\n",
       "      <th>RF</th>\n",
       "      <td>Random Forest</td>\n",
       "      <td>0.99499</td>\n",
       "      <td>2.124s</td>\n",
       "      <td>0.999928</td>\n",
       "      <td>0.976690</td>\n",
       "      <td>0.354s</td>\n",
       "      <td>0.975058</td>\n",
       "      <td>0.012652</td>\n",
       "      <td>1.568s</td>\n",
       "      <td>4.050s</td>\n",
       "    </tr>\n",
       "  </tbody>\n",
       "</table>\n",
       "</div>"
      ],
      "text/plain": [
       "                               name  metric_bo  time_bo  metric_train  \\\n",
       "model                                                                   \n",
       "LR              Logistic Regression    1.00000  13.115s      1.000000   \n",
       "LDA    Linear Discriminant Analysis    1.00000   0.477s      1.000000   \n",
       "RF                    Random Forest    0.99499   2.124s      0.999928   \n",
       "\n",
       "       metric_test time_fit  mean_bagging  std_bagging time_bagging     time  \n",
       "model                                                                         \n",
       "LR        0.996503   0.024s      0.994172     0.002553       0.084s  13.229s  \n",
       "LDA       1.000000   0.015s      0.999767     0.000466       0.026s   0.523s  \n",
       "RF        0.976690   0.354s      0.975058     0.012652       1.568s   4.050s  "
      ]
     },
     "execution_count": 4,
     "metadata": {},
     "output_type": "execute_result"
    }
   ],
   "source": [
    "# We can access the pipeline's results via the results attribute\n",
    "atom.results"
   ]
  },
  {
   "cell_type": "code",
   "execution_count": 5,
   "metadata": {},
   "outputs": [
    {
     "name": "stdout",
     "output_type": "stream",
     "text": [
      "Results ===================== >>\n",
      "Logistic Regression          --> precision_macro: 0.956\n",
      "Linear Discriminant Analysis --> precision_macro: 0.976\n",
      "Random Forest                --> precision_macro: 0.9\n"
     ]
    }
   ],
   "source": [
    "# Show the scoring for a different metric than the one we trained on\n",
    "atom.scoring('precision_macro')"
   ]
  },
  {
   "cell_type": "markdown",
   "metadata": {},
   "source": [
    "**Let's have a closer look at the Random Forest**"
   ]
  },
  {
   "cell_type": "code",
   "execution_count": 6,
   "metadata": {},
   "outputs": [
    {
     "name": "stdout",
     "output_type": "stream",
     "text": [
      "Jaccard score: 0.7957142857142857\n",
      "Recall score: 0.8974358974358975\n"
     ]
    }
   ],
   "source": [
    "# Get the results on some other metrics\n",
    "print('Jaccard score:', atom.rf.scoring('jaccard_weighted'))\n",
    "print('Recall score:', atom.rf.scoring('recall_macro'))"
   ]
  },
  {
   "cell_type": "code",
   "execution_count": 7,
   "metadata": {
    "scrolled": false
   },
   "outputs": [
    {
     "data": {
      "image/png": "[encoded data removed]",
      "text/plain": [
       "<Figure size 648x648 with 2 Axes>"
      ]
     },
     "metadata": {},
     "output_type": "display_data"
    }
   ],
   "source": [
    "# Plot the confusion matrix\n",
    "atom.RF.plot_confusion_matrix(figsize=(9, 9))"
   ]
  },
  {
   "cell_type": "code",
   "execution_count": 8,
   "metadata": {},
   "outputs": [
    {
     "name": "stdout",
     "output_type": "stream",
     "text": [
      "Random Forest estimator saved successfully!\n"
     ]
    }
   ],
   "source": [
    "# Save the estimator as a pickle file\n",
    "atom.RF.save_estimator('Random_Forest_model')"
   ]
  }
 ],
 "metadata": {
  "kernelspec": {
   "display_name": "Python 3",
   "language": "python",
   "name": "python3"
  },
  "language_info": {
   "codemirror_mode": {
    "name": "ipython",
    "version": 3
   },
   "file_extension": ".py",
   "mimetype": "text/x-python",
   "name": "python",
   "nbconvert_exporter": "python",
   "pygments_lexer": "ipython3",
   "version": "3.8.3"
  }
 },
 "nbformat": 4,
 "nbformat_minor": 2
}
