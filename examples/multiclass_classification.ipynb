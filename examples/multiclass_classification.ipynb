{
 "cells": [
  {
   "cell_type": "markdown",
   "metadata": {},
   "source": [
    "# Multiclass classification\n",
    "---------------------------------\n",
    "\n",
    "This example shows how to compare the performance of three models on a multiclass classification task.\n",
    "\n",
    "Import the wine dataset from [sklearn.datasets](https://scikit-learn.org/stable/datasets/index.html#breast-cancer-wisconsin-diagnostic-dataset). This is a small and easy to train dataset whose goal is to predict wines into three groups (which cultivator it's from) using features based on the results of chemical analysis."
   ]
  },
  {
   "cell_type": "markdown",
   "metadata": {},
   "source": [
    "## Load the data"
   ]
  },
  {
   "cell_type": "code",
   "execution_count": 1,
   "metadata": {},
   "outputs": [],
   "source": [
    "# Import packages\n",
    "from sklearn.datasets import load_wine\n",
    "from atom import ATOMClassifier"
   ]
  },
  {
   "cell_type": "code",
   "execution_count": 2,
   "metadata": {},
   "outputs": [
    {
     "data": {
      "text/html": [
       "<div>\n",
       "<style scoped>\n",
       "    .dataframe tbody tr th:only-of-type {\n",
       "        vertical-align: middle;\n",
       "    }\n",
       "\n",
       "    .dataframe tbody tr th {\n",
       "        vertical-align: top;\n",
       "    }\n",
       "\n",
       "    .dataframe thead th {\n",
       "        text-align: right;\n",
       "    }\n",
       "</style>\n",
       "<table border=\"1\" class=\"dataframe\">\n",
       "  <thead>\n",
       "    <tr style=\"text-align: right;\">\n",
       "      <th></th>\n",
       "      <th>alcohol</th>\n",
       "      <th>malic_acid</th>\n",
       "      <th>ash</th>\n",
       "      <th>alcalinity_of_ash</th>\n",
       "      <th>magnesium</th>\n",
       "      <th>total_phenols</th>\n",
       "      <th>flavanoids</th>\n",
       "      <th>nonflavanoid_phenols</th>\n",
       "      <th>proanthocyanins</th>\n",
       "      <th>color_intensity</th>\n",
       "      <th>hue</th>\n",
       "      <th>od280/od315_of_diluted_wines</th>\n",
       "      <th>proline</th>\n",
       "    </tr>\n",
       "  </thead>\n",
       "  <tbody>\n",
       "    <tr>\n",
       "      <th>0</th>\n",
       "      <td>14.23</td>\n",
       "      <td>1.71</td>\n",
       "      <td>2.43</td>\n",
       "      <td>15.6</td>\n",
       "      <td>127.0</td>\n",
       "      <td>2.80</td>\n",
       "      <td>3.06</td>\n",
       "      <td>0.28</td>\n",
       "      <td>2.29</td>\n",
       "      <td>5.64</td>\n",
       "      <td>1.04</td>\n",
       "      <td>3.92</td>\n",
       "      <td>1065.0</td>\n",
       "    </tr>\n",
       "    <tr>\n",
       "      <th>1</th>\n",
       "      <td>13.20</td>\n",
       "      <td>1.78</td>\n",
       "      <td>2.14</td>\n",
       "      <td>11.2</td>\n",
       "      <td>100.0</td>\n",
       "      <td>2.65</td>\n",
       "      <td>2.76</td>\n",
       "      <td>0.26</td>\n",
       "      <td>1.28</td>\n",
       "      <td>4.38</td>\n",
       "      <td>1.05</td>\n",
       "      <td>3.40</td>\n",
       "      <td>1050.0</td>\n",
       "    </tr>\n",
       "    <tr>\n",
       "      <th>2</th>\n",
       "      <td>13.16</td>\n",
       "      <td>2.36</td>\n",
       "      <td>2.67</td>\n",
       "      <td>18.6</td>\n",
       "      <td>101.0</td>\n",
       "      <td>2.80</td>\n",
       "      <td>3.24</td>\n",
       "      <td>0.30</td>\n",
       "      <td>2.81</td>\n",
       "      <td>5.68</td>\n",
       "      <td>1.03</td>\n",
       "      <td>3.17</td>\n",
       "      <td>1185.0</td>\n",
       "    </tr>\n",
       "    <tr>\n",
       "      <th>3</th>\n",
       "      <td>14.37</td>\n",
       "      <td>1.95</td>\n",
       "      <td>2.50</td>\n",
       "      <td>16.8</td>\n",
       "      <td>113.0</td>\n",
       "      <td>3.85</td>\n",
       "      <td>3.49</td>\n",
       "      <td>0.24</td>\n",
       "      <td>2.18</td>\n",
       "      <td>7.80</td>\n",
       "      <td>0.86</td>\n",
       "      <td>3.45</td>\n",
       "      <td>1480.0</td>\n",
       "    </tr>\n",
       "    <tr>\n",
       "      <th>4</th>\n",
       "      <td>13.24</td>\n",
       "      <td>2.59</td>\n",
       "      <td>2.87</td>\n",
       "      <td>21.0</td>\n",
       "      <td>118.0</td>\n",
       "      <td>2.80</td>\n",
       "      <td>2.69</td>\n",
       "      <td>0.39</td>\n",
       "      <td>1.82</td>\n",
       "      <td>4.32</td>\n",
       "      <td>1.04</td>\n",
       "      <td>2.93</td>\n",
       "      <td>735.0</td>\n",
       "    </tr>\n",
       "  </tbody>\n",
       "</table>\n",
       "</div>"
      ],
      "text/plain": [
       "   alcohol  malic_acid   ash  alcalinity_of_ash  magnesium  total_phenols  \\\n",
       "0    14.23        1.71  2.43               15.6      127.0           2.80   \n",
       "1    13.20        1.78  2.14               11.2      100.0           2.65   \n",
       "2    13.16        2.36  2.67               18.6      101.0           2.80   \n",
       "3    14.37        1.95  2.50               16.8      113.0           3.85   \n",
       "4    13.24        2.59  2.87               21.0      118.0           2.80   \n",
       "\n",
       "   flavanoids  nonflavanoid_phenols  proanthocyanins  color_intensity   hue  \\\n",
       "0        3.06                  0.28             2.29             5.64  1.04   \n",
       "1        2.76                  0.26             1.28             4.38  1.05   \n",
       "2        3.24                  0.30             2.81             5.68  1.03   \n",
       "3        3.49                  0.24             2.18             7.80  0.86   \n",
       "4        2.69                  0.39             1.82             4.32  1.04   \n",
       "\n",
       "   od280/od315_of_diluted_wines  proline  \n",
       "0                          3.92   1065.0  \n",
       "1                          3.40   1050.0  \n",
       "2                          3.17   1185.0  \n",
       "3                          3.45   1480.0  \n",
       "4                          2.93    735.0  "
      ]
     },
     "execution_count": 2,
     "metadata": {},
     "output_type": "execute_result"
    }
   ],
   "source": [
    "# Load the dataset's features and targets\n",
    "X, y = load_wine(return_X_y=True, as_frame=True)\n",
    "\n",
    "# Let's have a look at the data\n",
    "X.head()"
   ]
  },
  {
   "cell_type": "markdown",
   "metadata": {},
   "source": [
    "## Run the pipeline"
   ]
  },
  {
   "cell_type": "code",
   "execution_count": 3,
   "metadata": {
    "scrolled": false
   },
   "outputs": [
    {
     "name": "stdout",
     "output_type": "stream",
     "text": [
      "<< ================== ATOM ================== >>\n",
      "Algorithm task: multiclass classification.\n",
      "Parallel processing with 16 cores.\n",
      "\n",
      "Dataset stats ================== >>\n",
      "Shape: (178, 14)\n",
      "Scaled: False\n",
      "-----------------------------------\n",
      "Train set size: 143\n",
      "Test set size: 35\n",
      "-----------------------------------\n",
      "Train set balance: 0:1:2 <==> 1.4:1.7:1.0\n",
      "Test set balance: 0:1:2 <==> 1.0:1.4:1.4\n",
      "-----------------------------------\n",
      "Distribution of classes:\n",
      "|    |   dataset |   train |   test |\n",
      "|---:|----------:|--------:|-------:|\n",
      "|  0 |        59 |      50 |      9 |\n",
      "|  1 |        71 |      58 |     13 |\n",
      "|  2 |        48 |      35 |     13 |\n",
      "\n",
      "\n",
      "Training ===================================== >>\n",
      "Models: LR, LDA, RF\n",
      "Metric: roc_auc_ovr\n",
      "\n",
      "\n",
      "Running BO for Logistic Regression...\n",
      "Initial point 1 ---------------------------------\n",
      "Parameters --> {'penalty': 'l2', 'C': 46.003, 'solver': 'lbfgs', 'max_iter': 745}\n",
      "Evaluation --> roc_auc_ovr: 1.0000  Best roc_auc_ovr: 1.0000\n",
      "Time iteration: 0.000s   Total time: 0.000s\n",
      "Initial point 2 ---------------------------------\n",
      "Parameters --> {'penalty': 'none', 'solver': 'newton-cg', 'max_iter': 490}\n",
      "Evaluation --> roc_auc_ovr: 1.0000  Best roc_auc_ovr: 1.0000\n",
      "Time iteration: 0.000s   Total time: 0.000s\n",
      "Initial point 3 ---------------------------------\n",
      "Parameters --> {'penalty': 'l2', 'C': 0.037, 'solver': 'liblinear', 'max_iter': 352}\n",
      "Evaluation --> roc_auc_ovr: 0.9993  Best roc_auc_ovr: 1.0000\n",
      "Time iteration: 0.000s   Total time: 0.000s\n",
      "Iteration 4 -------------------------------------\n",
      "Parameters --> {'penalty': 'none', 'solver': 'newton-cg', 'max_iter': 378}\n",
      "Evaluation --> roc_auc_ovr: 1.0000  Best roc_auc_ovr: 1.0000\n",
      "Time iteration: 0.000s   Total time: -0.000s\n",
      "\n",
      "Results for Logistic Regression:         \n",
      "Bayesian Optimization ---------------------------\n",
      "Best parameters --> {'penalty': 'l2', 'C': 46.003, 'solver': 'lbfgs', 'max_iter': 745}\n",
      "Best evaluation --> roc_auc_ovr: 1.0000\n",
      "Time elapsed: 0.000s\n",
      "Fit ---------------------------------------------\n",
      "Train evaluation --> roc_auc_ovr: 1.0000\n",
      "Test evaluation --> roc_auc_ovr: 0.9965\n",
      "Time elapsed: 0.000s\n",
      "Bagging -----------------------------------------\n",
      "Evaluation --> roc_auc_ovr: 0.9942 ± 0.0026\n",
      "Time elapsed: 0.000s\n",
      "-------------------------------------------------\n",
      "Total time: 0.000s\n",
      "\n",
      "\n",
      "Running BO for Linear Discriminant Analysis...\n",
      "Initial point 1 ---------------------------------\n",
      "Parameters --> {'solver': 'eigen', 'shrinkage': 1.0}\n",
      "Evaluation --> roc_auc_ovr: 0.8975  Best roc_auc_ovr: 0.8975\n",
      "Time iteration: 0.000s   Total time: 0.000s\n",
      "Initial point 2 ---------------------------------\n",
      "Parameters --> {'solver': 'svd'}\n",
      "Evaluation --> roc_auc_ovr: 1.0000  Best roc_auc_ovr: 1.0000\n",
      "Time iteration: 0.000s   Total time: 0.000s\n",
      "Initial point 3 ---------------------------------\n",
      "Parameters --> {'solver': 'svd'}\n",
      "Evaluation --> roc_auc_ovr: 1.0000  Best roc_auc_ovr: 1.0000\n",
      "Time iteration: 0.000s   Total time: 0.000s\n",
      "Iteration 4 -------------------------------------\n",
      "Parameters --> {'solver': 'lsqr', 'shrinkage': 0.7}\n",
      "Evaluation --> roc_auc_ovr: 0.8996  Best roc_auc_ovr: 1.0000\n",
      "Time iteration: 0.000s   Total time: 0.000s\n",
      "\n",
      "Results for Linear Discriminant Analysis:         \n",
      "Bayesian Optimization ---------------------------\n",
      "Best parameters --> {'solver': 'svd'}\n",
      "Best evaluation --> roc_auc_ovr: 1.0000\n",
      "Time elapsed: 0.000s\n",
      "Fit ---------------------------------------------\n",
      "Train evaluation --> roc_auc_ovr: 1.0000\n",
      "Test evaluation --> roc_auc_ovr: 1.0000\n",
      "Time elapsed: 0.000s\n",
      "Bagging -----------------------------------------\n",
      "Evaluation --> roc_auc_ovr: 0.9998 ± 0.0005\n",
      "Time elapsed: 0.000s\n",
      "-------------------------------------------------\n",
      "Total time: 0.000s\n",
      "\n",
      "\n",
      "Running BO for Random Forest...\n",
      "Initial point 1 ---------------------------------\n",
      "Parameters --> {'n_estimators': 245, 'criterion': 'entropy', 'max_depth': None, 'min_samples_split': 13, 'min_samples_leaf': 6, 'max_features': None, 'bootstrap': True, 'ccp_alpha': 0.007, 'max_samples': 0.6}\n",
      "Evaluation --> roc_auc_ovr: 0.9921  Best roc_auc_ovr: 0.9921\n",
      "Time iteration: 0.000s   Total time: 0.000s\n",
      "Initial point 2 ---------------------------------\n",
      "Parameters --> {'n_estimators': 400, 'criterion': 'entropy', 'max_depth': 8, 'min_samples_split': 7, 'min_samples_leaf': 19, 'max_features': 0.7, 'bootstrap': True, 'ccp_alpha': 0.008, 'max_samples': 0.7}\n",
      "Evaluation --> roc_auc_ovr: 0.9927  Best roc_auc_ovr: 0.9927\n",
      "Time iteration: 0.000s   Total time: 0.000s\n",
      "Initial point 3 ---------------------------------\n",
      "Parameters --> {'n_estimators': 78, 'criterion': 'gini', 'max_depth': 5, 'min_samples_split': 2, 'min_samples_leaf': 14, 'max_features': 0.8, 'bootstrap': False, 'ccp_alpha': 0.003}\n",
      "Evaluation --> roc_auc_ovr: 0.9851  Best roc_auc_ovr: 0.9927\n",
      "Time iteration: -0.000s   Total time: 0.000s\n",
      "Iteration 4 -------------------------------------\n",
      "Parameters --> {'n_estimators': 394, 'criterion': 'entropy', 'max_depth': 3, 'min_samples_split': 19, 'min_samples_leaf': 14, 'max_features': 0.8, 'bootstrap': False, 'ccp_alpha': 0.015}\n",
      "Evaluation --> roc_auc_ovr: 0.9897  Best roc_auc_ovr: 0.9927\n",
      "Time iteration: 0.000s   Total time: 0.000s\n",
      "\n",
      "Results for Random Forest:         \n",
      "Bayesian Optimization ---------------------------\n",
      "Best parameters --> {'n_estimators': 400, 'criterion': 'entropy', 'max_depth': 8, 'min_samples_split': 7, 'min_samples_leaf': 19, 'max_features': 0.7, 'bootstrap': True, 'ccp_alpha': 0.008, 'max_samples': 0.7}\n",
      "Best evaluation --> roc_auc_ovr: 0.9927\n",
      "Time elapsed: 0.000s\n",
      "Fit ---------------------------------------------\n",
      "Train evaluation --> roc_auc_ovr: 0.9997\n",
      "Test evaluation --> roc_auc_ovr: 0.9802\n",
      "Time elapsed: 0.000s\n",
      "Bagging -----------------------------------------\n",
      "Evaluation --> roc_auc_ovr: 0.9740 ± 0.0074\n",
      "Time elapsed: 0.000s\n",
      "-------------------------------------------------\n",
      "Total time: 0.000s\n",
      "\n",
      "\n",
      "Final results ========================= >>\n",
      "Duration: 0.000s\n",
      "------------------------------------------\n",
      "Logistic Regression          --> roc_auc_ovr: 0.994 ± 0.003\n",
      "Linear Discriminant Analysis --> roc_auc_ovr: 1.000 ± 0.000 !\n",
      "Random Forest                --> roc_auc_ovr: 0.974 ± 0.007\n"
     ]
    }
   ],
   "source": [
    "atom = ATOMClassifier(X, y, n_jobs=-1, warnings='ignore', verbose=2, random_state=1)\n",
    "\n",
    "# Fit the pipeline with the selected models\n",
    "atom.run(\n",
    "    models=['LR','LDA', 'RF'],\n",
    "    metric='roc_auc_ovr',\n",
    "    n_calls=4,\n",
    "    n_initial_points=3,\n",
    "    bo_params={'base_estimator': 'rf', 'max_time': 100},\n",
    "    bagging=5\n",
    ")"
   ]
  },
  {
   "cell_type": "markdown",
   "metadata": {},
   "source": [
    "## Analyze the results"
   ]
  },
  {
   "cell_type": "code",
   "execution_count": 4,
   "metadata": {},
   "outputs": [
    {
     "data": {
      "text/html": [
       "<div>\n",
       "<style scoped>\n",
       "    .dataframe tbody tr th:only-of-type {\n",
       "        vertical-align: middle;\n",
       "    }\n",
       "\n",
       "    .dataframe tbody tr th {\n",
       "        vertical-align: top;\n",
       "    }\n",
       "\n",
       "    .dataframe thead th {\n",
       "        text-align: right;\n",
       "    }\n",
       "</style>\n",
       "<table border=\"1\" class=\"dataframe\">\n",
       "  <thead>\n",
       "    <tr style=\"text-align: right;\">\n",
       "      <th></th>\n",
       "      <th>metric_bo</th>\n",
       "      <th>time_bo</th>\n",
       "      <th>metric_train</th>\n",
       "      <th>metric_test</th>\n",
       "      <th>time_fit</th>\n",
       "      <th>mean_bagging</th>\n",
       "      <th>std_bagging</th>\n",
       "      <th>time_bagging</th>\n",
       "      <th>time</th>\n",
       "    </tr>\n",
       "    <tr>\n",
       "      <th>model</th>\n",
       "      <th></th>\n",
       "      <th></th>\n",
       "      <th></th>\n",
       "      <th></th>\n",
       "      <th></th>\n",
       "      <th></th>\n",
       "      <th></th>\n",
       "      <th></th>\n",
       "      <th></th>\n",
       "    </tr>\n",
       "  </thead>\n",
       "  <tbody>\n",
       "    <tr>\n",
       "      <th>LR</th>\n",
       "      <td>1</td>\n",
       "      <td>0.000s</td>\n",
       "      <td>1</td>\n",
       "      <td>0.996503</td>\n",
       "      <td>0.000s</td>\n",
       "      <td>0.994172</td>\n",
       "      <td>0.00255349</td>\n",
       "      <td>0.000s</td>\n",
       "      <td>0.000s</td>\n",
       "    </tr>\n",
       "    <tr>\n",
       "      <th>LDA</th>\n",
       "      <td>1</td>\n",
       "      <td>0.000s</td>\n",
       "      <td>1</td>\n",
       "      <td>1</td>\n",
       "      <td>0.000s</td>\n",
       "      <td>0.999767</td>\n",
       "      <td>0.0004662</td>\n",
       "      <td>0.000s</td>\n",
       "      <td>0.000s</td>\n",
       "    </tr>\n",
       "    <tr>\n",
       "      <th>RF</th>\n",
       "      <td>0.992716</td>\n",
       "      <td>0.000s</td>\n",
       "      <td>0.999654</td>\n",
       "      <td>0.980186</td>\n",
       "      <td>0.000s</td>\n",
       "      <td>0.974022</td>\n",
       "      <td>0.00735105</td>\n",
       "      <td>0.000s</td>\n",
       "      <td>0.000s</td>\n",
       "    </tr>\n",
       "  </tbody>\n",
       "</table>\n",
       "</div>"
      ],
      "text/plain": [
       "      metric_bo time_bo metric_train metric_test time_fit mean_bagging  \\\n",
       "model                                                                    \n",
       "LR            1  0.000s            1    0.996503   0.000s     0.994172   \n",
       "LDA           1  0.000s            1           1   0.000s     0.999767   \n",
       "RF     0.992716  0.000s     0.999654    0.980186   0.000s     0.974022   \n",
       "\n",
       "      std_bagging time_bagging    time  \n",
       "model                                   \n",
       "LR     0.00255349       0.000s  0.000s  \n",
       "LDA     0.0004662       0.000s  0.000s  \n",
       "RF     0.00735105       0.000s  0.000s  "
      ]
     },
     "execution_count": 4,
     "metadata": {},
     "output_type": "execute_result"
    }
   ],
   "source": [
    "# We can access the pipeline's results via the results attribute\n",
    "atom.results"
   ]
  },
  {
   "cell_type": "code",
   "execution_count": 5,
   "metadata": {},
   "outputs": [
    {
     "name": "stdout",
     "output_type": "stream",
     "text": [
      "Results ===================== >>\n",
      "Logistic Regression          --> precision_macro: 0.949\n",
      "Linear Discriminant Analysis --> precision_macro: 1.0\n",
      "Random Forest                --> precision_macro: 0.919\n"
     ]
    }
   ],
   "source": [
    "# Show the scoring for a different metric than the one we trained on\n",
    "atom.scoring('precision_macro')"
   ]
  },
  {
   "cell_type": "markdown",
   "metadata": {},
   "source": [
    "**Let's have a closer look at the Random Forest**"
   ]
  },
  {
   "cell_type": "code",
   "execution_count": 6,
   "metadata": {},
   "outputs": [
    {
     "name": "stdout",
     "output_type": "stream",
     "text": [
      "Jaccard score: 0.8428571428571429\n",
      "Recall score: 0.923076923076923\n"
     ]
    }
   ],
   "source": [
    "# Get the results on some other metrics\n",
    "print('Jaccard score:', atom.rf.scoring('jaccard_weighted'))\n",
    "print('Recall score:', atom.rf.scoring('recall_macro'))"
   ]
  },
  {
   "cell_type": "code",
   "execution_count": 7,
   "metadata": {
    "scrolled": false
   },
   "outputs": [
    {
     "data": {
      "image/png": "[encoded data removed]",
      "text/plain": [
       "<Figure size 648x648 with 2 Axes>"
      ]
     },
     "metadata": {},
     "output_type": "display_data"
    }
   ],
   "source": [
    "# Plot the confusion matrix\n",
    "atom.RF.plot_confusion_matrix(figsize=(9, 9))"
   ]
  },
  {
   "cell_type": "code",
   "execution_count": 8,
   "metadata": {},
   "outputs": [
    {
     "name": "stdout",
     "output_type": "stream",
     "text": [
      "Random Forest estimator saved successfully!\n"
     ]
    }
   ],
   "source": [
    "# Save the estimator as a pickle file\n",
    "atom.RF.save_estimator('Random_Forest_model')"
   ]
  }
 ],
 "metadata": {
  "kernelspec": {
   "display_name": "Python 3",
   "language": "python",
   "name": "python3"
  },
  "language_info": {
   "codemirror_mode": {
    "name": "ipython",
    "version": 3
   },
   "file_extension": ".py",
   "mimetype": "text/x-python",
   "name": "python",
   "nbconvert_exporter": "python",
   "pygments_lexer": "ipython3",
   "version": "3.8.3"
  }
 },
 "nbformat": 4,
 "nbformat_minor": 2
}
