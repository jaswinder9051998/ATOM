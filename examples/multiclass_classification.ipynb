{
 "cells": [
  {
   "cell_type": "markdown",
   "metadata": {},
   "source": [
    "# Multiclass classification\n",
    "---------------------------------\n",
    "\n",
    "This example shows how to compare the performance of three models on a multiclass classification task.\n",
    "\n",
    "Import the wine dataset from [sklearn.datasets](https://scikit-learn.org/stable/datasets/index.html#breast-cancer-wisconsin-diagnostic-dataset). This is a small and easy to train dataset whose goal is to predict wines into three groups (which cultivator it's from) using features based on the results of chemical analysis."
   ]
  },
  {
   "cell_type": "markdown",
   "metadata": {},
   "source": [
    "## Load the data"
   ]
  },
  {
   "cell_type": "code",
   "execution_count": 1,
   "metadata": {},
   "outputs": [],
   "source": [
    "# Import packages\n",
    "from sklearn.datasets import load_wine\n",
    "from atom import ATOMClassifier"
   ]
  },
  {
   "cell_type": "code",
   "execution_count": 2,
   "metadata": {},
   "outputs": [
    {
     "data": {
      "text/html": [
       "<div>\n",
       "<style scoped>\n",
       "    .dataframe tbody tr th:only-of-type {\n",
       "        vertical-align: middle;\n",
       "    }\n",
       "\n",
       "    .dataframe tbody tr th {\n",
       "        vertical-align: top;\n",
       "    }\n",
       "\n",
       "    .dataframe thead th {\n",
       "        text-align: right;\n",
       "    }\n",
       "</style>\n",
       "<table border=\"1\" class=\"dataframe\">\n",
       "  <thead>\n",
       "    <tr style=\"text-align: right;\">\n",
       "      <th></th>\n",
       "      <th>alcohol</th>\n",
       "      <th>malic_acid</th>\n",
       "      <th>ash</th>\n",
       "      <th>alcalinity_of_ash</th>\n",
       "      <th>magnesium</th>\n",
       "      <th>total_phenols</th>\n",
       "      <th>flavanoids</th>\n",
       "      <th>nonflavanoid_phenols</th>\n",
       "    </tr>\n",
       "  </thead>\n",
       "  <tbody>\n",
       "    <tr>\n",
       "      <th>62</th>\n",
       "      <td>13.67</td>\n",
       "      <td>1.25</td>\n",
       "      <td>1.92</td>\n",
       "      <td>18.0</td>\n",
       "      <td>94.0</td>\n",
       "      <td>2.10</td>\n",
       "      <td>1.79</td>\n",
       "      <td>0.32</td>\n",
       "    </tr>\n",
       "    <tr>\n",
       "      <th>46</th>\n",
       "      <td>14.38</td>\n",
       "      <td>3.59</td>\n",
       "      <td>2.28</td>\n",
       "      <td>16.0</td>\n",
       "      <td>102.0</td>\n",
       "      <td>3.25</td>\n",
       "      <td>3.17</td>\n",
       "      <td>0.27</td>\n",
       "    </tr>\n",
       "    <tr>\n",
       "      <th>30</th>\n",
       "      <td>13.73</td>\n",
       "      <td>1.50</td>\n",
       "      <td>2.70</td>\n",
       "      <td>22.5</td>\n",
       "      <td>101.0</td>\n",
       "      <td>3.00</td>\n",
       "      <td>3.25</td>\n",
       "      <td>0.29</td>\n",
       "    </tr>\n",
       "    <tr>\n",
       "      <th>54</th>\n",
       "      <td>13.74</td>\n",
       "      <td>1.67</td>\n",
       "      <td>2.25</td>\n",
       "      <td>16.4</td>\n",
       "      <td>118.0</td>\n",
       "      <td>2.60</td>\n",
       "      <td>2.90</td>\n",
       "      <td>0.21</td>\n",
       "    </tr>\n",
       "    <tr>\n",
       "      <th>146</th>\n",
       "      <td>13.88</td>\n",
       "      <td>5.04</td>\n",
       "      <td>2.23</td>\n",
       "      <td>20.0</td>\n",
       "      <td>80.0</td>\n",
       "      <td>0.98</td>\n",
       "      <td>0.34</td>\n",
       "      <td>0.40</td>\n",
       "    </tr>\n",
       "  </tbody>\n",
       "</table>\n",
       "</div>"
      ],
      "text/plain": [
       "     alcohol  malic_acid   ash  alcalinity_of_ash  magnesium  total_phenols  \\\n",
       "62     13.67        1.25  1.92               18.0       94.0           2.10   \n",
       "46     14.38        3.59  2.28               16.0      102.0           3.25   \n",
       "30     13.73        1.50  2.70               22.5      101.0           3.00   \n",
       "54     13.74        1.67  2.25               16.4      118.0           2.60   \n",
       "146    13.88        5.04  2.23               20.0       80.0           0.98   \n",
       "\n",
       "     flavanoids  nonflavanoid_phenols  \n",
       "62         1.79                  0.32  \n",
       "46         3.17                  0.27  \n",
       "30         3.25                  0.29  \n",
       "54         2.90                  0.21  \n",
       "146        0.34                  0.40  "
      ]
     },
     "execution_count": 2,
     "metadata": {},
     "output_type": "execute_result"
    }
   ],
   "source": [
    "# Load the dataset's features and targets\n",
    "X, y = load_wine(return_X_y=True, as_frame=True)\n",
    "\n",
    "# Let's have a look at a subsample of the data\n",
    "X.sample(frac=1).iloc[:5, :8]"
   ]
  },
  {
   "cell_type": "markdown",
   "metadata": {},
   "source": [
    "## Run the pipeline"
   ]
  },
  {
   "cell_type": "code",
   "execution_count": 3,
   "metadata": {
    "scrolled": false
   },
   "outputs": [
    {
     "name": "stdout",
     "output_type": "stream",
     "text": [
      "<< ================== ATOM ================== >>\n",
      "Algorithm task: multiclass classification.\n",
      "Parallel processing with 16 cores.\n",
      "Applying data cleaning...\n",
      "\n",
      "Dataset stats ================= >>\n",
      "Shape: (178, 14)\n",
      "Scaled: False\n",
      "----------------------------------\n",
      "Size of training set: 143\n",
      "Size of test set: 35\n",
      "----------------------------------\n",
      "Class balance: 0:1:2 <==> 1.2:1.5:1.0\n",
      "Instances in target per class:\n",
      "|    |    total |    train_set |    test_set |\n",
      "|---:|---------:|-------------:|------------:|\n",
      "|  0 |       59 |           50 |           9 |\n",
      "|  1 |       71 |           58 |          13 |\n",
      "|  2 |       48 |           35 |          13 |\n",
      "\n",
      "\n",
      "Running pipeline ============================= >>\n",
      "Models in pipeline: LR, LDA, RF\n",
      "Metric: roc_auc_ovr\n",
      "\n",
      "\n",
      "Running BO for Logistic Regression...\n",
      "Random start 1 ----------------------------------\n",
      "Parameters --> {'max_iter': 335, 'solver': 'sag', 'class_weight': None, 'penalty': 'l2', 'C': 0.001}\n",
      "Evaluation --> roc_auc_ovr: 0.9970  Best roc_auc_ovr: 0.9970\n",
      "Time iteration: 3.490s   Total time: 3.494s\n",
      "Random start 2 ----------------------------------\n",
      "Parameters --> {'max_iter': 683, 'solver': 'lbfgs', 'class_weight': 'balanced', 'penalty': 'l2', 'C': 0.096}\n",
      "Evaluation --> roc_auc_ovr: 0.9996  Best roc_auc_ovr: 0.9996\n",
      "Time iteration: 3.023s   Total time: 6.523s\n",
      "Random start 3 ----------------------------------\n",
      "Parameters --> {'max_iter': 352, 'solver': 'saga', 'class_weight': 'balanced', 'penalty': 'l2', 'C': 0.001}\n",
      "Evaluation --> roc_auc_ovr: 0.9950  Best roc_auc_ovr: 0.9996\n",
      "Time iteration: 3.125s   Total time: 9.652s\n",
      "Iteration 4 -------------------------------------\n",
      "Parameters --> {'max_iter': 603, 'solver': 'liblinear', 'class_weight': None, 'penalty': 'l2', 'C': 0.061}\n",
      "Evaluation --> roc_auc_ovr: 1.0000  Best roc_auc_ovr: 1.0000\n",
      "Time iteration: 2.405s   Total time: 12.267s\n",
      "\n",
      "Results for Logistic Regression:         \n",
      "Bayesian Optimization ---------------------------\n",
      "Best parameters --> {'max_iter': 603, 'solver': 'liblinear', 'class_weight': None, 'penalty': 'l2', 'C': 0.061}\n",
      "Best evaluation --> roc_auc_ovr: 1.0000\n",
      "Time elapsed: 12.464s\n",
      "Fitting -----------------------------------------\n",
      "Score on the train set --> roc_auc_ovr: 1.0000\n",
      "Score on the test set  --> roc_auc_ovr: 0.9977\n",
      "Time elapsed: 0.018s\n",
      "Bagging -----------------------------------------\n",
      "Score --> roc_auc_ovr: 0.9981 ± 0.0009\n",
      "Time elapsed: 0.046s\n",
      "-------------------------------------------------\n",
      "Total time: 12.535s\n",
      "\n",
      "\n",
      "Running BO for Linear Discriminant Analysis...\n",
      "Random start 1 ----------------------------------\n",
      "Parameters --> {'solver': 'eigen', 'shrinkage': 1.0}\n",
      "Evaluation --> roc_auc_ovr: 0.8975  Best roc_auc_ovr: 0.8975\n",
      "Time iteration: 0.033s   Total time: 0.034s\n",
      "Random start 2 ----------------------------------\n",
      "Parameters --> {'solver': 'svd'}\n",
      "Evaluation --> roc_auc_ovr: 1.0000  Best roc_auc_ovr: 1.0000\n",
      "Time iteration: 0.033s   Total time: 0.070s\n",
      "Random start 3 ----------------------------------\n",
      "Parameters --> {'solver': 'svd'}\n",
      "Evaluation --> roc_auc_ovr: 1.0000  Best roc_auc_ovr: 1.0000\n",
      "Time iteration: 0.032s   Total time: 0.106s\n",
      "Iteration 4 -------------------------------------\n",
      "Parameters --> {'solver': 'lsqr', 'shrinkage': 0.7}\n",
      "Evaluation --> roc_auc_ovr: 0.8996  Best roc_auc_ovr: 1.0000\n",
      "Time iteration: 0.033s   Total time: 0.297s\n",
      "\n",
      "Results for Linear Discriminant Analysis:         \n",
      "Bayesian Optimization ---------------------------\n",
      "Best parameters --> {'solver': 'svd'}\n",
      "Best evaluation --> roc_auc_ovr: 1.0000\n",
      "Time elapsed: 0.531s\n",
      "Fitting -----------------------------------------\n",
      "Score on the train set --> roc_auc_ovr: 1.0000\n",
      "Score on the test set  --> roc_auc_ovr: 1.0000\n",
      "Time elapsed: 0.012s\n",
      "Bagging -----------------------------------------\n",
      "Score --> roc_auc_ovr: 0.9998 ± 0.0005\n",
      "Time elapsed: 0.034s\n",
      "-------------------------------------------------\n",
      "Total time: 0.583s\n",
      "\n",
      "\n",
      "Running BO for Random Forest...\n",
      "Random start 1 ----------------------------------\n",
      "Parameters --> {'n_estimators': 245, 'max_depth': 7, 'max_features': 1.0, 'criterion': 'gini', 'min_samples_split': 7, 'min_samples_leaf': 16, 'ccp_alpha': 0.008, 'bootstrap': True, 'max_samples': 0.6}\n",
      "Evaluation --> roc_auc_ovr: 0.9853  Best roc_auc_ovr: 0.9853\n",
      "Time iteration: 0.559s   Total time: 0.564s\n",
      "Random start 2 ----------------------------------\n",
      "Parameters --> {'n_estimators': 400, 'max_depth': 4, 'max_features': 0.8, 'criterion': 'gini', 'min_samples_split': 20, 'min_samples_leaf': 12, 'ccp_alpha': 0.016, 'bootstrap': True, 'max_samples': 0.7}\n",
      "Evaluation --> roc_auc_ovr: 0.9937  Best roc_auc_ovr: 0.9937\n",
      "Time iteration: 0.671s   Total time: 1.239s\n",
      "Random start 3 ----------------------------------\n",
      "Parameters --> {'n_estimators': 78, 'max_depth': 10, 'max_features': 0.7, 'criterion': 'gini', 'min_samples_split': 2, 'min_samples_leaf': 14, 'ccp_alpha': 0.025, 'bootstrap': False}\n",
      "Evaluation --> roc_auc_ovr: 0.9865  Best roc_auc_ovr: 0.9937\n",
      "Time iteration: 0.271s   Total time: 1.515s\n",
      "Iteration 4 -------------------------------------\n",
      "Parameters --> {'n_estimators': 323, 'max_depth': 7, 'max_features': 1.0, 'criterion': 'gini', 'min_samples_split': 16, 'min_samples_leaf': 1, 'ccp_alpha': 0.007, 'bootstrap': False}\n",
      "Evaluation --> roc_auc_ovr: 0.9315  Best roc_auc_ovr: 0.9937\n",
      "Time iteration: 0.545s   Total time: 2.257s\n",
      "\n",
      "Results for Random Forest:         \n",
      "Bayesian Optimization ---------------------------\n",
      "Best parameters --> {'n_estimators': 400, 'max_depth': 4, 'max_features': 0.8, 'criterion': 'gini', 'min_samples_split': 20, 'min_samples_leaf': 12, 'ccp_alpha': 0.016, 'bootstrap': True, 'max_samples': 0.7}\n",
      "Best evaluation --> roc_auc_ovr: 0.9937\n",
      "Time elapsed: 2.452s\n",
      "Fitting -----------------------------------------\n",
      "Score on the train set --> roc_auc_ovr: 0.9997\n",
      "Score on the test set  --> roc_auc_ovr: 0.9825\n",
      "Time elapsed: 0.753s\n",
      "Bagging -----------------------------------------\n",
      "Score --> roc_auc_ovr: 0.9737 ± 0.0116\n",
      "Time elapsed: 3.200s\n",
      "-------------------------------------------------\n",
      "Total time: 6.411s\n",
      "\n",
      "\n",
      "Final results ========================= >>\n",
      "Duration: 19.530s\n",
      "------------------------------------------\n",
      "Logistic Regression          --> roc_auc_ovr: 0.998 ± 0.001\n",
      "Linear Discriminant Analysis --> roc_auc_ovr: 1.000 ± 0.000 !\n",
      "Random Forest                --> roc_auc_ovr: 0.974 ± 0.012\n"
     ]
    }
   ],
   "source": [
    "atom = ATOMClassifier(X, y, n_jobs=-1, warnings='ignore', verbose=2, random_state=1)\n",
    "\n",
    "# Fit the pipeline with the selected models\n",
    "atom.run(models=['LR','LDA', 'RF'],\n",
    "         metric='roc_auc_ovr',\n",
    "         n_calls=4,\n",
    "         n_initial_points=3,\n",
    "         bo_params={'base_estimator': 'rf', 'max_time': 100},\n",
    "         bagging=5)"
   ]
  },
  {
   "cell_type": "markdown",
   "metadata": {},
   "source": [
    "## Analyze the results"
   ]
  },
  {
   "cell_type": "code",
   "execution_count": 4,
   "metadata": {},
   "outputs": [
    {
     "data": {
      "text/html": [
       "<div>\n",
       "<style scoped>\n",
       "    .dataframe tbody tr th:only-of-type {\n",
       "        vertical-align: middle;\n",
       "    }\n",
       "\n",
       "    .dataframe tbody tr th {\n",
       "        vertical-align: top;\n",
       "    }\n",
       "\n",
       "    .dataframe thead th {\n",
       "        text-align: right;\n",
       "    }\n",
       "</style>\n",
       "<table border=\"1\" class=\"dataframe\">\n",
       "  <thead>\n",
       "    <tr style=\"text-align: right;\">\n",
       "      <th></th>\n",
       "      <th>name</th>\n",
       "      <th>score_bo</th>\n",
       "      <th>time_bo</th>\n",
       "      <th>score_train</th>\n",
       "      <th>score_test</th>\n",
       "      <th>time_fit</th>\n",
       "      <th>mean_bagging</th>\n",
       "      <th>std_bagging</th>\n",
       "      <th>time_bagging</th>\n",
       "      <th>time</th>\n",
       "    </tr>\n",
       "    <tr>\n",
       "      <th>model</th>\n",
       "      <th></th>\n",
       "      <th></th>\n",
       "      <th></th>\n",
       "      <th></th>\n",
       "      <th></th>\n",
       "      <th></th>\n",
       "      <th></th>\n",
       "      <th></th>\n",
       "      <th></th>\n",
       "      <th></th>\n",
       "    </tr>\n",
       "  </thead>\n",
       "  <tbody>\n",
       "    <tr>\n",
       "      <th>LR</th>\n",
       "      <td>Logistic Regression</td>\n",
       "      <td>1.000000</td>\n",
       "      <td>12.464s</td>\n",
       "      <td>1.000000</td>\n",
       "      <td>0.997669</td>\n",
       "      <td>0.018s</td>\n",
       "      <td>0.998135</td>\n",
       "      <td>0.000932</td>\n",
       "      <td>0.046s</td>\n",
       "      <td>12.535s</td>\n",
       "    </tr>\n",
       "    <tr>\n",
       "      <th>LDA</th>\n",
       "      <td>Linear Discriminant Analysis</td>\n",
       "      <td>1.000000</td>\n",
       "      <td>0.531s</td>\n",
       "      <td>1.000000</td>\n",
       "      <td>1.000000</td>\n",
       "      <td>0.012s</td>\n",
       "      <td>0.999767</td>\n",
       "      <td>0.000466</td>\n",
       "      <td>0.034s</td>\n",
       "      <td>0.583s</td>\n",
       "    </tr>\n",
       "    <tr>\n",
       "      <th>RF</th>\n",
       "      <td>Random Forest</td>\n",
       "      <td>0.993712</td>\n",
       "      <td>2.452s</td>\n",
       "      <td>0.999725</td>\n",
       "      <td>0.982517</td>\n",
       "      <td>0.753s</td>\n",
       "      <td>0.973686</td>\n",
       "      <td>0.011577</td>\n",
       "      <td>3.200s</td>\n",
       "      <td>6.411s</td>\n",
       "    </tr>\n",
       "  </tbody>\n",
       "</table>\n",
       "</div>"
      ],
      "text/plain": [
       "                               name  score_bo  time_bo  score_train  \\\n",
       "model                                                                 \n",
       "LR              Logistic Regression  1.000000  12.464s     1.000000   \n",
       "LDA    Linear Discriminant Analysis  1.000000   0.531s     1.000000   \n",
       "RF                    Random Forest  0.993712   2.452s     0.999725   \n",
       "\n",
       "       score_test time_fit  mean_bagging  std_bagging time_bagging     time  \n",
       "model                                                                        \n",
       "LR       0.997669   0.018s      0.998135     0.000932       0.046s  12.535s  \n",
       "LDA      1.000000   0.012s      0.999767     0.000466       0.034s   0.583s  \n",
       "RF       0.982517   0.753s      0.973686     0.011577       3.200s   6.411s  "
      ]
     },
     "execution_count": 4,
     "metadata": {},
     "output_type": "execute_result"
    }
   ],
   "source": [
    "# We can access the pipeline's results via the results attribute\n",
    "atom.results"
   ]
  },
  {
   "cell_type": "code",
   "execution_count": 5,
   "metadata": {},
   "outputs": [
    {
     "name": "stdout",
     "output_type": "stream",
     "text": [
      "Results ===================== >>\n",
      "Logistic Regression          --> precision_macro: 0.976\n",
      "Linear Discriminant Analysis --> precision_macro: 0.976\n",
      "Random Forest                --> precision_macro: 0.9\n"
     ]
    }
   ],
   "source": [
    "# Show the scoring for a different metric than the one we trained on\n",
    "atom.scoring('precision_macro')"
   ]
  },
  {
   "cell_type": "markdown",
   "metadata": {},
   "source": [
    "**Let's have a closer look at the Random Forest**"
   ]
  },
  {
   "cell_type": "code",
   "execution_count": 6,
   "metadata": {},
   "outputs": [
    {
     "name": "stdout",
     "output_type": "stream",
     "text": [
      "Jaccard score: 0.7957142857142857\n",
      "Recall score: 0.8974358974358975\n"
     ]
    }
   ],
   "source": [
    "# Get the results on some other metrics\n",
    "print('Jaccard score:', atom.rf.scoring('jaccard_weighted'))\n",
    "print('Recall score:', atom.rf.scoring('recall_macro'))"
   ]
  },
  {
   "cell_type": "code",
   "execution_count": 7,
   "metadata": {
    "scrolled": false
   },
   "outputs": [
    {
     "data": {
      "image/png": "[encoded data removed]",
      "text/plain": [
       "<Figure size 648x648 with 2 Axes>"
      ]
     },
     "metadata": {},
     "output_type": "display_data"
    }
   ],
   "source": [
    "# Plot the confusion matrix\n",
    "atom.RF.plot_confusion_matrix(figsize=(9, 9))"
   ]
  },
  {
   "cell_type": "code",
   "execution_count": 8,
   "metadata": {},
   "outputs": [
    {
     "name": "stdout",
     "output_type": "stream",
     "text": [
      "Random Forest model saved successfully!\n"
     ]
    }
   ],
   "source": [
    "# Save the model as a pickle file\n",
    "atom.RF.save_model('Random_Forest_model')"
   ]
  }
 ],
 "metadata": {
  "kernelspec": {
   "display_name": "Python 3",
   "language": "python",
   "name": "python3"
  },
  "language_info": {
   "codemirror_mode": {
    "name": "ipython",
    "version": 3
   },
   "file_extension": ".py",
   "mimetype": "text/x-python",
   "name": "python",
   "nbconvert_exporter": "python",
   "pygments_lexer": "ipython3",
   "version": "3.7.6"
  }
 },
 "nbformat": 4,
 "nbformat_minor": 2
}
