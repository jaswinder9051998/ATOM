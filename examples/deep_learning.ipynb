{
 "cells": [
  {
   "cell_type": "markdown",
   "metadata": {},
   "source": [
    "# Deep learning\n",
    "---------------------------\n",
    "\n",
    "This example shows how to use ATOM to train and validate a Convolutional Neural Network implemented with [Keras](https://keras.io/).\n",
    "\n",
    "Import the MNIST dataset from [keras.datasets](https://keras.io/api/datasets/mnist/). This is a well known image dataset whose goal is to classify handwritten digits."
   ]
  },
  {
   "cell_type": "markdown",
   "metadata": {},
   "source": [
    "## Load the data"
   ]
  },
  {
   "cell_type": "code",
   "execution_count": 1,
   "metadata": {},
   "outputs": [],
   "source": [
    "# Disable annoying tf warnings\n",
    "import logging\n",
    "import tensorflow as tf\n",
    "tf.get_logger().setLevel(logging.ERROR)\n",
    "\n",
    "# Import standard packages\n",
    "from atom import ATOMClassifier, ATOMModel\n",
    "from skopt.space.space import Integer, Categorical\n",
    "\n",
    "# Keras\n",
    "from keras.datasets import mnist\n",
    "from keras.models import Sequential\n",
    "from keras.layers import Dense, Flatten, Conv2D\n",
    "from keras.wrappers.scikit_learn import KerasClassifier"
   ]
  },
  {
   "cell_type": "code",
   "execution_count": 2,
   "metadata": {},
   "outputs": [],
   "source": [
    "# Create the convolutional neural network\n",
    "def neural_network():\n",
    "    model = Sequential()\n",
    "    model.add(\n",
    "        Conv2D(\n",
    "            filters=64,\n",
    "            kernel_size=3,\n",
    "            activation=\"relu\",\n",
    "            input_shape=(28, 28, 1),\n",
    "        )\n",
    "    )\n",
    "    model.add(Conv2D(filters=64, kernel_size=3, activation=\"relu\"))\n",
    "    model.add(Flatten())\n",
    "    model.add(Dense(units=10, activation=\"softmax\"))\n",
    "    model.compile(\n",
    "        optimizer=\"adam\",\n",
    "        loss=\"categorical_crossentropy\",\n",
    "        metrics=[\"accuracy\"],\n",
    "    )\n",
    "\n",
    "    return model\n",
    "\n",
    "\n",
    "# Since ATOM uses sklearn's API, use Keras' wrapper\n",
    "model = KerasClassifier(neural_network, epochs=1, batch_size=512, verbose=0)\n",
    "\n",
    "# Convert the model to an ATOM model\n",
    "model = ATOMModel(model, acronym=\"NN\", fullname=\"Neural network\")"
   ]
  },
  {
   "cell_type": "code",
   "execution_count": 3,
   "metadata": {},
   "outputs": [],
   "source": [
    "# Download the MNIST dataset\n",
    "(X_train, y_train), (X_test, y_test) = mnist.load_data()"
   ]
  },
  {
   "cell_type": "code",
   "execution_count": 4,
   "metadata": {},
   "outputs": [],
   "source": [
    "# Reshape data to fit model\n",
    "X_train = X_train.reshape(60000,28,28,1)\n",
    "X_test = X_test.reshape(10000,28,28,1)\n",
    "\n",
    "data = (X_train, y_train), (X_test, y_test)"
   ]
  },
  {
   "cell_type": "markdown",
   "metadata": {},
   "source": [
    "## Run the pipeline"
   ]
  },
  {
   "cell_type": "code",
   "execution_count": 5,
   "metadata": {
    "run_control": {
     "marked": false
    }
   },
   "outputs": [
    {
     "name": "stdout",
     "output_type": "stream",
     "text": [
      "<< ================== ATOM ================== >>\n",
      "Algorithm task: multiclass classification.\n",
      "Parallel processing with 6 cores.\n",
      "\n",
      "Dataset stats ==================== >>\n",
      "Shape: (7000, (28, 28, 1), 2)\n",
      "-------------------------------------\n",
      "Train set size: 6000\n",
      "Test set size: 1000\n",
      "-------------------------------------\n",
      "|    |     dataset |       train |        test |\n",
      "| -- | ----------- | ----------- | ----------- |\n",
      "| 0  |   690 (1.0) |   596 (1.1) |    94 (1.1) |\n",
      "| 1  |   796 (1.2) |   690 (1.2) |   106 (1.3) |\n",
      "| 2  |   684 (1.0) |   568 (1.0) |   116 (1.4) |\n",
      "| 3  |   694 (1.1) |   590 (1.1) |   104 (1.3) |\n",
      "| 4  |   658 (1.0) |   553 (1.0) |   105 (1.3) |\n",
      "| 5  |   665 (1.0) |   577 (1.0) |    88 (1.1) |\n",
      "| 6  |   675 (1.0) |   593 (1.1) |    82 (1.0) |\n",
      "| 7  |   696 (1.1) |   591 (1.1) |   105 (1.3) |\n",
      "| 8  |   753 (1.1) |   654 (1.2) |    99 (1.2) |\n",
      "| 9  |   689 (1.0) |   588 (1.1) |   101 (1.2) |\n",
      "\n"
     ]
    }
   ],
   "source": [
    "atom = ATOMClassifier(*data, n_rows=0.1, n_jobs=6, warnings=False, verbose=2)"
   ]
  },
  {
   "cell_type": "code",
   "execution_count": 6,
   "metadata": {},
   "outputs": [
    {
     "data": {
      "text/html": [
       "<div>\n",
       "<style scoped>\n",
       "    .dataframe tbody tr th:only-of-type {\n",
       "        vertical-align: middle;\n",
       "    }\n",
       "\n",
       "    .dataframe tbody tr th {\n",
       "        vertical-align: top;\n",
       "    }\n",
       "\n",
       "    .dataframe thead th {\n",
       "        text-align: right;\n",
       "    }\n",
       "</style>\n",
       "<table border=\"1\" class=\"dataframe\">\n",
       "  <thead>\n",
       "    <tr style=\"text-align: right;\">\n",
       "      <th></th>\n",
       "      <th>Multidimensional feature</th>\n",
       "      <th>Target</th>\n",
       "    </tr>\n",
       "  </thead>\n",
       "  <tbody>\n",
       "    <tr>\n",
       "      <th>0</th>\n",
       "      <td>[[[0], [0], [0], [0], [0], [0], [0], [0], [0],...</td>\n",
       "      <td>4</td>\n",
       "    </tr>\n",
       "    <tr>\n",
       "      <th>1</th>\n",
       "      <td>[[[0], [0], [0], [0], [0], [0], [0], [0], [0],...</td>\n",
       "      <td>9</td>\n",
       "    </tr>\n",
       "    <tr>\n",
       "      <th>2</th>\n",
       "      <td>[[[0], [0], [0], [0], [0], [0], [0], [0], [0],...</td>\n",
       "      <td>9</td>\n",
       "    </tr>\n",
       "    <tr>\n",
       "      <th>3</th>\n",
       "      <td>[[[0], [0], [0], [0], [0], [0], [0], [0], [0],...</td>\n",
       "      <td>3</td>\n",
       "    </tr>\n",
       "    <tr>\n",
       "      <th>4</th>\n",
       "      <td>[[[0], [0], [0], [0], [0], [0], [0], [0], [0],...</td>\n",
       "      <td>3</td>\n",
       "    </tr>\n",
       "  </tbody>\n",
       "</table>\n",
       "</div>"
      ],
      "text/plain": [
       "                            Multidimensional feature  Target\n",
       "0  [[[0], [0], [0], [0], [0], [0], [0], [0], [0],...       4\n",
       "1  [[[0], [0], [0], [0], [0], [0], [0], [0], [0],...       9\n",
       "2  [[[0], [0], [0], [0], [0], [0], [0], [0], [0],...       9\n",
       "3  [[[0], [0], [0], [0], [0], [0], [0], [0], [0],...       3\n",
       "4  [[[0], [0], [0], [0], [0], [0], [0], [0], [0],...       3"
      ]
     },
     "execution_count": 6,
     "metadata": {},
     "output_type": "execute_result"
    }
   ],
   "source": [
    "# When the input data has more than 2 dimensions, ATOM creates a \n",
    "# dataset with just one column of shape (n_samples, shape_sample)\n",
    "atom.head()"
   ]
  },
  {
   "cell_type": "code",
   "execution_count": 7,
   "metadata": {},
   "outputs": [
    {
     "name": "stdout",
     "output_type": "stream",
     "text": [
      "Shape of one image: (28, 28, 1)\n",
      "atom's shape (n_rows, (shape_image), n_cols): (7000, (28, 28, 1), 2)\n"
     ]
    }
   ],
   "source": [
    "# Every row in the column contains the data of one image\n",
    "print(f\"Shape of one image: {atom.iloc[0, 0].shape}\")\n",
    "print(f\"atom's shape (n_rows, (shape_image), n_cols): {atom.shape}\")"
   ]
  },
  {
   "cell_type": "code",
   "execution_count": 8,
   "metadata": {},
   "outputs": [
    {
     "name": "stdout",
     "output_type": "stream",
     "text": [
      "\n",
      "Training ========================= >>\n",
      "Models: NN\n",
      "Metric: f1_weighted\n",
      "\n",
      "\n",
      "Running BO for Neural network...\n",
      "| Call             |  epochs | batch_size | f1_weighted | best_f1_weighted | time iteration | total time |\n",
      "| ---------------- | ------- | ---------- | ----------- | ---------------- | -------------- | ---------- |\n",
      "| Initial point 1  |       3 |         32 |      0.9411 |           0.9411 |        26.724s |    26.729s |\n",
      "| Initial point 2  |       2 |        256 |      0.9169 |           0.9411 |         8.961s |    35.821s |\n",
      "| Initial point 3  |       1 |         64 |      0.9423 |           0.9423 |         5.515s |    41.371s |\n",
      "| Initial point 4  |       1 |        256 |      0.7915 |           0.9423 |         5.211s |    46.616s |\n",
      "| Initial point 5  |       3 |        256 |      0.9459 |           0.9459 |        13.473s |     1m:00s |\n",
      "\n",
      "Results for Neural network:         \n",
      "Bayesian Optimization ---------------------------\n",
      "Best call --> Initial point 5\n",
      "Best parameters --> {'epochs': 3, 'batch_size': 256}\n",
      "Best evaluation --> f1_weighted: 0.9459\n",
      "Time elapsed: 1m:02s\n",
      "Fit ---------------------------------------------\n",
      "Train evaluation --> f1_weighted: 0.9962\n",
      "Test evaluation --> f1_weighted: 0.9599\n",
      "Time elapsed: 17.380s\n",
      "-------------------------------------------------\n",
      "Total time: 1m:19s\n",
      "\n",
      "\n",
      "Final results ==================== >>\n",
      "Duration: 1m:19s\n",
      "-------------------------------------\n",
      "Neural network --> f1_weighted: 0.9599\n"
     ]
    }
   ],
   "source": [
    "# Like any other model, we can define custom dimensions for the bayesian optimization\n",
    "dim = [Integer(1, 3, name=\"epochs\"), Categorical([32, 64, 128, 256], name=\"batch_size\")]\n",
    "\n",
    "atom.run(model, metric=\"f1_weighted\", n_calls=5, bo_params={\"dimensions\": dim, \"cv\": 1, \"max_time\": 120})"
   ]
  },
  {
   "cell_type": "markdown",
   "metadata": {},
   "source": [
    "## Analyze the results"
   ]
  },
  {
   "cell_type": "code",
   "execution_count": 9,
   "metadata": {},
   "outputs": [
    {
     "data": {
      "text/plain": [
       "array([[6.0217835e-09, 9.4847557e-08, 2.8341310e-06, ..., 1.0827313e-09,\n",
       "        6.3875075e-03, 7.3165307e-07],\n",
       "       [9.9997115e-01, 4.8964593e-11, 2.6703849e-05, ..., 1.6307254e-11,\n",
       "        7.4356372e-08, 9.6487325e-11],\n",
       "       [6.5820231e-12, 6.9915261e-11, 2.4551579e-09, ..., 3.5439630e-08,\n",
       "        1.6343348e-08, 5.1520864e-04],\n",
       "       ...,\n",
       "       [8.7638089e-13, 2.7805308e-12, 7.1621913e-13, ..., 2.6231929e-14,\n",
       "        6.8713524e-07, 6.5399348e-07],\n",
       "       [3.5774028e-03, 1.0130111e-08, 9.5202222e-06, ..., 1.1416973e-08,\n",
       "        1.2638112e-08, 1.5248799e-09],\n",
       "       [4.5659699e-06, 3.8330917e-08, 7.2965901e-07, ..., 8.0132241e-07,\n",
       "        9.9995625e-01, 3.0182082e-05]], dtype=float32)"
      ]
     },
     "execution_count": 9,
     "metadata": {},
     "output_type": "execute_result"
    }
   ],
   "source": [
    "# Use the prediction methods like any other model\n",
    "atom.nn.predict_proba(X_train)"
   ]
  },
  {
   "cell_type": "code",
   "execution_count": 10,
   "metadata": {
    "pycharm": {
     "name": "#%%\n"
    }
   },
   "outputs": [
    {
     "data": {
      "image/png": "[encoded data removed]",
      "text/plain": [
       "<Figure size 576x432 with 2 Axes>"
      ]
     },
     "metadata": {},
     "output_type": "display_data"
    }
   ],
   "source": [
    "# Or make plots...\n",
    "atom.nn.plot_confusion_matrix()"
   ]
  }
 ],
 "metadata": {
  "kernelspec": {
   "display_name": "Python 3 (ipykernel)",
   "language": "python",
   "name": "python3"
  },
  "language_info": {
   "codemirror_mode": {
    "name": "ipython",
    "version": 3
   },
   "file_extension": ".py",
   "mimetype": "text/x-python",
   "name": "python",
   "nbconvert_exporter": "python",
   "pygments_lexer": "ipython3",
   "version": "3.8.3"
  },
  "toc": {
   "base_numbering": 1,
   "nav_menu": {},
   "number_sections": true,
   "sideBar": true,
   "skip_h1_title": false,
   "title_cell": "Table of Contents",
   "title_sidebar": "Contents",
   "toc_cell": false,
   "toc_position": {},
   "toc_section_display": true,
   "toc_window_display": false
  }
 },
 "nbformat": 4,
 "nbformat_minor": 4
}
