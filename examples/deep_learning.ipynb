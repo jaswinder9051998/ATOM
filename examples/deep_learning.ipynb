{
 "cells": [
  {
   "cell_type": "markdown",
   "metadata": {},
   "source": [
    "# Deep learning\n",
    "---------------------------\n",
    "\n",
    "This example shows how we can use ATOM to train and validate a Convolutional Neural Network implemented using [Keras](https://keras.io/).\n",
    "\n",
    "Import the MNIST dataset from [keras.datasets](https://keras.io/api/datasets/mnist/). This is a well known image dataset with handwritten digits."
   ]
  },
  {
   "cell_type": "markdown",
   "metadata": {},
   "source": [
    "## Load the data"
   ]
  },
  {
   "cell_type": "code",
   "execution_count": 1,
   "metadata": {},
   "outputs": [],
   "source": [
    "# Disable annoying tf warnings\n",
    "import logging\n",
    "import tensorflow as tf\n",
    "tf.get_logger().setLevel(logging.ERROR)\n",
    "\n",
    "# Import standard packages\n",
    "from atom import ATOMClassifier, ATOMModel\n",
    "from skopt.space.space import Integer, Categorical\n",
    "\n",
    "# Keras\n",
    "from keras.datasets import mnist\n",
    "from keras.models import Sequential\n",
    "from keras.layers import Dense, Flatten, Conv2D\n",
    "from keras.wrappers.scikit_learn import KerasClassifier"
   ]
  },
  {
   "cell_type": "code",
   "execution_count": 2,
   "metadata": {},
   "outputs": [],
   "source": [
    "# Create the convolutional neural network\n",
    "def neural_network():\n",
    "    model = Sequential()\n",
    "    model.add(Conv2D(64, kernel_size=3, activation=\"relu\", input_shape=(28, 28, 1)))\n",
    "    model.add(Conv2D(64, kernel_size=3, activation=\"relu\"))\n",
    "    model.add(Flatten())\n",
    "    model.add(Dense(10, activation=\"softmax\"))\n",
    "    model.compile(optimizer='adam', loss='categorical_crossentropy', metrics=['accuracy'])\n",
    "\n",
    "    return model\n",
    "\n",
    "\n",
    "# Since ATOM uses sklearn's API, use Keras' wrapper\n",
    "model = KerasClassifier(neural_network, epochs=1, batch_size=512, verbose=0)\n",
    "\n",
    "# Convert the model to an ATOM model\n",
    "model = ATOMModel(model, acronym='NN', fullname='Neural network')\n",
    "model.type = 'deep'"
   ]
  },
  {
   "cell_type": "code",
   "execution_count": 3,
   "metadata": {},
   "outputs": [],
   "source": [
    "# Download the MNIST dataset\n",
    "(X_train, y_train), (X_test, y_test) = mnist.load_data()"
   ]
  },
  {
   "cell_type": "code",
   "execution_count": 4,
   "metadata": {},
   "outputs": [],
   "source": [
    "# Reshape data to fit model\n",
    "X_train = X_train.reshape(60000,28,28,1)\n",
    "X_test = X_test.reshape(10000,28,28,1)"
   ]
  },
  {
   "cell_type": "markdown",
   "metadata": {},
   "source": [
    "## Run the pipeline"
   ]
  },
  {
   "cell_type": "code",
   "execution_count": 5,
   "metadata": {
    "scrolled": false
   },
   "outputs": [
    {
     "name": "stdout",
     "output_type": "stream",
     "text": [
      "<< ================== ATOM ================== >>\n",
      "Algorithm task: multiclass classification.\n",
      "Parallel processing with 4 cores.\n",
      "\n",
      "Dataset stats ================== >>\n",
      "Shape: (7000, 2)\n",
      "Categorical columns: 1\n",
      "Scaled: False\n",
      "-----------------------------------\n",
      "Train set size: 6000\n",
      "Test set size: 1000\n",
      "-----------------------------------\n",
      "Train set balance: 0:1:2:3:4:5:6:7:8:9 <==> 1.0:1.2:1.1:1.1:1.1:1.0:1.0:1.1:1.0:1.0\n",
      "Test set balance: 0:1:2:3:4:5:6:7:8:9 <==> 1.2:1.4:1.2:1.1:1.3:1.1:1.0:1.2:1.3:1.3\n",
      "-----------------------------------\n",
      "Distribution of classes:\n",
      "|    |   dataset |   train |   test |\n",
      "|---:|----------:|--------:|-------:|\n",
      "|  0 |       686 |     584 |    102 |\n",
      "|  1 |       780 |     664 |    116 |\n",
      "|  2 |       724 |     623 |    101 |\n",
      "|  3 |       722 |     631 |     91 |\n",
      "|  4 |       700 |     595 |    105 |\n",
      "|  5 |       650 |     560 |     90 |\n",
      "|  6 |       658 |     575 |     83 |\n",
      "|  7 |       715 |     614 |    101 |\n",
      "|  8 |       676 |     572 |    104 |\n",
      "|  9 |       689 |     582 |    107 |\n",
      "\n"
     ]
    }
   ],
   "source": [
    "atom = ATOMClassifier((X_train, y_train), (X_test, y_test), n_rows=0.1, n_jobs=4, warnings=False, verbose=2)"
   ]
  },
  {
   "cell_type": "code",
   "execution_count": 6,
   "metadata": {},
   "outputs": [
    {
     "name": "stdout",
     "output_type": "stream",
     "text": [
      "                                            Features  target\n",
      "0  [[[0], [0], [0], [0], [0], [0], [0], [0], [0],...       6\n",
      "1  [[[0], [0], [0], [0], [0], [0], [0], [0], [0],...       7\n",
      "2  [[[0], [0], [0], [0], [0], [0], [0], [0], [0],...       1\n",
      "3  [[[0], [0], [0], [0], [0], [0], [0], [0], [0],...       4\n",
      "4  [[[0], [0], [0], [0], [0], [0], [0], [0], [0],...       6\n",
      "\n",
      "Every row in the column contains the data of one image, with shape: (28, 28, 1)\n"
     ]
    }
   ],
   "source": [
    "# When the input data has more than 2 dimensions, ATOM creates a \n",
    "# dataset with just one column of shape (n_samples, shape_sample)\n",
    "print(atom.dataset.head())\n",
    "print(f\"\\nEvery row in the column contains the data of one image, with shape: {atom.dataset.iloc[0, 0].shape}\")"
   ]
  },
  {
   "cell_type": "code",
   "execution_count": 7,
   "metadata": {
    "scrolled": false
   },
   "outputs": [
    {
     "name": "stdout",
     "output_type": "stream",
     "text": [
      "\n",
      "Training ===================================== >>\n",
      "Models: NN\n",
      "Metric: f1_weighted\n",
      "\n",
      "\n",
      "Running BO for Neural network...\n",
      "Initial point 1 ---------------------------------\n",
      "Parameters --> {'epochs': 3, 'batch_size': 32}\n",
      "Evaluation --> f1_weighted: 0.9358  Best f1_weighted: 0.9358\n",
      "Time iteration: 15.137s   Total time: 15.142s\n",
      "Initial point 2 ---------------------------------\n",
      "Parameters --> {'epochs': 2, 'batch_size': 128}\n",
      "Evaluation --> f1_weighted: 0.9433  Best f1_weighted: 0.9433\n",
      "Time iteration: 8.192s   Total time: 23.334s\n",
      "Initial point 3 ---------------------------------\n",
      "Parameters --> {'epochs': 3, 'batch_size': 64}\n",
      "Evaluation --> f1_weighted: 0.9534  Best f1_weighted: 0.9534\n",
      "Time iteration: 13.199s   Total time: 36.533s\n",
      "Initial point 4 ---------------------------------\n",
      "Parameters --> {'epochs': 2, 'batch_size': 32}\n",
      "Evaluation --> f1_weighted: 0.9467  Best f1_weighted: 0.9534\n",
      "Time iteration: 10.146s   Total time: 46.679s\n",
      "Initial point 5 ---------------------------------\n",
      "Parameters --> {'epochs': 2, 'batch_size': 64}\n",
      "Evaluation --> f1_weighted: 0.9558  Best f1_weighted: 0.9558\n",
      "Time iteration: 9.097s   Total time: 55.792s\n",
      "\n",
      "Results for Neural network:         \n",
      "Bayesian Optimization ---------------------------\n",
      "Best parameters --> {'epochs': 2, 'batch_size': 64}\n",
      "Best evaluation --> f1_weighted: 0.9558\n",
      "Time elapsed: 57.080s\n",
      "Fit ---------------------------------------------\n",
      "Train evaluation --> f1_weighted: 0.9967\n",
      "Test evaluation --> f1_weighted: 0.9549\n",
      "Time elapsed: 11.966s\n",
      "-------------------------------------------------\n",
      "Total time: 1m:09s\n",
      "\n",
      "\n",
      "Final results ========================= >>\n",
      "Duration: 1m:09s\n",
      "------------------------------------------\n",
      "Neural network --> f1_weighted: 0.955\n"
     ]
    }
   ],
   "source": [
    "# Like any other model, we can define custom dimensions for the bayesian optimization\n",
    "dim = [Integer(1, 3, name=\"epochs\"), Categorical([32, 64, 128, 256], name=\"batch_size\")]\n",
    "\n",
    "atom.run(model, metric=\"f1_weighted\", n_calls=5, bo_params={\"dimensions\": dim, \"cv\": 1, \"max_time\": 120})"
   ]
  },
  {
   "cell_type": "markdown",
   "metadata": {},
   "source": [
    "## Analyze the results"
   ]
  },
  {
   "cell_type": "code",
   "execution_count": 8,
   "metadata": {
    "scrolled": false
   },
   "outputs": [
    {
     "data": {
      "text/plain": [
       "array([[8.76596175e-07, 1.38764403e-06, 1.52839746e-07, ...,\n",
       "        1.60703712e-04, 2.06854588e-06, 1.32981916e-06],\n",
       "       [9.99999523e-01, 2.22466728e-12, 5.39773781e-10, ...,\n",
       "        2.64158712e-11, 1.49185428e-08, 9.51618304e-08],\n",
       "       [1.07633139e-11, 5.70476652e-11, 2.90564600e-07, ...,\n",
       "        1.21735468e-06, 1.23234195e-05, 2.50268067e-06],\n",
       "       ...,\n",
       "       [1.65581515e-09, 5.82741841e-11, 2.68326705e-14, ...,\n",
       "        2.05556631e-11, 1.10646642e-05, 2.90689983e-09],\n",
       "       [6.31913792e-07, 2.37590709e-14, 3.49165502e-10, ...,\n",
       "        1.30634904e-11, 7.05326205e-12, 6.08686296e-11],\n",
       "       [1.42169056e-05, 2.93578211e-07, 6.90621755e-06, ...,\n",
       "        4.18749050e-06, 9.99746978e-01, 1.23877708e-05]], dtype=float32)"
      ]
     },
     "execution_count": 8,
     "metadata": {},
     "output_type": "execute_result"
    }
   ],
   "source": [
    "# We can use the prediction methods like any other model\n",
    "atom.nn.predict_proba(X_train)"
   ]
  },
  {
   "cell_type": "code",
   "execution_count": 9,
   "metadata": {
    "pycharm": {
     "name": "#%%\n"
    }
   },
   "outputs": [
    {
     "data": {
      "image/png": "[encoded data removed]",
      "text/plain": [
       "<Figure size 576x576 with 2 Axes>"
      ]
     },
     "metadata": {},
     "output_type": "display_data"
    }
   ],
   "source": [
    "# Or make plots...\n",
    "atom.nn.plot_confusion_matrix()"
   ]
  }
 ],
 "metadata": {
  "kernelspec": {
   "display_name": "Python 3",
   "language": "python",
   "name": "python3"
  },
  "language_info": {
   "codemirror_mode": {
    "name": "ipython",
    "version": 3
   },
   "file_extension": ".py",
   "mimetype": "text/x-python",
   "name": "python",
   "nbconvert_exporter": "python",
   "pygments_lexer": "ipython3",
   "version": "3.8.3"
  }
 },
 "nbformat": 4,
 "nbformat_minor": 2
}
