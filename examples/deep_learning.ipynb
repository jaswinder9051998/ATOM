{
 "cells": [
  {
   "cell_type": "markdown",
   "metadata": {},
   "source": [
    "# Deep learning\n",
    "---------------------------\n",
    "\n",
    "This example shows how we can use ATOM to train and validate a Convolutional Neural Network implemented using [Keras](https://keras.io/).\n",
    "\n",
    "Import the MNIST dataset from [keras.datasets](https://keras.io/api/datasets/mnist/). This is a well known image dataset with handwritten digits."
   ]
  },
  {
   "cell_type": "markdown",
   "metadata": {},
   "source": [
    "## Load the data"
   ]
  },
  {
   "cell_type": "code",
   "execution_count": 1,
   "metadata": {},
   "outputs": [
    {
     "data": {
      "text/plain": [
       "<Figure size 432x288 with 0 Axes>"
      ]
     },
     "metadata": {},
     "output_type": "display_data"
    }
   ],
   "source": [
    "# Disable annoying tf warnings\n",
    "import logging\n",
    "import tensorflow as tf\n",
    "tf.get_logger().setLevel(logging.ERROR)\n",
    "\n",
    "# Import standard packages\n",
    "from atom import ATOMClassifier, ATOMModel\n",
    "from skopt.space.space import Integer, Categorical\n",
    "\n",
    "# Keras\n",
    "from keras.datasets import mnist\n",
    "from keras.models import Sequential\n",
    "from keras.layers import Dense, Flatten, Conv2D\n",
    "from keras.wrappers.scikit_learn import KerasClassifier"
   ]
  },
  {
   "cell_type": "code",
   "execution_count": 2,
   "metadata": {},
   "outputs": [],
   "source": [
    "# Create the convolutional neural network\n",
    "def neural_network():\n",
    "    model = Sequential()\n",
    "    model.add(Conv2D(64, kernel_size=3, activation=\"relu\", input_shape=(28, 28, 1)))\n",
    "    model.add(Conv2D(64, kernel_size=3, activation=\"relu\"))\n",
    "    model.add(Flatten())\n",
    "    model.add(Dense(10, activation=\"softmax\"))\n",
    "    model.compile(optimizer='adam', loss='categorical_crossentropy', metrics=['accuracy'])\n",
    "\n",
    "    return model\n",
    "\n",
    "\n",
    "# Since ATOM uses sklearn's API, use Keras' wrapper\n",
    "model = KerasClassifier(neural_network, epochs=1, batch_size=512, verbose=0)\n",
    "\n",
    "# Convert the model to an ATOM model\n",
    "model = ATOMModel(model, acronym='NN', fullname='Neural network')\n",
    "model.type = 'deep'"
   ]
  },
  {
   "cell_type": "code",
   "execution_count": 3,
   "metadata": {},
   "outputs": [],
   "source": [
    "# Download the MNIST dataset\n",
    "(X_train, y_train), (X_test, y_test) = mnist.load_data()"
   ]
  },
  {
   "cell_type": "code",
   "execution_count": 4,
   "metadata": {},
   "outputs": [],
   "source": [
    "# Reshape data to fit model\n",
    "X_train = X_train.reshape(60000,28,28,1)\n",
    "X_test = X_test.reshape(10000,28,28,1)"
   ]
  },
  {
   "cell_type": "markdown",
   "metadata": {},
   "source": [
    "## Run the pipeline"
   ]
  },
  {
   "cell_type": "code",
   "execution_count": 5,
   "metadata": {
    "scrolled": false
   },
   "outputs": [
    {
     "name": "stdout",
     "output_type": "stream",
     "text": [
      "<< ================== ATOM ================== >>\n",
      "Algorithm task: multiclass classification.\n",
      "Parallel processing with 4 cores.\n",
      "\n",
      "Dataset stats ================== >>\n",
      "Shape: (7000, 2)\n",
      "Categorical columns: 1\n",
      "Scaled: False\n",
      "-----------------------------------\n",
      "Train set size: 6000\n",
      "Test set size: 1000\n",
      "-----------------------------------\n",
      "Train set balance: 0:1:2:3:4:5:6:7:8:9 <==> 1.1:1.3:1.1:1.1:1.0:1.0:1.1:1.1:1.2:1.1\n",
      "Test set balance: 0:1:2:3:4:5:6:7:8:9 <==> 1.1:1.6:1.2:1.3:1.2:1.0:1.1:1.3:1.3:1.1\n",
      "-----------------------------------\n",
      "Distribution of classes:\n",
      "|    |   dataset |   train |   test |\n",
      "|---:|----------:|--------:|-------:|\n",
      "|  0 |       678 |     587 |     91 |\n",
      "|  1 |       839 |     710 |    129 |\n",
      "|  2 |       691 |     589 |    102 |\n",
      "|  3 |       705 |     601 |    104 |\n",
      "|  4 |       644 |     547 |     97 |\n",
      "|  5 |       617 |     535 |     82 |\n",
      "|  6 |       695 |     607 |     88 |\n",
      "|  7 |       717 |     609 |    108 |\n",
      "|  8 |       741 |     635 |    106 |\n",
      "|  9 |       673 |     580 |     93 |\n",
      "\n"
     ]
    }
   ],
   "source": [
    "atom = ATOMClassifier((X_train, y_train), (X_test, y_test), n_rows=0.1, n_jobs=4, warnings=False, verbose=2)"
   ]
  },
  {
   "cell_type": "code",
   "execution_count": 6,
   "metadata": {},
   "outputs": [
    {
     "name": "stdout",
     "output_type": "stream",
     "text": [
      "                                            Features  target\n",
      "0  [[[0], [0], [0], [0], [0], [0], [0], [0], [0],...       9\n",
      "1  [[[0], [0], [0], [0], [0], [0], [0], [0], [0],...       3\n",
      "2  [[[0], [0], [0], [0], [0], [0], [0], [0], [0],...       3\n",
      "3  [[[0], [0], [0], [0], [0], [0], [0], [0], [0],...       8\n",
      "4  [[[0], [0], [0], [0], [0], [0], [0], [0], [0],...       1\n",
      "\n",
      "Every row in the column contains the data of one image, with shape: (28, 28, 1)\n"
     ]
    }
   ],
   "source": [
    "# When the input data has more than 2 dimensions, ATOM creates a \n",
    "# dataset with just one column of shape (n_samples, shape_sample)\n",
    "print(atom.dataset.head())\n",
    "print(f\"\\nEvery row in the column contains the data of one image, with shape: {atom.dataset.iloc[0, 0].shape}\")"
   ]
  },
  {
   "cell_type": "code",
   "execution_count": 7,
   "metadata": {
    "scrolled": false
   },
   "outputs": [
    {
     "name": "stdout",
     "output_type": "stream",
     "text": [
      "\n",
      "Training ===================================== >>\n",
      "Models: NN\n",
      "Metric: f1_weighted\n",
      "\n",
      "\n",
      "Running BO for Neural network...\n",
      "Initial point 1 ---------------------------------\n",
      "Parameters --> {'epochs': 3, 'batch_size': 128}\n",
      "Evaluation --> f1_weighted: 0.9617  Best f1_weighted: 0.9617\n",
      "Time iteration: 12.105s   Total time: 12.109s\n",
      "Initial point 2 ---------------------------------\n",
      "Parameters --> {'epochs': 2, 'batch_size': 64}\n",
      "Evaluation --> f1_weighted: 0.9524  Best f1_weighted: 0.9617\n",
      "Time iteration: 9.052s   Total time: 21.161s\n",
      "Initial point 3 ---------------------------------\n",
      "Parameters --> {'epochs': 2, 'batch_size': 32}\n",
      "Evaluation --> f1_weighted: 0.9367  Best f1_weighted: 0.9617\n",
      "Time iteration: 9.865s   Total time: 31.030s\n",
      "Initial point 4 ---------------------------------\n",
      "Parameters --> {'epochs': 2, 'batch_size': 64}\n",
      "Evaluation --> f1_weighted: 0.9492  Best f1_weighted: 0.9617\n",
      "Time iteration: 8.826s   Total time: 39.855s\n",
      "Initial point 5 ---------------------------------\n",
      "Parameters --> {'epochs': 3, 'batch_size': 64}\n",
      "Evaluation --> f1_weighted: 0.9499  Best f1_weighted: 0.9617\n",
      "Time iteration: 13.035s   Total time: 52.890s\n",
      "\n",
      "Results for Neural network:         \n",
      "Bayesian Optimization ---------------------------\n",
      "Best parameters --> {'epochs': 3, 'batch_size': 128}\n",
      "Best evaluation --> f1_weighted: 0.9617\n",
      "Time elapsed: 54.140s\n",
      "Fit ---------------------------------------------\n",
      "Train evaluation --> f1_weighted: 0.9978\n",
      "Test evaluation --> f1_weighted: 0.9669\n",
      "Time elapsed: 15.332s\n",
      "-------------------------------------------------\n",
      "Total time: 1m:09s\n",
      "\n",
      "\n",
      "Final results ========================= >>\n",
      "Duration: 1m:09s\n",
      "------------------------------------------\n",
      "Neural network --> f1_weighted: 0.967\n"
     ]
    }
   ],
   "source": [
    "# Like any other model, we can define custom dimensions for the bayesian optimization\n",
    "dim = [Integer(1, 3, name=\"epochs\"), Categorical([32, 64, 128, 256], name=\"batch_size\")]\n",
    "\n",
    "atom.run(model, metric=\"f1_weighted\", n_calls=5, bo_params={\"dimensions\": dim, \"cv\": 1, \"max_time\": 120})"
   ]
  },
  {
   "cell_type": "markdown",
   "metadata": {},
   "source": [
    "## Analyze the results"
   ]
  },
  {
   "cell_type": "code",
   "execution_count": 8,
   "metadata": {
    "scrolled": false
   },
   "outputs": [
    {
     "data": {
      "text/plain": [
       "array([[5.0415245e-09, 8.9352969e-11, 2.6042830e-09, ..., 8.5581316e-12,\n",
       "        4.2738580e-07, 3.3163179e-12],\n",
       "       [9.9999940e-01, 6.9282345e-12, 1.5406499e-08, ..., 3.5452724e-11,\n",
       "        3.1608752e-07, 3.0461987e-12],\n",
       "       [7.0951058e-14, 1.2797069e-10, 7.0119080e-07, ..., 4.0664099e-07,\n",
       "        3.9806758e-07, 2.4173743e-05],\n",
       "       ...,\n",
       "       [9.6390613e-12, 2.5091540e-11, 4.7392569e-15, ..., 3.2657363e-16,\n",
       "        4.4298918e-08, 1.6538155e-11],\n",
       "       [4.4590468e-04, 1.0565588e-12, 2.4052630e-07, ..., 2.7748465e-08,\n",
       "        9.2415348e-10, 4.4087504e-11],\n",
       "       [6.0453094e-05, 1.2410469e-07, 6.2073417e-07, ..., 5.6588982e-05,\n",
       "        9.9985051e-01, 6.5946715e-06]], dtype=float32)"
      ]
     },
     "execution_count": 8,
     "metadata": {},
     "output_type": "execute_result"
    }
   ],
   "source": [
    "# We can use the prediction methods like any other model\n",
    "atom.nn.predict_proba(X_train)"
   ]
  },
  {
   "cell_type": "code",
   "execution_count": 9,
   "metadata": {
    "pycharm": {
     "name": "#%%\n"
    }
   },
   "outputs": [
    {
     "data": {
      "image/png": "[encoded data removed]",
      "text/plain": [
       "<Figure size 576x576 with 2 Axes>"
      ]
     },
     "metadata": {},
     "output_type": "display_data"
    }
   ],
   "source": [
    "# Or make plots...\n",
    "atom.nn.plot_confusion_matrix()"
   ]
  }
 ],
 "metadata": {
  "kernelspec": {
   "display_name": "Python 3",
   "language": "python",
   "name": "python3"
  },
  "language_info": {
   "codemirror_mode": {
    "name": "ipython",
    "version": 3
   },
   "file_extension": ".py",
   "mimetype": "text/x-python",
   "name": "python",
   "nbconvert_exporter": "python",
   "pygments_lexer": "ipython3",
   "version": "3.8.3"
  }
 },
 "nbformat": 4,
 "nbformat_minor": 2
}
