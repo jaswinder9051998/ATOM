{
 "cells": [
  {
   "cell_type": "markdown",
   "metadata": {},
   "source": [
    "# Deep learning\n",
    "---------------------------\n",
    "\n",
    "This example shows how to use ATOM to train and validate a Convolutional Neural Network implemented with [Keras](https://keras.io/) in two different ways: using [scikeras](https://www.adriangb.com/scikeras/refs/heads/master/index.html) (recommended) and using [keras.wrappers.scikit_learn](https://faroit.com/keras-docs/1.0.6/scikit-learn-api/) (old way, will be deprecated in a future release).\n",
    "\n",
    "Import the MNIST dataset from [keras.datasets](https://keras.io/api/datasets/mnist/). This is a well known image dataset whose goal is to classify handwritten digits."
   ]
  },
  {
   "cell_type": "markdown",
   "source": [
    "## Using scikeras"
   ],
   "metadata": {
    "collapsed": false,
    "pycharm": {
     "name": "#%% md\n"
    }
   }
  },
  {
   "cell_type": "code",
   "execution_count": 50,
   "outputs": [],
   "source": [
    "# Disable annoying tf warnings\n",
    "import logging\n",
    "import tensorflow as tf\n",
    "tf.get_logger().setLevel(logging.ERROR)\n",
    "\n",
    "from atom import ATOMClassifier, ATOMModel\n",
    "from sklearn.preprocessing import FunctionTransformer\n",
    "from skopt.space.space import Categorical\n",
    "\n",
    "from scikeras.wrappers import KerasClassifier\n",
    "from keras.datasets import mnist\n",
    "from keras.models import Sequential\n",
    "from keras.layers import Dense, Flatten, Conv2D, Dropout"
   ],
   "metadata": {
    "collapsed": false,
    "pycharm": {
     "name": "#%%\n"
    }
   }
  },
  {
   "cell_type": "code",
   "execution_count": 51,
   "outputs": [],
   "source": [
    "# Create the convolutional neural network\n",
    "class ConvNN(KerasClassifier):\n",
    "    \"\"\"Convolutional neural network model.\"\"\"\n",
    "\n",
    "    @property\n",
    "    def feature_encoder(self):\n",
    "        \"\"\"Convert the 2d input to the image's format (len(X), 28, 28, 1).\"\"\"\n",
    "        return FunctionTransformer(\n",
    "            func=lambda X: X.reshape(X.shape[0], 28, 28, 1),\n",
    "        )\n",
    "\n",
    "    @staticmethod\n",
    "    def _keras_build_fn():\n",
    "        \"\"\"Create the model's architecture.\"\"\"\n",
    "        model = Sequential()\n",
    "        model.add(\n",
    "            Conv2D(\n",
    "                filters=64,\n",
    "                kernel_size=3,\n",
    "                activation=\"relu\",\n",
    "                input_shape=(28, 28, 1),\n",
    "            )\n",
    "        )\n",
    "        model.add(Conv2D(filters=64, kernel_size=3, activation=\"relu\"))\n",
    "        model.add(Flatten())\n",
    "        model.add(Dense(units=10, activation=\"softmax\"))\n",
    "        model.compile(\n",
    "            optimizer=\"adam\",\n",
    "            loss=\"sparse_categorical_crossentropy\",\n",
    "            metrics=[\"accuracy\"],\n",
    "        )\n",
    "\n",
    "        return model"
   ],
   "metadata": {
    "collapsed": false,
    "pycharm": {
     "name": "#%%\n"
    }
   }
  },
  {
   "cell_type": "code",
   "execution_count": 52,
   "outputs": [],
   "source": [
    "# Convert the model to an ATOM model\n",
    "model = ATOMModel(\n",
    "    estimator=ConvNN(epochs=5, verbose=0),\n",
    "    acronym=\"NN\",\n",
    "    fullname=\"Neural network\",\n",
    ")"
   ],
   "metadata": {
    "collapsed": false,
    "pycharm": {
     "name": "#%%\n"
    }
   }
  },
  {
   "cell_type": "code",
   "execution_count": 53,
   "outputs": [],
   "source": [
    "# Download the MNIST dataset\n",
    "(X_train, y_train), (X_test, y_test) = mnist.load_data()\n",
    "\n",
    "# Flatten data to follow sklearn's API (2d input)\n",
    "X_train = X_train.reshape(len(X_train), -1)\n",
    "X_test = X_test.reshape(len(X_test), -1)\n",
    "\n",
    "data = (X_train, y_train), (X_test, y_test)"
   ],
   "metadata": {
    "collapsed": false,
    "pycharm": {
     "name": "#%%\n"
    }
   }
  },
  {
   "cell_type": "code",
   "execution_count": 54,
   "outputs": [
    {
     "name": "stdout",
     "output_type": "stream",
     "text": [
      "<< ================== ATOM ================== >>\n",
      "Algorithm task: multiclass classification.\n",
      "Parallel processing with 6 cores.\n",
      "\n",
      "Dataset stats ==================== >>\n",
      "Shape: (7000, 785)\n",
      "Memory: 5.50 MB\n",
      "Scaled: False\n",
      "Outlier values: 42042 (0.9%)\n",
      "-------------------------------------\n",
      "Train set size: 6000\n",
      "Test set size: 1000\n",
      "-------------------------------------\n",
      "|   |     dataset |       train |        test |\n",
      "| - | ----------- | ----------- | ----------- |\n",
      "| 0 |   661 (1.0) |   572 (1.0) |    89 (1.1) |\n",
      "| 1 |   825 (1.3) |   695 (1.3) |   130 (1.5) |\n",
      "| 2 |   687 (1.1) |   587 (1.1) |   100 (1.2) |\n",
      "| 3 |   650 (1.0) |   561 (1.0) |    89 (1.1) |\n",
      "| 4 |   720 (1.1) |   629 (1.1) |    91 (1.1) |\n",
      "| 5 |   656 (1.0) |   572 (1.0) |    84 (1.0) |\n",
      "| 6 |   676 (1.0) |   552 (1.0) |   124 (1.5) |\n",
      "| 7 |   768 (1.2) |   664 (1.2) |   104 (1.2) |\n",
      "| 8 |   671 (1.0) |   576 (1.0) |    95 (1.1) |\n",
      "| 9 |   686 (1.1) |   592 (1.1) |    94 (1.1) |\n",
      "\n"
     ]
    }
   ],
   "source": [
    "atom = ATOMClassifier(*data, n_rows=0.1, n_jobs=6, warnings=False, verbose=2)"
   ],
   "metadata": {
    "collapsed": false,
    "pycharm": {
     "name": "#%%\n"
    }
   }
  },
  {
   "cell_type": "code",
   "execution_count": 55,
   "outputs": [
    {
     "name": "stdout",
     "output_type": "stream",
     "text": [
      "\n",
      "Training ========================= >>\n",
      "Models: NN\n",
      "Metric: f1_weighted\n",
      "\n",
      "\n",
      "Running BO for Neural network...\n",
      "| call             | batch_size | f1_weighted | best_f1_weighted |    time | total_time |\n",
      "| ---------------- | ---------- | ----------- | ---------------- | ------- | ---------- |\n",
      "| Initial point 1  |         64 |      0.9569 |           0.9569 | 24.866s |    24.868s |\n",
      "| Initial point 2  |         64 |      0.9569 |           0.9569 |  0.001s |    24.933s |\n",
      "| Initial point 3  |        256 |      0.9651 |           0.9651 | 21.802s |    46.801s |\n",
      "| Initial point 4  |        256 |      0.9651 |           0.9651 |  0.001s |    46.867s |\n",
      "| Initial point 5  |         64 |      0.9569 |           0.9651 |  0.001s |    46.933s |\n",
      "Bayesian Optimization ---------------------------\n",
      "Best call --> Initial point 3\n",
      "Best parameters --> {'batch_size': 256}\n",
      "Best evaluation --> f1_weighted: 0.9651\n",
      "Time elapsed: 47.078s\n",
      "Fit ---------------------------------------------\n",
      "Train evaluation --> f1_weighted: 1.0\n",
      "Test evaluation --> f1_weighted: 0.9659\n",
      "Time elapsed: 25.853s\n",
      "-------------------------------------------------\n",
      "Total time: 1m:13s\n",
      "\n",
      "\n",
      "Final results ==================== >>\n",
      "Duration: 1m:13s\n",
      "-------------------------------------\n",
      "Neural network --> f1_weighted: 0.9659\n"
     ]
    }
   ],
   "source": [
    "# Like any other model, we can define custom dimensions for the bayesian optimization\n",
    "atom.run(\n",
    "    models=model,\n",
    "    metric=\"f1_weighted\",\n",
    "    n_calls=5,\n",
    "    bo_params={\n",
    "        \"dimensions\": [Categorical([32, 64, 128, 256], name=\"batch_size\")],\n",
    "        \"max_time\": 120,\n",
    "    }\n",
    ")"
   ],
   "metadata": {
    "collapsed": false,
    "pycharm": {
     "name": "#%%\n"
    }
   }
  },
  {
   "cell_type": "markdown",
   "metadata": {},
   "source": [
    "## Using keras.wrappers.scikit_learn"
   ]
  },
  {
   "cell_type": "code",
   "execution_count": 56,
   "metadata": {},
   "outputs": [],
   "source": [
    "# Disable annoying tf warnings\n",
    "import logging\n",
    "import tensorflow as tf\n",
    "tf.get_logger().setLevel(logging.ERROR)\n",
    "\n",
    "# Import standard packages\n",
    "from atom import ATOMClassifier, ATOMModel\n",
    "from skopt.space.space import Categorical\n",
    "\n",
    "# Keras\n",
    "from keras.datasets import mnist\n",
    "from keras.models import Sequential\n",
    "from keras.layers import Dense, Flatten, Conv2D\n",
    "from keras.wrappers.scikit_learn import KerasClassifier"
   ]
  },
  {
   "cell_type": "code",
   "execution_count": 57,
   "outputs": [],
   "source": [
    "# Create the convolutional neural network\n",
    "def neural_network():\n",
    "    \"\"\"Create the model's architecture.\"\"\"\n",
    "    model = Sequential()\n",
    "    model.add(\n",
    "        Conv2D(\n",
    "            filters=64,\n",
    "            kernel_size=3,\n",
    "            activation=\"relu\",\n",
    "            input_shape=(28, 28, 1),\n",
    "        )\n",
    "    )\n",
    "    model.add(Conv2D(filters=64, kernel_size=3, activation=\"relu\"))\n",
    "    model.add(Flatten())\n",
    "    model.add(Dense(units=10, activation=\"softmax\"))\n",
    "    model.compile(\n",
    "        optimizer=\"adam\",\n",
    "        loss=\"sparse_categorical_crossentropy\",\n",
    "        metrics=[\"accuracy\"],\n",
    "    )\n",
    "\n",
    "    return model"
   ],
   "metadata": {
    "collapsed": false,
    "pycharm": {
     "name": "#%%\n"
    }
   }
  },
  {
   "cell_type": "code",
   "execution_count": 58,
   "outputs": [],
   "source": [
    "# Since ATOM uses sklearn's API, use Keras' wrapper\n",
    "model = KerasClassifier(neural_network, epochs=5, verbose=0)\n",
    "\n",
    "# Convert the model to an ATOM model\n",
    "model = ATOMModel(model, acronym=\"NN\", fullname=\"Neural network\")"
   ],
   "metadata": {
    "collapsed": false,
    "pycharm": {
     "name": "#%%\n"
    }
   }
  },
  {
   "cell_type": "code",
   "execution_count": 59,
   "metadata": {},
   "outputs": [],
   "source": [
    "# Download the MNIST dataset\n",
    "(X_train, y_train), (X_test, y_test) = mnist.load_data()\n",
    "\n",
    "# Reshape data to fit model\n",
    "X_train = X_train.reshape(len(X_train), 28, 28, 1)\n",
    "X_test = X_test.reshape(len(X_test), 28, 28, 1)\n",
    "\n",
    "data = (X_train, y_train), (X_test, y_test)"
   ]
  },
  {
   "cell_type": "code",
   "execution_count": 60,
   "metadata": {
    "run_control": {
     "marked": false
    }
   },
   "outputs": [
    {
     "name": "stdout",
     "output_type": "stream",
     "text": [
      "<< ================== ATOM ================== >>\n",
      "Algorithm task: multiclass classification.\n",
      "Parallel processing with 6 cores.\n",
      "\n",
      "Dataset stats ==================== >>\n",
      "Shape: (7000, (28, 28, 1), 2)\n",
      "Memory: 1.02 MB\n",
      "-------------------------------------\n",
      "Train set size: 6000\n",
      "Test set size: 1000\n",
      "-------------------------------------\n",
      "|   |     dataset |       train |        test |\n",
      "| - | ----------- | ----------- | ----------- |\n",
      "| 0 |   659 (1.0) |   563 (1.1) |    96 (1.1) |\n",
      "| 1 |   805 (1.3) |   698 (1.3) |   107 (1.3) |\n",
      "| 2 |   732 (1.2) |   615 (1.2) |   117 (1.4) |\n",
      "| 3 |   738 (1.2) |   642 (1.2) |    96 (1.1) |\n",
      "| 4 |   694 (1.1) |   601 (1.2) |    93 (1.1) |\n",
      "| 5 |   629 (1.0) |   545 (1.1) |    84 (1.0) |\n",
      "| 6 |   713 (1.1) |   610 (1.2) |   103 (1.2) |\n",
      "| 7 |   669 (1.1) |   585 (1.1) |    84 (1.0) |\n",
      "| 8 |   632 (1.0) |   519 (1.0) |   113 (1.3) |\n",
      "| 9 |   729 (1.2) |   622 (1.2) |   107 (1.3) |\n",
      "\n"
     ]
    }
   ],
   "source": [
    "atom = ATOMClassifier(*data, n_rows=0.1, n_jobs=6, warnings=False, verbose=2)"
   ]
  },
  {
   "cell_type": "code",
   "execution_count": 61,
   "metadata": {},
   "outputs": [
    {
     "data": {
      "text/plain": "                                    multidim feature  target\n0  [[[0], [0], [0], [0], [0], [0], [0], [0], [0],...       9\n1  [[[0], [0], [0], [0], [0], [0], [0], [0], [0],...       0\n2  [[[0], [0], [0], [0], [0], [0], [0], [0], [0],...       2\n3  [[[0], [0], [0], [0], [0], [0], [0], [0], [0],...       7\n4  [[[0], [0], [0], [0], [0], [0], [0], [0], [0],...       4",
      "text/html": "<div>\n<style scoped>\n    .dataframe tbody tr th:only-of-type {\n        vertical-align: middle;\n    }\n\n    .dataframe tbody tr th {\n        vertical-align: top;\n    }\n\n    .dataframe thead th {\n        text-align: right;\n    }\n</style>\n<table border=\"1\" class=\"dataframe\">\n  <thead>\n    <tr style=\"text-align: right;\">\n      <th></th>\n      <th>multidim feature</th>\n      <th>target</th>\n    </tr>\n  </thead>\n  <tbody>\n    <tr>\n      <th>0</th>\n      <td>[[[0], [0], [0], [0], [0], [0], [0], [0], [0],...</td>\n      <td>9</td>\n    </tr>\n    <tr>\n      <th>1</th>\n      <td>[[[0], [0], [0], [0], [0], [0], [0], [0], [0],...</td>\n      <td>0</td>\n    </tr>\n    <tr>\n      <th>2</th>\n      <td>[[[0], [0], [0], [0], [0], [0], [0], [0], [0],...</td>\n      <td>2</td>\n    </tr>\n    <tr>\n      <th>3</th>\n      <td>[[[0], [0], [0], [0], [0], [0], [0], [0], [0],...</td>\n      <td>7</td>\n    </tr>\n    <tr>\n      <th>4</th>\n      <td>[[[0], [0], [0], [0], [0], [0], [0], [0], [0],...</td>\n      <td>4</td>\n    </tr>\n  </tbody>\n</table>\n</div>"
     },
     "execution_count": 61,
     "metadata": {},
     "output_type": "execute_result"
    }
   ],
   "source": [
    "# When the input data has more than 2 dimensions, ATOM creates a \n",
    "# dataset with just one column of shape (n_samples, shape_sample)\n",
    "atom.head()"
   ]
  },
  {
   "cell_type": "code",
   "execution_count": 62,
   "metadata": {},
   "outputs": [
    {
     "name": "stdout",
     "output_type": "stream",
     "text": [
      "Shape of one image: (28, 28, 1)\n",
      "atom's shape (n_rows, (shape_image), n_cols): (7000, (28, 28, 1), 2)\n"
     ]
    }
   ],
   "source": [
    "# Every row in the column contains the data of one image\n",
    "print(f\"Shape of one image: {atom.iloc[0, 0].shape}\")\n",
    "print(f\"atom's shape (n_rows, (shape_image), n_cols): {atom.shape}\")"
   ]
  },
  {
   "cell_type": "code",
   "execution_count": 63,
   "metadata": {},
   "outputs": [
    {
     "name": "stdout",
     "output_type": "stream",
     "text": [
      "\n",
      "Training ========================= >>\n",
      "Models: NN\n",
      "Metric: f1_weighted\n",
      "\n",
      "\n",
      "Running BO for Neural network...\n",
      "| call             | batch_size | f1_weighted | best_f1_weighted |    time | total_time |\n",
      "| ---------------- | ---------- | ----------- | ---------------- | ------- | ---------- |\n",
      "| Initial point 1  |         64 |      0.9627 |           0.9627 | 24.511s |    24.514s |\n",
      "| Initial point 2  |        256 |      0.9452 |           0.9627 | 21.568s |    46.148s |\n",
      "| Initial point 3  |        256 |      0.9452 |           0.9627 |  0.001s |    46.217s |\n",
      "| Initial point 4  |        128 |      0.9626 |           0.9627 | 24.853s |     1m:11s |\n",
      "| Initial point 5  |        128 |      0.9626 |           0.9627 |  0.001s |     1m:11s |\n",
      "Bayesian Optimization ---------------------------\n",
      "Best call --> Initial point 1\n",
      "Best parameters --> {'batch_size': 64}\n",
      "Best evaluation --> f1_weighted: 0.9627\n",
      "Time elapsed: 1m:11s\n",
      "Fit ---------------------------------------------\n",
      "Train evaluation --> f1_weighted: 0.999\n",
      "Test evaluation --> f1_weighted: 0.962\n",
      "Time elapsed: 33.427s\n",
      "-------------------------------------------------\n",
      "Total time: 1m:45s\n",
      "\n",
      "\n",
      "Final results ==================== >>\n",
      "Duration: 1m:45s\n",
      "-------------------------------------\n",
      "Neural network --> f1_weighted: 0.962\n"
     ]
    }
   ],
   "source": [
    "# Like any other model, we can define custom dimensions for the bayesian optimization\n",
    "atom.run(\n",
    "    models=model,\n",
    "    metric=\"f1_weighted\",\n",
    "    n_calls=5,\n",
    "    bo_params={\n",
    "        \"dimensions\": [Categorical([32, 64, 128, 256], name=\"batch_size\")],\n",
    "        \"max_time\": 120,\n",
    "    }\n",
    ")"
   ]
  },
  {
   "cell_type": "markdown",
   "metadata": {},
   "source": [
    "## Analyze the results"
   ]
  },
  {
   "cell_type": "code",
   "execution_count": 64,
   "metadata": {},
   "outputs": [
    {
     "data": {
      "text/plain": "array([[5.8496563e-14, 6.3283069e-17, 2.5753206e-16, ..., 3.5488775e-13,\n        5.4223742e-13, 8.4204196e-14],\n       [1.0000000e+00, 1.6548900e-15, 1.8278014e-10, ..., 6.3319707e-15,\n        2.4255284e-11, 4.7824227e-11],\n       [6.4183389e-19, 6.5628622e-13, 8.1421366e-13, ..., 3.6792547e-10,\n        7.0455543e-14, 2.5547764e-09],\n       ...,\n       [5.2353426e-14, 1.2367661e-18, 2.6140497e-20, ..., 2.5399708e-21,\n        6.5537471e-12, 1.9890034e-11],\n       [1.1397011e-11, 6.8618496e-20, 1.8243494e-14, ..., 9.4443108e-12,\n        4.7705595e-19, 1.9686952e-17],\n       [2.1406321e-12, 2.0984077e-16, 2.9556364e-12, ..., 8.1968758e-11,\n        9.9999893e-01, 8.9799136e-07]], dtype=float32)"
     },
     "execution_count": 64,
     "metadata": {},
     "output_type": "execute_result"
    }
   ],
   "source": [
    "# Use the prediction methods like any other model\n",
    "atom.nn.predict_proba(X_train)"
   ]
  },
  {
   "cell_type": "code",
   "execution_count": 65,
   "metadata": {
    "pycharm": {
     "name": "#%%\n"
    }
   },
   "outputs": [
    {
     "data": {
      "text/plain": "<Figure size 576x432 with 2 Axes>",
      "image/png": "[encoded data removed]"
     },
     "metadata": {},
     "output_type": "display_data"
    }
   ],
   "source": [
    "# Or make plots...\n",
    "atom.nn.plot_confusion_matrix()"
   ]
  }
 ],
 "metadata": {
  "kernelspec": {
   "display_name": "Python 3 (ipykernel)",
   "language": "python",
   "name": "python3"
  },
  "language_info": {
   "codemirror_mode": {
    "name": "ipython",
    "version": 3
   },
   "file_extension": ".py",
   "mimetype": "text/x-python",
   "name": "python",
   "nbconvert_exporter": "python",
   "pygments_lexer": "ipython3",
   "version": "3.8.3"
  },
  "toc": {
   "base_numbering": 1,
   "nav_menu": {},
   "number_sections": true,
   "sideBar": true,
   "skip_h1_title": false,
   "title_cell": "Table of Contents",
   "title_sidebar": "Contents",
   "toc_cell": false,
   "toc_position": {},
   "toc_section_display": true,
   "toc_window_display": false
  }
 },
 "nbformat": 4,
 "nbformat_minor": 4
}