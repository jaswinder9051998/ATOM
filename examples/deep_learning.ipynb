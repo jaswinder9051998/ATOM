{
 "cells": [
  {
   "cell_type": "markdown",
   "metadata": {},
   "source": [
    "# Deep learning\n",
    "---------------------------\n",
    "\n",
    "This example shows how to use ATOM to train and validate a Convolutional Neural Network implemented with [Keras](https://keras.io/).\n",
    "\n",
    "Import the MNIST dataset from [keras.datasets](https://keras.io/api/datasets/mnist/). This is a well known image dataset whose goal is to classify handwritten digits."
   ]
  },
  {
   "cell_type": "markdown",
   "metadata": {},
   "source": [
    "## Load the data"
   ]
  },
  {
   "cell_type": "code",
   "execution_count": 1,
   "metadata": {},
   "outputs": [],
   "source": [
    "# Disable annoying tf warnings\n",
    "import logging\n",
    "import tensorflow as tf\n",
    "tf.get_logger().setLevel(logging.ERROR)\n",
    "\n",
    "# Import standard packages\n",
    "from atom import ATOMClassifier, ATOMModel\n",
    "from skopt.space.space import Integer, Categorical\n",
    "\n",
    "# Keras\n",
    "from keras.datasets import mnist\n",
    "from keras.models import Sequential\n",
    "from keras.layers import Dense, Flatten, Conv2D\n",
    "from keras.wrappers.scikit_learn import KerasClassifier"
   ]
  },
  {
   "cell_type": "code",
   "execution_count": 2,
   "metadata": {},
   "outputs": [
    {
     "name": "stderr",
     "output_type": "stream",
     "text": [
      "KerasClassifier is deprecated, use Sci-Keras (https://github.com/adriangb/scikeras) instead.\n"
     ]
    }
   ],
   "source": [
    "# Create the convolutional neural network\n",
    "def neural_network():\n",
    "    model = Sequential()\n",
    "    model.add(\n",
    "        Conv2D(\n",
    "            filters=64,\n",
    "            kernel_size=3,\n",
    "            activation=\"relu\",\n",
    "            input_shape=(28, 28, 1),\n",
    "        )\n",
    "    )\n",
    "    model.add(Conv2D(filters=64, kernel_size=3, activation=\"relu\"))\n",
    "    model.add(Flatten())\n",
    "    model.add(Dense(units=10, activation=\"softmax\"))\n",
    "    model.compile(\n",
    "        optimizer=\"adam\",\n",
    "        loss=\"categorical_crossentropy\",\n",
    "        metrics=[\"accuracy\"],\n",
    "    )\n",
    "\n",
    "    return model\n",
    "\n",
    "\n",
    "# Since ATOM uses sklearn's API, use Keras' wrapper\n",
    "model = KerasClassifier(neural_network, epochs=5, verbose=0)\n",
    "\n",
    "# Convert the model to an ATOM model\n",
    "model = ATOMModel(model, acronym=\"NN\", fullname=\"Neural network\")"
   ]
  },
  {
   "cell_type": "code",
   "execution_count": 3,
   "metadata": {},
   "outputs": [],
   "source": [
    "# Download the MNIST dataset\n",
    "(X_train, y_train), (X_test, y_test) = mnist.load_data()"
   ]
  },
  {
   "cell_type": "code",
   "execution_count": 4,
   "metadata": {},
   "outputs": [],
   "source": [
    "# Reshape data to fit model\n",
    "X_train = X_train.reshape(60000,28,28,1)\n",
    "X_test = X_test.reshape(10000,28,28,1)\n",
    "\n",
    "data = (X_train, y_train), (X_test, y_test)"
   ]
  },
  {
   "cell_type": "markdown",
   "metadata": {},
   "source": [
    "## Run the pipeline"
   ]
  },
  {
   "cell_type": "code",
   "execution_count": 5,
   "metadata": {
    "run_control": {
     "marked": false
    }
   },
   "outputs": [
    {
     "name": "stdout",
     "output_type": "stream",
     "text": [
      "<< ================== ATOM ================== >>\n",
      "Algorithm task: multiclass classification.\n",
      "Parallel processing with 6 cores.\n",
      "\n",
      "Dataset stats ==================== >>\n",
      "Shape: (7000, (28, 28, 1), 2)\n",
      "-------------------------------------\n",
      "Train set size: 6000\n",
      "Test set size: 1000\n",
      "-------------------------------------\n",
      "|    |     dataset |       train |        test |\n",
      "| -- | ----------- | ----------- | ----------- |\n",
      "| 0  |   679 (1.1) |   596 (1.1) |    83 (1.0) |\n",
      "| 1  |   794 (1.3) |   692 (1.3) |   102 (1.2) |\n",
      "| 2  |   705 (1.1) |   600 (1.1) |   105 (1.3) |\n",
      "| 3  |   699 (1.1) |   606 (1.1) |    93 (1.1) |\n",
      "| 4  |   728 (1.2) |   625 (1.2) |   103 (1.2) |\n",
      "| 5  |   624 (1.0) |   529 (1.0) |    95 (1.1) |\n",
      "| 6  |   683 (1.1) |   569 (1.1) |   114 (1.4) |\n",
      "| 7  |   724 (1.2) |   629 (1.2) |    95 (1.1) |\n",
      "| 8  |   684 (1.1) |   595 (1.1) |    89 (1.1) |\n",
      "| 9  |   680 (1.1) |   559 (1.1) |   121 (1.5) |\n",
      "\n"
     ]
    }
   ],
   "source": [
    "atom = ATOMClassifier(*data, n_rows=0.1, n_jobs=6, warnings=False, verbose=2)"
   ]
  },
  {
   "cell_type": "code",
   "execution_count": 6,
   "metadata": {},
   "outputs": [
    {
     "data": {
      "text/plain": "                            Multidimensional feature  target\n0  [[[0], [0], [0], [0], [0], [0], [0], [0], [0],...       3\n1  [[[0], [0], [0], [0], [0], [0], [0], [0], [0],...       3\n2  [[[0], [0], [0], [0], [0], [0], [0], [0], [0],...       9\n3  [[[0], [0], [0], [0], [0], [0], [0], [0], [0],...       9\n4  [[[0], [0], [0], [0], [0], [0], [0], [0], [0],...       4",
      "text/html": "<div>\n<style scoped>\n    .dataframe tbody tr th:only-of-type {\n        vertical-align: middle;\n    }\n\n    .dataframe tbody tr th {\n        vertical-align: top;\n    }\n\n    .dataframe thead th {\n        text-align: right;\n    }\n</style>\n<table border=\"1\" class=\"dataframe\">\n  <thead>\n    <tr style=\"text-align: right;\">\n      <th></th>\n      <th>Multidimensional feature</th>\n      <th>target</th>\n    </tr>\n  </thead>\n  <tbody>\n    <tr>\n      <th>0</th>\n      <td>[[[0], [0], [0], [0], [0], [0], [0], [0], [0],...</td>\n      <td>3</td>\n    </tr>\n    <tr>\n      <th>1</th>\n      <td>[[[0], [0], [0], [0], [0], [0], [0], [0], [0],...</td>\n      <td>3</td>\n    </tr>\n    <tr>\n      <th>2</th>\n      <td>[[[0], [0], [0], [0], [0], [0], [0], [0], [0],...</td>\n      <td>9</td>\n    </tr>\n    <tr>\n      <th>3</th>\n      <td>[[[0], [0], [0], [0], [0], [0], [0], [0], [0],...</td>\n      <td>9</td>\n    </tr>\n    <tr>\n      <th>4</th>\n      <td>[[[0], [0], [0], [0], [0], [0], [0], [0], [0],...</td>\n      <td>4</td>\n    </tr>\n  </tbody>\n</table>\n</div>"
     },
     "execution_count": 6,
     "metadata": {},
     "output_type": "execute_result"
    }
   ],
   "source": [
    "# When the input data has more than 2 dimensions, ATOM creates a \n",
    "# dataset with just one column of shape (n_samples, shape_sample)\n",
    "atom.head()"
   ]
  },
  {
   "cell_type": "code",
   "execution_count": 7,
   "metadata": {},
   "outputs": [
    {
     "name": "stdout",
     "output_type": "stream",
     "text": [
      "Shape of one image: (28, 28, 1)\n",
      "atom's shape (n_rows, (shape_image), n_cols): (7000, (28, 28, 1), 2)\n"
     ]
    }
   ],
   "source": [
    "# Every row in the column contains the data of one image\n",
    "print(f\"Shape of one image: {atom.iloc[0, 0].shape}\")\n",
    "print(f\"atom's shape (n_rows, (shape_image), n_cols): {atom.shape}\")"
   ]
  },
  {
   "cell_type": "code",
   "execution_count": 8,
   "metadata": {},
   "outputs": [
    {
     "name": "stdout",
     "output_type": "stream",
     "text": [
      "\n",
      "Training ========================= >>\n",
      "Models: NN\n",
      "Metric: f1_weighted\n",
      "\n",
      "\n",
      "\n",
      "Running BO for Neural network...\n",
      "| call             | batch_size | f1_weighted | best_f1_weighted |    time | total_time |\n",
      "| ---------------- | ---------- | ----------- | ---------------- | ------- | ---------- |\n",
      "| Initial point 1  |         64 |      0.9674 |           0.9674 | 25.896s |    25.899s |\n",
      "| Initial point 2  |         64 |      0.9674 |           0.9674 |  0.000s |    26.087s |\n",
      "| Initial point 3  |        128 |      0.9592 |           0.9674 | 22.819s |    48.962s |\n",
      "| Initial point 4  |        256 |      0.9462 |           0.9674 | 22.668s |     1m:12s |\n",
      "| Initial point 5  |         64 |      0.9674 |           0.9674 |  0.001s |     1m:12s |\n",
      "\n",
      "Results for Neural network:         \n",
      "Bayesian Optimization ---------------------------\n",
      "Best call --> Initial point 1\n",
      "Best parameters --> {'batch_size': 64}\n",
      "Best evaluation --> f1_weighted: 0.9674\n",
      "Time elapsed: 1m:12s\n",
      "Fit ---------------------------------------------\n",
      "Train evaluation --> f1_weighted: 0.9995\n",
      "Test evaluation --> f1_weighted: 0.957\n",
      "Time elapsed: 31.898s\n",
      "-------------------------------------------------\n",
      "Total time: 1m:44s\n",
      "\n",
      "\n",
      "Final results ==================== >>\n",
      "Duration: 1m:44s\n",
      "-------------------------------------\n",
      "Neural network --> f1_weighted: 0.957\n"
     ]
    }
   ],
   "source": [
    "# Like any other model, we can define custom dimensions for the bayesian optimization\n",
    "atom.run(\n",
    "    models=model,\n",
    "    metric=\"f1_weighted\",\n",
    "    n_calls=5,\n",
    "    bo_params={\n",
    "        \"dimensions\": [Categorical([32, 64, 128, 256], name=\"batch_size\")],\n",
    "        \"max_time\": 120,\n",
    "    }\n",
    ")"
   ]
  },
  {
   "cell_type": "markdown",
   "metadata": {},
   "source": [
    "## Analyze the results"
   ]
  },
  {
   "cell_type": "code",
   "execution_count": 9,
   "metadata": {},
   "outputs": [
    {
     "data": {
      "text/plain": "array([[1.87261177e-13, 1.29779401e-12, 7.28556840e-15, ...,\n        3.89982019e-10, 5.59965165e-11, 2.11170994e-11],\n       [9.99999762e-01, 2.27971324e-17, 5.66021154e-11, ...,\n        6.48891260e-13, 5.04414566e-12, 7.60238805e-09],\n       [5.32343170e-10, 3.70767002e-12, 2.30938291e-09, ...,\n        3.38590326e-06, 6.84379975e-09, 1.34084672e-02],\n       ...,\n       [6.66761360e-16, 2.97364062e-14, 5.89494020e-21, ...,\n        3.37195782e-20, 1.71077573e-12, 2.51534985e-13],\n       [7.00742021e-07, 1.11291320e-14, 5.45523449e-09, ...,\n        5.27989891e-12, 2.54416334e-13, 3.96022928e-15],\n       [7.01019047e-08, 3.82625442e-12, 7.03115743e-09, ...,\n        5.30322495e-06, 9.99876380e-01, 1.05229265e-04]], dtype=float32)"
     },
     "execution_count": 9,
     "metadata": {},
     "output_type": "execute_result"
    }
   ],
   "source": [
    "# Use the prediction methods like any other model\n",
    "atom.nn.predict_proba(X_train)"
   ]
  },
  {
   "cell_type": "code",
   "execution_count": 10,
   "metadata": {
    "pycharm": {
     "name": "#%%\n"
    }
   },
   "outputs": [
    {
     "data": {
      "text/plain": "<Figure size 576x432 with 2 Axes>",
      "image/png": "[encoded data removed]"
     },
     "metadata": {},
     "output_type": "display_data"
    }
   ],
   "source": [
    "# Or make plots...\n",
    "atom.nn.plot_confusion_matrix()"
   ]
  }
 ],
 "metadata": {
  "kernelspec": {
   "display_name": "Python 3 (ipykernel)",
   "language": "python",
   "name": "python3"
  },
  "language_info": {
   "codemirror_mode": {
    "name": "ipython",
    "version": 3
   },
   "file_extension": ".py",
   "mimetype": "text/x-python",
   "name": "python",
   "nbconvert_exporter": "python",
   "pygments_lexer": "ipython3",
   "version": "3.8.3"
  },
  "toc": {
   "base_numbering": 1,
   "nav_menu": {},
   "number_sections": true,
   "sideBar": true,
   "skip_h1_title": false,
   "title_cell": "Table of Contents",
   "title_sidebar": "Contents",
   "toc_cell": false,
   "toc_position": {},
   "toc_section_display": true,
   "toc_window_display": false
  }
 },
 "nbformat": 4,
 "nbformat_minor": 4
}