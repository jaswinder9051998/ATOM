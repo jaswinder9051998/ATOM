{
 "cells": [
  {
   "cell_type": "markdown",
   "metadata": {},
   "source": [
    "# Deep learning\n",
    "---------------------------\n",
    "\n",
    "This example shows how we can use ATOM to train and validate a Convolutional Neural Network implemented using [Keras](https://keras.io/).\n",
    "\n",
    "Import the MNIST dataset from [keras.datasets](https://keras.io/api/datasets/mnist/). This is a well known image dataset with handwritten digits."
   ]
  },
  {
   "cell_type": "markdown",
   "metadata": {},
   "source": [
    "## Load the data"
   ]
  },
  {
   "cell_type": "code",
   "execution_count": 1,
   "metadata": {},
   "outputs": [],
   "source": [
    "# Disable annoying tf warnings\n",
    "import logging\n",
    "import tensorflow as tf\n",
    "tf.get_logger().setLevel(logging.ERROR)\n",
    "\n",
    "# Import standard packages\n",
    "from atom import ATOMClassifier, ATOMModel\n",
    "from skopt.space.space import Integer, Categorical\n",
    "\n",
    "# Keras\n",
    "from keras.datasets import mnist\n",
    "from keras.models import Sequential\n",
    "from keras.layers import Dense, Flatten, Conv2D\n",
    "from keras.wrappers.scikit_learn import KerasClassifier"
   ]
  },
  {
   "cell_type": "code",
   "execution_count": 2,
   "metadata": {},
   "outputs": [],
   "source": [
    "# Create the convolutional neural network\n",
    "def neural_network():\n",
    "    model = Sequential()\n",
    "    model.add(Conv2D(64, kernel_size=3, activation=\"relu\", input_shape=(28, 28, 1)))\n",
    "    model.add(Conv2D(64, kernel_size=3, activation=\"relu\"))\n",
    "    model.add(Flatten())\n",
    "    model.add(Dense(10, activation=\"softmax\"))\n",
    "    model.compile(optimizer='adam', loss='categorical_crossentropy', metrics=['accuracy'])\n",
    "\n",
    "    return model\n",
    "\n",
    "\n",
    "# Since ATOM uses sklearn's API, use Keras' wrapper\n",
    "model = KerasClassifier(neural_network, epochs=1, batch_size=512, verbose=0)\n",
    "\n",
    "# Convert the model to an ATOM model\n",
    "model = ATOMModel(model, acronym='NN', fullname='Neural network')\n",
    "model.type = 'deep'"
   ]
  },
  {
   "cell_type": "code",
   "execution_count": 3,
   "metadata": {},
   "outputs": [],
   "source": [
    "# Download the MNIST dataset\n",
    "(X_train, y_train), (X_test, y_test) = mnist.load_data()"
   ]
  },
  {
   "cell_type": "code",
   "execution_count": 4,
   "metadata": {},
   "outputs": [],
   "source": [
    "# Reshape data to fit model\n",
    "X_train = X_train.reshape(60000,28,28,1)\n",
    "X_test = X_test.reshape(10000,28,28,1)"
   ]
  },
  {
   "cell_type": "markdown",
   "metadata": {},
   "source": [
    "## Run the pipeline"
   ]
  },
  {
   "cell_type": "code",
   "execution_count": 5,
   "metadata": {
    "scrolled": false
   },
   "outputs": [
    {
     "name": "stdout",
     "output_type": "stream",
     "text": [
      "<< ================== ATOM ================== >>\n",
      "Algorithm task: multiclass classification.\n",
      "Parallel processing with 4 cores.\n",
      "\n",
      "Dataset stats ================== >>\n",
      "Shape: (7000, 2)\n",
      "Categorical columns: 1\n",
      "Scaled: False\n",
      "-----------------------------------\n",
      "Train set size: 6000\n",
      "Test set size: 1000\n",
      "-----------------------------------\n",
      "Train set balance: 0:1:2:3:4:5:6:7:8:9 <==> 1.1:1.3:1.1:1.2:1.2:1.0:1.1:1.2:1.1:1.2\n",
      "Test set balance: 0:1:2:3:4:5:6:7:8:9 <==> 1.2:1.3:1.4:1.4:1.2:1.0:1.2:1.2:1.3:1.0\n",
      "-----------------------------------\n",
      "Distribution of classes:\n",
      "|    |   dataset |   train |   test |\n",
      "|---:|----------:|--------:|-------:|\n",
      "|  0 |       700 |     599 |    101 |\n",
      "|  1 |       798 |     690 |    108 |\n",
      "|  2 |       671 |     557 |    114 |\n",
      "|  3 |       728 |     614 |    114 |\n",
      "|  4 |       700 |     605 |     95 |\n",
      "|  5 |       604 |     522 |     82 |\n",
      "|  6 |       694 |     594 |    100 |\n",
      "|  7 |       731 |     630 |    101 |\n",
      "|  8 |       685 |     582 |    103 |\n",
      "|  9 |       689 |     607 |     82 |\n",
      "\n"
     ]
    }
   ],
   "source": [
    "atom = ATOMClassifier((X_train, y_train), (X_test, y_test), n_rows=0.1, n_jobs=4, warnings=False, verbose=2)"
   ]
  },
  {
   "cell_type": "code",
   "execution_count": 6,
   "metadata": {},
   "outputs": [
    {
     "name": "stdout",
     "output_type": "stream",
     "text": [
      "                                            Features  target\n",
      "0  [[[0], [0], [0], [0], [0], [0], [0], [0], [0],...       6\n",
      "1  [[[0], [0], [0], [0], [0], [0], [0], [0], [0],...       6\n",
      "2  [[[0], [0], [0], [0], [0], [0], [0], [0], [0],...       7\n",
      "3  [[[0], [0], [0], [0], [0], [0], [0], [0], [0],...       3\n",
      "4  [[[0], [0], [0], [0], [0], [0], [0], [0], [0],...       5\n",
      "\n",
      "Every row in the column contains the data of one image, with shape: (28, 28, 1)\n"
     ]
    }
   ],
   "source": [
    "# When the input data has more than 2 dimensions, ATOM creates a \n",
    "# dataset with just one column of shape (n_samples, shape_sample)\n",
    "print(atom.dataset.head())\n",
    "print(f\"\\nEvery row in the column contains the data of one image, with shape: {atom.dataset.iloc[0, 0].shape}\")"
   ]
  },
  {
   "cell_type": "code",
   "execution_count": 7,
   "metadata": {
    "scrolled": false
   },
   "outputs": [
    {
     "name": "stdout",
     "output_type": "stream",
     "text": [
      "\n",
      "Training ===================================== >>\n",
      "Models: NN\n",
      "Metric: f1_weighted\n",
      "\n",
      "\n",
      "Running BO for Neural network...\n",
      "Initial point 1 ---------------------------------\n",
      "Parameters --> {'epochs': 1, 'batch_size': 256}\n",
      "Evaluation --> f1_weighted: 0.8649  Best f1_weighted: 0.8649\n",
      "Time iteration: 0.000s   Total time: 0.000s\n",
      "Initial point 2 ---------------------------------\n",
      "Parameters --> {'epochs': 2, 'batch_size': 64}\n",
      "Evaluation --> f1_weighted: 0.9508  Best f1_weighted: 0.9508\n",
      "Time iteration: 0.000s   Total time: 0.000s\n",
      "Initial point 3 ---------------------------------\n",
      "Parameters --> {'epochs': 2, 'batch_size': 64}\n",
      "Evaluation --> f1_weighted: 0.9542  Best f1_weighted: 0.9542\n",
      "Time iteration: 0.000s   Total time: 0.000s\n",
      "Initial point 4 ---------------------------------\n",
      "Parameters --> {'epochs': 3, 'batch_size': 128}\n",
      "Evaluation --> f1_weighted: 0.9601  Best f1_weighted: 0.9601\n",
      "Time iteration: 0.000s   Total time: 0.000s\n",
      "Initial point 5 ---------------------------------\n",
      "Parameters --> {'epochs': 2, 'batch_size': 32}\n",
      "Evaluation --> f1_weighted: 0.9405  Best f1_weighted: 0.9601\n",
      "Time iteration: 0.000s   Total time: 0.000s\n",
      "\n",
      "Results for Neural network:         \n",
      "Bayesian Optimization ---------------------------\n",
      "Best parameters --> {'epochs': 3, 'batch_size': 128}\n",
      "Best evaluation --> f1_weighted: 0.9601\n",
      "Time elapsed: 1.0136131167411804m:0.0s\n",
      "Fit ---------------------------------------------\n",
      "Train evaluation --> f1_weighted: 0.9982\n",
      "Test evaluation --> f1_weighted: 0.9409\n",
      "Time elapsed: 0.000s\n",
      "-------------------------------------------------\n",
      "Total time: 1.3606720487276713m:0.0s\n",
      "\n",
      "\n",
      "Final results ========================= >>\n",
      "Duration: 1.3607054352760315m:0.0s\n",
      "------------------------------------------\n",
      "Neural network --> f1_weighted: 0.941\n"
     ]
    }
   ],
   "source": [
    "# Like any other model, we can define custom dimensions for the bayesian optimization\n",
    "dim = [Integer(1, 3, name=\"epochs\"), Categorical([32, 64, 128, 256], name=\"batch_size\")]\n",
    "\n",
    "atom.run(model, metric=\"f1_weighted\", n_calls=5, bo_params={\"dimensions\": dim, \"cv\": 1, \"max_time\": 120})"
   ]
  },
  {
   "cell_type": "markdown",
   "metadata": {},
   "source": [
    "## Analyze the results"
   ]
  },
  {
   "cell_type": "code",
   "execution_count": 8,
   "metadata": {
    "scrolled": false
   },
   "outputs": [
    {
     "data": {
      "text/plain": [
       "array([[5.0407805e-14, 2.2141787e-10, 3.3515974e-08, ..., 2.2435853e-09,\n",
       "        9.2828380e-08, 8.2118101e-10],\n",
       "       [9.9999964e-01, 3.9441506e-12, 9.9182053e-08, ..., 1.9030351e-10,\n",
       "        3.4656900e-08, 7.1214111e-11],\n",
       "       [7.2111336e-12, 9.3043303e-13, 4.1211483e-09, ..., 7.7885829e-07,\n",
       "        2.3483340e-09, 4.5287823e-07],\n",
       "       ...,\n",
       "       [2.2917888e-14, 6.6365316e-11, 6.7521146e-13, ..., 1.2312615e-13,\n",
       "        1.4910498e-08, 6.3661055e-08],\n",
       "       [2.4478377e-06, 1.0323388e-09, 1.0190422e-08, ..., 2.6276856e-09,\n",
       "        6.7731656e-09, 1.4052015e-12],\n",
       "       [1.8761538e-03, 1.1924357e-07, 8.4914991e-06, ..., 1.2635953e-03,\n",
       "        9.8836386e-01, 1.2008455e-03]], dtype=float32)"
      ]
     },
     "execution_count": 8,
     "metadata": {},
     "output_type": "execute_result"
    }
   ],
   "source": [
    "# We can use the prediction methods like any other model\n",
    "atom.nn.predict_proba(X_train)"
   ]
  },
  {
   "cell_type": "code",
   "execution_count": 9,
   "metadata": {
    "pycharm": {
     "name": "#%%\n"
    }
   },
   "outputs": [
    {
     "data": {
      "image/png": "[encoded data removed]",
      "text/plain": [
       "<Figure size 576x576 with 2 Axes>"
      ]
     },
     "metadata": {},
     "output_type": "display_data"
    }
   ],
   "source": [
    "# Or make plots...\n",
    "atom.nn.plot_confusion_matrix()"
   ]
  }
 ],
 "metadata": {
  "kernelspec": {
   "display_name": "Python 3",
   "language": "python",
   "name": "python3"
  },
  "language_info": {
   "codemirror_mode": {
    "name": "ipython",
    "version": 3
   },
   "file_extension": ".py",
   "mimetype": "text/x-python",
   "name": "python",
   "nbconvert_exporter": "python",
   "pygments_lexer": "ipython3",
   "version": "3.8.3"
  }
 },
 "nbformat": 4,
 "nbformat_minor": 2
}
