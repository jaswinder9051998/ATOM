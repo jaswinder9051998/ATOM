{
 "cells": [
  {
   "cell_type": "markdown",
   "metadata": {},
   "source": [
    "# Deep learning\n",
    "---------------------------\n",
    "\n",
    "This example shows how to use ATOM to train and validate a Convolutional Neural Network implemented with [Keras](https://keras.io/).\n",
    "\n",
    "Import the MNIST dataset from [keras.datasets](https://keras.io/api/datasets/mnist/). This is a well known image dataset whose goal is to classify handwritten digits."
   ]
  },
  {
   "cell_type": "markdown",
   "metadata": {},
   "source": [
    "## Load the data"
   ]
  },
  {
   "cell_type": "code",
   "execution_count": 1,
   "metadata": {},
   "outputs": [],
   "source": [
    "# Disable annoying tf warnings\n",
    "import logging\n",
    "import tensorflow as tf\n",
    "tf.get_logger().setLevel(logging.ERROR)\n",
    "\n",
    "# Import standard packages\n",
    "from atom import ATOMClassifier, ATOMModel\n",
    "from skopt.space.space import Integer, Categorical\n",
    "\n",
    "# Keras\n",
    "from keras.datasets import mnist\n",
    "from keras.models import Sequential\n",
    "from keras.layers import Dense, Flatten, Conv2D\n",
    "from keras.wrappers.scikit_learn import KerasClassifier"
   ]
  },
  {
   "cell_type": "code",
   "execution_count": 12,
   "metadata": {},
   "outputs": [],
   "source": [
    "# Create the convolutional neural network\n",
    "def neural_network():\n",
    "    model = Sequential()\n",
    "    model.add(\n",
    "        Conv2D(\n",
    "            filters=64,\n",
    "            kernel_size=3,\n",
    "            activation=\"relu\",\n",
    "            input_shape=(28, 28, 1),\n",
    "        )\n",
    "    )\n",
    "    model.add(Conv2D(filters=64, kernel_size=3, activation=\"relu\"))\n",
    "    model.add(Flatten())\n",
    "    model.add(Dense(units=10, activation=\"softmax\"))\n",
    "    model.compile(\n",
    "        optimizer=\"adam\",\n",
    "        loss=\"categorical_crossentropy\",\n",
    "        metrics=[\"accuracy\"],\n",
    "    )\n",
    "\n",
    "    return model\n",
    "\n",
    "\n",
    "# Since ATOM uses sklearn's API, use Keras' wrapper\n",
    "model = KerasClassifier(neural_network, epochs=1, batch_size=512, verbose=0)\n",
    "\n",
    "# Convert the model to an ATOM model\n",
    "model = ATOMModel(model, acronym=\"NN\", fullname=\"Neural network\")"
   ]
  },
  {
   "cell_type": "code",
   "execution_count": 13,
   "metadata": {},
   "outputs": [],
   "source": [
    "# Download the MNIST dataset\n",
    "(X_train, y_train), (X_test, y_test) = mnist.load_data()"
   ]
  },
  {
   "cell_type": "code",
   "execution_count": 14,
   "metadata": {},
   "outputs": [],
   "source": [
    "# Reshape data to fit model\n",
    "X_train = X_train.reshape(60000,28,28,1)\n",
    "X_test = X_test.reshape(10000,28,28,1)\n",
    "\n",
    "data = (X_train, y_train), (X_test, y_test)"
   ]
  },
  {
   "cell_type": "markdown",
   "metadata": {},
   "source": [
    "## Run the pipeline"
   ]
  },
  {
   "cell_type": "code",
   "execution_count": 15,
   "metadata": {
    "run_control": {
     "marked": false
    },
    "scrolled": false
   },
   "outputs": [
    {
     "name": "stdout",
     "output_type": "stream",
     "text": [
      "<< ================== ATOM ================== >>\n",
      "Algorithm task: multiclass classification.\n",
      "Parallel processing with 6 cores.\n",
      "\n",
      "Dataset stats ====================== >>\n",
      "Shape: (7000, (28, 28, 1), 2)\n",
      "---------------------------------------\n",
      "Train set size: 6000\n",
      "Test set size: 1000\n",
      "---------------------------------------\n",
      "|    | dataset   | train     | test      |\n",
      "|---:|:----------|:----------|:----------|\n",
      "|  0 | 692 (1.2) | 595 (1.2) | 97 (1.4)  |\n",
      "|  1 | 814 (1.4) | 693 (1.4) | 121 (1.7) |\n",
      "|  2 | 703 (1.2) | 592 (1.2) | 111 (1.6) |\n",
      "|  3 | 746 (1.3) | 647 (1.3) | 99 (1.4)  |\n",
      "|  4 | 662 (1.1) | 560 (1.1) | 102 (1.4) |\n",
      "|  5 | 581 (1.0) | 510 (1.0) | 71 (1.0)  |\n",
      "|  6 | 673 (1.2) | 590 (1.2) | 83 (1.2)  |\n",
      "|  7 | 733 (1.3) | 627 (1.2) | 106 (1.5) |\n",
      "|  8 | 681 (1.2) | 575 (1.1) | 106 (1.5) |\n",
      "|  9 | 715 (1.2) | 611 (1.2) | 104 (1.5) |\n",
      "\n"
     ]
    }
   ],
   "source": [
    "atom = ATOMClassifier(*data, n_rows=0.1, n_jobs=6, warnings=False, verbose=2)"
   ]
  },
  {
   "cell_type": "code",
   "execution_count": 16,
   "metadata": {},
   "outputs": [
    {
     "data": {
      "text/html": [
       "<div>\n",
       "<style scoped>\n",
       "    .dataframe tbody tr th:only-of-type {\n",
       "        vertical-align: middle;\n",
       "    }\n",
       "\n",
       "    .dataframe tbody tr th {\n",
       "        vertical-align: top;\n",
       "    }\n",
       "\n",
       "    .dataframe thead th {\n",
       "        text-align: right;\n",
       "    }\n",
       "</style>\n",
       "<table border=\"1\" class=\"dataframe\">\n",
       "  <thead>\n",
       "    <tr style=\"text-align: right;\">\n",
       "      <th></th>\n",
       "      <th>Multidimensional feature</th>\n",
       "      <th>Target</th>\n",
       "    </tr>\n",
       "  </thead>\n",
       "  <tbody>\n",
       "    <tr>\n",
       "      <th>0</th>\n",
       "      <td>[[[0], [0], [0], [0], [0], [0], [0], [0], [0],...</td>\n",
       "      <td>2</td>\n",
       "    </tr>\n",
       "    <tr>\n",
       "      <th>1</th>\n",
       "      <td>[[[0], [0], [0], [0], [0], [0], [0], [0], [0],...</td>\n",
       "      <td>2</td>\n",
       "    </tr>\n",
       "    <tr>\n",
       "      <th>2</th>\n",
       "      <td>[[[0], [0], [0], [0], [0], [0], [0], [0], [0],...</td>\n",
       "      <td>7</td>\n",
       "    </tr>\n",
       "    <tr>\n",
       "      <th>3</th>\n",
       "      <td>[[[0], [0], [0], [0], [0], [0], [0], [0], [0],...</td>\n",
       "      <td>3</td>\n",
       "    </tr>\n",
       "    <tr>\n",
       "      <th>4</th>\n",
       "      <td>[[[0], [0], [0], [0], [0], [0], [0], [0], [0],...</td>\n",
       "      <td>5</td>\n",
       "    </tr>\n",
       "  </tbody>\n",
       "</table>\n",
       "</div>"
      ],
      "text/plain": [
       "                            Multidimensional feature  Target\n",
       "0  [[[0], [0], [0], [0], [0], [0], [0], [0], [0],...       2\n",
       "1  [[[0], [0], [0], [0], [0], [0], [0], [0], [0],...       2\n",
       "2  [[[0], [0], [0], [0], [0], [0], [0], [0], [0],...       7\n",
       "3  [[[0], [0], [0], [0], [0], [0], [0], [0], [0],...       3\n",
       "4  [[[0], [0], [0], [0], [0], [0], [0], [0], [0],...       5"
      ]
     },
     "execution_count": 16,
     "metadata": {},
     "output_type": "execute_result"
    }
   ],
   "source": [
    "# When the input data has more than 2 dimensions, ATOM creates a \n",
    "# dataset with just one column of shape (n_samples, shape_sample)\n",
    "atom.head()"
   ]
  },
  {
   "cell_type": "code",
   "execution_count": 17,
   "metadata": {},
   "outputs": [
    {
     "name": "stdout",
     "output_type": "stream",
     "text": [
      "Shape of one image: (28, 28, 1)\n",
      "atom's shape (n_rows, (shape_image), n_cols): (7000, (28, 28, 1), 2)\n"
     ]
    }
   ],
   "source": [
    "# Every row in the column contains the data of one image\n",
    "print(f\"Shape of one image: {atom.iloc[0, 0].shape}\")\n",
    "print(f\"atom's shape (n_rows, (shape_image), n_cols): {atom.shape}\")"
   ]
  },
  {
   "cell_type": "code",
   "execution_count": 18,
   "metadata": {
    "scrolled": false
   },
   "outputs": [
    {
     "name": "stdout",
     "output_type": "stream",
     "text": [
      "\n",
      "Training ===================================== >>\n",
      "Models: NN\n",
      "Metric: f1_weighted\n",
      "\n",
      "\n",
      "Running BO for Neural network...\n",
      "Initial point 1 ---------------------------------\n",
      "Parameters --> {'epochs': 3, 'batch_size': 128}\n",
      "Evaluation --> f1_weighted: 0.9733  Best f1_weighted: 0.9733\n",
      "Time iteration: 13.505s   Total time: 13.510s\n",
      "Initial point 2 ---------------------------------\n",
      "Parameters --> {'epochs': 1, 'batch_size': 64}\n",
      "Evaluation --> f1_weighted: 0.9467  Best f1_weighted: 0.9733\n",
      "Time iteration: 5.392s   Total time: 18.925s\n",
      "Initial point 3 ---------------------------------\n",
      "Parameters --> {'epochs': 2, 'batch_size': 64}\n",
      "Evaluation --> f1_weighted: 0.9524  Best f1_weighted: 0.9733\n",
      "Time iteration: 9.974s   Total time: 28.924s\n",
      "Initial point 4 ---------------------------------\n",
      "Parameters --> {'epochs': 2, 'batch_size': 128}\n",
      "Evaluation --> f1_weighted: 0.9458  Best f1_weighted: 0.9733\n",
      "Time iteration: 9.217s   Total time: 38.172s\n",
      "Initial point 5 ---------------------------------\n",
      "Parameters --> {'epochs': 2, 'batch_size': 64}\n",
      "Evaluation --> f1_weighted: 0.9516  Best f1_weighted: 0.9733\n",
      "Time iteration: 10.144s   Total time: 48.347s\n",
      "\n",
      "Results for Neural network:         \n",
      "Bayesian Optimization ---------------------------\n",
      "Best parameters --> {'epochs': 3, 'batch_size': 128}\n",
      "Best evaluation --> f1_weighted: 0.9733\n",
      "Time elapsed: 50.762s\n",
      "Fit ---------------------------------------------\n",
      "Train evaluation --> f1_weighted: 0.9995\n",
      "Test evaluation --> f1_weighted: 0.956\n",
      "Time elapsed: 17.968s\n",
      "-------------------------------------------------\n",
      "Total time: 1m:09s\n",
      "\n",
      "\n",
      "Final results ========================= >>\n",
      "Duration: 1m:09s\n",
      "------------------------------------------\n",
      "Neural network --> f1_weighted: 0.956\n"
     ]
    }
   ],
   "source": [
    "# Like any other model, we can define custom dimensions for the bayesian optimization\n",
    "dim = [Integer(1, 3, name=\"epochs\"), Categorical([32, 64, 128, 256], name=\"batch_size\")]\n",
    "\n",
    "atom.run(model, metric=\"f1_weighted\", n_calls=5, bo_params={\"dimensions\": dim, \"cv\": 1, \"max_time\": 120})"
   ]
  },
  {
   "cell_type": "markdown",
   "metadata": {},
   "source": [
    "## Analyze the results"
   ]
  },
  {
   "cell_type": "code",
   "execution_count": 9,
   "metadata": {
    "scrolled": false
   },
   "outputs": [
    {
     "data": {
      "text/plain": [
       "array([[3.3193524e-07, 5.8962629e-10, 8.7443772e-07, ..., 1.3339026e-06,\n",
       "        9.2499363e-07, 1.3533815e-05],\n",
       "       [9.9999058e-01, 1.8723382e-11, 9.3173858e-06, ..., 7.7003387e-10,\n",
       "        4.8539359e-08, 4.6308526e-09],\n",
       "       [6.7930179e-14, 5.5634137e-09, 9.0469169e-12, ..., 5.4167479e-09,\n",
       "        1.3212116e-10, 6.2716066e-07],\n",
       "       ...,\n",
       "       [1.7736274e-10, 9.5250149e-14, 4.2735815e-13, ..., 7.2675728e-12,\n",
       "        1.5567214e-07, 3.7829523e-06],\n",
       "       [2.9188291e-06, 8.0337742e-12, 4.5623146e-08, ..., 5.2204485e-10,\n",
       "        4.7253510e-13, 6.2878592e-13],\n",
       "       [1.3656822e-06, 3.8385992e-09, 1.8453775e-05, ..., 1.7541604e-05,\n",
       "        9.9955970e-01, 1.8250587e-04]], dtype=float32)"
      ]
     },
     "execution_count": 9,
     "metadata": {},
     "output_type": "execute_result"
    }
   ],
   "source": [
    "# Use the prediction methods like any other model\n",
    "atom.nn.predict_proba(X_train)"
   ]
  },
  {
   "cell_type": "code",
   "execution_count": 10,
   "metadata": {
    "pycharm": {
     "name": "#%%\n"
    }
   },
   "outputs": [
    {
     "data": {
      "image/png": "[encoded data removed]",
      "text/plain": [
       "<Figure size 576x432 with 2 Axes>"
      ]
     },
     "metadata": {},
     "output_type": "display_data"
    }
   ],
   "source": [
    "# Or make plots...\n",
    "atom.nn.plot_confusion_matrix()"
   ]
  }
 ],
 "metadata": {
  "kernelspec": {
   "display_name": "Python 3 (ipykernel)",
   "language": "python",
   "name": "python3"
  },
  "language_info": {
   "codemirror_mode": {
    "name": "ipython",
    "version": 3
   },
   "file_extension": ".py",
   "mimetype": "text/x-python",
   "name": "python",
   "nbconvert_exporter": "python",
   "pygments_lexer": "ipython3",
   "version": "3.8.3"
  },
  "toc": {
   "base_numbering": 1,
   "nav_menu": {},
   "number_sections": true,
   "sideBar": true,
   "skip_h1_title": false,
   "title_cell": "Table of Contents",
   "title_sidebar": "Contents",
   "toc_cell": false,
   "toc_position": {},
   "toc_section_display": true,
   "toc_window_display": false
  }
 },
 "nbformat": 4,
 "nbformat_minor": 2
}
