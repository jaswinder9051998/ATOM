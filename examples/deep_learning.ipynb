{
 "cells": [
  {
   "cell_type": "markdown",
   "metadata": {},
   "source": [
    "# Deep learning\n",
    "---------------------------\n",
    "\n",
    "This example shows how we can use ATOM to train and validate a Convolutional Neural Network implemented using [Keras](https://keras.io/).\n",
    "\n",
    "Import the MNIST dataset from [keras.datasets](https://keras.io/api/datasets/mnist/). This is a well known image dataset with handwritten digits."
   ]
  },
  {
   "cell_type": "markdown",
   "metadata": {},
   "source": [
    "## Load the data"
   ]
  },
  {
   "cell_type": "code",
   "execution_count": 1,
   "metadata": {},
   "outputs": [],
   "source": [
    "# Disable annoying tf warnings\n",
    "import logging\n",
    "import tensorflow as tf\n",
    "tf.get_logger().setLevel(logging.ERROR)\n",
    "\n",
    "# Import standard packages\n",
    "from atom import ATOMClassifier, ATOMModel\n",
    "from skopt.space.space import Integer, Categorical\n",
    "\n",
    "# Keras\n",
    "from keras.datasets import mnist\n",
    "from keras.models import Sequential\n",
    "from keras.layers import Dense, Flatten, Conv2D\n",
    "from keras.wrappers.scikit_learn import KerasClassifier"
   ]
  },
  {
   "cell_type": "code",
   "execution_count": 2,
   "metadata": {},
   "outputs": [],
   "source": [
    "# Create the convolutional neural network\n",
    "def neural_network():\n",
    "    model = Sequential()\n",
    "    model.add(Conv2D(64, kernel_size=3, activation=\"relu\", input_shape=(28, 28, 1)))\n",
    "    model.add(Conv2D(64, kernel_size=3, activation=\"relu\"))\n",
    "    model.add(Flatten())\n",
    "    model.add(Dense(10, activation=\"softmax\"))\n",
    "    model.compile(optimizer='adam', loss='categorical_crossentropy', metrics=['accuracy'])\n",
    "\n",
    "    return model\n",
    "\n",
    "\n",
    "# Since ATOM uses sklearn's API, use Keras' wrapper\n",
    "model = KerasClassifier(neural_network, epochs=1, batch_size=512, verbose=0)\n",
    "\n",
    "# Convert the model to an ATOM model\n",
    "model = ATOMModel(model, acronym='NN', fullname='Neural network')\n",
    "model.type = 'gradient'"
   ]
  },
  {
   "cell_type": "code",
   "execution_count": 3,
   "metadata": {},
   "outputs": [],
   "source": [
    "# Download the MNIST dataset\n",
    "(X_train, y_train), (X_test, y_test) = mnist.load_data()"
   ]
  },
  {
   "cell_type": "code",
   "execution_count": 4,
   "metadata": {},
   "outputs": [],
   "source": [
    "# Reshape data to fit model\n",
    "X_train = X_train.reshape(60000,28,28,1)\n",
    "X_test = X_test.reshape(10000,28,28,1)"
   ]
  },
  {
   "cell_type": "markdown",
   "metadata": {},
   "source": [
    "## Run the pipeline"
   ]
  },
  {
   "cell_type": "code",
   "execution_count": 5,
   "metadata": {
    "scrolled": false
   },
   "outputs": [
    {
     "name": "stdout",
     "output_type": "stream",
     "text": [
      "<< ================== ATOM ================== >>\n",
      "Algorithm task: multiclass classification.\n",
      "Parallel processing with 4 cores.\n",
      "\n",
      "Dataset stats ================== >>\n",
      "Shape: (7000, 2)\n",
      "Categorical columns: 1\n",
      "Scaled: False\n",
      "-----------------------------------\n",
      "Train set size: 6000\n",
      "Test set size: 1000\n",
      "-----------------------------------\n",
      "Train set balance: 0:1:2:3:4:5:6:7:8:9 <==> 1.1:1.3:1.1:1.2:1.2:1.0:1.2:1.2:1.2:1.1\n",
      "Test set balance: 0:1:2:3:4:5:6:7:8:9 <==> 1.3:1.5:1.1:1.4:1.0:1.1:1.3:1.4:1.0:1.2\n",
      "-----------------------------------\n",
      "Distribution of classes:\n",
      "|    |   dataset |   train |   test |\n",
      "|---:|----------:|--------:|-------:|\n",
      "|  0 |       692 |     587 |    105 |\n",
      "|  1 |       795 |     676 |    119 |\n",
      "|  2 |       668 |     578 |     90 |\n",
      "|  3 |       708 |     596 |    112 |\n",
      "|  4 |       683 |     601 |     82 |\n",
      "|  5 |       606 |     518 |     88 |\n",
      "|  6 |       708 |     602 |    106 |\n",
      "|  7 |       750 |     638 |    112 |\n",
      "|  8 |       702 |     616 |     86 |\n",
      "|  9 |       688 |     588 |    100 |\n",
      "\n"
     ]
    }
   ],
   "source": [
    "atom = ATOMClassifier((X_train, y_train), (X_test, y_test), n_rows=0.1, n_jobs=4, warnings=False, verbose=2)"
   ]
  },
  {
   "cell_type": "code",
   "execution_count": 6,
   "metadata": {},
   "outputs": [
    {
     "name": "stdout",
     "output_type": "stream",
     "text": [
      "                                            Features  target\n",
      "0  [[[0], [0], [0], [0], [0], [0], [0], [0], [0],...       6\n",
      "1  [[[0], [0], [0], [0], [0], [0], [0], [0], [0],...       6\n",
      "2  [[[0], [0], [0], [0], [0], [0], [0], [0], [0],...       3\n",
      "3  [[[0], [0], [0], [0], [0], [0], [0], [0], [0],...       0\n",
      "4  [[[0], [0], [0], [0], [0], [0], [0], [0], [0],...       2\n",
      "\n",
      "Every row in the column contains the data of one image, with shape: (28, 28, 1)\n"
     ]
    }
   ],
   "source": [
    "# When the input data has more than 2 dimensions, ATOM creates a \n",
    "# dataset with just one column of shape (n_samples, shape_sample)\n",
    "print(atom.dataset.head())\n",
    "print(f\"\\nEvery row in the column contains the data of one image, with shape: {atom.dataset.iloc[0, 0].shape}\")"
   ]
  },
  {
   "cell_type": "code",
   "execution_count": 7,
   "metadata": {
    "scrolled": false
   },
   "outputs": [
    {
     "name": "stdout",
     "output_type": "stream",
     "text": [
      "\n",
      "Training ===================================== >>\n",
      "Models: NN\n",
      "Metric: f1_weighted\n",
      "\n",
      "\n",
      "Running BO for Neural network...\n",
      "Initial point 1 ---------------------------------\n",
      "Parameters --> {'epochs': 2, 'batch_size': 32}\n",
      "Evaluation --> f1_weighted: 0.9442  Best f1_weighted: 0.9442\n",
      "Time iteration: 10.107s   Total time: 10.111s\n",
      "Initial point 2 ---------------------------------\n",
      "Parameters --> {'epochs': 3, 'batch_size': 64}\n",
      "Evaluation --> f1_weighted: 0.9641  Best f1_weighted: 0.9641\n",
      "Time iteration: 13.018s   Total time: 23.145s\n",
      "Initial point 3 ---------------------------------\n",
      "Parameters --> {'epochs': 3, 'batch_size': 256}\n",
      "Evaluation --> f1_weighted: 0.9292  Best f1_weighted: 0.9641\n",
      "Time iteration: 11.667s   Total time: 34.812s\n",
      "Initial point 4 ---------------------------------\n",
      "Parameters --> {'epochs': 2, 'batch_size': 128}\n",
      "Evaluation --> f1_weighted: 0.9501  Best f1_weighted: 0.9641\n",
      "Time iteration: 8.483s   Total time: 43.295s\n",
      "Initial point 5 ---------------------------------\n",
      "Parameters --> {'epochs': 2, 'batch_size': 256}\n",
      "Evaluation --> f1_weighted: 0.9372  Best f1_weighted: 0.9641\n",
      "Time iteration: 8.427s   Total time: 51.721s\n",
      "\n",
      "Results for Neural network:         \n",
      "Bayesian Optimization ---------------------------\n",
      "Best parameters --> {'epochs': 3, 'batch_size': 64}\n",
      "Best evaluation --> f1_weighted: 0.9641\n",
      "Time elapsed: 53.436s\n",
      "Fit ---------------------------------------------\n",
      "Train evaluation --> f1_weighted: 0.9950\n",
      "Test evaluation --> f1_weighted: 0.9631\n",
      "Time elapsed: 18.307s\n",
      "-------------------------------------------------\n",
      "Total time: 1m:11s\n",
      "\n",
      "\n",
      "Final results ========================= >>\n",
      "Duration: 1m:11s\n",
      "------------------------------------------\n",
      "Neural network --> f1_weighted: 0.963\n"
     ]
    }
   ],
   "source": [
    "# Like any other model, we can define custom dimensions for the bayesian optimization\n",
    "dim = [Integer(1, 3, name=\"epochs\"), Categorical([32, 64, 128, 256], name=\"batch_size\")]\n",
    "\n",
    "atom.run(model, metric=\"f1_weighted\", n_calls=5, bo_params={\"dimensions\": dim, \"cv\": 1, \"max_time\": 120})"
   ]
  },
  {
   "cell_type": "markdown",
   "metadata": {},
   "source": [
    "## Analyze the results"
   ]
  },
  {
   "cell_type": "code",
   "execution_count": 8,
   "metadata": {
    "scrolled": false
   },
   "outputs": [
    {
     "data": {
      "text/plain": [
       "array([[2.7833973e-08, 1.5802347e-11, 5.8050437e-10, ..., 3.8111640e-08,\n",
       "        2.8912558e-07, 2.6020126e-07],\n",
       "       [1.0000000e+00, 1.9997780e-13, 1.2452290e-09, ..., 4.2151291e-12,\n",
       "        5.4967320e-10, 9.7510311e-10],\n",
       "       [7.5203090e-12, 1.4871786e-10, 2.5926665e-08, ..., 4.2381049e-10,\n",
       "        5.5594995e-08, 4.7841951e-08],\n",
       "       ...,\n",
       "       [7.4033468e-09, 2.5506302e-09, 3.5281917e-14, ..., 1.5363735e-12,\n",
       "        1.5984324e-06, 7.9814981e-08],\n",
       "       [5.2521988e-05, 2.3345517e-10, 1.1258288e-08, ..., 2.5015936e-08,\n",
       "        1.8707331e-11, 8.5959512e-12],\n",
       "       [1.2556100e-05, 1.3853971e-06, 3.1533356e-05, ..., 2.3861492e-05,\n",
       "        9.9365270e-01, 6.2594912e-03]], dtype=float32)"
      ]
     },
     "execution_count": 8,
     "metadata": {},
     "output_type": "execute_result"
    }
   ],
   "source": [
    "# We can use the prediction methods like any other model\n",
    "atom.nn.predict_proba(X_train)"
   ]
  },
  {
   "cell_type": "code",
   "execution_count": 9,
   "metadata": {
    "pycharm": {
     "name": "#%%\n"
    }
   },
   "outputs": [
    {
     "data": {
      "image/png": "[encoded data removed]",
      "text/plain": [
       "<Figure size 576x576 with 2 Axes>"
      ]
     },
     "metadata": {},
     "output_type": "display_data"
    }
   ],
   "source": [
    "# Or make plots...\n",
    "atom.nn.plot_confusion_matrix()"
   ]
  }
 ],
 "metadata": {
  "kernelspec": {
   "display_name": "Python 3",
   "language": "python",
   "name": "python3"
  },
  "language_info": {
   "codemirror_mode": {
    "name": "ipython",
    "version": 3
   },
   "file_extension": ".py",
   "mimetype": "text/x-python",
   "name": "python",
   "nbconvert_exporter": "python",
   "pygments_lexer": "ipython3",
   "version": "3.8.3"
  }
 },
 "nbformat": 4,
 "nbformat_minor": 2
}
