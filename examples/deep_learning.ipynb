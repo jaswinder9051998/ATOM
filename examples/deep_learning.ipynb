{
 "cells": [
  {
   "cell_type": "markdown",
   "metadata": {},
   "source": [
    "# Deep learning\n",
    "---------------------------\n",
    "\n",
    "This example shows how we can use ATOM to train and validate a Convolutional Neural Network implemented using [Keras](https://keras.io/).\n",
    "\n",
    "Import the MNIST dataset from [keras.datasets](https://keras.io/api/datasets/mnist/). This is a well known image dataset with handwritten digits."
   ]
  },
  {
   "cell_type": "markdown",
   "metadata": {},
   "source": [
    "## Load the data"
   ]
  },
  {
   "cell_type": "code",
   "execution_count": 1,
   "metadata": {},
   "outputs": [],
   "source": [
    "# Disable annoying tf warnings\n",
    "import logging\n",
    "import tensorflow as tf\n",
    "tf.get_logger().setLevel(logging.ERROR)\n",
    "\n",
    "# Import standard packages\n",
    "from atom import ATOMClassifier, ATOMModel\n",
    "from skopt.space.space import Integer, Categorical\n",
    "\n",
    "# Keras\n",
    "from keras.datasets import mnist\n",
    "from keras.models import Sequential\n",
    "from keras.layers import Dense, Flatten, Conv2D\n",
    "from keras.wrappers.scikit_learn import KerasClassifier"
   ]
  },
  {
   "cell_type": "code",
   "execution_count": 2,
   "metadata": {},
   "outputs": [],
   "source": [
    "# Create the convolutional neural network\n",
    "def neural_network():\n",
    "    model = Sequential()\n",
    "    model.add(Conv2D(64, kernel_size=3, activation=\"relu\", input_shape=(28, 28, 1)))\n",
    "    model.add(Conv2D(64, kernel_size=3, activation=\"relu\"))\n",
    "    model.add(Flatten())\n",
    "    model.add(Dense(10, activation=\"softmax\"))\n",
    "    model.compile(optimizer='adam', loss='categorical_crossentropy', metrics=['accuracy'])\n",
    "\n",
    "    return model\n",
    "\n",
    "\n",
    "# Since ATOM uses sklearn's API, use Keras' wrapper\n",
    "model = KerasClassifier(neural_network, epochs=1, batch_size=512, verbose=0)\n",
    "\n",
    "# Convert the model to an ATOM model\n",
    "model = ATOMModel(model, acronym='NN', fullname='Neural network')\n",
    "model.type = 'gradient'"
   ]
  },
  {
   "cell_type": "code",
   "execution_count": 3,
   "metadata": {},
   "outputs": [],
   "source": [
    "# Download the MNIST dataset\n",
    "(X_train, y_train), (X_test, y_test) = mnist.load_data()"
   ]
  },
  {
   "cell_type": "code",
   "execution_count": 4,
   "metadata": {},
   "outputs": [],
   "source": [
    "# Reshape data to fit model\n",
    "X_train = X_train.reshape(60000,28,28,1)\n",
    "X_test = X_test.reshape(10000,28,28,1)"
   ]
  },
  {
   "cell_type": "markdown",
   "metadata": {},
   "source": [
    "## Run the pipeline"
   ]
  },
  {
   "cell_type": "code",
   "execution_count": 5,
   "metadata": {
    "scrolled": false
   },
   "outputs": [
    {
     "name": "stdout",
     "output_type": "stream",
     "text": [
      "<< ================== ATOM ================== >>\n",
      "Algorithm task: multiclass classification.\n",
      "Parallel processing with 4 cores.\n",
      "\n",
      "Dataset stats ================== >>\n",
      "Shape: (7000, 2)\n",
      "Categorical columns: 1\n",
      "Scaled: False\n",
      "-----------------------------------\n",
      "Train set size: 6000\n",
      "Test set size: 1000\n",
      "-----------------------------------\n",
      "Train set balance: 0:1:2:3:4:5:6:7:8:9 <==> 1.1:1.1:1.1:1.1:1.1:1.0:1.0:1.2:1.1:1.1\n",
      "Test set balance: 0:1:2:3:4:5:6:7:8:9 <==> 1.2:1.4:1.3:1.0:1.2:1.1:1.3:1.2:1.1:1.2\n",
      "-----------------------------------\n",
      "Distribution of classes:\n",
      "|    |   dataset |   train |   test |\n",
      "|---:|----------:|--------:|-------:|\n",
      "|  0 |       724 |     622 |    102 |\n",
      "|  1 |       744 |     631 |    113 |\n",
      "|  2 |       693 |     589 |    104 |\n",
      "|  3 |       679 |     596 |     83 |\n",
      "|  4 |       727 |     626 |    101 |\n",
      "|  5 |       639 |     549 |     90 |\n",
      "|  6 |       666 |     558 |    108 |\n",
      "|  7 |       737 |     635 |    102 |\n",
      "|  8 |       676 |     581 |     95 |\n",
      "|  9 |       715 |     613 |    102 |\n",
      "\n"
     ]
    }
   ],
   "source": [
    "atom = ATOMClassifier((X_train, y_train), (X_test, y_test), n_rows=0.1, n_jobs=4, warnings=False, verbose=2)"
   ]
  },
  {
   "cell_type": "code",
   "execution_count": 6,
   "metadata": {},
   "outputs": [
    {
     "name": "stdout",
     "output_type": "stream",
     "text": [
      "                                            Features  target\n",
      "0  [[[0], [0], [0], [0], [0], [0], [0], [0], [0],...       5\n",
      "1  [[[0], [0], [0], [0], [0], [0], [0], [0], [0],...       7\n",
      "2  [[[0], [0], [0], [0], [0], [0], [0], [0], [0],...       9\n",
      "3  [[[0], [0], [0], [0], [0], [0], [0], [0], [0],...       7\n",
      "4  [[[0], [0], [0], [0], [0], [0], [0], [0], [0],...       0\n",
      "\n",
      "Every row in the column contains the data of one image, with shape: (28, 28, 1)\n"
     ]
    }
   ],
   "source": [
    "# When the input data has more than 2 dimensions, ATOM creates a \n",
    "# dataset with just one column of shape (n_samples, shape_sample)\n",
    "print(atom.dataset.head())\n",
    "print(f\"\\nEvery row in the column contains the data of one image, with shape: {atom.dataset.iloc[0, 0].shape}\")"
   ]
  },
  {
   "cell_type": "code",
   "execution_count": 7,
   "metadata": {
    "scrolled": false
   },
   "outputs": [
    {
     "name": "stdout",
     "output_type": "stream",
     "text": [
      "\n",
      "Training ===================================== >>\n",
      "Models: NN\n",
      "Metric: f1_weighted\n",
      "\n",
      "\n",
      "Running BO for Neural network...\n",
      "Initial point 1 ---------------------------------\n",
      "Parameters --> {'epochs': 2, 'batch_size': 256}\n",
      "Evaluation --> f1_weighted: 0.9424  Best f1_weighted: 0.9424\n",
      "Time iteration: 8.314s   Total time: 8.319s\n",
      "Initial point 2 ---------------------------------\n",
      "Parameters --> {'epochs': 2, 'batch_size': 64}\n",
      "Evaluation --> f1_weighted: 0.9408  Best f1_weighted: 0.9424\n",
      "Time iteration: 8.914s   Total time: 17.236s\n",
      "Initial point 3 ---------------------------------\n",
      "Parameters --> {'epochs': 3, 'batch_size': 128}\n",
      "Evaluation --> f1_weighted: 0.9532  Best f1_weighted: 0.9532\n",
      "Time iteration: 12.240s   Total time: 29.479s\n",
      "Initial point 4 ---------------------------------\n",
      "Parameters --> {'epochs': 1, 'batch_size': 32}\n",
      "Evaluation --> f1_weighted: 0.9426  Best f1_weighted: 0.9532\n",
      "Time iteration: 6.368s   Total time: 35.851s\n",
      "Initial point 5 ---------------------------------\n",
      "Parameters --> {'epochs': 2, 'batch_size': 128}\n",
      "Evaluation --> f1_weighted: 0.9458  Best f1_weighted: 0.9532\n",
      "Time iteration: 10.249s   Total time: 46.103s\n",
      "\n",
      "Results for Neural network:         \n",
      "Bayesian Optimization ---------------------------\n",
      "Best parameters --> {'epochs': 3, 'batch_size': 128}\n",
      "Best evaluation --> f1_weighted: 0.9532\n",
      "Time elapsed: 48.732s\n",
      "Fit ---------------------------------------------\n",
      "Train evaluation --> f1_weighted: 0.9970\n",
      "Test evaluation --> f1_weighted: 0.9529\n",
      "Time elapsed: 27.897s\n",
      "-------------------------------------------------\n",
      "Total time: 1m:16s\n",
      "\n",
      "\n",
      "Final results ========================= >>\n",
      "Duration: 1m:16s\n",
      "------------------------------------------\n",
      "Neural network --> f1_weighted: 0.953\n"
     ]
    }
   ],
   "source": [
    "# Like any other model, we can define custom dimensions for the bayesian optimization\n",
    "dim = [Integer(1, 3, name=\"epochs\"), Categorical([32, 64, 128, 256], name=\"batch_size\")]\n",
    "\n",
    "atom.run(model, metric=\"f1_weighted\", n_calls=5, bo_params={\"dimensions\": dim, \"cv\": 1, \"max_time\": 120})"
   ]
  },
  {
   "cell_type": "markdown",
   "metadata": {},
   "source": [
    "## Analyze the results"
   ]
  },
  {
   "cell_type": "code",
   "execution_count": 8,
   "metadata": {
    "scrolled": false
   },
   "outputs": [
    {
     "data": {
      "text/plain": [
       "array([[7.6079150e-11, 1.3647737e-07, 3.3564876e-10, ..., 2.2290888e-11,\n",
       "        2.7873742e-07, 2.2211642e-08],\n",
       "       [9.9997699e-01, 5.7249155e-10, 4.5124486e-07, ..., 5.8728578e-12,\n",
       "        1.9990871e-06, 1.8863806e-05],\n",
       "       [2.0215736e-09, 2.4031244e-09, 3.5945394e-07, ..., 1.4841052e-04,\n",
       "        9.9761610e-07, 1.1678913e-05],\n",
       "       ...,\n",
       "       [1.4464187e-10, 9.3491263e-13, 2.4912352e-17, ..., 2.2498216e-15,\n",
       "        1.5265277e-07, 3.8232368e-08],\n",
       "       [9.6342032e-04, 4.7254954e-08, 5.2585257e-08, ..., 6.4444627e-09,\n",
       "        1.6198820e-07, 2.5358229e-09],\n",
       "       [1.2641001e-05, 1.1896596e-08, 5.5952628e-06, ..., 1.6134092e-05,\n",
       "        9.9867672e-01, 7.8434474e-04]], dtype=float32)"
      ]
     },
     "execution_count": 8,
     "metadata": {},
     "output_type": "execute_result"
    }
   ],
   "source": [
    "# We can use the prediction methods like any other model\n",
    "atom.nn.predict_proba(X_train)"
   ]
  },
  {
   "cell_type": "code",
   "execution_count": 9,
   "metadata": {
    "pycharm": {
     "name": "#%%\n"
    }
   },
   "outputs": [
    {
     "data": {
      "image/png": "[encoded data removed]",
      "text/plain": [
       "<Figure size 576x576 with 2 Axes>"
      ]
     },
     "metadata": {},
     "output_type": "display_data"
    }
   ],
   "source": [
    "# Or make plots...\n",
    "atom.nn.plot_confusion_matrix()"
   ]
  }
 ],
 "metadata": {
  "kernelspec": {
   "display_name": "Python 3",
   "language": "python",
   "name": "python3"
  },
  "language_info": {
   "codemirror_mode": {
    "name": "ipython",
    "version": 3
   },
   "file_extension": ".py",
   "mimetype": "text/x-python",
   "name": "python",
   "nbconvert_exporter": "python",
   "pygments_lexer": "ipython3",
   "version": "3.8.3"
  }
 },
 "nbformat": 4,
 "nbformat_minor": 2
}
