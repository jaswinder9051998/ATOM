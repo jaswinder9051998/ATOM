{
 "cells": [
  {
   "cell_type": "markdown",
   "metadata": {},
   "source": [
    "# Deep learning\n",
    "---------------------------\n",
    "\n",
    "This example shows how we can use ATOM to train and validate a Convolutional Neural Network implemented using [Keras](https://keras.io/).\n",
    "\n",
    "Import the MNIST dataset from [keras.datasets](https://keras.io/api/datasets/mnist/). This is a well known image dataset with handwritten digits."
   ]
  },
  {
   "cell_type": "markdown",
   "metadata": {},
   "source": [
    "## Load the data"
   ]
  },
  {
   "cell_type": "code",
   "execution_count": 1,
   "metadata": {},
   "outputs": [],
   "source": [
    "# Disable annoying tf warnings\n",
    "import logging\n",
    "import tensorflow as tf\n",
    "tf.get_logger().setLevel(logging.ERROR)\n",
    "\n",
    "# Import standard packages\n",
    "from atom import ATOMClassifier, ATOMModel\n",
    "from skopt.space.space import Integer, Categorical\n",
    "\n",
    "# Keras\n",
    "from keras.datasets import mnist\n",
    "from keras.models import Sequential\n",
    "from keras.layers import Dense, Flatten, Conv2D\n",
    "from keras.wrappers.scikit_learn import KerasClassifier"
   ]
  },
  {
   "cell_type": "code",
   "execution_count": 2,
   "metadata": {},
   "outputs": [],
   "source": [
    "# Create the convolutional neural network\n",
    "def neural_network():\n",
    "    model = Sequential()\n",
    "    model.add(Conv2D(64, kernel_size=3, activation=\"relu\", input_shape=(28, 28, 1)))\n",
    "    model.add(Conv2D(64, kernel_size=3, activation=\"relu\"))\n",
    "    model.add(Flatten())\n",
    "    model.add(Dense(10, activation=\"softmax\"))\n",
    "    model.compile(optimizer='adam', loss='categorical_crossentropy', metrics=['accuracy'])\n",
    "\n",
    "    return model\n",
    "\n",
    "\n",
    "# Since ATOM uses sklearn's API, use Keras' wrapper\n",
    "model = KerasClassifier(neural_network, epochs=1, batch_size=512, verbose=0)\n",
    "\n",
    "# Convert the model to an ATOM model\n",
    "model = ATOMModel(model, acronym='NN', fullname='Neural network')"
   ]
  },
  {
   "cell_type": "code",
   "execution_count": 3,
   "metadata": {},
   "outputs": [],
   "source": [
    "# Download the MNIST dataset\n",
    "(X_train, y_train), (X_test, y_test) = mnist.load_data()"
   ]
  },
  {
   "cell_type": "code",
   "execution_count": 4,
   "metadata": {},
   "outputs": [],
   "source": [
    "# Reshape data to fit model\n",
    "X_train = X_train.reshape(60000,28,28,1)\n",
    "X_test = X_test.reshape(10000,28,28,1)"
   ]
  },
  {
   "cell_type": "markdown",
   "metadata": {},
   "source": [
    "## Run the pipeline"
   ]
  },
  {
   "cell_type": "code",
   "execution_count": 5,
   "metadata": {
    "scrolled": false
   },
   "outputs": [
    {
     "name": "stdout",
     "output_type": "stream",
     "text": [
      "<< ================== ATOM ================== >>\n",
      "Algorithm task: multiclass classification.\n",
      "Parallel processing with 4 cores.\n",
      "\n",
      "Dataset stats ================== >>\n",
      "Shape: (7000, (28, 28, 1), 2)\n",
      "Scaled: False\n",
      "-----------------------------------\n",
      "Train set size: 6000\n",
      "Test set size: 1000\n",
      "-----------------------------------\n",
      "Train set balance: 0:1:2:3:4:5:6:7:8:9 <==> 1.1:1.2:1.2:1.2:1.1:1.0:1.2:1.2:1.2:1.2\n",
      "Test set balance: 0:1:2:3:4:5:6:7:8:9 <==> 1.2:1.3:1.4:1.2:1.0:1.1:1.2:1.4:1.4:1.2\n",
      "-----------------------------------\n",
      "Distribution of classes:\n",
      "|    |   dataset |   train |   test |\n",
      "|---:|----------:|--------:|-------:|\n",
      "|  0 |       688 |     589 |     99 |\n",
      "|  1 |       758 |     651 |    107 |\n",
      "|  2 |       765 |     649 |    116 |\n",
      "|  3 |       707 |     609 |     98 |\n",
      "|  4 |       642 |     562 |     80 |\n",
      "|  5 |       611 |     522 |     89 |\n",
      "|  6 |       697 |     603 |     94 |\n",
      "|  7 |       714 |     605 |    109 |\n",
      "|  8 |       711 |     602 |    109 |\n",
      "|  9 |       707 |     608 |     99 |\n",
      "\n"
     ]
    }
   ],
   "source": [
    "atom = ATOMClassifier((X_train, y_train), (X_test, y_test), n_rows=0.1, n_jobs=4, warnings=False, verbose=2)"
   ]
  },
  {
   "cell_type": "code",
   "execution_count": 6,
   "metadata": {},
   "outputs": [
    {
     "name": "stdout",
     "output_type": "stream",
     "text": [
      "                                            Features  target\n",
      "0  [[[0], [0], [0], [0], [0], [0], [0], [0], [0],...       9\n",
      "1  [[[0], [0], [0], [0], [0], [0], [0], [0], [0],...       3\n",
      "2  [[[0], [0], [0], [0], [0], [0], [0], [0], [0],...       6\n",
      "3  [[[0], [0], [0], [0], [0], [0], [0], [0], [0],...       5\n",
      "4  [[[0], [0], [0], [0], [0], [0], [0], [0], [0],...       9\n",
      "\n",
      "Every row in the column contains the data of one image, with shape: (28, 28, 1)\n",
      "This can be seen in atom's shape (n_rows, (shape_image), n_cols): (7000, (28, 28, 1), 2)\n"
     ]
    }
   ],
   "source": [
    "# When the input data has more than 2 dimensions, ATOM creates a \n",
    "# dataset with just one column of shape (n_samples, shape_sample)\n",
    "print(atom.dataset.head())\n",
    "print(f\"\\nEvery row in the column contains the data of one image, with shape: {atom.dataset.iloc[0, 0].shape}\")\n",
    "print(f\"This can be seen in atom's shape (n_rows, (shape_image), n_cols): {atom.shape}\")"
   ]
  },
  {
   "cell_type": "code",
   "execution_count": 7,
   "metadata": {
    "scrolled": false
   },
   "outputs": [
    {
     "name": "stdout",
     "output_type": "stream",
     "text": [
      "\n",
      "Training ===================================== >>\n",
      "Models: NN\n",
      "Metric: f1_weighted\n",
      "\n",
      "\n",
      "Running BO for Neural network...\n",
      "Initial point 1 ---------------------------------\n",
      "Parameters --> {'epochs': 3, 'batch_size': 128}\n",
      "Evaluation --> f1_weighted: 0.9508  Best f1_weighted: 0.9508\n",
      "Time iteration: 17.505s   Total time: 17.511s\n",
      "Initial point 2 ---------------------------------\n",
      "Parameters --> {'epochs': 2, 'batch_size': 256}\n",
      "Evaluation --> f1_weighted: 0.9432  Best f1_weighted: 0.9508\n",
      "Time iteration: 10.186s   Total time: 27.704s\n",
      "Initial point 3 ---------------------------------\n",
      "Parameters --> {'epochs': 3, 'batch_size': 128}\n",
      "Evaluation --> f1_weighted: 0.9566  Best f1_weighted: 0.9566\n",
      "Time iteration: 15.639s   Total time: 43.348s\n",
      "Initial point 4 ---------------------------------\n",
      "Parameters --> {'epochs': 3, 'batch_size': 64}\n",
      "Evaluation --> f1_weighted: 0.9465  Best f1_weighted: 0.9566\n",
      "Time iteration: 18.513s   Total time: 1m:1.865858s\n",
      "Initial point 5 ---------------------------------\n",
      "Parameters --> {'epochs': 1, 'batch_size': 64}\n",
      "Evaluation --> f1_weighted: 0.9369  Best f1_weighted: 0.9566\n",
      "Time iteration: 6.478s   Total time: 1m:8.348855s\n",
      "\n",
      "Results for Neural network:         \n",
      "Bayesian Optimization ---------------------------\n",
      "Best parameters --> {'epochs': 3, 'batch_size': 128}\n",
      "Best evaluation --> f1_weighted: 0.9566\n",
      "Time elapsed: 1m:10.245578s\n",
      "Fit ---------------------------------------------\n",
      "Train evaluation --> f1_weighted: 0.999\n",
      "Test evaluation --> f1_weighted: 0.9651\n",
      "Time elapsed: 20.085s\n",
      "-------------------------------------------------\n",
      "Total time: 1m:30.332937s\n",
      "\n",
      "\n",
      "Final results ========================= >>\n",
      "Duration: 1m:30.332937s\n",
      "------------------------------------------\n",
      "Neural network --> f1_weighted: 0.965\n"
     ]
    }
   ],
   "source": [
    "# Like any other model, we can define custom dimensions for the bayesian optimization\n",
    "dim = [Integer(1, 3, name=\"epochs\"), Categorical([32, 64, 128, 256], name=\"batch_size\")]\n",
    "\n",
    "atom.run(model, metric=\"f1_weighted\", n_calls=5, bo_params={\"dimensions\": dim, \"cv\": 1, \"max_time\": 120})"
   ]
  },
  {
   "cell_type": "markdown",
   "metadata": {},
   "source": [
    "## Analyze the results"
   ]
  },
  {
   "cell_type": "code",
   "execution_count": 8,
   "metadata": {
    "scrolled": false
   },
   "outputs": [
    {
     "data": {
      "text/plain": [
       "array([[1.23895105e-09, 7.50470172e-11, 3.59672363e-08, ...,\n",
       "        1.04067453e-06, 1.37833456e-06, 2.09117889e-06],\n",
       "       [9.99997497e-01, 1.34576128e-12, 2.11763859e-06, ...,\n",
       "        6.86806688e-12, 2.02952891e-10, 2.39423805e-08],\n",
       "       [1.24835531e-10, 8.43449477e-11, 9.85053816e-09, ...,\n",
       "        3.47881496e-07, 1.73251885e-06, 5.39299617e-06],\n",
       "       ...,\n",
       "       [5.35157856e-14, 1.66586105e-14, 6.16249027e-16, ...,\n",
       "        2.22992960e-14, 2.56814303e-09, 1.90863574e-08],\n",
       "       [9.59795621e-09, 2.13891701e-15, 1.07965015e-08, ...,\n",
       "        2.56011011e-11, 1.14306238e-11, 5.34022208e-13],\n",
       "       [2.81489338e-06, 1.24466442e-12, 1.00715930e-07, ...,\n",
       "        1.18285152e-05, 9.99813139e-01, 7.43757528e-06]], dtype=float32)"
      ]
     },
     "execution_count": 8,
     "metadata": {},
     "output_type": "execute_result"
    }
   ],
   "source": [
    "# We can use the prediction methods like any other model\n",
    "atom.nn.predict_proba(X_train)"
   ]
  },
  {
   "cell_type": "code",
   "execution_count": 9,
   "metadata": {
    "pycharm": {
     "name": "#%%\n"
    }
   },
   "outputs": [
    {
     "data": {
      "image/png": "[encoded data removed]",
      "text/plain": [
       "<Figure size 576x576 with 2 Axes>"
      ]
     },
     "metadata": {},
     "output_type": "display_data"
    }
   ],
   "source": [
    "# Or make plots...\n",
    "atom.nn.plot_confusion_matrix()"
   ]
  }
 ],
 "metadata": {
  "kernelspec": {
   "display_name": "Python 3",
   "language": "python",
   "name": "python3"
  },
  "language_info": {
   "codemirror_mode": {
    "name": "ipython",
    "version": 3
   },
   "file_extension": ".py",
   "mimetype": "text/x-python",
   "name": "python",
   "nbconvert_exporter": "python",
   "pygments_lexer": "ipython3",
   "version": "3.8.3"
  }
 },
 "nbformat": 4,
 "nbformat_minor": 2
}
