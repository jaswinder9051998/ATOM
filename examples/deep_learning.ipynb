{
 "cells": [
  {
   "cell_type": "markdown",
   "metadata": {},
   "source": [
    "# Deep learning\n",
    "---------------------------\n",
    "\n",
    "This example shows how to use ATOM to train and validate a Convolutional Neural Network implemented with [Keras](https://keras.io/).\n",
    "\n",
    "Import the MNIST dataset from [keras.datasets](https://keras.io/api/datasets/mnist/). This is a well known image dataset with handwritten digits."
   ]
  },
  {
   "cell_type": "markdown",
   "metadata": {},
   "source": [
    "## Load the data"
   ]
  },
  {
   "cell_type": "code",
   "execution_count": 1,
   "metadata": {},
   "outputs": [],
   "source": [
    "# Disable annoying tf warnings\n",
    "import logging\n",
    "import tensorflow as tf\n",
    "tf.get_logger().setLevel(logging.ERROR)\n",
    "\n",
    "# Import standard packages\n",
    "from atom import ATOMClassifier, ATOMModel\n",
    "from skopt.space.space import Integer, Categorical\n",
    "\n",
    "# Keras\n",
    "from keras.datasets import mnist\n",
    "from keras.models import Sequential\n",
    "from keras.layers import Dense, Flatten, Conv2D\n",
    "from keras.wrappers.scikit_learn import KerasClassifier"
   ]
  },
  {
   "cell_type": "code",
   "execution_count": 2,
   "metadata": {},
   "outputs": [],
   "source": [
    "# Create the convolutional neural network\n",
    "def neural_network():\n",
    "    model = Sequential()\n",
    "    model.add(Conv2D(64, kernel_size=3, activation=\"relu\", input_shape=(28, 28, 1)))\n",
    "    model.add(Conv2D(64, kernel_size=3, activation=\"relu\"))\n",
    "    model.add(Flatten())\n",
    "    model.add(Dense(10, activation=\"softmax\"))\n",
    "    model.compile(optimizer=\"adam\", loss=\"categorical_crossentropy\", metrics=[\"accuracy\"])\n",
    "\n",
    "    return model\n",
    "\n",
    "\n",
    "# Since ATOM uses sklearn's API, use Keras' wrapper\n",
    "model = KerasClassifier(neural_network, epochs=1, batch_size=512, verbose=0)\n",
    "\n",
    "# Convert the model to an ATOM model\n",
    "model = ATOMModel(model, acronym=\"NN\", fullname=\"Neural network\")"
   ]
  },
  {
   "cell_type": "code",
   "execution_count": 3,
   "metadata": {},
   "outputs": [],
   "source": [
    "# Download the MNIST dataset\n",
    "(X_train, y_train), (X_test, y_test) = mnist.load_data()"
   ]
  },
  {
   "cell_type": "code",
   "execution_count": 4,
   "metadata": {},
   "outputs": [],
   "source": [
    "# Reshape data to fit model\n",
    "X_train = X_train.reshape(60000,28,28,1)\n",
    "X_test = X_test.reshape(10000,28,28,1)"
   ]
  },
  {
   "cell_type": "markdown",
   "metadata": {},
   "source": [
    "## Run the pipeline"
   ]
  },
  {
   "cell_type": "code",
   "execution_count": 5,
   "metadata": {
    "scrolled": false
   },
   "outputs": [
    {
     "name": "stdout",
     "output_type": "stream",
     "text": [
      "<< ================== ATOM ================== >>\n",
      "Algorithm task: multiclass classification.\n",
      "Parallel processing with 4 cores.\n",
      "\n",
      "Dataset stats ==================== >>\n",
      "Shape: (7000, (28, 28, 1), 2)\n",
      "-------------------------------------\n",
      "Train set size: 6000\n",
      "Test set size: 1000\n",
      "-------------------------------------\n",
      "Train set balance: 0:1:2:3:4:5:6:7:8:9 <==> 1.1:1.4:1.2:1.2:1.2:1.0:1.2:1.3:1.2:1.2\n",
      "Test set balance: 0:1:2:3:4:5:6:7:8:9 <==> 1.0:1.5:1.3:1.3:1.0:1.2:1.0:1.2:1.1:1.2\n",
      "-------------------------------------\n",
      "|    |   dataset |   train |   test |\n",
      "|---:|----------:|--------:|-------:|\n",
      "|  0 |       656 |     568 |     88 |\n",
      "|  1 |       811 |     685 |    126 |\n",
      "|  2 |       723 |     613 |    110 |\n",
      "|  3 |       692 |     585 |    107 |\n",
      "|  4 |       664 |     579 |     85 |\n",
      "|  5 |       606 |     502 |    104 |\n",
      "|  6 |       702 |     615 |     87 |\n",
      "|  7 |       742 |     641 |    101 |\n",
      "|  8 |       705 |     611 |     94 |\n",
      "|  9 |       699 |     601 |     98 |\n",
      "\n"
     ]
    }
   ],
   "source": [
    "atom = ATOMClassifier((X_train, y_train), (X_test, y_test), n_rows=0.1, n_jobs=4, warnings=False, verbose=2)"
   ]
  },
  {
   "cell_type": "code",
   "execution_count": 6,
   "metadata": {},
   "outputs": [
    {
     "name": "stdout",
     "output_type": "stream",
     "text": [
      "                                            Features  target\n",
      "0  [[[0], [0], [0], [0], [0], [0], [0], [0], [0],...       9\n",
      "1  [[[0], [0], [0], [0], [0], [0], [0], [0], [0],...       0\n",
      "2  [[[0], [0], [0], [0], [0], [0], [0], [0], [0],...       5\n",
      "3  [[[0], [0], [0], [0], [0], [0], [0], [0], [0],...       3\n",
      "4  [[[0], [0], [0], [0], [0], [0], [0], [0], [0],...       8\n",
      "\n",
      "Every row in the column contains the data of one image, with shape: (28, 28, 1)\n",
      "This can be seen in atom's shape (n_rows, (shape_image), n_cols): (7000, (28, 28, 1), 2)\n"
     ]
    }
   ],
   "source": [
    "# When the input data has more than 2 dimensions, ATOM creates a \n",
    "# dataset with just one column of shape (n_samples, shape_sample)\n",
    "print(atom.dataset.head())\n",
    "print(f\"\\nEvery row in the column contains the data of one image, with shape: {atom.dataset.iloc[0, 0].shape}\")\n",
    "print(f\"This can be seen in atom's shape (n_rows, (shape_image), n_cols): {atom.shape}\")"
   ]
  },
  {
   "cell_type": "code",
   "execution_count": 7,
   "metadata": {
    "scrolled": false
   },
   "outputs": [
    {
     "name": "stdout",
     "output_type": "stream",
     "text": [
      "\n",
      "Training ===================================== >>\n",
      "Models: NN\n",
      "Metric: f1_weighted\n",
      "\n",
      "\n",
      "Running BO for Neural network...\n",
      "Initial point 1 ---------------------------------\n",
      "Parameters --> {'epochs': 1, 'batch_size': 256}\n",
      "Evaluation --> f1_weighted: 0.8383  Best f1_weighted: 0.8383\n",
      "Time iteration: 4.567s   Total time: 4.571s\n",
      "Initial point 2 ---------------------------------\n",
      "Parameters --> {'epochs': 3, 'batch_size': 64}\n",
      "Evaluation --> f1_weighted: 0.9531  Best f1_weighted: 0.9531\n",
      "Time iteration: 13.686s   Total time: 18.261s\n",
      "Initial point 3 ---------------------------------\n",
      "Parameters --> {'epochs': 3, 'batch_size': 128}\n",
      "Evaluation --> f1_weighted: 0.9650  Best f1_weighted: 0.9650\n",
      "Time iteration: 12.343s   Total time: 30.608s\n",
      "Initial point 4 ---------------------------------\n",
      "Parameters --> {'epochs': 3, 'batch_size': 64}\n",
      "Evaluation --> f1_weighted: 0.9482  Best f1_weighted: 0.9650\n",
      "Time iteration: 13.413s   Total time: 44.025s\n",
      "Initial point 5 ---------------------------------\n",
      "Parameters --> {'epochs': 3, 'batch_size': 256}\n",
      "Evaluation --> f1_weighted: 0.9247  Best f1_weighted: 0.9650\n",
      "Time iteration: 11.906s   Total time: 55.935s\n",
      "\n",
      "Results for Neural network:         \n",
      "Bayesian Optimization ---------------------------\n",
      "Best parameters --> {'epochs': 3, 'batch_size': 128}\n",
      "Best evaluation --> f1_weighted: 0.965\n",
      "Time elapsed: 57.368s\n",
      "Fit ---------------------------------------------\n",
      "Train evaluation --> f1_weighted: 0.9978\n",
      "Test evaluation --> f1_weighted: 0.9489\n",
      "Time elapsed: 16.635s\n",
      "-------------------------------------------------\n",
      "Total time: 1m:14s\n",
      "\n",
      "\n",
      "Final results ========================= >>\n",
      "Duration: 1m:14s\n",
      "------------------------------------------\n",
      "Neural network --> f1_weighted: 0.9489\n"
     ]
    }
   ],
   "source": [
    "# Like any other model, we can define custom dimensions for the bayesian optimization\n",
    "dim = [Integer(1, 3, name=\"epochs\"), Categorical([32, 64, 128, 256], name=\"batch_size\")]\n",
    "\n",
    "atom.run(model, metric=\"f1_weighted\", n_calls=5, bo_params={\"dimensions\": dim, \"cv\": 1, \"max_time\": 120})"
   ]
  },
  {
   "cell_type": "markdown",
   "metadata": {},
   "source": [
    "## Analyze the results"
   ]
  },
  {
   "cell_type": "code",
   "execution_count": 8,
   "metadata": {
    "scrolled": false
   },
   "outputs": [
    {
     "data": {
      "text/plain": [
       "array([[1.4897224e-06, 5.4117449e-10, 1.1748154e-07, ..., 1.2007180e-07,\n",
       "        2.6463531e-04, 4.6529571e-08],\n",
       "       [1.0000000e+00, 1.9961109e-14, 1.6526155e-08, ..., 3.4194327e-12,\n",
       "        2.9235939e-10, 3.0539699e-10],\n",
       "       [4.0663362e-12, 3.1200238e-15, 6.1781608e-11, ..., 1.0150671e-06,\n",
       "        9.2449845e-08, 2.2268687e-06],\n",
       "       ...,\n",
       "       [2.3829648e-07, 8.3723112e-10, 8.3022382e-12, ..., 8.2501588e-09,\n",
       "        8.3555416e-05, 7.2963485e-06],\n",
       "       [1.6683378e-05, 8.7856176e-09, 1.1725149e-06, ..., 2.9677498e-09,\n",
       "        1.9032645e-10, 1.6598709e-09],\n",
       "       [1.3498024e-05, 2.3719608e-07, 1.5766896e-06, ..., 6.9231514e-06,\n",
       "        9.9954671e-01, 1.0082934e-04]], dtype=float32)"
      ]
     },
     "execution_count": 8,
     "metadata": {},
     "output_type": "execute_result"
    }
   ],
   "source": [
    "# Use the prediction methods like any other model\n",
    "atom.nn.predict_proba(X_train)"
   ]
  },
  {
   "cell_type": "code",
   "execution_count": 9,
   "metadata": {
    "pycharm": {
     "name": "#%%\n"
    }
   },
   "outputs": [
    {
     "data": {
      "image/png": "[encoded data removed]",
      "text/plain": [
       "<Figure size 576x432 with 2 Axes>"
      ]
     },
     "metadata": {},
     "output_type": "display_data"
    }
   ],
   "source": [
    "# Or make plots...\n",
    "atom.nn.plot_confusion_matrix()"
   ]
  }
 ],
 "metadata": {
  "kernelspec": {
   "display_name": "Python 3",
   "language": "python",
   "name": "python3"
  },
  "language_info": {
   "codemirror_mode": {
    "name": "ipython",
    "version": 3
   },
   "file_extension": ".py",
   "mimetype": "text/x-python",
   "name": "python",
   "nbconvert_exporter": "python",
   "pygments_lexer": "ipython3",
   "version": "3.8.3"
  }
 },
 "nbformat": 4,
 "nbformat_minor": 2
}
