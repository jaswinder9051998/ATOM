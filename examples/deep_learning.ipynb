{
 "cells": [
  {
   "cell_type": "markdown",
   "metadata": {},
   "source": [
    "# Deep learning\n",
    "---------------------------\n",
    "\n",
    "This example shows how to use ATOM to train and validate a Convolutional Neural Network implemented with [Keras](https://keras.io/).\n",
    "\n",
    "Import the MNIST dataset from [keras.datasets](https://keras.io/api/datasets/mnist/). This is a well known image dataset whose goal is to classify handwritten digits."
   ]
  },
  {
   "cell_type": "markdown",
   "metadata": {},
   "source": [
    "## Load the data"
   ]
  },
  {
   "cell_type": "code",
   "execution_count": 1,
   "metadata": {},
   "outputs": [],
   "source": [
    "# Disable annoying tf warnings\n",
    "import logging\n",
    "import tensorflow as tf\n",
    "tf.get_logger().setLevel(logging.ERROR)\n",
    "\n",
    "# Import standard packages\n",
    "from atom import ATOMClassifier, ATOMModel\n",
    "from skopt.space.space import Categorical\n",
    "\n",
    "# Keras\n",
    "from keras.datasets import mnist\n",
    "from keras.models import Sequential\n",
    "from keras.layers import Dense, Flatten, Conv2D\n",
    "from keras.wrappers.scikit_learn import KerasClassifier"
   ]
  },
  {
   "cell_type": "code",
   "execution_count": 2,
   "metadata": {},
   "outputs": [
    {
     "name": "stderr",
     "output_type": "stream",
     "text": [
      "KerasClassifier is deprecated, use Sci-Keras (https://github.com/adriangb/scikeras) instead.\n"
     ]
    }
   ],
   "source": [
    "# Create the convolutional neural network\n",
    "def neural_network():\n",
    "    model = Sequential()\n",
    "    model.add(\n",
    "        Conv2D(\n",
    "            filters=64,\n",
    "            kernel_size=3,\n",
    "            activation=\"relu\",\n",
    "            input_shape=(28, 28, 1),\n",
    "        )\n",
    "    )\n",
    "    model.add(Conv2D(filters=64, kernel_size=3, activation=\"relu\"))\n",
    "    model.add(Flatten())\n",
    "    model.add(Dense(units=10, activation=\"softmax\"))\n",
    "    model.compile(\n",
    "        optimizer=\"adam\",\n",
    "        loss=\"categorical_crossentropy\",\n",
    "        metrics=[\"accuracy\"],\n",
    "    )\n",
    "\n",
    "    return model\n",
    "\n",
    "\n",
    "# Since ATOM uses sklearn's API, use Keras' wrapper\n",
    "model = KerasClassifier(neural_network, epochs=5, verbose=0)\n",
    "\n",
    "# Convert the model to an ATOM model\n",
    "model = ATOMModel(model, acronym=\"NN\", fullname=\"Neural network\")"
   ]
  },
  {
   "cell_type": "code",
   "execution_count": 3,
   "metadata": {},
   "outputs": [],
   "source": [
    "# Download the MNIST dataset\n",
    "(X_train, y_train), (X_test, y_test) = mnist.load_data()"
   ]
  },
  {
   "cell_type": "code",
   "execution_count": 4,
   "metadata": {},
   "outputs": [],
   "source": [
    "# Reshape data to fit model\n",
    "X_train = X_train.reshape(60000,28,28,1)\n",
    "X_test = X_test.reshape(10000,28,28,1)\n",
    "\n",
    "data = (X_train, y_train), (X_test, y_test)"
   ]
  },
  {
   "cell_type": "markdown",
   "metadata": {},
   "source": [
    "## Run the pipeline"
   ]
  },
  {
   "cell_type": "code",
   "execution_count": 5,
   "metadata": {
    "run_control": {
     "marked": false
    }
   },
   "outputs": [
    {
     "name": "stdout",
     "output_type": "stream",
     "text": [
      "<< ================== ATOM ================== >>\n",
      "Algorithm task: multiclass classification.\n",
      "Parallel processing with 6 cores.\n",
      "\n",
      "Dataset stats ==================== >>\n",
      "Shape: (7000, (28, 28, 1), 2)\n",
      "-------------------------------------\n",
      "Train set size: 6000\n",
      "Test set size: 1000\n",
      "-------------------------------------\n",
      "|    |     dataset |       train |        test |\n",
      "| -- | ----------- | ----------- | ----------- |\n",
      "| 0  |   704 (1.2) |   605 (1.2) |    99 (1.2) |\n",
      "| 1  |   866 (1.5) |   738 (1.4) |   128 (1.5) |\n",
      "| 2  |   675 (1.1) |   580 (1.1) |    95 (1.1) |\n",
      "| 3  |   735 (1.2) |   651 (1.3) |    84 (1.0) |\n",
      "| 4  |   651 (1.1) |   554 (1.1) |    97 (1.2) |\n",
      "| 5  |   593 (1.0) |   509 (1.0) |    84 (1.0) |\n",
      "| 6  |   672 (1.1) |   571 (1.1) |   101 (1.2) |\n",
      "| 7  |   750 (1.3) |   633 (1.2) |   117 (1.4) |\n",
      "| 8  |   647 (1.1) |   558 (1.1) |    89 (1.1) |\n",
      "| 9  |   707 (1.2) |   601 (1.2) |   106 (1.3) |\n",
      "\n"
     ]
    }
   ],
   "source": [
    "atom = ATOMClassifier(*data, n_rows=0.1, n_jobs=6, warnings=False, verbose=2)"
   ]
  },
  {
   "cell_type": "code",
   "execution_count": 6,
   "metadata": {},
   "outputs": [
    {
     "data": {
      "text/plain": "                                    multidim feature  target\n0  [[[0], [0], [0], [0], [0], [0], [0], [0], [0],...       0\n1  [[[0], [0], [0], [0], [0], [0], [0], [0], [0],...       9\n2  [[[0], [0], [0], [0], [0], [0], [0], [0], [0],...       7\n3  [[[0], [0], [0], [0], [0], [0], [0], [0], [0],...       7\n4  [[[0], [0], [0], [0], [0], [0], [0], [0], [0],...       2",
      "text/html": "<div>\n<style scoped>\n    .dataframe tbody tr th:only-of-type {\n        vertical-align: middle;\n    }\n\n    .dataframe tbody tr th {\n        vertical-align: top;\n    }\n\n    .dataframe thead th {\n        text-align: right;\n    }\n</style>\n<table border=\"1\" class=\"dataframe\">\n  <thead>\n    <tr style=\"text-align: right;\">\n      <th></th>\n      <th>multidim feature</th>\n      <th>target</th>\n    </tr>\n  </thead>\n  <tbody>\n    <tr>\n      <th>0</th>\n      <td>[[[0], [0], [0], [0], [0], [0], [0], [0], [0],...</td>\n      <td>0</td>\n    </tr>\n    <tr>\n      <th>1</th>\n      <td>[[[0], [0], [0], [0], [0], [0], [0], [0], [0],...</td>\n      <td>9</td>\n    </tr>\n    <tr>\n      <th>2</th>\n      <td>[[[0], [0], [0], [0], [0], [0], [0], [0], [0],...</td>\n      <td>7</td>\n    </tr>\n    <tr>\n      <th>3</th>\n      <td>[[[0], [0], [0], [0], [0], [0], [0], [0], [0],...</td>\n      <td>7</td>\n    </tr>\n    <tr>\n      <th>4</th>\n      <td>[[[0], [0], [0], [0], [0], [0], [0], [0], [0],...</td>\n      <td>2</td>\n    </tr>\n  </tbody>\n</table>\n</div>"
     },
     "execution_count": 6,
     "metadata": {},
     "output_type": "execute_result"
    }
   ],
   "source": [
    "# When the input data has more than 2 dimensions, ATOM creates a \n",
    "# dataset with just one column of shape (n_samples, shape_sample)\n",
    "atom.head()"
   ]
  },
  {
   "cell_type": "code",
   "execution_count": 7,
   "metadata": {},
   "outputs": [
    {
     "name": "stdout",
     "output_type": "stream",
     "text": [
      "Shape of one image: (28, 28, 1)\n",
      "atom's shape (n_rows, (shape_image), n_cols): (7000, (28, 28, 1), 2)\n"
     ]
    }
   ],
   "source": [
    "# Every row in the column contains the data of one image\n",
    "print(f\"Shape of one image: {atom.iloc[0, 0].shape}\")\n",
    "print(f\"atom's shape (n_rows, (shape_image), n_cols): {atom.shape}\")"
   ]
  },
  {
   "cell_type": "code",
   "execution_count": 8,
   "metadata": {},
   "outputs": [
    {
     "name": "stdout",
     "output_type": "stream",
     "text": [
      "\n",
      "Training ========================= >>\n",
      "Models: NN\n",
      "Metric: f1_weighted\n",
      "\n",
      "\n",
      "Running BO for Neural network...\n",
      "| call             | batch_size | f1_weighted | best_f1_weighted |    time | total_time |\n",
      "| ---------------- | ---------- | ----------- | ---------------- | ------- | ---------- |\n",
      "| Initial point 1  |        128 |      0.9662 |           0.9662 | 23.886s |    23.888s |\n",
      "| Initial point 2  |         64 |      0.9454 |           0.9662 | 24.791s |    49.741s |\n",
      "| Initial point 3  |        128 |      0.9662 |           0.9662 |  0.001s |    49.830s |\n",
      "| Initial point 4  |        256 |      0.9486 |           0.9662 | 23.314s |     1m:13s |\n",
      "| Initial point 5  |        128 |      0.9662 |           0.9662 |  0.000s |     1m:13s |\n",
      "Bayesian Optimization ---------------------------\n",
      "Best call --> Initial point 1\n",
      "Best parameters --> {'batch_size': 128}\n",
      "Best evaluation --> f1_weighted: 0.9662\n",
      "Time elapsed: 1m:14s\n",
      "Fit ---------------------------------------------\n",
      "Train evaluation --> f1_weighted: 1.0\n",
      "Test evaluation --> f1_weighted: 0.9631\n",
      "Time elapsed: 31.898s\n",
      "-------------------------------------------------\n",
      "Total time: 1m:45s\n",
      "\n",
      "\n",
      "Final results ==================== >>\n",
      "Duration: 1m:45s\n",
      "-------------------------------------\n",
      "Neural network --> f1_weighted: 0.9631\n"
     ]
    }
   ],
   "source": [
    "# Like any other model, we can define custom dimensions for the bayesian optimization\n",
    "atom.run(\n",
    "    models=model,\n",
    "    metric=\"f1_weighted\",\n",
    "    n_calls=5,\n",
    "    bo_params={\n",
    "        \"dimensions\": [Categorical([32, 64, 128, 256], name=\"batch_size\")],\n",
    "        \"max_time\": 120,\n",
    "    }\n",
    ")"
   ]
  },
  {
   "cell_type": "markdown",
   "metadata": {},
   "source": [
    "## Analyze the results"
   ]
  },
  {
   "cell_type": "code",
   "execution_count": 9,
   "metadata": {},
   "outputs": [
    {
     "data": {
      "text/plain": "array([[1.9205517e-15, 6.5043003e-14, 1.0426988e-12, ..., 3.3506364e-11,\n        1.7158155e-07, 1.2613390e-11],\n       [1.0000000e+00, 5.7204127e-16, 6.8984618e-09, ..., 4.4634142e-16,\n        6.6067020e-11, 1.2678950e-15],\n       [3.0911400e-14, 1.3124686e-10, 5.6011748e-07, ..., 2.9245464e-06,\n        7.6368070e-07, 1.1229289e-06],\n       ...,\n       [5.1028570e-19, 2.4547205e-17, 6.2792347e-18, ..., 4.0264936e-20,\n        5.4154053e-10, 3.6961523e-12],\n       [6.2544734e-09, 3.7835256e-11, 2.7829955e-10, ..., 5.2501321e-14,\n        5.3578517e-13, 1.4857812e-19],\n       [9.8528608e-04, 3.2209730e-08, 2.1785033e-04, ..., 2.2685040e-06,\n        9.8735136e-01, 4.1158847e-03]], dtype=float32)"
     },
     "execution_count": 9,
     "metadata": {},
     "output_type": "execute_result"
    }
   ],
   "source": [
    "# Use the prediction methods like any other model\n",
    "atom.nn.predict_proba(X_train)"
   ]
  },
  {
   "cell_type": "code",
   "execution_count": 10,
   "metadata": {
    "pycharm": {
     "name": "#%%\n"
    }
   },
   "outputs": [
    {
     "data": {
      "text/plain": "<Figure size 576x432 with 2 Axes>",
      "image/png": "[encoded data removed]"
     },
     "metadata": {},
     "output_type": "display_data"
    }
   ],
   "source": [
    "# Or make plots...\n",
    "atom.nn.plot_confusion_matrix()"
   ]
  }
 ],
 "metadata": {
  "kernelspec": {
   "display_name": "Python 3 (ipykernel)",
   "language": "python",
   "name": "python3"
  },
  "language_info": {
   "codemirror_mode": {
    "name": "ipython",
    "version": 3
   },
   "file_extension": ".py",
   "mimetype": "text/x-python",
   "name": "python",
   "nbconvert_exporter": "python",
   "pygments_lexer": "ipython3",
   "version": "3.8.3"
  },
  "toc": {
   "base_numbering": 1,
   "nav_menu": {},
   "number_sections": true,
   "sideBar": true,
   "skip_h1_title": false,
   "title_cell": "Table of Contents",
   "title_sidebar": "Contents",
   "toc_cell": false,
   "toc_position": {},
   "toc_section_display": true,
   "toc_window_display": false
  }
 },
 "nbformat": 4,
 "nbformat_minor": 4
}