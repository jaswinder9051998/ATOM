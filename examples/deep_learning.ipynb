{
 "cells": [
  {
   "cell_type": "markdown",
   "metadata": {},
   "source": [
    "# Deep learning\n",
    "---------------------------\n",
    "\n",
    "This example shows how to use ATOM to train and validate a Convolutional Neural Network implemented with [Keras](https://keras.io/).\n",
    "\n",
    "Import the MNIST dataset from [keras.datasets](https://keras.io/api/datasets/mnist/). This is a well known image dataset with handwritten digits."
   ]
  },
  {
   "cell_type": "markdown",
   "metadata": {},
   "source": [
    "## Load the data"
   ]
  },
  {
   "cell_type": "code",
   "execution_count": 1,
   "metadata": {},
   "outputs": [],
   "source": [
    "# Disable annoying tf warnings\n",
    "import logging\n",
    "import tensorflow as tf\n",
    "tf.get_logger().setLevel(logging.ERROR)\n",
    "\n",
    "# Import standard packages\n",
    "from atom import ATOMClassifier, ATOMModel\n",
    "from skopt.space.space import Integer, Categorical\n",
    "\n",
    "# Keras\n",
    "from keras.datasets import mnist\n",
    "from keras.models import Sequential\n",
    "from keras.layers import Dense, Flatten, Conv2D\n",
    "from keras.wrappers.scikit_learn import KerasClassifier"
   ]
  },
  {
   "cell_type": "code",
   "execution_count": 2,
   "metadata": {},
   "outputs": [],
   "source": [
    "# Create the convolutional neural network\n",
    "def neural_network():\n",
    "    model = Sequential()\n",
    "    model.add(Conv2D(64, kernel_size=3, activation=\"relu\", input_shape=(28, 28, 1)))\n",
    "    model.add(Conv2D(64, kernel_size=3, activation=\"relu\"))\n",
    "    model.add(Flatten())\n",
    "    model.add(Dense(10, activation=\"softmax\"))\n",
    "    model.compile(optimizer=\"adam\", loss=\"categorical_crossentropy\", metrics=[\"accuracy\"])\n",
    "\n",
    "    return model\n",
    "\n",
    "\n",
    "# Since ATOM uses sklearn's API, use Keras' wrapper\n",
    "model = KerasClassifier(neural_network, epochs=1, batch_size=512, verbose=0)\n",
    "\n",
    "# Convert the model to an ATOM model\n",
    "model = ATOMModel(model, acronym=\"NN\", fullname=\"Neural network\")"
   ]
  },
  {
   "cell_type": "code",
   "execution_count": 3,
   "metadata": {},
   "outputs": [],
   "source": [
    "# Download the MNIST dataset\n",
    "(X_train, y_train), (X_test, y_test) = mnist.load_data()"
   ]
  },
  {
   "cell_type": "code",
   "execution_count": 4,
   "metadata": {},
   "outputs": [],
   "source": [
    "# Reshape data to fit model\n",
    "X_train = X_train.reshape(60000,28,28,1)\n",
    "X_test = X_test.reshape(10000,28,28,1)"
   ]
  },
  {
   "cell_type": "markdown",
   "metadata": {},
   "source": [
    "## Run the pipeline"
   ]
  },
  {
   "cell_type": "code",
   "execution_count": 5,
   "metadata": {
    "scrolled": false
   },
   "outputs": [
    {
     "name": "stdout",
     "output_type": "stream",
     "text": [
      "<< ================== ATOM ================== >>\n",
      "Algorithm task: multiclass classification.\n",
      "Parallel processing with 4 cores.\n",
      "\n",
      "Dataset stats ====================== >>\n",
      "Shape: (7000, (28, 28, 1), 2)\n",
      "---------------------------------------\n",
      "Train set size: 6000\n",
      "Test set size: 1000\n",
      "---------------------------------------\n",
      "|    | dataset   | train     | test      |\n",
      "|---:|:----------|:----------|:----------|\n",
      "|  0 | 703 (1.1) | 603 (1.1) | 100 (1.3) |\n",
      "|  1 | 795 (1.2) | 679 (1.2) | 116 (1.5) |\n",
      "|  2 | 691 (1.1) | 612 (1.1) | 79 (1.0)  |\n",
      "|  3 | 725 (1.1) | 609 (1.1) | 116 (1.5) |\n",
      "|  4 | 645 (1.0) | 557 (1.0) | 88 (1.1)  |\n",
      "|  5 | 640 (1.0) | 550 (1.0) | 90 (1.1)  |\n",
      "|  6 | 729 (1.1) | 627 (1.1) | 102 (1.3) |\n",
      "|  7 | 703 (1.1) | 605 (1.1) | 98 (1.2)  |\n",
      "|  8 | 685 (1.1) | 577 (1.0) | 108 (1.4) |\n",
      "|  9 | 684 (1.1) | 581 (1.1) | 103 (1.3) |\n",
      "\n"
     ]
    }
   ],
   "source": [
    "atom = ATOMClassifier((X_train, y_train), (X_test, y_test), n_rows=0.1, n_jobs=4, warnings=False, verbose=2)"
   ]
  },
  {
   "cell_type": "code",
   "execution_count": 6,
   "metadata": {},
   "outputs": [
    {
     "name": "stdout",
     "output_type": "stream",
     "text": [
      "                            Multidimensional feature  Target\n",
      "0  [[[0], [0], [0], [0], [0], [0], [0], [0], [0],...       1\n",
      "1  [[[0], [0], [0], [0], [0], [0], [0], [0], [0],...       6\n",
      "2  [[[0], [0], [0], [0], [0], [0], [0], [0], [0],...       2\n",
      "3  [[[0], [0], [0], [0], [0], [0], [0], [0], [0],...       7\n",
      "4  [[[0], [0], [0], [0], [0], [0], [0], [0], [0],...       5\n",
      "\n",
      "Every row in the column contains the data of one image, with shape: (28, 28, 1)\n",
      "This can be seen in atom's shape (n_rows, (shape_image), n_cols): (7000, (28, 28, 1), 2)\n"
     ]
    }
   ],
   "source": [
    "# When the input data has more than 2 dimensions, ATOM creates a \n",
    "# dataset with just one column of shape (n_samples, shape_sample)\n",
    "print(atom.dataset.head())\n",
    "print(f\"\\nEvery row in the column contains the data of one image, with shape: {atom.dataset.iloc[0, 0].shape}\")\n",
    "print(f\"This can be seen in atom's shape (n_rows, (shape_image), n_cols): {atom.shape}\")"
   ]
  },
  {
   "cell_type": "code",
   "execution_count": 7,
   "metadata": {
    "scrolled": false
   },
   "outputs": [
    {
     "name": "stdout",
     "output_type": "stream",
     "text": [
      "\n",
      "Training ===================================== >>\n",
      "Models: NN\n",
      "Metric: f1_weighted\n",
      "\n",
      "\n",
      "Running BO for Neural network...\n",
      "Initial point 1 ---------------------------------\n",
      "Parameters --> {'epochs': 2, 'batch_size': 64}\n",
      "Evaluation --> f1_weighted: 0.9354  Best f1_weighted: 0.9354\n",
      "Time iteration: 18.521s   Total time: 18.525s\n",
      "Initial point 2 ---------------------------------\n",
      "Parameters --> {'epochs': 1, 'batch_size': 128}\n",
      "Evaluation --> f1_weighted: 0.9197  Best f1_weighted: 0.9354\n",
      "Time iteration: 4.558s   Total time: 23.209s\n",
      "Initial point 3 ---------------------------------\n",
      "Parameters --> {'epochs': 1, 'batch_size': 128}\n",
      "Evaluation --> f1_weighted: 0.9324  Best f1_weighted: 0.9354\n",
      "Time iteration: 4.551s   Total time: 27.787s\n",
      "Initial point 4 ---------------------------------\n",
      "Parameters --> {'epochs': 2, 'batch_size': 64}\n",
      "Evaluation --> f1_weighted: 0.9447  Best f1_weighted: 0.9447\n",
      "Time iteration: 8.954s   Total time: 36.752s\n",
      "Initial point 5 ---------------------------------\n",
      "Parameters --> {'epochs': 2, 'batch_size': 128}\n",
      "Evaluation --> f1_weighted: 0.9412  Best f1_weighted: 0.9447\n",
      "Time iteration: 8.497s   Total time: 45.270s\n",
      "\n",
      "Results for Neural network:         \n",
      "Bayesian Optimization ---------------------------\n",
      "Best parameters --> {'epochs': 2, 'batch_size': 64}\n",
      "Best evaluation --> f1_weighted: 0.9447\n",
      "Time elapsed: 46.775s\n",
      "Fit ---------------------------------------------\n",
      "Train evaluation --> f1_weighted: 0.9933\n",
      "Test evaluation --> f1_weighted: 0.9558\n",
      "Time elapsed: 11.967s\n",
      "-------------------------------------------------\n",
      "Total time: 58.742s\n",
      "\n",
      "\n",
      "Final results ========================= >>\n",
      "Duration: 58.742s\n",
      "------------------------------------------\n",
      "Neural network --> f1_weighted: 0.9558\n"
     ]
    }
   ],
   "source": [
    "# Like any other model, we can define custom dimensions for the bayesian optimization\n",
    "dim = [Integer(1, 3, name=\"epochs\"), Categorical([32, 64, 128, 256], name=\"batch_size\")]\n",
    "\n",
    "atom.run(model, metric=\"f1_weighted\", n_calls=5, bo_params={\"dimensions\": dim, \"cv\": 1, \"max_time\": 120})"
   ]
  },
  {
   "cell_type": "markdown",
   "metadata": {},
   "source": [
    "## Analyze the results"
   ]
  },
  {
   "cell_type": "code",
   "execution_count": 8,
   "metadata": {
    "scrolled": false
   },
   "outputs": [
    {
     "data": {
      "text/plain": [
       "array([[1.5616496e-07, 5.3959901e-08, 2.1707820e-09, ..., 9.1047106e-05,\n",
       "        5.5635996e-06, 5.1732041e-08],\n",
       "       [9.9999964e-01, 1.5448963e-12, 2.1945819e-07, ..., 7.3680781e-09,\n",
       "        1.8800412e-08, 1.1771864e-08],\n",
       "       [4.5815549e-10, 3.0286182e-12, 5.4619996e-08, ..., 1.6488890e-05,\n",
       "        6.6868910e-05, 3.9890820e-06],\n",
       "       ...,\n",
       "       [4.7990194e-09, 1.2956209e-09, 2.0525961e-13, ..., 2.4054803e-12,\n",
       "        8.1172851e-07, 2.6179091e-06],\n",
       "       [1.7111364e-03, 2.2890270e-10, 6.5999418e-05, ..., 1.2977836e-07,\n",
       "        4.0744962e-06, 5.3302363e-09],\n",
       "       [1.3362718e-03, 1.1138687e-05, 1.5611190e-03, ..., 8.9563131e-03,\n",
       "        9.6595865e-01, 2.0727552e-02]], dtype=float32)"
      ]
     },
     "execution_count": 8,
     "metadata": {},
     "output_type": "execute_result"
    }
   ],
   "source": [
    "# Use the prediction methods like any other model\n",
    "atom.nn.predict_proba(X_train)"
   ]
  },
  {
   "cell_type": "code",
   "execution_count": 9,
   "metadata": {
    "pycharm": {
     "name": "#%%\n"
    }
   },
   "outputs": [
    {
     "data": {
      "image/png": "[encoded data removed]",
      "text/plain": [
       "<Figure size 576x432 with 2 Axes>"
      ]
     },
     "metadata": {},
     "output_type": "display_data"
    }
   ],
   "source": [
    "# Or make plots...\n",
    "atom.nn.plot_confusion_matrix()"
   ]
  }
 ],
 "metadata": {
  "kernelspec": {
   "display_name": "Python 3",
   "language": "python",
   "name": "python3"
  },
  "language_info": {
   "codemirror_mode": {
    "name": "ipython",
    "version": 3
   },
   "file_extension": ".py",
   "mimetype": "text/x-python",
   "name": "python",
   "nbconvert_exporter": "python",
   "pygments_lexer": "ipython3",
   "version": "3.8.3"
  }
 },
 "nbformat": 4,
 "nbformat_minor": 2
}
