{
 "cells": [
  {
   "cell_type": "markdown",
   "metadata": {},
   "source": [
    "# Imbalanced datasets\n",
    "------------------------------------\n",
    "\n",
    "This example shows how to test different approaches to handle imbalanced datasets.\n",
    "\n",
    "The data used is a variation on the Australian weather dataset from [https://www.kaggle.com/jsphyg/weather-dataset-rattle-package](https://www.kaggle.com/jsphyg/weather-dataset-rattle-package). The goal of this dataset is to predict whether or not it will rain tomorrow training a binary classifier on target `RainTomorrow`."
   ]
  },
  {
   "cell_type": "markdown",
   "metadata": {},
   "source": [
    "## Load the data"
   ]
  },
  {
   "cell_type": "code",
   "execution_count": 1,
   "metadata": {},
   "outputs": [],
   "source": [
    "# Import packages\n",
    "import pandas as pd\n",
    "from atom import ATOMClassifier"
   ]
  },
  {
   "cell_type": "code",
   "execution_count": 2,
   "metadata": {},
   "outputs": [
    {
     "data": {
      "text/html": [
       "<div>\n",
       "<style scoped>\n",
       "    .dataframe tbody tr th:only-of-type {\n",
       "        vertical-align: middle;\n",
       "    }\n",
       "\n",
       "    .dataframe tbody tr th {\n",
       "        vertical-align: top;\n",
       "    }\n",
       "\n",
       "    .dataframe thead th {\n",
       "        text-align: right;\n",
       "    }\n",
       "</style>\n",
       "<table border=\"1\" class=\"dataframe\">\n",
       "  <thead>\n",
       "    <tr style=\"text-align: right;\">\n",
       "      <th></th>\n",
       "      <th>Location</th>\n",
       "      <th>MinTemp</th>\n",
       "      <th>MaxTemp</th>\n",
       "      <th>Rainfall</th>\n",
       "      <th>Evaporation</th>\n",
       "      <th>Sunshine</th>\n",
       "      <th>WindGustDir</th>\n",
       "      <th>WindGustSpeed</th>\n",
       "      <th>WindDir9am</th>\n",
       "      <th>WindDir3pm</th>\n",
       "      <th>...</th>\n",
       "      <th>Humidity9am</th>\n",
       "      <th>Humidity3pm</th>\n",
       "      <th>Pressure9am</th>\n",
       "      <th>Pressure3pm</th>\n",
       "      <th>Cloud9am</th>\n",
       "      <th>Cloud3pm</th>\n",
       "      <th>Temp9am</th>\n",
       "      <th>Temp3pm</th>\n",
       "      <th>RainToday</th>\n",
       "      <th>RainTomorrow</th>\n",
       "    </tr>\n",
       "  </thead>\n",
       "  <tbody>\n",
       "    <tr>\n",
       "      <th>0</th>\n",
       "      <td>Albury</td>\n",
       "      <td>13.4</td>\n",
       "      <td>22.9</td>\n",
       "      <td>0.6</td>\n",
       "      <td>NaN</td>\n",
       "      <td>NaN</td>\n",
       "      <td>W</td>\n",
       "      <td>44.0</td>\n",
       "      <td>W</td>\n",
       "      <td>WNW</td>\n",
       "      <td>...</td>\n",
       "      <td>71.0</td>\n",
       "      <td>22.0</td>\n",
       "      <td>1007.7</td>\n",
       "      <td>1007.1</td>\n",
       "      <td>8.0</td>\n",
       "      <td>NaN</td>\n",
       "      <td>16.9</td>\n",
       "      <td>21.8</td>\n",
       "      <td>No</td>\n",
       "      <td>No</td>\n",
       "    </tr>\n",
       "    <tr>\n",
       "      <th>1</th>\n",
       "      <td>Albury</td>\n",
       "      <td>7.4</td>\n",
       "      <td>25.1</td>\n",
       "      <td>0.0</td>\n",
       "      <td>NaN</td>\n",
       "      <td>NaN</td>\n",
       "      <td>WNW</td>\n",
       "      <td>44.0</td>\n",
       "      <td>NNW</td>\n",
       "      <td>WSW</td>\n",
       "      <td>...</td>\n",
       "      <td>44.0</td>\n",
       "      <td>25.0</td>\n",
       "      <td>1010.6</td>\n",
       "      <td>1007.8</td>\n",
       "      <td>NaN</td>\n",
       "      <td>NaN</td>\n",
       "      <td>17.2</td>\n",
       "      <td>24.3</td>\n",
       "      <td>No</td>\n",
       "      <td>No</td>\n",
       "    </tr>\n",
       "    <tr>\n",
       "      <th>2</th>\n",
       "      <td>Albury</td>\n",
       "      <td>12.9</td>\n",
       "      <td>25.7</td>\n",
       "      <td>0.0</td>\n",
       "      <td>NaN</td>\n",
       "      <td>NaN</td>\n",
       "      <td>WSW</td>\n",
       "      <td>46.0</td>\n",
       "      <td>W</td>\n",
       "      <td>WSW</td>\n",
       "      <td>...</td>\n",
       "      <td>38.0</td>\n",
       "      <td>30.0</td>\n",
       "      <td>1007.6</td>\n",
       "      <td>1008.7</td>\n",
       "      <td>NaN</td>\n",
       "      <td>2.0</td>\n",
       "      <td>21.0</td>\n",
       "      <td>23.2</td>\n",
       "      <td>No</td>\n",
       "      <td>No</td>\n",
       "    </tr>\n",
       "    <tr>\n",
       "      <th>3</th>\n",
       "      <td>Albury</td>\n",
       "      <td>9.2</td>\n",
       "      <td>28.0</td>\n",
       "      <td>0.0</td>\n",
       "      <td>NaN</td>\n",
       "      <td>NaN</td>\n",
       "      <td>NE</td>\n",
       "      <td>24.0</td>\n",
       "      <td>SE</td>\n",
       "      <td>E</td>\n",
       "      <td>...</td>\n",
       "      <td>45.0</td>\n",
       "      <td>16.0</td>\n",
       "      <td>1017.6</td>\n",
       "      <td>1012.8</td>\n",
       "      <td>NaN</td>\n",
       "      <td>NaN</td>\n",
       "      <td>18.1</td>\n",
       "      <td>26.5</td>\n",
       "      <td>No</td>\n",
       "      <td>No</td>\n",
       "    </tr>\n",
       "    <tr>\n",
       "      <th>4</th>\n",
       "      <td>Albury</td>\n",
       "      <td>17.5</td>\n",
       "      <td>32.3</td>\n",
       "      <td>1.0</td>\n",
       "      <td>NaN</td>\n",
       "      <td>NaN</td>\n",
       "      <td>W</td>\n",
       "      <td>41.0</td>\n",
       "      <td>ENE</td>\n",
       "      <td>NW</td>\n",
       "      <td>...</td>\n",
       "      <td>82.0</td>\n",
       "      <td>33.0</td>\n",
       "      <td>1010.8</td>\n",
       "      <td>1006.0</td>\n",
       "      <td>7.0</td>\n",
       "      <td>8.0</td>\n",
       "      <td>17.8</td>\n",
       "      <td>29.7</td>\n",
       "      <td>No</td>\n",
       "      <td>No</td>\n",
       "    </tr>\n",
       "  </tbody>\n",
       "</table>\n",
       "<p>5 rows × 22 columns</p>\n",
       "</div>"
      ],
      "text/plain": [
       "  Location  MinTemp  MaxTemp  Rainfall  Evaporation  Sunshine WindGustDir  \\\n",
       "0   Albury     13.4     22.9       0.6          NaN       NaN           W   \n",
       "1   Albury      7.4     25.1       0.0          NaN       NaN         WNW   \n",
       "2   Albury     12.9     25.7       0.0          NaN       NaN         WSW   \n",
       "3   Albury      9.2     28.0       0.0          NaN       NaN          NE   \n",
       "4   Albury     17.5     32.3       1.0          NaN       NaN           W   \n",
       "\n",
       "   WindGustSpeed WindDir9am WindDir3pm  ...  Humidity9am  Humidity3pm  \\\n",
       "0           44.0          W        WNW  ...         71.0         22.0   \n",
       "1           44.0        NNW        WSW  ...         44.0         25.0   \n",
       "2           46.0          W        WSW  ...         38.0         30.0   \n",
       "3           24.0         SE          E  ...         45.0         16.0   \n",
       "4           41.0        ENE         NW  ...         82.0         33.0   \n",
       "\n",
       "   Pressure9am  Pressure3pm  Cloud9am  Cloud3pm  Temp9am  Temp3pm  RainToday  \\\n",
       "0       1007.7       1007.1       8.0       NaN     16.9     21.8         No   \n",
       "1       1010.6       1007.8       NaN       NaN     17.2     24.3         No   \n",
       "2       1007.6       1008.7       NaN       2.0     21.0     23.2         No   \n",
       "3       1017.6       1012.8       NaN       NaN     18.1     26.5         No   \n",
       "4       1010.8       1006.0       7.0       8.0     17.8     29.7         No   \n",
       "\n",
       "   RainTomorrow  \n",
       "0            No  \n",
       "1            No  \n",
       "2            No  \n",
       "3            No  \n",
       "4            No  \n",
       "\n",
       "[5 rows x 22 columns]"
      ]
     },
     "execution_count": 2,
     "metadata": {},
     "output_type": "execute_result"
    }
   ],
   "source": [
    "# Load data\n",
    "X = pd.read_csv(\"./datasets/weatherAUS.csv\")\n",
    "\n",
    "# Let's have a look at the data\n",
    "X.head()"
   ]
  },
  {
   "cell_type": "markdown",
   "metadata": {},
   "source": [
    "## Run the pipeline"
   ]
  },
  {
   "cell_type": "code",
   "execution_count": 3,
   "metadata": {},
   "outputs": [
    {
     "name": "stdout",
     "output_type": "stream",
     "text": [
      "<< ================== ATOM ================== >>\n",
      "Algorithm task: binary classification.\n",
      "\n",
      "Dataset stats ==================== >>\n",
      "Shape: (42658, 22)\n",
      "Scaled: False\n",
      "Missing values: 95216 (10.1%)\n",
      "Categorical features: 5 (22.7%)\n",
      "Duplicate samples: 10 (0.0%)\n",
      "-------------------------------------\n",
      "Train set size: 29861\n",
      "Test set size: 12797\n",
      "-------------------------------------\n",
      "Train set balance: No:Yes <==> 3.5:1.0\n",
      "Test set balance: No:Yes <==> 3.4:1.0\n",
      "-------------------------------------\n",
      "|     |   dataset |   train |   test |\n",
      "|:----|----------:|--------:|-------:|\n",
      "| No  |     33139 |   23247 |   9892 |\n",
      "| Yes |      9519 |    6614 |   2905 |\n",
      "\n",
      "Applying data cleaning...\n",
      " --> Label-encoding the target column.\n",
      "Fitting Imputer...\n",
      "Imputing missing values...\n",
      " --> Dropping 191 samples due to missing values in feature MinTemp.\n",
      " --> Dropping 69 samples due to missing values in feature MaxTemp.\n",
      " --> Dropping 373 samples due to missing values in feature Rainfall.\n",
      " --> Dropping 17768 samples due to missing values in feature Evaporation.\n",
      " --> Dropping 3229 samples due to missing values in feature Sunshine.\n",
      " --> Dropping 1258 samples due to missing values in feature WindGustDir.\n",
      " --> Dropping 655 samples due to missing values in feature WindDir9am.\n",
      " --> Dropping 69 samples due to missing values in feature WindDir3pm.\n",
      " --> Dropping 73 samples due to missing values in feature Humidity9am.\n",
      " --> Dropping 20 samples due to missing values in feature Humidity3pm.\n",
      " --> Dropping 18 samples due to missing values in feature Pressure9am.\n",
      " --> Dropping 5 samples due to missing values in feature Pressure3pm.\n",
      " --> Dropping 1609 samples due to missing values in feature Cloud9am.\n",
      " --> Dropping 426 samples due to missing values in feature Cloud3pm.\n",
      "Fitting Encoder...\n",
      "Encoding categorical columns...\n",
      " --> LeaveOneOut-encoding feature Location. Contains 26 classes.\n",
      " --> LeaveOneOut-encoding feature WindGustDir. Contains 16 classes.\n",
      " --> LeaveOneOut-encoding feature WindDir9am. Contains 16 classes.\n",
      " --> LeaveOneOut-encoding feature WindDir3pm. Contains 16 classes.\n",
      " --> Ordinal-encoding feature RainToday. Contains 2 classes.\n"
     ]
    }
   ],
   "source": [
    "# Initialize ATOM with the created dataset\n",
    "atom = ATOMClassifier(X, n_rows=0.3, test_size=0.3, verbose=2, random_state=1)\n",
    "atom.clean()\n",
    "atom.impute()\n",
    "atom.encode()"
   ]
  },
  {
   "cell_type": "code",
   "execution_count": 4,
   "metadata": {},
   "outputs": [
    {
     "name": "stdout",
     "output_type": "stream",
     "text": [
      "\n",
      "Training ===================================== >>\n",
      "Models: LR\n",
      "Metric: f1\n",
      "\n",
      "\n",
      "Results for Logistic Regression:         \n",
      "Fit ---------------------------------------------\n",
      "Train evaluation --> f1: 0.6174\n",
      "Test evaluation --> f1: 0.6096\n",
      "Time elapsed: 0.092s\n",
      "Bagging -----------------------------------------\n",
      "Evaluation --> f1: 0.6078 ± 0.0048\n",
      "Time elapsed: 0.374s\n",
      "-------------------------------------------------\n",
      "Total time: 0.466s\n",
      "\n",
      "\n",
      "Final results ========================= >>\n",
      "Duration: 0.466s\n",
      "------------------------------------------\n",
      "Logistic Regression --> f1: 0.6078 ± 0.0048\n"
     ]
    }
   ],
   "source": [
    "# First, we fit a logistic regression model directly on the imbalanced data\n",
    "atom.run(\"LR\", metric=\"f1\", bagging=5)"
   ]
  },
  {
   "cell_type": "markdown",
   "metadata": {},
   "source": [
    "## Class weights"
   ]
  },
  {
   "cell_type": "code",
   "execution_count": 5,
   "metadata": {},
   "outputs": [
    {
     "name": "stdout",
     "output_type": "stream",
     "text": [
      "\n",
      "Training ===================================== >>\n",
      "Models: LR_cw\n",
      "Metric: f1\n",
      "\n",
      "\n",
      "Results for Logistic Regression:         \n",
      "Fit ---------------------------------------------\n",
      "Train evaluation --> f1: 0.6449\n",
      "Test evaluation --> f1: 0.6472\n",
      "Time elapsed: 0.080s\n",
      "Bagging -----------------------------------------\n",
      "Evaluation --> f1: 0.6483 ± 0.0014\n",
      "Time elapsed: 0.344s\n",
      "-------------------------------------------------\n",
      "Total time: 0.425s\n",
      "\n",
      "\n",
      "Final results ========================= >>\n",
      "Duration: 0.425s\n",
      "------------------------------------------\n",
      "Logistic Regression --> f1: 0.6483 ± 0.0014\n"
     ]
    }
   ],
   "source": [
    "# Add class weights through the est_params parameter\n",
    "atom.run(\"LR_cw\", est_params={\"class_weight\": atom.get_class_weight()}, bagging=5)"
   ]
  },
  {
   "cell_type": "markdown",
   "metadata": {},
   "source": [
    "## Oversampling & undersampling"
   ]
  },
  {
   "cell_type": "code",
   "execution_count": 6,
   "metadata": {},
   "outputs": [
    {
     "name": "stdout",
     "output_type": "stream",
     "text": [
      "New branch oversampling successfully created!\n"
     ]
    }
   ],
   "source": [
    "# Create a new branch for oversampling\n",
    "atom.branch = \"oversampling\""
   ]
  },
  {
   "cell_type": "code",
   "execution_count": 7,
   "metadata": {},
   "outputs": [
    {
     "name": "stdout",
     "output_type": "stream",
     "text": [
      "Oversampling with SMOTE...\n",
      " --> Adding 5830 samples to class: Yes.\n"
     ]
    }
   ],
   "source": [
    "# Perform oversampling of the minority class\n",
    "atom.balance(strategy=\"smote\", sampling_strategy=0.9)"
   ]
  },
  {
   "cell_type": "code",
   "execution_count": 8,
   "metadata": {
    "scrolled": true
   },
   "outputs": [
    {
     "data": {
      "text/html": [
       "<div>\n",
       "<style scoped>\n",
       "    .dataframe tbody tr th:only-of-type {\n",
       "        vertical-align: middle;\n",
       "    }\n",
       "\n",
       "    .dataframe tbody tr th {\n",
       "        vertical-align: top;\n",
       "    }\n",
       "\n",
       "    .dataframe thead th {\n",
       "        text-align: right;\n",
       "    }\n",
       "</style>\n",
       "<table border=\"1\" class=\"dataframe\">\n",
       "  <thead>\n",
       "    <tr style=\"text-align: right;\">\n",
       "      <th></th>\n",
       "      <th>dataset</th>\n",
       "      <th>train</th>\n",
       "      <th>test</th>\n",
       "    </tr>\n",
       "  </thead>\n",
       "  <tbody>\n",
       "    <tr>\n",
       "      <th>0</th>\n",
       "      <td>13189</td>\n",
       "      <td>9317</td>\n",
       "      <td>3872</td>\n",
       "    </tr>\n",
       "    <tr>\n",
       "      <th>1</th>\n",
       "      <td>9536</td>\n",
       "      <td>8385</td>\n",
       "      <td>1151</td>\n",
       "    </tr>\n",
       "  </tbody>\n",
       "</table>\n",
       "</div>"
      ],
      "text/plain": [
       "   dataset  train  test\n",
       "0    13189   9317  3872\n",
       "1     9536   8385  1151"
      ]
     },
     "execution_count": 8,
     "metadata": {},
     "output_type": "execute_result"
    }
   ],
   "source": [
    "atom.classes  # Note the balanced training set!"
   ]
  },
  {
   "cell_type": "code",
   "execution_count": 9,
   "metadata": {},
   "outputs": [
    {
     "name": "stdout",
     "output_type": "stream",
     "text": [
      "\n",
      "Training ===================================== >>\n",
      "Models: LR_os\n",
      "Metric: f1\n",
      "\n",
      "\n",
      "Results for Logistic Regression:         \n",
      "Fit ---------------------------------------------\n",
      "Train evaluation --> f1: 0.7918\n",
      "Test evaluation --> f1: 0.6505\n",
      "Time elapsed: 0.111s\n",
      "Bagging -----------------------------------------\n",
      "Evaluation --> f1: 0.6489 ± 0.0031\n",
      "Time elapsed: 0.408s\n",
      "-------------------------------------------------\n",
      "Total time: 0.519s\n",
      "\n",
      "\n",
      "Final results ========================= >>\n",
      "Duration: 0.519s\n",
      "------------------------------------------\n",
      "Logistic Regression --> f1: 0.6489 ± 0.0031\n"
     ]
    }
   ],
   "source": [
    "atom.run(\"LR_os\", bagging=5)"
   ]
  },
  {
   "cell_type": "code",
   "execution_count": 10,
   "metadata": {},
   "outputs": [
    {
     "name": "stdout",
     "output_type": "stream",
     "text": [
      "New branch undersampling successfully created!\n"
     ]
    },
    {
     "data": {
      "text/html": [
       "<div>\n",
       "<style scoped>\n",
       "    .dataframe tbody tr th:only-of-type {\n",
       "        vertical-align: middle;\n",
       "    }\n",
       "\n",
       "    .dataframe tbody tr th {\n",
       "        vertical-align: top;\n",
       "    }\n",
       "\n",
       "    .dataframe thead th {\n",
       "        text-align: right;\n",
       "    }\n",
       "</style>\n",
       "<table border=\"1\" class=\"dataframe\">\n",
       "  <thead>\n",
       "    <tr style=\"text-align: right;\">\n",
       "      <th></th>\n",
       "      <th>dataset</th>\n",
       "      <th>train</th>\n",
       "      <th>test</th>\n",
       "    </tr>\n",
       "  </thead>\n",
       "  <tbody>\n",
       "    <tr>\n",
       "      <th>0</th>\n",
       "      <td>13189</td>\n",
       "      <td>9317</td>\n",
       "      <td>3872</td>\n",
       "    </tr>\n",
       "    <tr>\n",
       "      <th>1</th>\n",
       "      <td>3706</td>\n",
       "      <td>2555</td>\n",
       "      <td>1151</td>\n",
       "    </tr>\n",
       "  </tbody>\n",
       "</table>\n",
       "</div>"
      ],
      "text/plain": [
       "   dataset  train  test\n",
       "0    13189   9317  3872\n",
       "1     3706   2555  1151"
      ]
     },
     "execution_count": 10,
     "metadata": {},
     "output_type": "execute_result"
    }
   ],
   "source": [
    "# Create the undersampling branch from master\n",
    "atom.branch = \"undersampling_from_master\"\n",
    "\n",
    "# Note that here the data is still imbalanced!\n",
    "atom.classes"
   ]
  },
  {
   "cell_type": "code",
   "execution_count": 11,
   "metadata": {},
   "outputs": [
    {
     "name": "stdout",
     "output_type": "stream",
     "text": [
      "Undersampling with NearMiss...\n",
      " --> Removing 6479 samples from class: No.\n"
     ]
    }
   ],
   "source": [
    "# Perform undersampling of the majority class\n",
    "atom.balance(strategy=\"NearMiss\", sampling_strategy=0.9)"
   ]
  },
  {
   "cell_type": "code",
   "execution_count": 12,
   "metadata": {},
   "outputs": [
    {
     "name": "stdout",
     "output_type": "stream",
     "text": [
      "\n",
      "Training ===================================== >>\n",
      "Models: LR_us\n",
      "Metric: f1\n",
      "\n",
      "\n",
      "Results for Logistic Regression:         \n",
      "Fit ---------------------------------------------\n",
      "Train evaluation --> f1: 0.7829\n",
      "Test evaluation --> f1: 0.6061\n",
      "Time elapsed: 0.061s\n",
      "Bagging -----------------------------------------\n",
      "Evaluation --> f1: 0.6037 ± 0.0071\n",
      "Time elapsed: 0.234s\n",
      "-------------------------------------------------\n",
      "Total time: 0.295s\n",
      "\n",
      "\n",
      "Final results ========================= >>\n",
      "Duration: 0.295s\n",
      "------------------------------------------\n",
      "Logistic Regression --> f1: 0.6037 ± 0.0071 ~\n"
     ]
    }
   ],
   "source": [
    "atom.run(\"LR_us\", bagging=5)"
   ]
  },
  {
   "cell_type": "markdown",
   "metadata": {},
   "source": [
    "## Analyze results"
   ]
  },
  {
   "cell_type": "code",
   "execution_count": 13,
   "metadata": {},
   "outputs": [
    {
     "data": {
      "image/png": "[encoded data removed]",
      "text/plain": [
       "<Figure size 720x432 with 1 Axes>"
      ]
     },
     "metadata": {},
     "output_type": "display_data"
    }
   ],
   "source": [
    "atom.plot_results()"
   ]
  },
  {
   "cell_type": "code",
   "execution_count": 14,
   "metadata": {},
   "outputs": [
    {
     "data": {
      "image/png": "[encoded data removed]",
      "text/plain": [
       "<Figure size 720x432 with 1 Axes>"
      ]
     },
     "metadata": {},
     "output_type": "display_data"
    }
   ],
   "source": [
    "atom.plot_roc()"
   ]
  }
 ],
 "metadata": {
  "kernelspec": {
   "display_name": "Python 3",
   "language": "python",
   "name": "python3"
  },
  "language_info": {
   "codemirror_mode": {
    "name": "ipython",
    "version": 3
   },
   "file_extension": ".py",
   "mimetype": "text/x-python",
   "name": "python",
   "nbconvert_exporter": "python",
   "pygments_lexer": "ipython3",
   "version": "3.8.3"
  }
 },
 "nbformat": 4,
 "nbformat_minor": 2
}
