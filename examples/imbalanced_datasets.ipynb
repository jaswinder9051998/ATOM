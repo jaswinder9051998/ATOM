{
 "cells": [
  {
   "cell_type": "markdown",
   "metadata": {},
   "source": [
    "# Imbalanced datasets\n",
    "------------------------------------\n",
    "\n",
    "This example shows the different approaches we can take to handle imbalanced datasets.\n",
    "\n",
    "The data used is a variation on the Australian weather dataset from [https://www.kaggle.com/jsphyg/weather-dataset-rattle-package](https://www.kaggle.com/jsphyg/weather-dataset-rattle-package). The goal of this dataset is to predict whether or not it will rain tomorrow training a binay classifier on target `RainTomorrow`."
   ]
  },
  {
   "cell_type": "markdown",
   "metadata": {},
   "source": [
    "## Load the data"
   ]
  },
  {
   "cell_type": "code",
   "execution_count": 1,
   "metadata": {},
   "outputs": [
    {
     "data": {
      "text/plain": [
       "<Figure size 432x288 with 0 Axes>"
      ]
     },
     "metadata": {},
     "output_type": "display_data"
    }
   ],
   "source": [
    "# Import packages\n",
    "import pandas as pd\n",
    "from atom import ATOMClassifier"
   ]
  },
  {
   "cell_type": "code",
   "execution_count": 2,
   "metadata": {},
   "outputs": [
    {
     "data": {
      "text/html": [
       "<div>\n",
       "<style scoped>\n",
       "    .dataframe tbody tr th:only-of-type {\n",
       "        vertical-align: middle;\n",
       "    }\n",
       "\n",
       "    .dataframe tbody tr th {\n",
       "        vertical-align: top;\n",
       "    }\n",
       "\n",
       "    .dataframe thead th {\n",
       "        text-align: right;\n",
       "    }\n",
       "</style>\n",
       "<table border=\"1\" class=\"dataframe\">\n",
       "  <thead>\n",
       "    <tr style=\"text-align: right;\">\n",
       "      <th></th>\n",
       "      <th>Location</th>\n",
       "      <th>MinTemp</th>\n",
       "      <th>MaxTemp</th>\n",
       "      <th>Rainfall</th>\n",
       "      <th>Evaporation</th>\n",
       "      <th>Sunshine</th>\n",
       "      <th>WindGustDir</th>\n",
       "      <th>WindGustSpeed</th>\n",
       "    </tr>\n",
       "  </thead>\n",
       "  <tbody>\n",
       "    <tr>\n",
       "      <th>56886</th>\n",
       "      <td>Bendigo</td>\n",
       "      <td>10.3</td>\n",
       "      <td>14.0</td>\n",
       "      <td>12.4</td>\n",
       "      <td>1.2</td>\n",
       "      <td>NaN</td>\n",
       "      <td>ENE</td>\n",
       "      <td>30.0</td>\n",
       "    </tr>\n",
       "    <tr>\n",
       "      <th>132891</th>\n",
       "      <td>AliceSprings</td>\n",
       "      <td>21.0</td>\n",
       "      <td>39.1</td>\n",
       "      <td>1.2</td>\n",
       "      <td>9.0</td>\n",
       "      <td>12.2</td>\n",
       "      <td>NNW</td>\n",
       "      <td>41.0</td>\n",
       "    </tr>\n",
       "    <tr>\n",
       "      <th>100511</th>\n",
       "      <td>Nuriootpa</td>\n",
       "      <td>2.6</td>\n",
       "      <td>15.7</td>\n",
       "      <td>1.0</td>\n",
       "      <td>1.0</td>\n",
       "      <td>5.3</td>\n",
       "      <td>ENE</td>\n",
       "      <td>15.0</td>\n",
       "    </tr>\n",
       "    <tr>\n",
       "      <th>10385</th>\n",
       "      <td>CoffsHarbour</td>\n",
       "      <td>19.9</td>\n",
       "      <td>27.0</td>\n",
       "      <td>0.0</td>\n",
       "      <td>4.8</td>\n",
       "      <td>3.0</td>\n",
       "      <td>NNW</td>\n",
       "      <td>35.0</td>\n",
       "    </tr>\n",
       "    <tr>\n",
       "      <th>112606</th>\n",
       "      <td>PearceRAAF</td>\n",
       "      <td>12.5</td>\n",
       "      <td>36.1</td>\n",
       "      <td>0.0</td>\n",
       "      <td>NaN</td>\n",
       "      <td>13.3</td>\n",
       "      <td>WSW</td>\n",
       "      <td>46.0</td>\n",
       "    </tr>\n",
       "  </tbody>\n",
       "</table>\n",
       "</div>"
      ],
      "text/plain": [
       "            Location  MinTemp  MaxTemp  Rainfall  Evaporation  Sunshine  \\\n",
       "56886        Bendigo     10.3     14.0      12.4          1.2       NaN   \n",
       "132891  AliceSprings     21.0     39.1       1.2          9.0      12.2   \n",
       "100511     Nuriootpa      2.6     15.7       1.0          1.0       5.3   \n",
       "10385   CoffsHarbour     19.9     27.0       0.0          4.8       3.0   \n",
       "112606    PearceRAAF     12.5     36.1       0.0          NaN      13.3   \n",
       "\n",
       "       WindGustDir  WindGustSpeed  \n",
       "56886          ENE           30.0  \n",
       "132891         NNW           41.0  \n",
       "100511         ENE           15.0  \n",
       "10385          NNW           35.0  \n",
       "112606         WSW           46.0  "
      ]
     },
     "execution_count": 2,
     "metadata": {},
     "output_type": "execute_result"
    }
   ],
   "source": [
    "# Load data\n",
    "X = pd.read_csv('./datasets/weatherAUS.csv')\n",
    "\n",
    "# Let's have a look at a subset of the data\n",
    "X.sample(frac=1).iloc[:5, :8]"
   ]
  },
  {
   "cell_type": "markdown",
   "metadata": {},
   "source": [
    "## Run the pipeline"
   ]
  },
  {
   "cell_type": "code",
   "execution_count": 3,
   "metadata": {},
   "outputs": [
    {
     "name": "stdout",
     "output_type": "stream",
     "text": [
      "<< ================== ATOM ================== >>\n",
      "Algorithm task: binary classification.\n",
      "\n",
      "Dataset stats ================== >>\n",
      "Shape: (42658, 22)\n",
      "Missing values: 95216\n",
      "Categorical columns: 5\n",
      "Scaled: False\n",
      "-----------------------------------\n",
      "Train set size: 29861\n",
      "Test set size: 12797\n",
      "-----------------------------------\n",
      "Train set balance: No:Yes <==> 3.5:1.0\n",
      "Test set balance: No:Yes <==> 3.4:1.0\n",
      "-----------------------------------\n",
      "Distribution of classes:\n",
      "|     |   dataset |   train |   test |\n",
      "|:----|----------:|--------:|-------:|\n",
      "| No  |     33139 |   23247 |   9892 |\n",
      "| Yes |      9519 |    6614 |   2905 |\n",
      "\n",
      "Applying data cleaning...\n",
      " --> Label-encoding the target column.\n",
      "Fitting Imputer...\n",
      "Imputing missing values...\n",
      " --> Dropping 352 rows for containing less than 50% non-missing values.\n",
      " --> Dropping 92 rows due to missing values in feature MinTemp.\n",
      " --> Dropping 56 rows due to missing values in feature MaxTemp.\n",
      " --> Dropping 350 rows due to missing values in feature Rainfall.\n",
      " --> Dropping 17551 rows due to missing values in feature Evaporation.\n",
      " --> Dropping 3229 rows due to missing values in feature Sunshine.\n",
      " --> Dropping 1258 rows due to missing values in feature WindGustDir.\n",
      " --> Dropping 655 rows due to missing values in feature WindDir9am.\n",
      " --> Dropping 69 rows due to missing values in feature WindDir3pm.\n",
      " --> Dropping 73 rows due to missing values in feature Humidity9am.\n",
      " --> Dropping 20 rows due to missing values in feature Humidity3pm.\n",
      " --> Dropping 18 rows due to missing values in feature Pressure9am.\n",
      " --> Dropping 5 rows due to missing values in feature Pressure3pm.\n",
      " --> Dropping 1609 rows due to missing values in feature Cloud9am.\n",
      " --> Dropping 426 rows due to missing values in feature Cloud3pm.\n",
      "Fitting Encoder...\n",
      "Encoding categorical columns...\n",
      " --> LeaveOneOut-encoding feature Location. Contains 26 unique classes.\n",
      " --> LeaveOneOut-encoding feature WindGustDir. Contains 16 unique classes.\n",
      " --> LeaveOneOut-encoding feature WindDir9am. Contains 16 unique classes.\n",
      " --> LeaveOneOut-encoding feature WindDir3pm. Contains 16 unique classes.\n",
      " --> Label-encoding feature RainToday. Contains 2 unique classes.\n"
     ]
    }
   ],
   "source": [
    "# Initialize ATOM with the created dataset\n",
    "atom = ATOMClassifier(X, n_rows=0.3, test_size=0.3, verbose=2, random_state=1)\n",
    "atom.clean()\n",
    "atom.impute()\n",
    "atom.encode()"
   ]
  },
  {
   "cell_type": "code",
   "execution_count": 4,
   "metadata": {},
   "outputs": [
    {
     "name": "stdout",
     "output_type": "stream",
     "text": [
      "\n",
      "Training ===================================== >>\n",
      "Models: LR\n",
      "Metric: f1\n",
      "\n",
      "\n",
      "Results for Logistic Regression:         \n",
      "Fit ---------------------------------------------\n",
      "Train evaluation --> f1: 0.6174\n",
      "Test evaluation --> f1: 0.6096\n",
      "Time elapsed: 0.074s\n",
      "Bagging -----------------------------------------\n",
      "Evaluation --> f1: 0.6078 ± 0.0048\n",
      "Time elapsed: 0.321s\n",
      "-------------------------------------------------\n",
      "Total time: 0.396s\n",
      "\n",
      "\n",
      "Final results ========================= >>\n",
      "Duration: 0.397s\n",
      "------------------------------------------\n",
      "Logistic Regression --> f1: 0.608 ± 0.005\n"
     ]
    }
   ],
   "source": [
    "# First, we fit a logistic regression model directly on the imbalanced data\n",
    "atom.run(\"LR\", metric=\"f1\", bagging=5)"
   ]
  },
  {
   "cell_type": "markdown",
   "metadata": {},
   "source": [
    "## Class weights"
   ]
  },
  {
   "cell_type": "code",
   "execution_count": 5,
   "metadata": {},
   "outputs": [
    {
     "name": "stdout",
     "output_type": "stream",
     "text": [
      "\n",
      "Training ===================================== >>\n",
      "Models: LR_cw\n",
      "Metric: f1\n",
      "\n",
      "\n",
      "Results for Logistic Regression:         \n",
      "Fit ---------------------------------------------\n",
      "Train evaluation --> f1: 0.6449\n",
      "Test evaluation --> f1: 0.6472\n",
      "Time elapsed: 0.074s\n",
      "Bagging -----------------------------------------\n",
      "Evaluation --> f1: 0.6483 ± 0.0014\n",
      "Time elapsed: 0.306s\n",
      "-------------------------------------------------\n",
      "Total time: 0.381s\n",
      "\n",
      "\n",
      "Final results ========================= >>\n",
      "Duration: 0.382s\n",
      "------------------------------------------\n",
      "Logistic Regression --> f1: 0.648 ± 0.001\n"
     ]
    }
   ],
   "source": [
    "# Add class weights through the est_params parameter\n",
    "atom.run(\"LR_cw\", est_params={\"class_weight\": atom.get_class_weight()}, bagging=5)"
   ]
  },
  {
   "cell_type": "markdown",
   "metadata": {},
   "source": [
    "## Oversampling & undersampling"
   ]
  },
  {
   "cell_type": "code",
   "execution_count": 6,
   "metadata": {},
   "outputs": [
    {
     "name": "stdout",
     "output_type": "stream",
     "text": [
      "New branch 'oversampling' successfully created!\n"
     ]
    }
   ],
   "source": [
    "# Create a new branch for oversampling\n",
    "atom.branch = \"oversampling\""
   ]
  },
  {
   "cell_type": "code",
   "execution_count": 7,
   "metadata": {},
   "outputs": [
    {
     "name": "stdout",
     "output_type": "stream",
     "text": [
      "Oversampling with SMOTE...\n",
      " --> Adding 5830 rows to class: Yes.\n"
     ]
    }
   ],
   "source": [
    "# Perform oversampling of the minority class\n",
    "atom.balance(strategy='smote', sampling_strategy=0.9)"
   ]
  },
  {
   "cell_type": "code",
   "execution_count": 8,
   "metadata": {
    "scrolled": true
   },
   "outputs": [
    {
     "data": {
      "text/html": [
       "<div>\n",
       "<style scoped>\n",
       "    .dataframe tbody tr th:only-of-type {\n",
       "        vertical-align: middle;\n",
       "    }\n",
       "\n",
       "    .dataframe tbody tr th {\n",
       "        vertical-align: top;\n",
       "    }\n",
       "\n",
       "    .dataframe thead th {\n",
       "        text-align: right;\n",
       "    }\n",
       "</style>\n",
       "<table border=\"1\" class=\"dataframe\">\n",
       "  <thead>\n",
       "    <tr style=\"text-align: right;\">\n",
       "      <th></th>\n",
       "      <th>dataset</th>\n",
       "      <th>train</th>\n",
       "      <th>test</th>\n",
       "    </tr>\n",
       "  </thead>\n",
       "  <tbody>\n",
       "    <tr>\n",
       "      <th>0</th>\n",
       "      <td>13189</td>\n",
       "      <td>9317</td>\n",
       "      <td>3872</td>\n",
       "    </tr>\n",
       "    <tr>\n",
       "      <th>1</th>\n",
       "      <td>9536</td>\n",
       "      <td>8385</td>\n",
       "      <td>1151</td>\n",
       "    </tr>\n",
       "  </tbody>\n",
       "</table>\n",
       "</div>"
      ],
      "text/plain": [
       "   dataset  train  test\n",
       "0    13189   9317  3872\n",
       "1     9536   8385  1151"
      ]
     },
     "execution_count": 8,
     "metadata": {},
     "output_type": "execute_result"
    }
   ],
   "source": [
    "atom.classes  # Note the balanced training set!"
   ]
  },
  {
   "cell_type": "code",
   "execution_count": 9,
   "metadata": {},
   "outputs": [
    {
     "name": "stdout",
     "output_type": "stream",
     "text": [
      "\n",
      "Training ===================================== >>\n",
      "Models: LR_os\n",
      "Metric: f1\n",
      "\n",
      "\n",
      "Results for Logistic Regression:         \n",
      "Fit ---------------------------------------------\n",
      "Train evaluation --> f1: 0.7918\n",
      "Test evaluation --> f1: 0.6505\n",
      "Time elapsed: 0.097s\n",
      "Bagging -----------------------------------------\n",
      "Evaluation --> f1: 0.6489 ± 0.0031\n",
      "Time elapsed: 0.368s\n",
      "-------------------------------------------------\n",
      "Total time: 0.465s\n",
      "\n",
      "\n",
      "Final results ========================= >>\n",
      "Duration: 0.466s\n",
      "------------------------------------------\n",
      "Logistic Regression --> f1: 0.649 ± 0.003\n"
     ]
    }
   ],
   "source": [
    "atom.run(\"LR_os\", bagging=5)"
   ]
  },
  {
   "cell_type": "code",
   "execution_count": 10,
   "metadata": {},
   "outputs": [
    {
     "name": "stdout",
     "output_type": "stream",
     "text": [
      "New branch 'undersampling' successfully created!\n"
     ]
    },
    {
     "data": {
      "text/html": [
       "<div>\n",
       "<style scoped>\n",
       "    .dataframe tbody tr th:only-of-type {\n",
       "        vertical-align: middle;\n",
       "    }\n",
       "\n",
       "    .dataframe tbody tr th {\n",
       "        vertical-align: top;\n",
       "    }\n",
       "\n",
       "    .dataframe thead th {\n",
       "        text-align: right;\n",
       "    }\n",
       "</style>\n",
       "<table border=\"1\" class=\"dataframe\">\n",
       "  <thead>\n",
       "    <tr style=\"text-align: right;\">\n",
       "      <th></th>\n",
       "      <th>dataset</th>\n",
       "      <th>train</th>\n",
       "      <th>test</th>\n",
       "    </tr>\n",
       "  </thead>\n",
       "  <tbody>\n",
       "    <tr>\n",
       "      <th>0</th>\n",
       "      <td>13189</td>\n",
       "      <td>9317</td>\n",
       "      <td>3872</td>\n",
       "    </tr>\n",
       "    <tr>\n",
       "      <th>1</th>\n",
       "      <td>3706</td>\n",
       "      <td>2555</td>\n",
       "      <td>1151</td>\n",
       "    </tr>\n",
       "  </tbody>\n",
       "</table>\n",
       "</div>"
      ],
      "text/plain": [
       "   dataset  train  test\n",
       "0    13189   9317  3872\n",
       "1     3706   2555  1151"
      ]
     },
     "execution_count": 10,
     "metadata": {},
     "output_type": "execute_result"
    }
   ],
   "source": [
    "# Create the undersampling branch from main\n",
    "atom.branch = \"undersampling_from_main\"\n",
    "\n",
    "# Note that here the data is still imbalanced!\n",
    "atom.classes"
   ]
  },
  {
   "cell_type": "code",
   "execution_count": 11,
   "metadata": {},
   "outputs": [
    {
     "name": "stdout",
     "output_type": "stream",
     "text": [
      "Undersampling with NearMiss...\n",
      " --> Removing 6479 rows from class: No.\n"
     ]
    }
   ],
   "source": [
    "# Perform undersampling of the majority class\n",
    "atom.balance(strategy='NearMiss', sampling_strategy=0.9)"
   ]
  },
  {
   "cell_type": "code",
   "execution_count": 12,
   "metadata": {},
   "outputs": [
    {
     "name": "stdout",
     "output_type": "stream",
     "text": [
      "\n",
      "Training ===================================== >>\n",
      "Models: LR_us\n",
      "Metric: f1\n",
      "\n",
      "\n",
      "Results for Logistic Regression:         \n",
      "Fit ---------------------------------------------\n",
      "Train evaluation --> f1: 0.7829\n",
      "Test evaluation --> f1: 0.6061\n",
      "Time elapsed: 0.052s\n",
      "Bagging -----------------------------------------\n",
      "Evaluation --> f1: 0.6037 ± 0.0071\n",
      "Time elapsed: 0.213s\n",
      "-------------------------------------------------\n",
      "Total time: 0.266s\n",
      "\n",
      "\n",
      "Final results ========================= >>\n",
      "Duration: 0.267s\n",
      "------------------------------------------\n",
      "Logistic Regression --> f1: 0.604 ± 0.007 ~\n"
     ]
    }
   ],
   "source": [
    "atom.run(\"LR_us\", bagging=5)"
   ]
  },
  {
   "cell_type": "markdown",
   "metadata": {},
   "source": [
    "## Analyze results"
   ]
  },
  {
   "cell_type": "code",
   "execution_count": 13,
   "metadata": {},
   "outputs": [
    {
     "data": {
      "image/png": "[encoded data removed]",
      "text/plain": [
       "<Figure size 720x432 with 1 Axes>"
      ]
     },
     "metadata": {},
     "output_type": "display_data"
    }
   ],
   "source": [
    "atom.plot_bagging()"
   ]
  }
 ],
 "metadata": {
  "kernelspec": {
   "display_name": "Python 3",
   "language": "python",
   "name": "python3"
  },
  "language_info": {
   "codemirror_mode": {
    "name": "ipython",
    "version": 3
   },
   "file_extension": ".py",
   "mimetype": "text/x-python",
   "name": "python",
   "nbconvert_exporter": "python",
   "pygments_lexer": "ipython3",
   "version": "3.8.3"
  }
 },
 "nbformat": 4,
 "nbformat_minor": 2
}
