{
 "cells": [
  {
   "cell_type": "markdown",
   "metadata": {},
   "source": [
    "# AutoML\n",
    "---------------------------------\n",
    "\n",
    "This example shows how we can use AutoML to search for an optimized pipeline for our task.\n",
    "\n",
    "Import the breast cancer dataset from [sklearn.datasets](https://scikit-learn.org/stable/datasets/index.html#wine-dataset). This is a small and easy to train dataset whose goal is to predict whether a patient has breast cancer or not."
   ]
  },
  {
   "cell_type": "markdown",
   "metadata": {},
   "source": [
    "## Load the data"
   ]
  },
  {
   "cell_type": "code",
   "execution_count": 1,
   "metadata": {},
   "outputs": [],
   "source": [
    "# Import packages\n",
    "from sklearn.datasets import load_breast_cancer\n",
    "from sklearn.preprocessing import StandardScaler\n",
    "from atom import ATOMClassifier"
   ]
  },
  {
   "cell_type": "code",
   "execution_count": 2,
   "metadata": {},
   "outputs": [],
   "source": [
    "# Get the dataset's features and targets\n",
    "X, y = load_breast_cancer(return_X_y=True)"
   ]
  },
  {
   "cell_type": "markdown",
   "metadata": {},
   "source": [
    "## Run the pipeline"
   ]
  },
  {
   "cell_type": "code",
   "execution_count": 3,
   "metadata": {},
   "outputs": [
    {
     "name": "stdout",
     "output_type": "stream",
     "text": [
      "<< ================== ATOM ================== >>\n",
      "Algorithm task: binary classification.\n",
      "Parallel processing with 6 cores.\n",
      "\n",
      "Dataset stats ================== >>\n",
      "Shape: (569, 31)\n",
      "Scaled: False\n",
      "-----------------------------------\n",
      "Train set size: 456\n",
      "Test set size: 113\n",
      "-----------------------------------\n",
      "Train set balance: 0:1 <==> 1.0:1.7\n",
      "Test set balance: 0:1 <==> 1.0:1.5\n",
      "-----------------------------------\n",
      "Distribution of classes:\n",
      "|    |   dataset |   train |   test |\n",
      "|---:|----------:|--------:|-------:|\n",
      "|  0 |       212 |     167 |     45 |\n",
      "|  1 |       357 |     289 |     68 |\n",
      "\n"
     ]
    }
   ],
   "source": [
    "atom = ATOMClassifier(X, y, n_jobs=6, verbose=2, warnings=False, random_state=1)"
   ]
  },
  {
   "cell_type": "code",
   "execution_count": 4,
   "metadata": {},
   "outputs": [
    {
     "name": "stdout",
     "output_type": "stream",
     "text": [
      "Transformer StandardScaler successfully added to the pipeline.\n"
     ]
    }
   ],
   "source": [
    "# It is possible to add custom estimator's to the pipeline\n",
    "atom.add(StandardScaler())"
   ]
  },
  {
   "cell_type": "code",
   "execution_count": 5,
   "metadata": {},
   "outputs": [
    {
     "data": {
      "text/plain": [
       "True"
      ]
     },
     "execution_count": 5,
     "metadata": {},
     "output_type": "execute_result"
    }
   ],
   "source": [
    "# Check that the scaling worked\n",
    "atom.scaled"
   ]
  },
  {
   "cell_type": "code",
   "execution_count": 6,
   "metadata": {
    "scrolled": false
   },
   "outputs": [
    {
     "name": "stdout",
     "output_type": "stream",
     "text": [
      "Fitting automl algorithm...\n"
     ]
    },
    {
     "data": {
      "application/vnd.jupyter.widget-view+json": {
       "model_id": "22b57417902e40ada50178816d0c458c",
       "version_major": 2,
       "version_minor": 0
      },
      "text/plain": [
       "HBox(children=(HTML(value='Optimization Progress'), FloatProgress(value=0.0), HTML(value='')))"
      ]
     },
     "metadata": {},
     "output_type": "display_data"
    },
    {
     "name": "stdout",
     "output_type": "stream",
     "text": [
      "\n",
      "Generation 1 - Current best internal CV score: 0.9715002388915434\n",
      "\n",
      "Generation 2 - Current best internal CV score: 0.9780936454849499\n",
      "\n",
      "Generation 3 - Current best internal CV score: 0.9780936454849499\n",
      "\n",
      "Generation 4 - Current best internal CV score: 0.9780936454849499\n",
      "\n",
      "Generation 5 - Current best internal CV score: 0.980315336837076\n",
      "\n",
      "Generation 6 - Current best internal CV score: 0.980315336837076\n",
      "\n",
      "Generation 7 - Current best internal CV score: 0.980315336837076\n",
      "\n",
      "Generation 8 - Current best internal CV score: 0.980315336837076\n",
      "\n",
      "Generation 9 - Current best internal CV score: 0.980315336837076\n",
      "\n",
      "Generation 10 - Current best internal CV score: 0.980315336837076\n",
      "\n",
      "Generation 11 - Current best internal CV score: 0.980315336837076\n",
      "\n",
      "Generation 12 - Current best internal CV score: 0.980315336837076\n",
      "\n",
      "Generation 13 - Current best internal CV score: 0.980315336837076\n",
      "\n",
      "Generation 14 - Current best internal CV score: 0.9824892498805543\n",
      "\n",
      "Generation 15 - Current best internal CV score: 0.9824892498805543\n",
      "\n",
      "Generation 16 - Current best internal CV score: 0.9824892498805543\n",
      "\n",
      "Generation 17 - Current best internal CV score: 0.9824892498805543\n",
      "\n",
      "Generation 18 - Current best internal CV score: 0.9824892498805543\n",
      "\n",
      "Generation 19 - Current best internal CV score: 0.9824892498805543\n",
      "\n",
      "Generation 20 - Current best internal CV score: 0.9824892498805543\n",
      "\n",
      "10.03 minutes have elapsed. TPOT will close down.\n",
      "TPOT closed during evaluation in one generation.\n",
      "WARNING: TPOT may not provide a good pipeline if TPOT is stopped/interrupted in a early generation.\n",
      "\n",
      "\n",
      "TPOT closed prematurely. Will use the current best pipeline.\n",
      "\n",
      "Best pipeline: SGDClassifier(Normalizer(SelectFwe(input_matrix, alpha=0.018000000000000002), norm=l2), alpha=0.01, eta0=0.01, fit_intercept=True, l1_ratio=1.0, learning_rate=invscaling, loss=squared_hinge, penalty=elasticnet, power_t=0.1)\n",
      "\n",
      "Merging automl results with atom...\n",
      " --> Transformer SelectFwe successfully added to the pipeline.\n",
      " --> Transformer Normalizer successfully added to the pipeline.\n",
      " --> Model Stochastic Gradient Descent successfully added to the models.\n"
     ]
    }
   ],
   "source": [
    "# Find an optimized pipeline using AutoML\n",
    "atom.automl(scoring=\"accuracy\", max_time_mins=10, template=\"Selector-Transformer-Classifier\")"
   ]
  },
  {
   "cell_type": "markdown",
   "metadata": {},
   "source": [
    "## Analyze the results"
   ]
  },
  {
   "cell_type": "code",
   "execution_count": 7,
   "metadata": {
    "scrolled": false
   },
   "outputs": [
    {
     "name": "stdout",
     "output_type": "stream",
     "text": [
      "Branch: master\n",
      " --> Pipeline: \n",
      "   >>> StandardScaler\n",
      "     --> copy: True\n",
      "     --> with_mean: True\n",
      "     --> with_std: True\n",
      "   >>> SelectFwe\n",
      "     --> score_func: <function f_classif at 0x000002523A01D040>\n",
      "     --> alpha: 0.018000000000000002\n",
      "   >>> Normalizer\n",
      "     --> norm: l2\n",
      "     --> copy: True\n",
      " --> Models: SGD\n"
     ]
    }
   ],
   "source": [
    "# Check the new transformers in the branch\n",
    "atom.branch.status()"
   ]
  },
  {
   "cell_type": "code",
   "execution_count": 8,
   "metadata": {},
   "outputs": [
    {
     "data": {
      "image/png": "[encoded data removed]",
      "text/plain": [
       "<Figure size 576x288 with 1 Axes>"
      ]
     },
     "metadata": {},
     "output_type": "display_data"
    }
   ],
   "source": [
    "# Or draw the pipeline\n",
    "atom.plot_pipeline()"
   ]
  },
  {
   "cell_type": "code",
   "execution_count": 9,
   "metadata": {},
   "outputs": [
    {
     "data": {
      "text/plain": [
       "Stochastic Gradient Descent\n",
       " --> Estimator: SGDClassifier\n",
       " --> Evaluation: accuracy: 0.9823"
      ]
     },
     "execution_count": 9,
     "metadata": {},
     "output_type": "execute_result"
    }
   ],
   "source": [
    "# Note that the SGD model is also merged with atom\n",
    "atom.sgd"
   ]
  },
  {
   "cell_type": "code",
   "execution_count": 10,
   "metadata": {},
   "outputs": [
    {
     "name": "stdout",
     "output_type": "stream",
     "text": [
      "Pipeline(steps=[('standardscaler', StandardScaler()),\n",
      "                ('selectfwe', SelectFwe(alpha=0.018000000000000002)),\n",
      "                ('normalizer', Normalizer()),\n",
      "                ('SGD',\n",
      "                 SGDClassifier(alpha=0.01, eta0=0.01, l1_ratio=1.0,\n",
      "                               learning_rate='invscaling', loss='squared_hinge',\n",
      "                               penalty='elasticnet', power_t=0.1,\n",
      "                               random_state=1))])\n"
     ]
    }
   ],
   "source": [
    "# The pipeline can be exported to a sklearn pipeline\n",
    "pl = atom.export_pipeline(model=\"sgd\")\n",
    "print(pl)"
   ]
  }
 ],
 "metadata": {
  "kernelspec": {
   "display_name": "Python 3",
   "language": "python",
   "name": "python3"
  },
  "language_info": {
   "codemirror_mode": {
    "name": "ipython",
    "version": 3
   },
   "file_extension": ".py",
   "mimetype": "text/x-python",
   "name": "python",
   "nbconvert_exporter": "python",
   "pygments_lexer": "ipython3",
   "version": "3.8.3"
  }
 },
 "nbformat": 4,
 "nbformat_minor": 2
}
