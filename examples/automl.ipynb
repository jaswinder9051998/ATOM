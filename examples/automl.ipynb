{
 "cells": [
  {
   "cell_type": "markdown",
   "metadata": {},
   "source": [
    "# AutoML\n",
    "----------------\n",
    "\n",
    "This example shows how to use atom's AutoML implementation to automatically search for an optimized pipeline.\n",
    "\n",
    "Import the breast cancer dataset from [sklearn.datasets](https://scikit-learn.org/stable/datasets/index.html#wine-dataset). This is a small and easy to train dataset whose goal is to predict whether a patient has breast cancer or not."
   ]
  },
  {
   "cell_type": "markdown",
   "metadata": {},
   "source": [
    "## Load the data"
   ]
  },
  {
   "cell_type": "code",
   "execution_count": 1,
   "metadata": {},
   "outputs": [],
   "source": [
    "# Import packages\n",
    "from sklearn.datasets import load_breast_cancer\n",
    "from sklearn.preprocessing import StandardScaler\n",
    "from atom import ATOMClassifier"
   ]
  },
  {
   "cell_type": "code",
   "execution_count": 2,
   "metadata": {},
   "outputs": [],
   "source": [
    "# Load the data\n",
    "X, y = load_breast_cancer(return_X_y=True)"
   ]
  },
  {
   "cell_type": "markdown",
   "metadata": {},
   "source": [
    "## Run the pipeline"
   ]
  },
  {
   "cell_type": "code",
   "execution_count": 3,
   "metadata": {},
   "outputs": [
    {
     "name": "stdout",
     "output_type": "stream",
     "text": [
      "<< ================== ATOM ================== >>\n",
      "Algorithm task: binary classification.\n",
      "Parallel processing with 6 cores.\n",
      "\n",
      "Dataset stats ==================== >>\n",
      "Shape: (569, 31)\n",
      "Scaled: False\n",
      "Outlier values: 174 (1.2%)\n",
      "-------------------------------------\n",
      "Train set size: 456\n",
      "Test set size: 113\n",
      "-------------------------------------\n",
      "|    |     dataset |       train |        test |\n",
      "| -- | ----------- | ----------- | ----------- |\n",
      "| 0  |   212 (1.0) |   167 (1.0) |    45 (1.0) |\n",
      "| 1  |   357 (1.7) |   289 (1.7) |    68 (1.5) |\n",
      "\n"
     ]
    }
   ],
   "source": [
    "atom = ATOMClassifier(X, y, n_jobs=6, verbose=2, warnings=False, random_state=1)"
   ]
  },
  {
   "cell_type": "code",
   "execution_count": 4,
   "metadata": {},
   "outputs": [
    {
     "name": "stdout",
     "output_type": "stream",
     "text": [
      "Fitting StandardScaler...\n",
      "Applying StandardScaler to the dataset...\n"
     ]
    }
   ],
   "source": [
    "# It's possible to add custom estimators to the pipeline\n",
    "atom.add(StandardScaler())"
   ]
  },
  {
   "cell_type": "code",
   "execution_count": 5,
   "metadata": {
    "run_control": {
     "marked": false
    }
   },
   "outputs": [
    {
     "data": {
      "text/plain": [
       "True"
      ]
     },
     "execution_count": 5,
     "metadata": {},
     "output_type": "execute_result"
    }
   ],
   "source": [
    "# Check that the scaling worked\n",
    "atom.scaled"
   ]
  },
  {
   "cell_type": "code",
   "execution_count": 6,
   "metadata": {},
   "outputs": [
    {
     "name": "stdout",
     "output_type": "stream",
     "text": [
      "Fitting automl algorithm...\n"
     ]
    },
    {
     "data": {
      "application/vnd.jupyter.widget-view+json": {
       "model_id": "1aa8af254c1345e4aa6be32b5a06983c",
       "version_major": 2,
       "version_minor": 0
      },
      "text/plain": [
       "HBox(children=(HTML(value='Optimization Progress'), FloatProgress(value=0.0), HTML(value='')))"
      ]
     },
     "metadata": {},
     "output_type": "display_data"
    },
    {
     "name": "stdout",
     "output_type": "stream",
     "text": [
      "\n",
      "Generation 1 - Current best internal CV score: 0.9780936454849499\n",
      "\n",
      "Generation 2 - Current best internal CV score: 0.9780936454849499\n",
      "\n",
      "Generation 3 - Current best internal CV score: 0.9780936454849499\n",
      "\n",
      "Generation 4 - Current best internal CV score: 0.9780936454849499\n",
      "\n",
      "Generation 5 - Current best internal CV score: 0.9824653607262303\n",
      "\n",
      "Generation 6 - Current best internal CV score: 0.9824653607262303\n",
      "\n",
      "Generation 7 - Current best internal CV score: 0.9824653607262303\n",
      "\n",
      "Generation 8 - Current best internal CV score: 0.9824653607262303\n",
      "\n",
      "Generation 9 - Current best internal CV score: 0.9824653607262303\n",
      "\n",
      "5.03 minutes have elapsed. TPOT will close down.\n",
      "TPOT closed during evaluation in one generation.\n",
      "WARNING: TPOT may not provide a good pipeline if TPOT is stopped/interrupted in a early generation.\n",
      "\n",
      "\n",
      "TPOT closed prematurely. Will use the current best pipeline.\n",
      "\n",
      "Best pipeline: MLPClassifier(StandardScaler(Normalizer(input_matrix, norm=max)), alpha=0.01, learning_rate_init=0.5)\n",
      "\n",
      "Merging automl results with atom...\n",
      "Applying Normalizer to the dataset...\n",
      "Applying StandardScaler to the dataset...\n",
      "Adding model Multi-layer Perceptron (MLP) to the pipeline...\n"
     ]
    }
   ],
   "source": [
    "# Find an optimized pipeline using AutoML\n",
    "atom.automl(\n",
    "    scoring=\"accuracy\",\n",
    "    max_time_mins=5,\n",
    "    template=\"Transformer-Transformer-Classifier\",\n",
    ")"
   ]
  },
  {
   "cell_type": "markdown",
   "metadata": {},
   "source": [
    "## Analyze the results"
   ]
  },
  {
   "cell_type": "code",
   "execution_count": 7,
   "metadata": {},
   "outputs": [
    {
     "data": {
      "text/plain": [
       "TPOTClassifier(max_time_mins=5, n_jobs=6, random_state=1, scoring='accuracy',\n",
       "               template='Transformer-Transformer-Classifier', verbosity=2)"
      ]
     },
     "execution_count": 7,
     "metadata": {},
     "output_type": "execute_result"
    }
   ],
   "source": [
    "# The tpot estimator can be accessed for further analysis\n",
    "atom.tpot"
   ]
  },
  {
   "cell_type": "code",
   "execution_count": 8,
   "metadata": {},
   "outputs": [
    {
     "name": "stdout",
     "output_type": "stream",
     "text": [
      "Branch: master\n",
      " --> Pipeline: \n",
      "   >>> StandardScaler\n",
      "     --> copy: True\n",
      "     --> with_mean: True\n",
      "     --> with_std: True\n",
      "   >>> Normalizer\n",
      "     --> norm: max\n",
      "     --> copy: True\n",
      "   >>> StandardScaler\n",
      "     --> copy: True\n",
      "     --> with_mean: True\n",
      "     --> with_std: True\n",
      " --> Models: MLP\n"
     ]
    }
   ],
   "source": [
    "# Check the new transformers in the branch\n",
    "atom.branch.status()"
   ]
  },
  {
   "cell_type": "code",
   "execution_count": 9,
   "metadata": {},
   "outputs": [
    {
     "data": {
      "image/png": "[encoded data removed]",
      "text/plain": [
       "<Figure size 576x360 with 1 Axes>"
      ]
     },
     "metadata": {},
     "output_type": "display_data"
    }
   ],
   "source": [
    "# Or draw the pipeline\n",
    "atom.plot_pipeline()"
   ]
  },
  {
   "cell_type": "code",
   "execution_count": 10,
   "metadata": {},
   "outputs": [
    {
     "data": {
      "text/plain": [
       "Multi-layer Perceptron\n",
       " --> Estimator: MLPClassifier\n",
       " --> Evaluation: accuracy: 0.9646"
      ]
     },
     "execution_count": 10,
     "metadata": {},
     "output_type": "execute_result"
    }
   ],
   "source": [
    "# Note that the model is also merged with atom\n",
    "atom.mlp"
   ]
  },
  {
   "cell_type": "code",
   "execution_count": 11,
   "metadata": {},
   "outputs": [
    {
     "name": "stdout",
     "output_type": "stream",
     "text": [
      "Pipeline(steps=[('standardscaler', StandardScaler()),\n",
      "                ('normalizer', Normalizer(norm='max')),\n",
      "                ('standardscaler2', StandardScaler()),\n",
      "                ('MLP',\n",
      "                 MLPClassifier(alpha=0.01, learning_rate_init=0.5,\n",
      "                               random_state=1))])\n"
     ]
    }
   ],
   "source": [
    "# The pipeline can be exported to a sklearn-like pipeline\n",
    "pl = atom.export_pipeline(model=\"mlp\")\n",
    "print(pl)"
   ]
  }
 ],
 "metadata": {
  "kernelspec": {
   "display_name": "Python 3 (ipykernel)",
   "language": "python",
   "name": "python3"
  },
  "language_info": {
   "codemirror_mode": {
    "name": "ipython",
    "version": 3
   },
   "file_extension": ".py",
   "mimetype": "text/x-python",
   "name": "python",
   "nbconvert_exporter": "python",
   "pygments_lexer": "ipython3",
   "version": "3.8.3"
  },
  "toc": {
   "base_numbering": 1,
   "nav_menu": {},
   "number_sections": true,
   "sideBar": true,
   "skip_h1_title": false,
   "title_cell": "Table of Contents",
   "title_sidebar": "Contents",
   "toc_cell": false,
   "toc_position": {},
   "toc_section_display": true,
   "toc_window_display": false
  }
 },
 "nbformat": 4,
 "nbformat_minor": 4
}
